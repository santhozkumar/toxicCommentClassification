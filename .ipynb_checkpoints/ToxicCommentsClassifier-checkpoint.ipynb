{
 "cells": [
  {
   "cell_type": "code",
   "execution_count": 88,
   "metadata": {},
   "outputs": [],
   "source": [
    "import pandas as pd\n",
    "import numpy as np\n",
    "import matplotlib.pyplot as plt\n",
    "import seaborn as sns\n",
    "import re, string\n",
    "import pickle\n",
    "\n",
    "import nltk\n",
    "from nltk.corpus import stopwords\n",
    "from nltk.stem.snowball import SnowballStemmer\n",
    "import sys\n",
    "import warnings\n",
    "\n",
    "from sklearn.linear_model import LogisticRegression\n",
    "from sklearn.feature_extraction.text import CountVectorizer, TfidfVectorizer"
   ]
  },
  {
   "cell_type": "code",
   "execution_count": 29,
   "metadata": {},
   "outputs": [],
   "source": [
    "raw_data = pd.read_csv('train.csv')\n",
    "test = pd.read_csv('test.csv')"
   ]
  },
  {
   "cell_type": "code",
   "execution_count": 30,
   "metadata": {},
   "outputs": [
    {
     "data": {
      "text/html": [
       "<div>\n",
       "<style scoped>\n",
       "    .dataframe tbody tr th:only-of-type {\n",
       "        vertical-align: middle;\n",
       "    }\n",
       "\n",
       "    .dataframe tbody tr th {\n",
       "        vertical-align: top;\n",
       "    }\n",
       "\n",
       "    .dataframe thead th {\n",
       "        text-align: right;\n",
       "    }\n",
       "</style>\n",
       "<table border=\"1\" class=\"dataframe\">\n",
       "  <thead>\n",
       "    <tr style=\"text-align: right;\">\n",
       "      <th></th>\n",
       "      <th>toxic</th>\n",
       "      <th>severe_toxic</th>\n",
       "      <th>obscene</th>\n",
       "      <th>threat</th>\n",
       "      <th>insult</th>\n",
       "      <th>identity_hate</th>\n",
       "    </tr>\n",
       "  </thead>\n",
       "  <tbody>\n",
       "    <tr>\n",
       "      <td>count</td>\n",
       "      <td>159571.000000</td>\n",
       "      <td>159571.000000</td>\n",
       "      <td>159571.000000</td>\n",
       "      <td>159571.000000</td>\n",
       "      <td>159571.000000</td>\n",
       "      <td>159571.000000</td>\n",
       "    </tr>\n",
       "    <tr>\n",
       "      <td>mean</td>\n",
       "      <td>0.095844</td>\n",
       "      <td>0.009996</td>\n",
       "      <td>0.052948</td>\n",
       "      <td>0.002996</td>\n",
       "      <td>0.049364</td>\n",
       "      <td>0.008805</td>\n",
       "    </tr>\n",
       "    <tr>\n",
       "      <td>std</td>\n",
       "      <td>0.294379</td>\n",
       "      <td>0.099477</td>\n",
       "      <td>0.223931</td>\n",
       "      <td>0.054650</td>\n",
       "      <td>0.216627</td>\n",
       "      <td>0.093420</td>\n",
       "    </tr>\n",
       "    <tr>\n",
       "      <td>min</td>\n",
       "      <td>0.000000</td>\n",
       "      <td>0.000000</td>\n",
       "      <td>0.000000</td>\n",
       "      <td>0.000000</td>\n",
       "      <td>0.000000</td>\n",
       "      <td>0.000000</td>\n",
       "    </tr>\n",
       "    <tr>\n",
       "      <td>25%</td>\n",
       "      <td>0.000000</td>\n",
       "      <td>0.000000</td>\n",
       "      <td>0.000000</td>\n",
       "      <td>0.000000</td>\n",
       "      <td>0.000000</td>\n",
       "      <td>0.000000</td>\n",
       "    </tr>\n",
       "    <tr>\n",
       "      <td>50%</td>\n",
       "      <td>0.000000</td>\n",
       "      <td>0.000000</td>\n",
       "      <td>0.000000</td>\n",
       "      <td>0.000000</td>\n",
       "      <td>0.000000</td>\n",
       "      <td>0.000000</td>\n",
       "    </tr>\n",
       "    <tr>\n",
       "      <td>75%</td>\n",
       "      <td>0.000000</td>\n",
       "      <td>0.000000</td>\n",
       "      <td>0.000000</td>\n",
       "      <td>0.000000</td>\n",
       "      <td>0.000000</td>\n",
       "      <td>0.000000</td>\n",
       "    </tr>\n",
       "    <tr>\n",
       "      <td>max</td>\n",
       "      <td>1.000000</td>\n",
       "      <td>1.000000</td>\n",
       "      <td>1.000000</td>\n",
       "      <td>1.000000</td>\n",
       "      <td>1.000000</td>\n",
       "      <td>1.000000</td>\n",
       "    </tr>\n",
       "  </tbody>\n",
       "</table>\n",
       "</div>"
      ],
      "text/plain": [
       "               toxic   severe_toxic        obscene         threat  \\\n",
       "count  159571.000000  159571.000000  159571.000000  159571.000000   \n",
       "mean        0.095844       0.009996       0.052948       0.002996   \n",
       "std         0.294379       0.099477       0.223931       0.054650   \n",
       "min         0.000000       0.000000       0.000000       0.000000   \n",
       "25%         0.000000       0.000000       0.000000       0.000000   \n",
       "50%         0.000000       0.000000       0.000000       0.000000   \n",
       "75%         0.000000       0.000000       0.000000       0.000000   \n",
       "max         1.000000       1.000000       1.000000       1.000000   \n",
       "\n",
       "              insult  identity_hate  \n",
       "count  159571.000000  159571.000000  \n",
       "mean        0.049364       0.008805  \n",
       "std         0.216627       0.093420  \n",
       "min         0.000000       0.000000  \n",
       "25%         0.000000       0.000000  \n",
       "50%         0.000000       0.000000  \n",
       "75%         0.000000       0.000000  \n",
       "max         1.000000       1.000000  "
      ]
     },
     "execution_count": 30,
     "metadata": {},
     "output_type": "execute_result"
    }
   ],
   "source": [
    "raw_data.describe()"
   ]
  },
  {
   "cell_type": "code",
   "execution_count": 31,
   "metadata": {},
   "outputs": [
    {
     "data": {
      "text/plain": [
       "<matplotlib.axes._subplots.AxesSubplot at 0x1df6c6a0ac8>"
      ]
     },
     "execution_count": 31,
     "metadata": {},
     "output_type": "execute_result"
    },
    {
     "data": {
      "image/png": "[encoded data removed]",
      "text/plain": [
       "<Figure size 432x288 with 1 Axes>"
      ]
     },
     "metadata": {
      "needs_background": "light"
     },
     "output_type": "display_data"
    }
   ],
   "source": [
    "categories = raw_data.columns[2:]\n",
    "sns.barplot(categories, raw_data[categories].sum(axis = 0))"
   ]
  },
  {
   "cell_type": "code",
   "execution_count": 45,
   "metadata": {},
   "outputs": [
    {
     "data": {
      "text/plain": [
       "<matplotlib.axes._subplots.AxesSubplot at 0x1df03bc4f88>"
      ]
     },
     "execution_count": 45,
     "metadata": {},
     "output_type": "execute_result"
    },
    {
     "data": {
      "image/png": "[encoded data removed]",
      "text/plain": [
       "<Figure size 432x288 with 1 Axes>"
      ]
     },
     "metadata": {
      "needs_background": "light"
     },
     "output_type": "display_data"
    }
   ],
   "source": [
    "## comments having multiple label counts\n",
    "multi_label_counts = raw_data.iloc[:,2:].sum(axis = 1).value_counts()[1:]\n",
    "sns.barplot(multi_label_counts.index, multi_label_counts.values)"
   ]
  },
  {
   "cell_type": "code",
   "execution_count": 57,
   "metadata": {},
   "outputs": [],
   "source": [
    "# raw_data[raw_data.clean=True]"
   ]
  },
  {
   "cell_type": "code",
   "execution_count": 58,
   "metadata": {},
   "outputs": [],
   "source": [
    "# from wordcloud import WordCloud,STOPWORDS\n",
    "# plt.figure(figsize=(40,25))\n",
    "\n",
    "# subset = raw_data[raw_data.clean==True]\n",
    "# text = subset.comment_text.values\n",
    "# cloud_toxic = WordCloud(\n",
    "#                           stopwords=STOPWORDS,\n",
    "#                           background_color='black',\n",
    "#                           collocations=False,\n",
    "#                           width=2500,\n",
    "#                           height=1800\n",
    "#                          ).generate(\" \".join(text))"
   ]
  },
  {
   "cell_type": "code",
   "execution_count": 62,
   "metadata": {},
   "outputs": [
    {
     "data": {
      "text/plain": [
       "re.compile(r\"\\b(other|his|too|isn't|beside|now|doing|needn|hadn't|whom|that|than|itself|a|aren't|not|you'll|should've|those|theirs|here|also|your|will|didn't|are|over|ours|have|once|y|between|doesn't|hasn|weren|among|yourself|they|do|when|four|then|against|does|shan't|above|her|while|into|further|nor|all|re|be|been|out|at|one|haven|i|who|down|didn|where|mustn|both|which|s|how|won't|she|we|were|this|yours|them|through|ourselves|is|after|below|you'd|my|no|me|most|if|some|just|very|for|across|myself|wasn't|off|to|few|the|yet|in|each|shan|ain|shouldn|mightn't|their|what|on|ll|it|weren't|zero|as|wouldn't|same|three|seven|eight|nine|with|did|couldn|but|hadn|can|ve|am|under|don|haven't|ten|any|within|two|its|hasn't|it's|mustn't|being|him|shouldn't|was|by|why|d|before|more|an|that'll|yourselves|about|you've|such|isn|you're|six|mightn|and|had|o|needn't|may|because|wasn|has|wouldn|himself|however|during|our|should|doesn|t|aren|ma|there|from|he|having|so|couldn't|of|until|up|themselves|hers|own|only|or|won|five|don't|herself|m|you|these|again|she's)\\W\",\n",
       "re.IGNORECASE|re.UNICODE)"
      ]
     },
     "execution_count": 62,
     "metadata": {},
     "output_type": "execute_result"
    }
   ],
   "source": [
    "stop_words = set(stopwords.words('english'))\n",
    "stop_words.update(['zero','one','two','three','four','five','six','seven','eight','nine','ten','may','also','across','among','beside','however','yet','within'])\n",
    "re.compile(r\"\\b(\" + \"|\".join(stop_words) + \")\\\\W\", re.I)"
   ]
  },
  {
   "cell_type": "code",
   "execution_count": 71,
   "metadata": {},
   "outputs": [
    {
     "data": {
      "text/plain": [
       "re.compile(r\"\\b(other|his|too|isn't|beside|now|doing|needn|hadn't|whom|that|than|itself|a|aren't|not|you'll|should've|those|theirs|here|also|your|will|didn't|are|over|ours|have|once|y|between|doesn't|hasn|weren|among|yourself|they|do|when|four|then|against|does|shan't|above|her|while|into|further|nor|all|re|be|been|out|at|one|haven|i|who|down|didn|where|mustn|both|which|s|how|won't|she|we|were|this|yours|them|through|ourselves|is|after|below|you'd|my|no|me|most|if|some|just|very|for|across|myself|wasn't|off|to|few|the|yet|in|each|shan|ain|shouldn|mightn't|their|what|on|ll|it|weren't|zero|as|wouldn't|same|three|seven|eight|nine|with|did|couldn|but|hadn|can|ve|am|under|don|haven't|ten|any|within|two|its|hasn't|it's|mustn't|being|him|shouldn't|was|by|why|d|before|more|an|that'll|yourselves|about|you've|such|isn|you're|six|mightn|and|had|o|needn't|may|because|wasn|has|wouldn|himself|however|during|our|should|doesn|t|aren|ma|there|from|he|having|so|couldn't|of|until|up|themselves|hers|own|only|or|won|five|don't|herself|m|you|these|again|she's)\\W\",\n",
       "re.IGNORECASE|re.UNICODE)"
      ]
     },
     "execution_count": 71,
     "metadata": {},
     "output_type": "execute_result"
    }
   ],
   "source": [
    "# re.compile(r\"\\b(\" + \"|\".join(stop_words) + \")\\\\W\", re.I)"
   ]
  },
  {
   "cell_type": "code",
   "execution_count": 120,
   "metadata": {},
   "outputs": [],
   "source": [
    "##custom made functions to remove html-tags, punctuation and non-alphabetic characters from the comments.\n",
    "if not sys.warnoptions:\n",
    "    warnings.simplefilter(\"ignore\")\n",
    "\n",
    "def cleanHtml(sentence):\n",
    "    cleanr = re.compile('<.*?>')\n",
    "    cleantext = re.sub(cleanr, ' ', str(sentence))\n",
    "    return cleantext\n",
    "\n",
    "def cleanPunc(sentence): #function to clean the word of any punctuation or special characters\n",
    "    cleaned = re.sub(r'[?|!|\\'|\"|#]',r'',sentence)\n",
    "    cleaned = re.sub(r'[.|,|)|(|\\|/]',r' ',cleaned)\n",
    "    cleaned = cleaned.strip()\n",
    "    cleaned = cleaned.replace(\"\\n\",\" \")\n",
    "    return cleaned\n",
    "\n",
    "def keepAlpha(sentence):\n",
    "    alpha_sent = \"\"\n",
    "    for word in sentence.split():\n",
    "        alpha_word = re.sub('[^a-z A-Z]+', ' ', word)\n",
    "        alpha_sent += alpha_word\n",
    "        alpha_sent += \" \"\n",
    "    alpha_sent = alpha_sent.strip()\n",
    "    return alpha_sent\n",
    "\n",
    "raw_data['comment_text'] = raw_data['comment_text'].str.lower()\n",
    "raw_data['comment_text'] = raw_data['comment_text'].apply(cleanHtml)\n",
    "raw_data['comment_text'] = raw_data['comment_text'].apply(cleanPunc)\n",
    "raw_data['comment_text'] = raw_data['comment_text'].apply(keepAlpha)"
   ]
  },
  {
   "cell_type": "code",
   "execution_count": null,
   "metadata": {},
   "outputs": [],
   "source": [
    "#remove all the stop words\n",
    "stop_words = set(stopwords.words('english'))\n",
    "stop_words.update(['zero','one','two','three','four','five','six','seven','eight','nine','ten','may','also','across','among','beside','however','yet','within'])\n",
    "re_stop_words = re.compile(r\"\\b(\" + \"|\".join(stop_words) + \")\\\\W\", re.I)\n",
    "def removeStopWords(sentence):\n",
    "    global re_stop_words\n",
    "    return re_stop_words.sub(\" \", sentence)\n",
    "raw_data['comment_text'] = raw_data['comment_text'].apply(removeStopWords)"
   ]
  },
  {
   "cell_type": "code",
   "execution_count": 127,
   "metadata": {},
   "outputs": [
    {
     "data": {
      "text/plain": [
       "0         True\n",
       "1         True\n",
       "2         True\n",
       "3         True\n",
       "4         True\n",
       "          ... \n",
       "159566    True\n",
       "159567    True\n",
       "159568    True\n",
       "159569    True\n",
       "159570    True\n",
       "Length: 159571, dtype: bool"
      ]
     },
     "execution_count": 127,
     "metadata": {},
     "output_type": "execute_result"
    }
   ],
   "source": [
    "raw_data[categories].max(axis = 1) == 0"
   ]
  },
  {
   "cell_type": "code",
   "execution_count": 27,
   "metadata": {},
   "outputs": [
    {
     "data": {
      "text/plain": [
       "<matplotlib.axes._subplots.AxesSubplot at 0x1df6c84c808>"
      ]
     },
     "execution_count": 27,
     "metadata": {},
     "output_type": "execute_result"
    },
    {
     "data": {
      "image/png": "[encoded data removed]",
      "text/plain": [
       "<Figure size 432x288 with 1 Axes>"
      ]
     },
     "metadata": {
      "needs_background": "light"
     },
     "output_type": "display_data"
    }
   ],
   "source": [
    "## Visualizing the counts with None.\n",
    "new_categories = raw_data.columns[2:]\n",
    "plt.figsize=((10,10))\n",
    "sns.barplot(new_categories, raw_data[new_categories].sum(axis = 0))"
   ]
  },
  {
   "cell_type": "code",
   "execution_count": null,
   "metadata": {},
   "outputs": [],
   "source": [
    "pd.read_csv(quot)"
   ]
  },
  {
   "cell_type": "code",
   "execution_count": 81,
   "metadata": {},
   "outputs": [],
   "source": [
    "x = [[1,2],[3,4]]\n",
    "x.append([[5,6],[7,8]])"
   ]
  },
  {
   "cell_type": "code",
   "execution_count": null,
   "metadata": {},
   "outputs": [],
   "source": []
  },
  {
   "cell_type": "code",
   "execution_count": null,
   "metadata": {},
   "outputs": [],
   "source": [
    "train.columns[2:]"
   ]
  },
  {
   "cell_type": "code",
   "execution_count": 7,
   "metadata": {},
   "outputs": [
    {
     "data": {
      "text/html": [
       "<div>\n",
       "<style scoped>\n",
       "    .dataframe tbody tr th:only-of-type {\n",
       "        vertical-align: middle;\n",
       "    }\n",
       "\n",
       "    .dataframe tbody tr th {\n",
       "        vertical-align: top;\n",
       "    }\n",
       "\n",
       "    .dataframe thead th {\n",
       "        text-align: right;\n",
       "    }\n",
       "</style>\n",
       "<table border=\"1\" class=\"dataframe\">\n",
       "  <thead>\n",
       "    <tr style=\"text-align: right;\">\n",
       "      <th></th>\n",
       "      <th>id</th>\n",
       "      <th>comment_text</th>\n",
       "      <th>toxic</th>\n",
       "      <th>severe_toxic</th>\n",
       "      <th>obscene</th>\n",
       "      <th>threat</th>\n",
       "      <th>insult</th>\n",
       "      <th>identity_hate</th>\n",
       "    </tr>\n",
       "  </thead>\n",
       "  <tbody>\n",
       "    <tr>\n",
       "      <td>6</td>\n",
       "      <td>0002bcb3da6cb337</td>\n",
       "      <td>COCKSUCKER BEFORE YOU PISS AROUND ON MY WORK</td>\n",
       "      <td>1</td>\n",
       "      <td>1</td>\n",
       "      <td>1</td>\n",
       "      <td>0</td>\n",
       "      <td>1</td>\n",
       "      <td>0</td>\n",
       "    </tr>\n",
       "    <tr>\n",
       "      <td>12</td>\n",
       "      <td>0005c987bdfc9d4b</td>\n",
       "      <td>Hey... what is it..\\n@ | talk .\\nWhat is it......</td>\n",
       "      <td>1</td>\n",
       "      <td>0</td>\n",
       "      <td>0</td>\n",
       "      <td>0</td>\n",
       "      <td>0</td>\n",
       "      <td>0</td>\n",
       "    </tr>\n",
       "    <tr>\n",
       "      <td>16</td>\n",
       "      <td>0007e25b2121310b</td>\n",
       "      <td>Bye! \\n\\nDon't look, come or think of comming ...</td>\n",
       "      <td>1</td>\n",
       "      <td>0</td>\n",
       "      <td>0</td>\n",
       "      <td>0</td>\n",
       "      <td>0</td>\n",
       "      <td>0</td>\n",
       "    </tr>\n",
       "    <tr>\n",
       "      <td>42</td>\n",
       "      <td>001810bf8c45bf5f</td>\n",
       "      <td>You are gay or antisemmitian? \\n\\nArchangel WH...</td>\n",
       "      <td>1</td>\n",
       "      <td>0</td>\n",
       "      <td>1</td>\n",
       "      <td>0</td>\n",
       "      <td>1</td>\n",
       "      <td>1</td>\n",
       "    </tr>\n",
       "    <tr>\n",
       "      <td>43</td>\n",
       "      <td>00190820581d90ce</td>\n",
       "      <td>FUCK YOUR FILTHY MOTHER IN THE ASS, DRY!</td>\n",
       "      <td>1</td>\n",
       "      <td>0</td>\n",
       "      <td>1</td>\n",
       "      <td>0</td>\n",
       "      <td>1</td>\n",
       "      <td>0</td>\n",
       "    </tr>\n",
       "    <tr>\n",
       "      <td>...</td>\n",
       "      <td>...</td>\n",
       "      <td>...</td>\n",
       "      <td>...</td>\n",
       "      <td>...</td>\n",
       "      <td>...</td>\n",
       "      <td>...</td>\n",
       "      <td>...</td>\n",
       "      <td>...</td>\n",
       "    </tr>\n",
       "    <tr>\n",
       "      <td>159494</td>\n",
       "      <td>fef4cf7ba0012866</td>\n",
       "      <td>\"\\n\\n our previous conversation \\n\\nyou fuckin...</td>\n",
       "      <td>1</td>\n",
       "      <td>0</td>\n",
       "      <td>1</td>\n",
       "      <td>0</td>\n",
       "      <td>1</td>\n",
       "      <td>1</td>\n",
       "    </tr>\n",
       "    <tr>\n",
       "      <td>159514</td>\n",
       "      <td>ff39a2895fc3b40e</td>\n",
       "      <td>YOU ARE A MISCHIEVIOUS PUBIC HAIR</td>\n",
       "      <td>1</td>\n",
       "      <td>0</td>\n",
       "      <td>0</td>\n",
       "      <td>0</td>\n",
       "      <td>1</td>\n",
       "      <td>0</td>\n",
       "    </tr>\n",
       "    <tr>\n",
       "      <td>159541</td>\n",
       "      <td>ffa33d3122b599d6</td>\n",
       "      <td>Your absurd edits \\n\\nYour absurd edits on gre...</td>\n",
       "      <td>1</td>\n",
       "      <td>0</td>\n",
       "      <td>1</td>\n",
       "      <td>0</td>\n",
       "      <td>1</td>\n",
       "      <td>0</td>\n",
       "    </tr>\n",
       "    <tr>\n",
       "      <td>159546</td>\n",
       "      <td>ffb47123b2d82762</td>\n",
       "      <td>\"\\n\\nHey listen don't you ever!!!! Delete my e...</td>\n",
       "      <td>1</td>\n",
       "      <td>0</td>\n",
       "      <td>0</td>\n",
       "      <td>0</td>\n",
       "      <td>1</td>\n",
       "      <td>0</td>\n",
       "    </tr>\n",
       "    <tr>\n",
       "      <td>159554</td>\n",
       "      <td>ffbdbb0483ed0841</td>\n",
       "      <td>and i'm going to keep posting the stuff u dele...</td>\n",
       "      <td>1</td>\n",
       "      <td>0</td>\n",
       "      <td>1</td>\n",
       "      <td>0</td>\n",
       "      <td>1</td>\n",
       "      <td>0</td>\n",
       "    </tr>\n",
       "  </tbody>\n",
       "</table>\n",
       "<p>16225 rows × 8 columns</p>\n",
       "</div>"
      ],
      "text/plain": [
       "                      id                                       comment_text  \\\n",
       "6       0002bcb3da6cb337       COCKSUCKER BEFORE YOU PISS AROUND ON MY WORK   \n",
       "12      0005c987bdfc9d4b  Hey... what is it..\\n@ | talk .\\nWhat is it......   \n",
       "16      0007e25b2121310b  Bye! \\n\\nDon't look, come or think of comming ...   \n",
       "42      001810bf8c45bf5f  You are gay or antisemmitian? \\n\\nArchangel WH...   \n",
       "43      00190820581d90ce           FUCK YOUR FILTHY MOTHER IN THE ASS, DRY!   \n",
       "...                  ...                                                ...   \n",
       "159494  fef4cf7ba0012866  \"\\n\\n our previous conversation \\n\\nyou fuckin...   \n",
       "159514  ff39a2895fc3b40e                  YOU ARE A MISCHIEVIOUS PUBIC HAIR   \n",
       "159541  ffa33d3122b599d6  Your absurd edits \\n\\nYour absurd edits on gre...   \n",
       "159546  ffb47123b2d82762  \"\\n\\nHey listen don't you ever!!!! Delete my e...   \n",
       "159554  ffbdbb0483ed0841  and i'm going to keep posting the stuff u dele...   \n",
       "\n",
       "        toxic  severe_toxic  obscene  threat  insult  identity_hate  \n",
       "6           1             1        1       0       1              0  \n",
       "12          1             0        0       0       0              0  \n",
       "16          1             0        0       0       0              0  \n",
       "42          1             0        1       0       1              1  \n",
       "43          1             0        1       0       1              0  \n",
       "...       ...           ...      ...     ...     ...            ...  \n",
       "159494      1             0        1       0       1              1  \n",
       "159514      1             0        0       0       1              0  \n",
       "159541      1             0        1       0       1              0  \n",
       "159546      1             0        0       0       1              0  \n",
       "159554      1             0        1       0       1              0  \n",
       "\n",
       "[16225 rows x 8 columns]"
      ]
     },
     "execution_count": 7,
     "metadata": {},
     "output_type": "execute_result"
    }
   ],
   "source": [
    "train[(train['toxic'] == 1) |(train['severe_toxic'] == 1) | (train['obscene']==1) | (train['threat']==1) | (train['insult']==1) | (train['identity_hate']==1)]"
   ]
  },
  {
   "cell_type": "code",
   "execution_count": 8,
   "metadata": {},
   "outputs": [
    {
     "data": {
      "text/plain": [
       "\"Explanation\\nWhy the edits made under my username Hardcore Metallica Fan were reverted? They weren't vandalisms, just closure on some GAs after I voted at New York Dolls FAC. And please don't remove the template from the talk page since I'm retired now.89.205.38.27\""
      ]
     },
     "execution_count": 8,
     "metadata": {},
     "output_type": "execute_result"
    }
   ],
   "source": [
    "train['comment_text'][0]"
   ]
  },
  {
   "cell_type": "code",
   "execution_count": 104,
   "metadata": {},
   "outputs": [],
   "source": [
    "from nltk.corpus import stopwords"
   ]
  },
  {
   "cell_type": "code",
   "execution_count": null,
   "metadata": {},
   "outputs": [],
   "source": []
  },
  {
   "cell_type": "code",
   "execution_count": 9,
   "metadata": {},
   "outputs": [],
   "source": [
    "import string"
   ]
  },
  {
   "cell_type": "code",
   "execution_count": 10,
   "metadata": {},
   "outputs": [],
   "source": [
    "lens = train['comment_text'].apply(len)\n",
    "# lens = train['comment_text'].str.len()"
   ]
  },
  {
   "cell_type": "code",
   "execution_count": 11,
   "metadata": {},
   "outputs": [
    {
     "data": {
      "text/plain": [
       "(394.0732213246768, 590.7202819048923, 5000)"
      ]
     },
     "execution_count": 11,
     "metadata": {},
     "output_type": "execute_result"
    }
   ],
   "source": [
    "lens.mean(), lens.std(), lens.max()"
   ]
  },
  {
   "cell_type": "code",
   "execution_count": 12,
   "metadata": {},
   "outputs": [
    {
     "data": {
      "text/plain": [
       "<matplotlib.axes._subplots.AxesSubplot at 0x1b4823674c8>"
      ]
     },
     "execution_count": 12,
     "metadata": {},
     "output_type": "execute_result"
    },
    {
     "data": {
      "image/png": "[encoded data removed]",
      "text/plain": [
       "<Figure size 432x288 with 1 Axes>"
      ]
     },
     "metadata": {
      "needs_background": "light"
     },
     "output_type": "display_data"
    }
   ],
   "source": [
    "lens.hist()"
   ]
  },
  {
   "cell_type": "code",
   "execution_count": 13,
   "metadata": {},
   "outputs": [],
   "source": [
    "label_columns = train.columns[2:]"
   ]
  },
  {
   "cell_type": "code",
   "execution_count": 14,
   "metadata": {},
   "outputs": [
    {
     "data": {
      "text/plain": [
       "Index(['toxic', 'severe_toxic', 'obscene', 'threat', 'insult',\n",
       "       'identity_hate'],\n",
       "      dtype='object')"
      ]
     },
     "execution_count": 14,
     "metadata": {},
     "output_type": "execute_result"
    }
   ],
   "source": [
    "label_columns"
   ]
  },
  {
   "cell_type": "code",
   "execution_count": 15,
   "metadata": {},
   "outputs": [],
   "source": [
    "train['none'] = 1-train[label_columns].max(axis =1)"
   ]
  },
  {
   "cell_type": "code",
   "execution_count": 16,
   "metadata": {},
   "outputs": [
    {
     "data": {
      "text/plain": [
       "1    143346\n",
       "0     16225\n",
       "Name: none, dtype: int64"
      ]
     },
     "execution_count": 16,
     "metadata": {},
     "output_type": "execute_result"
    }
   ],
   "source": [
    "train['none'].value_counts()"
   ]
  },
  {
   "cell_type": "code",
   "execution_count": 17,
   "metadata": {},
   "outputs": [
    {
     "data": {
      "text/plain": [
       "Index(['toxic', 'severe_toxic', 'obscene', 'threat', 'insult', 'identity_hate',\n",
       "       'none'],\n",
       "      dtype='object')"
      ]
     },
     "execution_count": 17,
     "metadata": {},
     "output_type": "execute_result"
    }
   ],
   "source": [
    "label_columns = train.columns[2:]\n",
    "label_columns"
   ]
  },
  {
   "cell_type": "code",
   "execution_count": 18,
   "metadata": {},
   "outputs": [
    {
     "data": {
      "text/plain": [
       "(159571, 153164)"
      ]
     },
     "execution_count": 18,
     "metadata": {},
     "output_type": "execute_result"
    }
   ],
   "source": [
    "len(train), len(test)"
   ]
  },
  {
   "cell_type": "code",
   "execution_count": 19,
   "metadata": {},
   "outputs": [
    {
     "data": {
      "text/plain": [
       "<matplotlib.axes._subplots.AxesSubplot at 0x1b4828e7f88>"
      ]
     },
     "execution_count": 19,
     "metadata": {},
     "output_type": "execute_result"
    },
    {
     "data": {
      "image/png": "[encoded data removed]",
      "text/plain": [
       "<Figure size 432x288 with 2 Axes>"
      ]
     },
     "metadata": {
      "needs_background": "light"
     },
     "output_type": "display_data"
    }
   ],
   "source": [
    "sns.heatmap(train.isnull())"
   ]
  },
  {
   "cell_type": "code",
   "execution_count": 41,
   "metadata": {},
   "outputs": [
    {
     "data": {
      "text/plain": [
       "<function __main__.tokenize(s)>"
      ]
     },
     "execution_count": 41,
     "metadata": {},
     "output_type": "execute_result"
    }
   ],
   "source": [
    "lambda s : re.compile(f'([{string.punctuation}“”¨«»®´·º½¾¿¡§£₤‘’])').sub(r' \\1 ', s).split()\n",
    "tokenize\n"
   ]
  },
  {
   "cell_type": "code",
   "execution_count": 20,
   "metadata": {},
   "outputs": [],
   "source": [
    "re_tok = re.compile(f'([{string.punctuation}“”¨«»®´·º½¾¿¡§£₤‘’])')\n",
    "def tokenize(s): return re_tok.sub(r' \\1 ', s).split()"
   ]
  },
  {
   "cell_type": "code",
   "execution_count": 91,
   "metadata": {},
   "outputs": [
    {
     "data": {
      "text/plain": [
       "(\" \\\\'\",\n",
       " \"Explanation\\nWhy the edits made under my username Hardcore Metallica Fan were reverted? They weren't vandalisms, just closure on some GAs after I voted at New York Dolls FAC. And please don't remove the template from the talk page since I'm retired now.89.205.38.27\")"
      ]
     },
     "execution_count": 91,
     "metadata": {},
     "output_type": "execute_result"
    }
   ],
   "source": [
    "r' \\'', train['comment_text'][0]"
   ]
  },
  {
   "cell_type": "code",
   "execution_count": 116,
   "metadata": {},
   "outputs": [],
   "source": [
    "# re_tok.sub(r' \\'', train['comment_text'][0]).split()"
   ]
  },
  {
   "cell_type": "code",
   "execution_count": 21,
   "metadata": {},
   "outputs": [],
   "source": [
    "n = train.shape[0]"
   ]
  },
  {
   "cell_type": "code",
   "execution_count": 37,
   "metadata": {},
   "outputs": [],
   "source": [
    "vec = TfidfVectorizer(ngram_range=(1,2), tokenizer = lambda s : re.compile(f'([{string.punctuation}“”¨«»®´·º½¾¿¡§£₤‘’])').sub(r' \\1 ', s).split(), min_df=3, max_df=0.9, strip_accents='unicode', use_idf=1,\n",
    "                     smooth_idf=1, sublinear_tf=1)"
   ]
  },
  {
   "cell_type": "code",
   "execution_count": 38,
   "metadata": {},
   "outputs": [],
   "source": [
    "model_dict = {}\n"
   ]
  },
  {
   "cell_type": "code",
   "execution_count": 39,
   "metadata": {
    "scrolled": true
   },
   "outputs": [
    {
     "data": {
      "text/plain": [
       "TfidfVectorizer(analyzer='word', binary=False, decode_error='strict',\n",
       "                dtype=<class 'numpy.float64'>, encoding='utf-8',\n",
       "                input='content', lowercase=True, max_df=0.9, max_features=None,\n",
       "                min_df=3, ngram_range=(1, 2), norm='l2', preprocessor=None,\n",
       "                smooth_idf=1, stop_words=None, strip_accents='unicode',\n",
       "                sublinear_tf=1, token_pattern='(?u)\\\\b\\\\w\\\\w+\\\\b',\n",
       "                tokenizer=<function <lambda> at 0x000001B49B3AB3A8>, use_idf=1,\n",
       "                vocabulary=None)"
      ]
     },
     "execution_count": 39,
     "metadata": {},
     "output_type": "execute_result"
    }
   ],
   "source": [
    "vec"
   ]
  },
  {
   "cell_type": "code",
   "execution_count": 40,
   "metadata": {},
   "outputs": [],
   "source": [
    "trn_term_doc = vec.fit_transform(train['comment_text'])\n",
    "model_dict['vec'] = vec\n",
    "test_term_doc = vec.transform(test['comment_text'])"
   ]
  },
  {
   "cell_type": "code",
   "execution_count": 42,
   "metadata": {},
   "outputs": [
    {
     "data": {
      "text/plain": [
       "TfidfVectorizer(analyzer='word', binary=False, decode_error='strict',\n",
       "                dtype=<class 'numpy.float64'>, encoding='utf-8',\n",
       "                input='content', lowercase=True, max_df=0.9, max_features=None,\n",
       "                min_df=3, ngram_range=(1, 2), norm='l2', preprocessor=None,\n",
       "                smooth_idf=1, stop_words=None, strip_accents='unicode',\n",
       "                sublinear_tf=1, token_pattern='(?u)\\\\b\\\\w\\\\w+\\\\b',\n",
       "                tokenizer=<function <lambda> at 0x000001B49B3AB3A8>, use_idf=1,\n",
       "                vocabulary=None)"
      ]
     },
     "execution_count": 42,
     "metadata": {},
     "output_type": "execute_result"
    }
   ],
   "source": [
    "vec\n"
   ]
  },
  {
   "cell_type": "code",
   "execution_count": 43,
   "metadata": {},
   "outputs": [
    {
     "data": {
      "text/plain": [
       "(<159571x426005 sparse matrix of type '<class 'numpy.float64'>'\n",
       " \twith 17775104 stored elements in Compressed Sparse Row format>,\n",
       " <153164x426005 sparse matrix of type '<class 'numpy.float64'>'\n",
       " \twith 14765755 stored elements in Compressed Sparse Row format>)"
      ]
     },
     "execution_count": 43,
     "metadata": {},
     "output_type": "execute_result"
    }
   ],
   "source": [
    "trn_term_doc, test_term_doc"
   ]
  },
  {
   "cell_type": "code",
   "execution_count": 44,
   "metadata": {},
   "outputs": [],
   "source": [
    "x = trn_term_doc\n",
    "test_x = test_term_doc"
   ]
  },
  {
   "cell_type": "code",
   "execution_count": 45,
   "metadata": {},
   "outputs": [],
   "source": [
    "def pr(y_i, y):\n",
    "    p = x[y==y_i].sum(0)\n",
    "    return (p+1) / ((y==y_i).sum()+1)"
   ]
  },
  {
   "cell_type": "code",
   "execution_count": 46,
   "metadata": {},
   "outputs": [],
   "source": [
    "\n",
    "\n",
    "def get_mdl(y):\n",
    "    y = y.values\n",
    "    r = np.log(pr(1,y) / pr(0,y))\n",
    "    m = LogisticRegression(C=4, dual=True, max_iter = 250, solver='liblinear')\n",
    "    x_nb = x.multiply(r)\n",
    "    return m.fit(x_nb, y), r\n",
    "\n"
   ]
  },
  {
   "cell_type": "code",
   "execution_count": 47,
   "metadata": {},
   "outputs": [
    {
     "name": "stdout",
     "output_type": "stream",
     "text": [
      "fit toxic\n",
      "fit severe_toxic\n",
      "fit obscene\n",
      "fit threat\n",
      "fit insult\n",
      "fit identity_hate\n",
      "fit none\n"
     ]
    }
   ],
   "source": [
    "model_dict['m']={}\n",
    "model_dict['r']={}\n",
    "\n",
    "preds = np.zeros((len(test), len(label_columns)))\n",
    "\n",
    "for i, j in enumerate(label_columns):\n",
    "    print('fit', j)\n",
    "    m,r = get_mdl(train[j])\n",
    "    model_dict['m'][j], model_dict['r'][j] = m,r\n",
    "    preds[:,i] = m.predict_proba(test_x.multiply(r))[:,1]\n"
   ]
  },
  {
   "cell_type": "code",
   "execution_count": null,
   "metadata": {},
   "outputs": [],
   "source": [
    "\n"
   ]
  },
  {
   "cell_type": "code",
   "execution_count": null,
   "metadata": {},
   "outputs": [],
   "source": [
    "(1, 426005)\n",
    "\n",
    "array([[1.21711269e-05, 9.99987829e-01]])"
   ]
  },
  {
   "cell_type": "code",
   "execution_count": 262,
   "metadata": {},
   "outputs": [
    {
     "data": {
      "text/plain": [
       "1.0000000001269"
      ]
     },
     "execution_count": 262,
     "metadata": {},
     "output_type": "execute_result"
    }
   ],
   "source": [
    "1.21711269e-05 + 9.99987829e-01"
   ]
  },
  {
   "cell_type": "code",
   "execution_count": 261,
   "metadata": {},
   "outputs": [
    {
     "name": "stdout",
     "output_type": "stream",
     "text": [
      "(1, 426005)\n"
     ]
    },
    {
     "data": {
      "text/plain": [
       "array([[1.21711269e-05, 9.99987829e-01]])"
      ]
     },
     "execution_count": 261,
     "metadata": {},
     "output_type": "execute_result"
    }
   ],
   "source": [
    "input_comment = [test['comment_text'][0]]\n",
    "bow_input_comment = model['vec'].transform(input_comment)\n",
    "r = model['r']['toxic']\n",
    "multiply = bow_input_comment.multiply(r)\n",
    "print(multiply.shape)\n",
    "model['m']['toxic'].predict_proba(multiply)[]"
   ]
  },
  {
   "cell_type": "code",
   "execution_count": 310,
   "metadata": {},
   "outputs": [
    {
     "data": {
      "text/plain": [
       "array(['toxic', 'obscene', 'insult'], dtype=object)"
      ]
     },
     "execution_count": 310,
     "metadata": {},
     "output_type": "execute_result"
    }
   ],
   "source": [
    "# # label_columns[predict(input_comment)>0.9]\n",
    "# label_array = np.array(label_columns)\n",
    "# label_array = label_array.reshape(1,7)\n",
    "# label_array[predict(input_comment)>0.9]\n",
    "# # (predict(input_comment)>0.9).shape\n",
    "\n",
    "predict(input_comment)"
   ]
  },
  {
   "cell_type": "code",
   "execution_count": 340,
   "metadata": {},
   "outputs": [],
   "source": [
    "def predict(comment):\n",
    "    label_array = np.array(label_columns).reshape(1,7)\n",
    "    output_array = np.zeros((1,len(label_columns)))\n",
    "    bow_input_comment = model['vec'].transform(comment)\n",
    "    for i, label  in enumerate(label_columns):\n",
    "        r = model['r'][label]\n",
    "        modified_input = bow_input_comment.multiply(r)\n",
    "        output_array[:, i] = model['m'][label].predict_proba(modified_input)[:,1]\n",
    "#     output_array>0.9\n",
    "    return label_array[output_array>0.9]"
   ]
  },
  {
   "cell_type": "code",
   "execution_count": 316,
   "metadata": {},
   "outputs": [
    {
     "data": {
      "text/plain": [
       "<1x426005 sparse matrix of type '<class 'numpy.float64'>'\n",
       "\twith 113 stored elements in Compressed Sparse Row format>"
      ]
     },
     "execution_count": 316,
     "metadata": {},
     "output_type": "execute_result"
    }
   ],
   "source": [
    "model_dict['vec'].transform([test['comment_text'][0]])"
   ]
  },
  {
   "cell_type": "code",
   "execution_count": 317,
   "metadata": {},
   "outputs": [
    {
     "data": {
      "text/plain": [
       "\"Yo bitch Ja Rule is more succesful then you'll ever be whats up with you and hating you sad mofuckas...i should bitch slap ur pethedic white faces and get you to kiss my ass you guys sicken me. Ja rule is about pride in da music man. dont diss that shit on him. and nothin is wrong bein like tupac he was a brother too...fuckin white boys get things right next time.,\""
      ]
     },
     "execution_count": 317,
     "metadata": {},
     "output_type": "execute_result"
    }
   ],
   "source": [
    "test['comment_text'][0]"
   ]
  },
  {
   "cell_type": "code",
   "execution_count": 344,
   "metadata": {},
   "outputs": [
    {
     "data": {
      "text/plain": [
       "Index(['toxic', 'severe_toxic', 'obscene', 'threat', 'insult', 'identity_hate',\n",
       "       'none'],\n",
       "      dtype='object')"
      ]
     },
     "execution_count": 344,
     "metadata": {},
     "output_type": "execute_result"
    }
   ],
   "source": [
    "label_columns"
   ]
  },
  {
   "cell_type": "code",
   "execution_count": 54,
   "metadata": {},
   "outputs": [],
   "source": [
    "import dill\n",
    "with open('model.pkl','wb') as f:\n",
    "    dill.dump(model_dict,f)"
   ]
  },
  {
   "cell_type": "code",
   "execution_count": 55,
   "metadata": {},
   "outputs": [],
   "source": [
    "file = open('model.pkl','rb')\n",
    "model = dill.load(file)"
   ]
  },
  {
   "cell_type": "code",
   "execution_count": 58,
   "metadata": {},
   "outputs": [],
   "source": [
    "file.close()"
   ]
  },
  {
   "cell_type": "code",
   "execution_count": 320,
   "metadata": {},
   "outputs": [],
   "source": [
    "filter_df = train[(train['toxic'] == 1) |(train['severe_toxic'] == 1) | (train['obscene']==1) | (train['threat']==1) | (train['insult']==1) | (train['identity_hate']==1)]\n",
    "filter_comments = filter_df['comment_text'].values[0:10]\n",
    "filter_labels = train[(train['toxic'] == 1) |(train['severe_toxic'] == 1) | (train['obscene']==1) | (train['threat']==1) | (train['insult']==1) | (train['identity_hate']==1)].columns[2:]"
   ]
  },
  {
   "cell_type": "code",
   "execution_count": 341,
   "metadata": {},
   "outputs": [
    {
     "name": "stdout",
     "output_type": "stream",
     "text": [
      "COCKSUCKER BEFORE YOU PISS AROUND ON MY WORK\n",
      "['toxic' 'obscene' 'insult']\n",
      "   toxic  severe_toxic  obscene  threat  insult  identity_hate  none\n",
      "6      1             1        1       0       1              0     0\n",
      "\n",
      "\n",
      "Hey... what is it..\n",
      "@ | talk .\n",
      "What is it... an exclusive group of some WP TALIBANS...who are good at destroying, self-appointed purist who GANG UP any one who asks them questions abt their ANTI-SOCIAL and DESTRUCTIVE (non)-contribution at WP?\n",
      "\n",
      "Ask Sityush to clean up his behavior than issue me nonsensical warnings...\n",
      "['toxic' 'obscene' 'insult']\n",
      "    toxic  severe_toxic  obscene  threat  insult  identity_hate  none\n",
      "12      1             0        0       0       0              0     0\n",
      "\n",
      "\n",
      "Bye! \n",
      "\n",
      "Don't look, come or think of comming back! Tosser.\n",
      "['toxic' 'obscene' 'insult']\n",
      "    toxic  severe_toxic  obscene  threat  insult  identity_hate  none\n",
      "16      1             0        0       0       0              0     0\n",
      "\n",
      "\n",
      "You are gay or antisemmitian? \n",
      "\n",
      "Archangel WHite Tiger\n",
      "\n",
      "Meow! Greetingshhh!\n",
      "\n",
      "Uh, there are two ways, why you do erased my comment about WW2, that holocaust was brutally slaying of Jews and not gays/Gypsys/Slavs/anyone...\n",
      "\n",
      "1 - If you are anti-semitian, than shave your head bald and go to the skinhead meetings!\n",
      "\n",
      "2 - If you doubt words of the Bible, that homosexuality is a deadly sin, make a pentagram tatoo on your forehead go to the satanistic masses with your gay pals!\n",
      "\n",
      "3 - First and last warning, you fucking gay - I won't appreciate if any more nazi shwain would write in my page! I don't wish to talk to you anymore!\n",
      "\n",
      "Beware of the Dark Side!\n",
      "['toxic' 'obscene' 'insult']\n",
      "    toxic  severe_toxic  obscene  threat  insult  identity_hate  none\n",
      "42      1             0        1       0       1              1     0\n",
      "\n",
      "\n",
      "FUCK YOUR FILTHY MOTHER IN THE ASS, DRY!\n",
      "['toxic' 'obscene' 'insult']\n",
      "    toxic  severe_toxic  obscene  threat  insult  identity_hate  none\n",
      "43      1             0        1       0       1              0     0\n",
      "\n",
      "\n",
      "I'm Sorry \n",
      "\n",
      "I'm sorry I screwed around with someones talk page.  It was very bad to do.  I know how having the templates on their talk page helps you assert your dominance over them.  I know I should bow down to the almighty administrators.  But then again, I'm going to go play outside....with your mom.   76.122.79.82\n",
      "['toxic' 'obscene' 'insult']\n",
      "    toxic  severe_toxic  obscene  threat  insult  identity_hate  none\n",
      "44      1             0        0       0       0              0     0\n",
      "\n",
      "\n",
      "GET FUCKED UP. GET FUCKEEED UP.  GOT A DRINK THAT YOU CANT PUT DOWN???/ GET FUCK UP GET FUCKED UP.  I'M FUCKED UP RIGHT NOW!\n",
      "['toxic' 'obscene' 'insult']\n",
      "    toxic  severe_toxic  obscene  threat  insult  identity_hate  none\n",
      "51      1             0        1       0       0              0     0\n",
      "\n",
      "\n",
      "Stupid peace of shit stop deleting my stuff asshole go die and fall in a hole go to hell!\n",
      "['toxic' 'obscene' 'insult']\n",
      "    toxic  severe_toxic  obscene  threat  insult  identity_hate  none\n",
      "55      1             1        1       0       1              0     0\n",
      "\n",
      "\n",
      "=Tony Sidaway is obviously a fistfuckee. He loves an arm up his ass.\n",
      "['toxic' 'obscene' 'insult']\n",
      "    toxic  severe_toxic  obscene  threat  insult  identity_hate  none\n",
      "56      1             0        1       0       1              0     0\n",
      "\n",
      "\n",
      "My Band Page's deletion. You thought I was gone. \n",
      "\n",
      "Deleting the comment I posted on your 'talk page' does not delete my feelings for your hasty decision to delete my page. You, sir, are still a cock-sucking douche fuck. Sit back for a second and think about what your life has become. ............ Done? That didn't take long did it? Nope. Because, as I am most certainly aware, your life is a shitstorm of sitting in front of the computer masturbating to fictional creatures. Your attempts to get rid of me are mediocre at best. You are constantly sucking the dick of failure. You don't want a personal attack, huh? Well, too bad, Fuckcock McDickerson. You've got one. From me. You can go ahead and delete my profile from wikipedia. I'll just make another one and come right back to 'Syrthiss's talk page and insult the dick off of you. How could you shatter the dreams of an innocent eighteen year old college freshman trying to make a name for his band. Does that make you happy? Fucking with people because you're an overweight, single, old man in a dead-end job. Did you spot that perhaps someone else was going to follow his dreams and you were trying to hold him back so somebody else could suffer like you? Yes you did. I don't make empty threats, so I won't be saying anything along the lines of 'i'll hurt you' or 'i'll eat the children from within your sister's womb', but I will say that you are a asshole, son-of-a-bitch, mother fucking cock sucker. So, go eat some more food and drown your sorrows you premature ejaculating, bald headed fuck.\n",
      "\n",
      "You should do something nice for yourself, maybe go grab a couple of Horny Goat Weeds from your local convenience store and jack off for a little longer than three minutes tonight.\n",
      "\n",
      "Sincerely,\n",
      "An Asshole That's Better Than You In Every Way.\n",
      "['toxic' 'obscene' 'insult']\n",
      "    toxic  severe_toxic  obscene  threat  insult  identity_hate  none\n",
      "58      1             0        1       0       0              0     0\n",
      "\n",
      "\n"
     ]
    }
   ],
   "source": [
    "for comment in filter_comments:\n",
    "    print(comment,end ='\\n')\n",
    "    print(predict(input_comment))\n",
    "    print(filter_df[filter_df['comment_text'] == comment][filter_labels])\n",
    "    print('\\n')\n",
    "    "
   ]
  },
  {
   "cell_type": "code",
   "execution_count": 337,
   "metadata": {},
   "outputs": [
    {
     "data": {
      "text/html": [
       "<div>\n",
       "<style scoped>\n",
       "    .dataframe tbody tr th:only-of-type {\n",
       "        vertical-align: middle;\n",
       "    }\n",
       "\n",
       "    .dataframe tbody tr th {\n",
       "        vertical-align: top;\n",
       "    }\n",
       "\n",
       "    .dataframe thead th {\n",
       "        text-align: right;\n",
       "    }\n",
       "</style>\n",
       "<table border=\"1\" class=\"dataframe\">\n",
       "  <thead>\n",
       "    <tr style=\"text-align: right;\">\n",
       "      <th></th>\n",
       "      <th>toxic</th>\n",
       "      <th>severe_toxic</th>\n",
       "      <th>obscene</th>\n",
       "      <th>threat</th>\n",
       "      <th>insult</th>\n",
       "      <th>identity_hate</th>\n",
       "      <th>none</th>\n",
       "    </tr>\n",
       "  </thead>\n",
       "  <tbody>\n",
       "    <tr>\n",
       "      <td>58</td>\n",
       "      <td>1</td>\n",
       "      <td>0</td>\n",
       "      <td>1</td>\n",
       "      <td>0</td>\n",
       "      <td>0</td>\n",
       "      <td>0</td>\n",
       "      <td>0</td>\n",
       "    </tr>\n",
       "  </tbody>\n",
       "</table>\n",
       "</div>"
      ],
      "text/plain": [
       "    toxic  severe_toxic  obscene  threat  insult  identity_hate  none\n",
       "58      1             0        1       0       0              0     0"
      ]
     },
     "execution_count": 337,
     "metadata": {},
     "output_type": "execute_result"
    }
   ],
   "source": [
    "filter_df[filter_df['comment_text'] == comment][filter_labels]"
   ]
  },
  {
   "cell_type": "code",
   "execution_count": 67,
   "metadata": {},
   "outputs": [
    {
     "data": {
      "text/plain": [
       "[\":I tried to but it didn't work.\",\n",
       " '==Missing biographical information== \\n Does anybody have information on his later life, how he died, what his last works were, etc? Might be good to add this stuff to the article, considering that it is, after all, a biographical entry',\n",
       " \"::F**k. Sorry. Much to my embarrassment I forgot about this invitation. If you're still interested (and fair enough if you're not), would you like to write something for the next edition? I'm really sorry that I didn't follow up on this, especially as you responded so promptly.\",\n",
       " '\" \\n\\n == Danny Noreiga == \\n\\n That was the proper move. Since you disagree, I\\'ll AfD it. However, I encourage you to follow Wikipedia:Don\\'t template the regulars. I am not a noob.  \"',\n",
       " '\"]] \\n\\n Fine, so \"\"stupid people\"\" is a negative personal remark. I agree. But \"\"crank\"\" , \"\"kook\"\", \"\"crackpot\"\" used against me is also a negative personal remark. You say it is not? Well that violates The Rule of Law, IF that is what you say here? That is a Double Standard in which the rights of dissident thinkers are trod over. \\n\\n ==SIMPLE LITMUS TEST FOR \"\"CRACKPOT\"\" ...== \\n When scientific errors are objectively pointed out with rational detailed argument and explanation, does the subject retract his error? \\n\\n If YES, then the subject is NOT a crackpot, kook, crank etc \\n\\n If NO, then he or she is. \\n\\n By that test I am NOT a \"\"crackpot\"\". Therefore to use such a slur on me is defamation, slander and libel, because it simply is not true. \\n\\n Furthermore, it is illegitimate to say that investigation of UFOs and paranormal, consciousness, and cold fusion ipso-facto makes one into a crackpot. \\n By that criterion Brian Josephson, Nobel Prize in physics, Fellow of the Royal Society, Professor at Cambridge University is also a \"\"crackpot\"\" in the same Ship of Fools with me. Now what is wrong with this picture? \\n\\n Sir Roger Penrose FRS, Professor at Oxford, would also be on board with us by that criterion. \\n\\n [[User:Jack Sarfatti|Jack Sarfatti\"']"
      ]
     },
     "execution_count": 67,
     "metadata": {},
     "output_type": "execute_result"
    }
   ],
   "source": [
    "import random\n",
    "random.sample(list(test['comment_text'].values),5)"
   ]
  },
  {
   "cell_type": "code",
   "execution_count": 65,
   "metadata": {},
   "outputs": [
    {
     "data": {
      "text/plain": [
       "[\"Yo bitch Ja Rule is more succesful then you'll ever be whats up with you and hating you sad mofuckas...i should bitch slap ur pethedic white faces and get you to kiss my ass you guys sicken me. Ja rule is about pride in da music man. dont diss that shit on him. and nothin is wrong bein like tupac he was a brother too...fuckin white boys get things right next time.,\",\n",
       " '== From RfC == \\n\\n The title is fine as it is, IMO.',\n",
       " '\" \\n\\n == Sources == \\n\\n * Zawe Ashton on Lapland —  /  \"',\n",
       " \":If you have a look back at the source, the information I updated was the correct form. I can only guess the source hadn't updated. I shall update the information once again but thank you for your message.\",\n",
       " \"I don't anonymously edit articles at all.\",\n",
       " 'Thank you for understanding. I think very highly of you and would not revert without discussion.',\n",
       " 'Please do not add nonsense to Wikipedia. Such edits are considered vandalism and quickly undone. If you would like to experiment, please use the sandbox instead. Thank you.   -',\n",
       " ':Dear god this site is horrible.',\n",
       " '\" \\n Only a fool can believe in such numbers. \\n The correct number lies between 10 000 to 15 000. \\n Ponder the numbers carefully.  \\n\\n This error will persist for a long time as it continues to reproduce... The latest reproduction I know is from ENCYCLOPÆDIA BRITANNICA ALMANAC 2008 wich states \\n Magnittude: 8.7 (fair enough) \\n victims: 70 000 (today 10 000 to 15 000 is not \"\"a lot\"\" so I guess people just come out with a number that impresses enough, I don\\'t know. But I know this: it\\'s just a shameless lucky number that they throw in the air. \\n GC \\n\\n \"',\n",
       " \"== Double Redirects == \\n\\n When fixing double redirects, don't just blank the outer one, you need edit it to point it to the final target, unless you think it's inappropriate, in which case, it needs to be nominated at WP:RfD\",\n",
       " 'I think its crap that the link to roggenbier is to this article. Somebody that knows how to do things should change it.',\n",
       " '\"::: Somebody will invariably try to add Religion?  Really??  You mean, the way people have invariably kept adding \"\"Religion\"\" to the Samuel Beckett infobox?  And why do you bother bringing up the long-dead completely non-existent \"\"Influences\"\" issue?  You\\'re just flailing, making up crap on the fly. \\n ::: For comparison, the only explicit acknowledgement in the entire Amos Oz article that he is personally Jewish is in the categories!    \\n\\n \"',\n",
       " \", 25 February 2010 (UTC) \\n\\n :::Looking it over, it's clear that  (a banned sockpuppet of ) ignored the consensus (&, fwiw, policy-appropriate) choice to leave the page at Chihuahua (Mexico) and the current page should be returned there. Anyone have the time to fix the incoming links? -  18:24\",\n",
       " '\" \\n\\n It says it right there that it IS a type. The \"\"Type\"\" of institution is needed in this case because there are three levels of SUNY schools: \\n -University Centers and Doctoral Granting Institutions \\n -State Colleges \\n -Community Colleges. \\n\\n It is needed in this case to clarify that UB is a SUNY Center. It says it even in Binghamton University, University at Albany, State University of New York, and Stony Brook University. Stop trying to say it\\'s not because I am totally right in this case.\"',\n",
       " '\" \\n\\n == Before adding a new product to the list, make sure it\\'s relevant == \\n\\n Before adding a new product to the list, make sure it has a wikipedia entry already, \"\"proving\"\" it\\'s relevance and giving the reader the possibility to read more about it. \\n Otherwise it could be subject to deletion. See this article\\'s revision history.\"',\n",
       " '==Current Position== \\n Anyone have confirmation that Sir, Alfred is no longer at the airport and is hospitalised?',\n",
       " 'this other one from 1897',\n",
       " '== Reason for banning throwing == \\n\\n This article needs a section on /why/ throwing is banned. At the moment, to a non-cricket fan, it seems kind of arbitrary.',\n",
       " \":: Wallamoose was changing the cited material to say things the original source did not say. In response to his objections, I modified the article as we went along. I was not just reverting him. I repeatedly asked him to use the talk page. I've been trying to add to the article for a long time.  It's so thin on content. This is wrong.\",\n",
       " '|blocked]] from editing Wikipedia.   |',\n",
       " '==Indefinitely blocked== \\n I have indefinitely blocked this account.',\n",
       " '== Arabs are committing genocide in Iraq, but no protests in Europe. == \\n\\n May Europe also burn in hell.',\n",
       " 'Please stop. If you continue to vandalize Wikipedia, as you did to Homosexuality, you will be blocked from editing.',\n",
       " \"== Energy  == \\n\\n I have edited the introduction, because previously it said that passive transport does not use any kind of energy. This is not true. Passive transport relies on the kinetic energy of the substance that is being transported. This kinetic energy is what causes it to move around and (by random chance) cross the membrane. The difference is that active transport actually uses the cell's energy (ATP or electrochemical gradient) to pump the substance across the membrane.\",\n",
       " ':yeah, thanks for reviving the tradition of pissing all over articles because you want to live out your ethnic essentialism. Why let mere facts get into the way of enjoying that.',\n",
       " \"MLM Software,NBFC software,Non Banking Financial Company,NBFC software company,NBFC software in india,software for banking,Gold loan software.MLM Software  \\n\\n '''SEO Services \\n Search Engine Optimization \\n www.liveindiatech.com \\n\\n According to a recenBold textt survey people have moved away from searching print media for their needs. They use search engines to find the products and services. The first step to have a successful presence over the internet is creating your own website but that is not enough. When someone searches for the products/services that you offer your name needs to be listed high in the search engine.  \\n\\n Live India Tech guarantees you search engine optimization using which your organizations name will feature in the top ten listing in all the search engines. This will ensure that the traffic to your site will increase exponentially aiding you in the sales of more products and services.  \\n\\n We have invested enough resources to develop an SEO system that is far superior to anything else in the market. \\n\\n www.liveindiatech.com\",\n",
       " '@RedSlash, cut it short. If you have sources stating the RoK is sovereign post them. Otherwise please aknowledge WP is not the place to make OR.',\n",
       " '==================== \\n Deception is the way of the Ninja..... \\n\\n Hence, Frank Dux is an amazing Ninja',\n",
       " '. \\n\\n           Jews are not a race because you can only get it from your mother. Your own mention of Ethiopian Jews not testing \\n           as Jews proves it is not, as well as the fact that we accept converts',\n",
       " ':::If Ollie or others think that one list of the oldest people we know about is too long, the easy answer is to raise the cutoff age. 110 is purely a round number and a full 12 years shorter then the record. We can make it the top 1000 or top 500 or everyone above 115 - tell us what the maximum list size is and we can set a threshold.',\n",
       " '\" \\n *Support Per Jimbo and WP:google \"\"Climatic Research Unit email controversy\"\" =4,930 results, \"\"climategate\"\" =3,210,000 results. MFA  \\n\\n  \\n \"',\n",
       " 'Professors to the Manhatten Project.',\n",
       " ':::::I have added more wikilinks to my sections and included more secondary sources as you suggested. For all the citations under human disease section, I went through them and exchanged review articles for the primary sources. Thanks again for all your input!',\n",
       " '\" \\n\\n :Not sure whether this is notable enough to be mentioned in the article, but you\\'re right – versions later than 6 (2001) can open files created by all previous versions, but save files only in its own format, with a suffix of \"\".msX\"\", where X is the version number (7, 8, 9, 10, 11, 12...). This is intentional, of course. Besides, all versions but 7 save files in a compressed format. ☭共产主义万岁★ \"',\n",
       " '일이삼사오육칠팔구하고십이요 에헤헤 으헤 으헤 으허허',\n",
       " \"I've deleted the page , as we have no evidence that you are the person named on that page, and its content goes against Wikipedia's policies for the use of user pages.\",\n",
       " \"== Nation Radio - request for comment == \\n\\n Hi Dravecky, I'm just contacting a couple of editors with more specialist knowledge to resolve a discussion at Talk:Nation Radio about naming a broadcast area. I'd be interested in your feedback. Thanks\",\n",
       " '\"\"\" (per your user page)\"',\n",
       " '\" \\n\\n ==balance== \\n This page has one sentence about the basic definition of the word, and a huge amount about the slang/profane uses. Perhaps the former should be extended; is there no information about female dogs available beyond their name? This is an encyclopaedia, not a dictionary.  \\n\\n  \\n i feel that whoever is looking this definition up is very appropiate and should be deleted from wikipedia...IMMEDIATLY. this word is used very often and is also a very \"\"mean\"\" word. i belive that is majorly true. very much so. okay so, the good meaning is a female dog.  BITCH !!!!!!!!!It also stands for the name Brittany Fellows—Preceding unsigned comment added by   •    \\n\\n ==etymology== \\n The word bitch is from the Old Norse Bikkjuna meaning \"\"female of the dog\"\" of unknown origin, Grimm derives the Old Norse words from Lapp Pittja, But OED notes that \"\"the converse is equally possible.\"\" \\n The adj. Bitchy was first seen in 1925.  \\n The verb meaning to complain in 1930. \\n Slang Bitchen \"\"good\"\" is attested to the 1950\\'s \\n\\n == reclaiming the word bitch == \\n The word bitch is actually only offencive in American and Canadian English. In most other English variants bitch maintains it\\'s correct definition - female canine. People have argued that bitch is different because it is used as an insult - but so is \"\"pig\"\", \"\"dog\"\", \"\"cow\"\" and others. These are not considered profane, so why is bitch? As far as I am concerned, there is nothing to \"\"reclaim\"\" as bitch simply means a female canine. \\n\\n It may be used as a pejorative or descriptor - that does not make it a profanity. \\n\\n    \\n It should definately say something about Kyle Vanderweilen and all his bitchin Is there any particular evidence of women \"\"reclaiming\"\" the word bitch in the 90s? Can anyone point to articles on this, etc.? The song is definitely interesting and belongs here, but doesn\\'t actually reclaim the word \"\"bitch\"\" any more than it reclaims the word \"\"sinner.\"\" \\n\\n Also, I don\\'t really understand the last paragraph and it sucks  I was going to try and clear it up, but I realized I don\\'t know what it means. Can someone point to a source that lays out the argument about bitches, fertility and patriarchy more clearly? \\n\\n \\n\\n :We don\\'t need articles at all as I there are definitely enough examples (even outside of the 90s). Missy Elliot cleary and repeatedly reclaims the word, for instance, \"\"She\\'s a Bitch\"\".   \\n\\n ::References are fine  just the name \"\"Missy Elliot\"\" got me to find a quote of a rolling stone review that mentioned \"\"reclaiming\"\" the word. In fact, if some one knows more about her, it might be interesting to add a section on her work and on how it relates to women/slurs more generally within hip-hop.   \\n\\n :::How relevant is this reclamation? It seems to me poison for a woman to use an epithet which still strongly connotes despised traits. I don\\'t see how using a word connoting \"\"querolous\"\", \"\"spiteful\"\", and \"\"malicious\"\" can be empowering. But I don\\'t know; life\\'s a bitch.   \\n\\n ::::It stems from a reaction to the prevalence of tagging any woman who doesn\\'t adhere to a certain standard of femininity as a bitch. To use a literary example, in the novel The Handmaid\\'s Tale the narrator related the feeling that, whenever she outsmarted a man, she could almost hear him calling her a bitch in his mind, even her own husband. -   \\n\\n :::::That literary reaction you recited is jealousy; men have names for other men who outsmart them too, but, not having a word like \"\"bitch\"\" for them, they have to resort to a greater variety of pejoritive epithets. Though you haven\\'t been specific, I think that standard of femininity you referred to is a pretext for subordination, which both sexes often strive to impose on the other, but men have traditionally had more power. Because it is such a popular epithet in slang, the connotations of \"\"bitch\"\" are diffuse, though still commonly pernicious. I think bitch, in itself, is not chiefly a denunciation to punish women who do not conform to that standard, but rather a contemptuous word often used for it. \\n\\n :::::However, I still don\\'t see the point of reclamati',\n",
       " '\" \\n\\n *@EdJohnston. Your question was about figures in summary. Here are a few points about this. \\n #Yes, the number of victims is important in an article about political repression. Therefore, the number (or a range of numbers) should be provided in the introduction. \\n #The numbers of people \"\"killed\"\" and the number of people \"\"who died as a result of Communist policies\"\" are different. The second number is significantly greater: it is more than 60 million (rather than 20 million) in the Soviet Union alone according to The Guinness Book of Records. \\n #I did not see any estimates of the number of people killed by all Communist regimes except \"\"Black book\"\", which qualifies as a secondary RS written by a group of European historians. It tells exactly this: \"\"100 million people killed by all Communist regimes\"\". They note that the number is approximate, which also should be noted in the introduction. If there are any other secondary RS that tell \"\"N million people killed by all Communist regimes\"\", they must be also used to obtain a range of numbers. \\n #As a side note to others, it is grossly inappropriate to discuss sanctions at article talk pages. If you think that sanctions are needed, please go to appropriate administrative noticeboards and report your concerns there.   \"',\n",
       " 'REDIRECT Talk:Mi Vida Eres Tú',\n",
       " '\" \\n I\\'m not convinced that he was blind. Where is this documented? It\\'s possible that he was just what we\\'d call \"\"Legally blind\"\" ie didn\\'t have great vision, and that the name \"\"Blind Blake\"\" is an exaggerated moniker. Although I have no proof I\\'ve got a feeling that him being legally blind is more likely than totally blind. Of course I\\'ve got no evidence to back that thing up.\"',\n",
       " '== Thanks for the Barnstar! == \\n\\n Thank you for awarding me with the RickK Anti-Vandilism Barnstar!',\n",
       " '\" \\n\\n == Ref: SS Ponzi Scheme == \\n\\n Hi Padillah, \\n It is not my opinion that I am trying to impose here, although it may appear to be so. I am just highlighting the fact that it remains controversial whether it is or isn\\'t a Ponzi Scheme (even if a legal one), so you cannot state as a fact that it is not a Ponzi Scheme (I saw the reference, and the perpetrator itself cannot be treated as a \"\"reliable source\"\"). In fact, claiming it is not a Ponzi Scheme seems to be an opinion in itself. My point is that a claim should not be made either way, and the edit in question just accomplishes that.  \\n Thank you, \\n Virat\"',\n",
       " '\" \\n\\n Look, Gerry Spence has NOT \"\"never lost a case, criminal or civil.\"\" That is simply untrue. He prevailed in two cases about which he wrote books (Silkwood and the Miss Wyoming vs. Penthouse cases). He won both massively at trial, and both were completely overturned. In 1985 he represented then-15 year old Michael Jones charged with murder as a juvenile. In Oregon the trial was a criminal trial in EVERY sense except that the juvenile neither received a jury (which Spence argued at the time he was entitled to) and the sentencing authority then ended at age 21. Chief Justice Alex Kozinski of the 9Th U.S. Circuit court mentions the arrogance of trial lawyers who claim to \"\"never have lost a cast.\"\"   \"\"n19. There\\'s one famous exception: Gerry Spence, at least to hear him tell it. See Gerry Spence, Gunning for Justice 47 (1982). But see Sherrie F. Nachman, True Lies, Starring Gerry Spence, Am. Law., Sept. 1994, at 13 (disputing Spence\\'s claim made in Gunning for Justice and widely reported by the media, and quoting one victorious Spence adversary, \"\"It\\'s a lie.\"\").\"\"\"',\n",
       " '== September 20th Truce == \\n\\n According to several news sources, a truce was reached in Minsk last night. http://www.bbc.com/news/world-europe-29290246',\n",
       " \"I'd never think I'd need to say it, but Wikipedia isn't a fansite discussion board. If anything is unannounced by any authority, it might as well be false. MMORPGs are overrated,\",\n",
       " 'But this is not the article about government position but about the reaction. Add positions to 2008 Kosovo declaration of independence or Foreign relations of Kosovo.',\n",
       " 'DJ Robinson is gay as hell! he sucks his dick so much!!!!!',\n",
       " \"== Dracula's Grandmother == \\n\\n  \\n Dracula's grandmother was a Bulgarian princess, the sister of Ivan Sratzimir. The links with the lands across the Danube remain largely unexamined. I would appreciate any serious contributions. \\n (Kaloyan)\",\n",
       " 'I have been perfectly civil in what quite clearly idiotic trolling.',\n",
       " \"*I agree with Billfruge. The author describes the unverifiable nature of the two competing etymology theories sufficiently well so as not to mislead any reader, renders an opinion as to which of the two is more likely (and it is clear that this is the author's opinion), and presents the reader with the opportunity to accept either or neither of the two.\",\n",
       " \"==Category:Italian Jews== \\n\\n :Category:Italian Jews, which you created, has been nominated for possible deletion, merging, or renaming. If you would like to participate in the discussion, you are invited to add your comments at the category's entry on the Categories for discussion page. Thank you.\",\n",
       " '== Someday Never == \\n\\n Why was the image deleted? Were there copyright issues?',\n",
       " '\", 5 December 2012 (UTC) \\n\\n :::The above is, to the best of my knowledge, an accurate disposition of the facts.  The only personal opinion I offered appeared in the last sentence: \"\"Systems of institutionalized racism always result in injustice, and backlash is a predictable result.\"\"  Have noted it as such. \\n\\n :::I think it is inaccurate to say that \"\"white privilege\"\" and \"\"white supremacy\"\" are interchangable terms.  In fact the usefulness of \"\"white privilege\"\" as a concept may be rooted in the \"\"invisible, weightless knapsack\"\" analogythose who would never entertain white supremacist ideology may still benefit from some degreee of \"\"white privilege.\"\"   17:40\"',\n",
       " '\":I see that you moved  to Talat Hamdani. Perhaps you had not read the MfD notice on the page, which says \"\"please do not blank, merge, or move it, or remove this notice, while the discussion is in progress\"\". (My emphasis.)    \\n\\n \"',\n",
       " 'I WILL BURN YOU TO HELL IF YOU REVOKE MY TALK PAGE ACCESS!!!!!!!!!!!!!',\n",
       " '== Hebrean-Judeo-Christian == \\n\\n What is Hebrean-Judeo-Christian) supposed to mean?',\n",
       " \"== Can you work your magic? == \\n\\n Hi.  I was wondring if you had time to help out with Wikipedia:Featured article candidates/W. E. B. Du Bois/archive1.  Any input would be appreciated:  a quick scan or a full review.  I've noticed your work before and I respect your skills. Thanks.\",\n",
       " ':Fuck off, you anti-semitic cunt.  |',\n",
       " 'Puwersa ng Masa!',\n",
       " '\"== Quidam Software == \\n\\n Hello Stifle, \\n\\n I understand why you erased the article about Quidam Software. It was too short, without references etc. But actually it is my first article on wikipedia and I don\\'t know how to ask that the article is \"\"under construction\"\". Can you let me know please? \\n\\n Thanks for your help.—Preceding unsigned comment added by   •   \\n :Thanks for your message and welcome to Wikipedia. Please sign your messages by typing ~~~~ at the end. \\n :Quidam software was deleted under the criteria for speedy deletion, specifically number 1 under Articles, as it was a short article with little or no context. \\n :Articles on Wikipedia should generally be more than a single sentence long and need to include citations from reliable sources to comply with the verifiability policy. \\n :You shouldn\\'t put an article up before you\\'ve got these added, but if you want to work on an article for a while, you can create a user subpage and work on the article there, before moving it to the desired article title when it\\'s ready. \\n :I hope that this experience hasn\\'t put you off and that you enjoy being a Wikipedian. If you require further help using Wikipedia, please place a message on Wikipedia:Help desk or just put  and a message on your talk page and someone will show up shortly to help.   \"',\n",
       " '\" \\n :There are now four references, including Britannica, giving the correct date, which is getting silly. You complain in your edit summary that you can\\'t find them, so I\\'ve added quotes to two, to help you out. After that you\\'re on your own: WP:SOURCEACCESS has more on this. I\\'m happy to concede that Britannica, alone, mentions the date you offer (but without explaining the context), so that\\'s one of the sources I\\'ve expanded with a quote specifically mentioning 23 August.  \\n\\n :Russian Wikipedia has: \"\"23 августа силы 14-го танкового корпуса армии Паулюса вышли к Волге севернее Сталинграда\"\"  (\"\"August 23 forces of the 14th Tank Corps, Army [of] Paulus, reached the Volga north of Stalingrad\"\"), cited from the war diary of Colonel-General Franz Haider.  \\n\\n :  \"',\n",
       " 'Her body is perfect. Face, boobs, hips, all of it.',\n",
       " ':::::I am simply relating that the research and professional organizations are essentially unanimous in indicating that these laws are not having the intended effects, and that they may even be making the problem worse. You are entitled to your opinion, of course, but your comment is making me concerned about your ability to keep your biases out of your edits.',\n",
       " \"REDIRECT Talk:Kemp's thicket rat\",\n",
       " '\" \\n :::::See above section titled \"\"Finsbury Park Mosque and Islamic hatred.\"\" Lestrade\"',\n",
       " 'um, taking a shot here... Um lets say Three separate people whos wills are to each other.',\n",
       " '\" \\n ::Use of \"\"assisted suicide\"\" to refer to aid in dying is inaccurate in fourth distinctive ways. First, it was coined by Catholic activists disputing Oregon\\'s Measure 16 in 1994 - so it carries a political bias. Second, the laws in Oregon, Washington and Vermont each do not contain the term \"\"assisted suicide\"\" but use aid in dying. Third, assisting a suicide remains illegal in all three states - and also Montana and New Mexico. No state attorney general or county district attorney has charged any physician or pharmacist who acted within the aid in dying laws of the three states. Finally, describing people who use aid in dying, such as Brittany Maynard, suicides grossly misrepresents their experience and devalues both their lives and deaths. Continued usage of the biased and inaccurate term should be amended throughout Wikipedia.   \"',\n",
       " 'See also . . . http://arxiv.org/abs/hep-ph/0009204',\n",
       " '== Hello == \\n\\n Fuck off my Pagan you bareback mancunt pig slut.',\n",
       " \"== Must be said  == \\n\\n You are by far the most disrespectful, malicious, destructive user in all of Wikipedia. It's people like you, who abuse their power, that make this site Defunct or obsolete\",\n",
       " \"May 2010  \\n  Please stop. If you continue to delete or edit legitimate talk page comments, as you did at Talk:Deepwater Horizon oil spill, you may be blocked for vandalism.      \\n :If this is a shared IP address, and you didn't make the edit, consider creating an account for yourself so you can avoid further irrelevant notices.\",\n",
       " '== BrandonYusofToropov has requested mediation over a conflict with you == \\n\\n Ed, [User:BrandonYusofToropov|BrandonYusofToropov] has requested mediation over a conflict with you. I am willing to mediate the dispute. Do you accept? If so, please end me an email at pgunn@dachte.org.',\n",
       " '\" August 2006 (UTC) \\n\\n :::::A simple \"\"you\\'re wrong\"\" would have sufficed.No need to try and make me look like an idiot 13:01, 10\"',\n",
       " '\" \\n :That is ridiculous. Unless there\\'s a good and non-disingenuous response, I would absolutely agree with you blocking indef outright. Falsifying sources should simply never be tolerated. //  \"',\n",
       " \"How dare you vandalize that page about the HMS Beagle! Don't vandalize again, demon!\",\n",
       " '\"I moved this from \"\"Quebec diaspora\"\" to this title because disapora is a description applicable only to Jews.  \"',\n",
       " 'knock it off you bloody CWI trot',\n",
       " 'aapn bhtla aanand jhala..',\n",
       " '\" \\n *** Not via archive.org, but I can and have read the petition myself, online.  It\\'s a primary source (meaning, a letter from you, the subject, not a secondary source), and even if not blacklisted, can\\'t really be used, but I\\'ve entered some followup questions to admins to get more feedback.  (I know the whole story it\\'s a question of what we can include on Wiki, per WP:V and WP:RS.) We do have text mentioning the petition from The Guardian, cited in the article now.    \"',\n",
       " '::No, he is an arrogant, self serving, immature idiot. Get it right.',\n",
       " '== Continued Vandalism == \\n\\n This user continues to vandalize articles. It should be blocked from editing.',\n",
       " '\" \\n\\n ==Proornis== \\n\\n Thank you for adding an entry for Proornis on wikipedia. I have added a bit more info and correct some of your edits: \\n * try to use the Taxobox in a correct manner. In your case you added dromaesauridae as a family of archaeornithiformes and there was no mention of the genus and species. \\n * don\\'t overcategorized your article. Proornis to my knowledge is considered a basal bird and do not really fit in the dinosaur or coelurosaur categories.  \\n * add references whenever possible \\n * start an article by defining the subject. For instance: \"\"Proornis\"\" is an extinct genus of bird discovered in North Korea. \\n I hope you will be able to follow these guidelines when you will be creating a new article. If you need help, let me know.  \"',\n",
       " \"::ICES could hardly be labelled as a very obviously pro seal hunting organization. The scientific base of seal management is the responsibility of ICES, covered out by the most prominent seal researchers in the world. I would guess even you accept that as a NPOV. \\n ::Nevertheless I appreciate your new strategy of adding information even though I still find it rather biased. Your Canadian focus makes you forget that the Atlantic cod is more than the weak North-West Atlantic cod stock. I intend to make a few corrections if you don't mind. But don't worry, I will not delete sections (like you just did). I will however ask you to be a little bit more reserved using the very touchy term vandalism when people edit articles.\",\n",
       " \"*:That's not a very good reason not to move it, though. People don't use 'color' in the UK either, do they? Keeping it at Cor anglais is right per ENGVAR, however.\",\n",
       " '\":::If you email me I\\'ll reply with a copy of the Pignotti pdf.  It\\'s not at all controversial that EFT show more of an effect than some treatments in some conditions.  The problem is that EFT doesn\\'t show more of an effect than talking and tapping your arm or talking and tapping a doll.   \\n\\n :::Second, I think you\\'re not being quite forthright when you describe the accupressure citations as \"\"controvert[ing] this conclusion\"\".  In fact, you removed the last two and silently changed the other two.  If you want to change text that someone has already responded to, please use  and <\\\\s>, like this, so it doesn\\'t look like you\\'re being sneaky.  This also looks like you\\'re throwing in every citation you can find without reading or understanding them, hoping something will stick.  If you recall, I asked for one pdf and we\\'re now at numbers 16 and 17 and you\\'re just now learning what the issues are.  And, after taking a look, neither one of your new studies has anything to do with establishing the existence of \"\"energy systems in the body\"\". \\n\\n :::I\\'m not sure what to say at this point.  The most charitable interpretation I can come up with is that you\\'re not reading what you\\'re citing:  you\\'re either cutting and pasting from google or some other source.  Alternatively you\\'re reading all of these papers but have no understanding as to what they contain.  Either way, you might want to consider editing articles that better play to your strengths. \\n\\n :::As to Feinstein\\'s rejoinder:  it\\'s available here.  This is an excellent lesson in tapdancing: \\n\\n ::::[The studies he found] lend[] support for the efficacy  of tapping while mentally attuning to an emotional difficulty. Despite the design flaws found in some of the  studies, the preponderance of evidence shows energy psychology interventions to be efficacious. \\n\\n :::The first sentence is true, but he neglects to explain why arm-tapping and doll-tapping have equal efficacy.  The second sentence equates talking and tapping with \"\"energy psychology\"\" which has the additional baggage of energy fields that can evidently migrate to arms and dolls.   \\n\\n :::So after 18 citations what we have is the suggestion that a particular kind of talking associated with some sort of physical ritual can be more helpful than other treatments in some situations.  I would be comfortable including the two Feinstein reviews if the shortcomings pointed out in Pignotti are highlighted, and I think Waite (2003) deserves a paragraph.  I don\\'t see an argument for including any of these other citations.  If you want to make such an argument, please be sure to read the citation first and be able to summarize how the citation supports the point you want to make.    \\n\\n \"',\n",
       " '\" \\n\\n You wrote: \\n\\n You will need to cite reliable sources for the assertions \"\"far too large to be chemical\"\" and \"\"no endothermic storage events\"\". I do not think any source can conclusively estabish either point . . . \\n\\n It is very easy to establish both points, and there are hundreds of papers with proof of them. \\n\\n 1. The limits of chemical storage (electron bonds) are well understood. The most energy dense chemicals, such as gasoline, store 4 to 8 eV per atom. Cold fusion reactions have often produced far more than this, ranging from ~100 to ~100,000 eV per atom of the material in the cell, and in all cases there is no chemical fuel before the reaction, and no chemical ash after it finishes. Cell with a few grams of inert material in them have produced hundreds of megajoules of heat  as much as several kilograms of gasoline. if you were to burn the cell contents, they would produce only a tiny fraction of the heat. In fact, you could burn the cell, the table, and all books in the room and still get that much chemical energy. Therefore, chemistry is ruled out. \\n\\n 2. Any calorimeter can measure an endothermic event as accurately as it measures an exothermic event. For example, all calorimeters used in these studies show the endothermic formation of Pd-D at the beginning of the experiment. Since the calorimeters shows the exothermic excess heat, they would also show the endothermic storage that proceeds it. They have never done this. The heat balance is always zero before the heat bursts, and after. \\n\\n - Jed Rothwell \\n\\n  \\n HERE IS more useful information that someone keeps erasing: \\n\\n Please note that Cal Tech (Lewis et al.) is a false negative, as pointed out by Noninski, Miles and Fleischmann. This is described in several papers, for example this one, p. 20: \\n\\n http://lenr-canr.org/acrobat/MilesMisoperibol.pdf \\n\\n Also, the name is Julian Schwinger (with ch). See: \\n\\n http://lenr-canr.org/acrobat/SchwingerJcoldfusiona.pdf \\n\\n - Jed Rothwell, Librarian, LENR-CANR.org\"',\n",
       " \"==Image copyright problem with Image:ATT2066652.jpg== \\n \\n Thanks for uploading Image:ATT2066652.jpg. However, the image may soon be deleted unless we can determine the copyright holder and copyright status. The Wikimedia Foundation is very careful about the images included in Wikipedia because of copyright law (see Wikipedia's Copyright policy). \\n\\n The copyright holder is usually the creator, the creator's employer, or the last person who was transferred ownership rights. Copyright information on images is signified using copyright templates. The three basic license types on Wikipedia are open content, public domain, and fair use. Find the appropriate template in Wikipedia:Image copyright tags and place it on the image page like this: {{TemplateName}}. \\n\\n Please signify the copyright information on any other images you have uploaded or will upload. Remember that images without this important information can be deleted by an administrator. If you have any questions, feel free to contact me, or ask them at the Media copyright questions page. Thank you.\",\n",
       " ':Thanks for the comment about Wiki-defenderness. I like that one. I usually wikiling Wiki-defender. I agree that at first he was somewhat innocent but now have my doubts as he is being really agressive about the whole matter.',\n",
       " \"Can't figure out why he redshirted. No sources. ///WP:CHICAGO/WP:FOUR)   \\n *\",\n",
       " '\" \\n\\n * You used the word \"\"saloon\"\" to describe the car. In American English, a saloon is like a bar or pub, so I believed it to vandalism. I now understand that saloon in British English is a sedan-like car. Feel free to re-edit the article to include the information, although I would suggest citing (WP:REF) the article supporting your acceleration stats. Cheers.  \"',\n",
       " \"::You're funny.  Ugly?  We're dudes on computers, moron.  You are quite astonishingly stupid.\",\n",
       " \"It might not have been your intention, but your recent edit removed content from . Please be careful not to remove content from Wikipedia without a valid reason, which you should specify in the edit summary or on the article's talk page. Take a look at our welcome page to learn more about contributing to this encyclopedia. Thank you.  A link to the edit I have reverted can be found here: link. If you believe this edit should not have been reverted, please contact me.  ||Suggestions?\",\n",
       " \"Agree, but that's not the issue. The queston is, in everyday English, does first amendent refer primarily to the US Constitution, or is it ambiguous? My belief remains that even fifth amendment is ambiguous, and first amendment even more so.     \\n *\",\n",
       " '\" \\n\\n == Main towns that are not so main == \\n\\n I know that you love to write a one sentence article. But, if you want to do that, please, at least do it properly. Stop saying \"\"X is a main town in Y, Z\"\". What is so main about obscure towns?   \"',\n",
       " '\" \\n\\n  my comments follow, bluewillow991967 - \\n\\n I\\'m sorry if I wasn\\'t sufficiently clear.  \\n\\n On the specific subject of \"\"first serial\"\" versus \"\"reprints\"\" I have an interest because I write commercial fiction for a living. \\n\\n I\\'m not saying a contract would contain a \"\"non-standard definition\"\" of first serial, original, or reprint. \\n\\n I\\'m saying that you quite clearly do not understand the *standard* definitions in publishing commercial fiction of first serial, original, and reprint. \\n\\n \"\"Is\"\" means the same thing in plain English as it does in intellectual property terminology. \"\"Reprint,\"\" \"\"original\"\" and \"\"first serial\"\" mean much more specific things in intellectual property terminology than they do in colloquial English. \\n\\n It may well be suitable to call a female crotch a vagina in a personal blog, but in an encyclopedia article talking about female genitalia, it matters that the colloquially used term is factually incorrect and the correct terminology should be used. If the correct terminology would be confusing to readers, then a hyperlink to a correct definition may be in order. \\n\\n You are, by analogy, effectively insisting that a set of labia is a vagina. \\n\\n (Sorry, clearest example I could think of where the commonly accepted vernacular term shouldn\\'t be used in an encyclopedia article because it\\'s wrong.) \\n\\n   \"',\n",
       " '\" \\n\\n == Halliday == \\n\\n Good to see another contributor to his article. If SFL is your thing, you might consider joining the Wikipedia:WikiProject_Linguistics/SFLSFL taskforce. Thanks.   \"',\n",
       " '\" \\n ::: That Stephen Barrett is not Board Certified is not a viewpoint. It is a fact (a well documented one at that). I don\\'t see how WP:PROMINENCE applies.    \"',\n",
       " 'Stone Sour sucks anus',\n",
       " ':Could you do a precis of the material instead of just downloading a whole lot of stuff from somewhere else on the internet? I am only one editor here, but I do feel that the material you have provided could be cut down to fit the format of this article. More info could be provided in a seperate wikipedia article if necessary.',\n",
       " \"Please stop. If you continue to vandalize Wikipedia, as you did to Kmart, you will be blocked from editing.    \\n :If this is a shared IP address, and you didn't make any unconstructive edits, consider creating an account for yourself so you can avoid further irrelevant warnings.\",\n",
       " 'I was merely apologising for my interference ;)',\n",
       " \"::::Uhm people, just a short reality check. Question: we have verified that 90% of what this article is based on is bogus, entered by sockpuppets, targetted to dupe casual visitors into believing that this individual is important. Based on this evidence, why do you continue to invest countless hours to find info about a bogus fraudster? Do you really think your time is well invested here? I really don't get it, by know, many of you must have invested more hours to debunk and enhance the article that original sockpuppeteer has invested himself. Do you really think that your time and work is worth it? Do you really think that working on such a small, unimportant article in the big picture is worth your time? I'm not flaming or cursing, I'm genuinely interested what inner fire you girls and guys still keep on going with this article. Don't you just have had - enough? Your time must be in the dozens of hours already - for those few lines? Is that worth it? Aren't there other article that deserve more attention? Like I said, I'm curious why you guys don't think your time can be invested into something else with more value? Do you really think that your work is invested well here? As I said, I am really interested in your answers, not flaming or anything.\",\n",
       " '\" \\n\\n == CatDiffuse == \\n\\n I think the best idea would be to check its whatlinkshere every now and then and make sure the tag only shows up in cats where it\\'s appropriate. Frankly I don\\'t think there\\'s much point to the tag since most people don\\'t read cat pages, just cat contents.  \"',\n",
       " '\" \\n\\n == Cloud feedback == \\n\\n Why is cloud feedback only under the positive feedbacks? Just about any paper states that it can be both. That the IPCC states that it is \"\"more likely a positive than a negative feedback\"\" doesn\\'t change that.   \"',\n",
       " \"Avg, plenty of Greeks love the King. Stop acting like all Greeks hate him. You just parrot what the government tells us via their 'media.' We Greeks asked George I to be our King. We supported them. They reclaimed much of our lands. We voted to keep them numerous times. In the 1930's by 97% vote! \\n Also, he tried to overthrow the dictators. Read a book. The Greek government is the biggest liars. The US didn't want us to have our King and our claim to Constantinople/Asia Minor. He is a direct descendant of five Greek imperial (Byzantine) dynasties (Monomachos, Comnenos, Laskaris, Angelos, and Paleologos).\",\n",
       " '== Roman general Agricola and the Battle of Mons Graupius == \\n\\n In the Total war#Early History section, it claims that the Ancient Romans practiced total war in Caledonia (now Scotland). However, neither Gnaeus Julius Agricola nor Battle of Mons Graupius confirm or even address these claims of noncombatants being killed.    |',\n",
       " \"This is a REDIRECT discussion page. Please do not leave article related discussion here.  Please go to the article's discussion page.\",\n",
       " \"* Maybe you should have a read of that one too. Since I've decided to assist with articles on wikipedia, you have made the experience nothing but hell you piece of shit. Pull your finger out of your bureaucratic arse and rot in hell.\",\n",
       " \"== Second issue == \\n\\n I'm thinking we need a taxonomy section; there are things that aren't really as clear as they maybe could be. Why is/what specific findings about the fossils places R. narmadensis in the subfamily Carnotaurinae? Why 'princely lizard of the Narmada'; is that significant as to the stature/behavior/predatorial prowess of R. narmadensis? If there is anything more precise on its taxonomy, such as that, it would be great to add.\",\n",
       " '\" \\n\\n == Hey man == \\n\\n  \\n I saw you removing all the fair use images from Jimi Hendrix discography. It\\'s a bitch to do it, but good job doing the right thing. Right now I\\'m going through a lot of artist and discography pages looking for album covers to get rid of and other bad images. You got my back. Keep up the good work.++++ \"',\n",
       " \": But there's only one EP and one album, which is really also an EP. Even in the 70s, it would have been considered an EP, although it could have been considered an album by length in the 50s or the 60s. This is my point. They don't have two full-length albums.\",\n",
       " '\" \\n :Hi Olly, by moderator do you mean administrator?  There all no official requirements needed to become an administrator, however, the Wikipedia community must decide in favor of your request in order to be granted the rights.  Therefore, in order to have a successful request, you must show experience and trustworthiness throughout your edits over a period of time. This period of time has not set length, but more experience is favored over less.  I hope this helps, \\xa0 \"',\n",
       " 'পরিচয়   \\n\\n নাম-মোঃফরহাদ ইসলাম \\n পিতা-মোঃ শাহজাহান মিয়া \\n মাতা-মোছাঃফাহিমা বেগম \\n গ্রামঃ জানকিপুর সলই মন্ডল পাড়া \\n ইউনিয়নঃনিলাখিয়া \\n উপজেলাঃবকশীগঞ্জ \\n জেলাঃজামালপুর  \\n বিভাগঃঢাকা \\n\\n  \\n     ।।।।।।।।।।।।।।। \\n\\n  \\n\\n আমি ১৯৯৭ সালের ২০.জানুয়ারি আমার নানার বাড়িতে জন্মগ্রহণ করি। ২০০০ সালে নিজ গ্রামের স্কুলে ভর্তি হয় এবং ওই স্কুল থেকেই প্রাইমারি লেবেল শেষ করি।২০০৬ সালে ভর্তি নিজ ইউনিয়নের নিলাখিয়া আর জে পাইলট উচ্চ বিদ্যালয়ে ৬ষ্ঠ শ্রেনীতে এবং সেখানে ক্লাস এইট পর্যন্ত পড়ি।। পরে ভর্তি হই বকশীগঞ্জ টি.ভি.আই  এ সেখান থেকে ২০১২ সালে এস এস সি পাশ করি।তার পর টেক্সটাইল এ ডিপ্লোমা করার জন্য ভর্তি হলাম শহীদ আব্দুর রব সেরনিয়াবাত টেক্সটাইল ইঞ্জিনিয়ারিং কলেজ,বরিশাল। বর্তমানে আমি এই কলেজে ৬ষ্ঠ সেমিস্টার এর এক জন ছাত্র।।',\n",
       " \"== scholarly corroboration of folklore == \\n\\n My understanding is that folklore can provide clues to history, medicine, and other areas of scholarship that can be verified, in part, through archaeology, biology, and so on, but I don't have any sources handy or for which I recall titles. If anyone does, please add a section to the article about scholarly confirmation. \\n\\n We could do the same for disconfirmation, but there's plenty on that in many places, usually in the form of debunking based on a lack of scientific evidence, which is a weaker standard than positive evidence. \\n\\n Thanks.\",\n",
       " '==Redirects== \\n トレイン・トレイン, トレイン トレイン, トレイントレイン, トレイン-トレイン, トレイン+トレイン, トレイン*トレイン, トレイン, トレイン, トレィン☆トレィン, Torein・Torein, Torein Torein, Torein-Torein, Torein+Torein, Torein*Torein, Torein, Torein, Torein☆Torein, Train・Train, Train☆Train, トレイン—トレイン, Torein—Torein, Train—Train, トレイン–トレイン, Torein–Torein, Train–Train \\n\\n should redirect here',\n",
       " '\"::I respect your point of view, and when this discussion originated on 8th April I would have tended to agree with you. However today this is now being mentioned by multiple expert sources. The opinion of F1 driver Pastor Maldonado is \"\"The rules are the same for everyone, so you need to avoid incidents ... But at the same time [the threat of penalties means] you cannot race, you need to only stay on track and wait for problems.\"\" (original article is behind paywall on Autosport). This issue was also discussed and recognized by expert commentators during Sky Sports F1 Chinese GP Free Practice 1. I will be adding this section back to the article with appropriate references.    \\n\\n \"',\n",
       " 'i would like to take a moment of my time to apologize for leaving my workstation long enough for an idiot to use my IP to be an idiot... it wont happen again, i promise. im sure he meant this hyde, who, as it turns out, is male. he has been explained to why that was vandalism, and why obsessing over Jrock is silly.',\n",
       " 'السلام عليكم و رحمة الله و بركاته الا الجميع \\n تفضلوا جميعا',\n",
       " '\"   \\n\\n ::::::::::::::Another priceless gem from yourself demonstrating your general cluelessness: ,\"\"The fuse rating (and therefore the plug rating in the case of a non-rewireable plug) is determined by the cable attached, not the appliance it will be used with.\"\". Where on earth did you dig that nonsense up from? There are plenty of good examples around, but medium to large switch mode power supplies are often supplied with nominally 3 Amp cable in a moulded on plug, many with an IEC 60320 C7 type plug (rated by that standard at 2.5 Amps). According to you, the plug should therefore be fitted with a 3 Amp fuse (determined by the cable). If you did so, you would never get any but the smallest power supplies running. You have to fit a 5 Amp fuse because the very large >40 Amp momentary inrush current lasts long enough that it will blow a 3 Amp fuse. The cable and plug can retain their original ratings because the inrush current will not harm them. The rating of the fuse is determined by much much more than the cable size alone. Indeed, the type of power supply that is built into a plug usually has no fuse at all!   17:17\"',\n",
       " '\"This is just bizarre. Ani Medjool\\'s abuse of wikipedia rules gets rewarded, and then he awards you a barnstar.  WTF?  Anyhow a new person, adept at ridicule, has joined in the conversation at falafel.  Sigh...   \\n\\n \"',\n",
       " \":::They're good enough that they can no longer be considered for speedy deletion. The rationales are acceptable; the actual use may still be an issue needing review, and that I would take to FFD if necessary.\",\n",
       " '\" \\n\\n :Understandable. I\\'ve had a lot of problems with him in the past, too, particularly in regard to copyright violations and, more recently, grammar and style. But, as far as this issue goes: What, do you just want me to block both of you for 24 hours? — \\'\\'\\'\\'\\'\\'  \"',\n",
       " '\" \\n\\n Firstly still making undiffable edits and refusing to use edit summaries is becoming a behavioural issue that will need to be escalated if it doesn\\'t stop. Gun, I really don\\'t understand why you find it so hard to follow the basic standards of behaviour required to edit in a collaborative environment. \\n\\n Secondly, \"\"announcing\"\" changes on someone\\'s talk page doesn\\'t really count as discussing them collaboratively, rather it means you discussed it with me. \\n\\n Furthermore I told you to go to the NPOV noticeboard to raise the State University vs University issue if you wanted to discuss the issue, which you a) failed to do, b) you removed the disputed tag from the article without a result (as I suggested waiting until later), c) you made yet another diff which contained a large number of other unknown, unknowable and undisucssed changes to the article.   <> \"',\n",
       " '\" \\n\\n ==Name in the introductory paragraph== \\n I\\'ve always been told that using \"\"Dr.\"\" & \"\"Ph.D.\"\" in the same name was incorrect, as the Ph.D. automatically conferred the status of doctor.   However, I\\'m not sure what to do in this case.  Since he is so well-known as \"\"Dr. Martin Luther King, Jr.,\"\" the normal approach of dropping \"\"Dr.\"\" and keeping \"\"Ph.D.\"\" doesn\\'t seem to be the best answer, even though it\\'s the one most style guides seem to endorse.  Would someone more intimately familliar with the article like to take a swing at changing it, or suggesting an alternative?   \"',\n",
       " 'to fuck you and ur family',\n",
       " \"== Mrpainkiller, Neurophyte and Jean-Philippe == \\n\\n After a complaint at intervention against vandalism, I protected the article VampireFreaks.com.  It was either that, or block all of you for disruption and personal attacks.  I will unprotect the article in the morning.  In the meantime, please consider the following: \\n *Reverting another user's talk page is pretty rude.  There is a policy conflict between the user talk page policy, which says users can blank or archive warnings (although archiving is preferred by the community) and the vandalism policy, which says that removing warnings given to you is vandalism.  I don't agree with the vandalism point of view, and I haven't seen a lot of support for it lately except among people who are fighting amongst themselves for other reasons.  If someone deletes a warning they've obviously seen it.  If you are concerned about someone's edits, use a verbose edit summary so that even if the warning is removed the edit summary will be visible. \\n *I understand there is a view among two of you that Mrpainkiller7's edits are detrimental to the article.  There are lots of right ways to deal with this, including editing by consensus, Request for comment on the article or the user, Mediation, and third opinion.  I'm not going to judge the content, but fighting (wherever it occurs) is the wrong way to deal with the problem. \\n *Personal attacks are not to be tolerated.  Please deal with the content of edits, not character.  \\n\\n I'm leaving this message with each of you.  If you keep fighting over talk pages, I suppose I or another admin will eventually figure it's time to block someone.  Unless you are positive that you are 100% right and the other guy is 100% wrong, you should probably try and work this out peacefully in case the admins don't see things your way.\",\n",
       " '== hrthrtdghrsdtghtrsdhtrhdgthjrtgh == \\n\\n fffffffffffffffffffffffffffffffffffffffffffffffffffffffffffffffffffffffffffffhngviudfhgoiuerhgukfhkjgeruighervyfdohgobvijgfjgojfdhgjofhglkfhboerhgbdhoifdtyklerbhlkjhbdjgbojtgofgjrfjhlrkhilebotrjbh9jtrohibjrtlhujty;junmoytijoryjhigfjhgfjnifgjgfhkljtgilhjfdojgfdojgfkjngfdlkjgnklfgikfvihgifbfhbgkufbdsukfgglkdhvureuhgiurhgh4irtgyrehgui4t7iryggoifhgo54oerygtjeiygut8gopfe8gig89fjhg9r8tyr8hygb7hruegfigust8g0r0retugrijtrir6tihviurhgnviurwt,kcnguiergvknfgioerpjgklfupgrojgoirutkdhgl;rehgljkgyuorihfgiurwyhoug6y3oi4hg98w6u jtgnkjryt9jgoidug059jgiufd7teurjg98etujoijfgiosdug 0945ojtg0o8reuyjurfi ug945uj ygoip5uj5tg;eoiu495yp;w8y5urtg9ui8hui9g85w4mftmuv89tny0uvg8ytihguihfdkjvhu4krngkfdjs hgkjfghoeruygrhy goh tgoiugkiughgvhghghghhgghhghghghghghghghhhhhgtherkgheefjgsefdghh',\n",
       " 'HI FRANKIE HOW ARE YOU I HEARD YOU LIKE TO SUCK FAT DICK AND PUT IT IN YOUR EAR WHOLES',\n",
       " '\"=Outside input=== \\n *I\\'ve given this debate a bit of a read through, and for the most part, it seems clear that although the actual content of many of  may be important, they are presented in an extremely PoV manner that IMO smells agenda-pushing. Issues (ii) and (vii) below are prime examples of that, though the rest work as well. The key here that I think GoldDragon needs to understand (and trust me, I have experience with POV pushers) is that Wikipedia is not a place to campaign, all additions to the article need to be entirely factual and presented in a clearly neutral manner - something that  seems to have done well. GoldDragon\\'s edits (specifically the ones identified as contentious in this discussion) should be reworked to be presented in a neutral manner, or else removed. In addition, this issue of what is notable enough for inclusion has come up often in my own disputes. The most useful tool I\\'ve come up with to deal with this is to ask myself \"\"Will the average, a-political Torontonian find this information useful?\"\" Things like the election sign business for example; while interesting to those who are intensely involved, if you were to ask the average person, they\\'d probably say something along the lines of \"\"Who cares?\"\" That, I find, is a good measure of notability when dealing with trivia in politician articles   \\n\\n ==\"',\n",
       " '== black mamba == \\n\\n It.is ponious snake of the word and but it not kills many people but king cobra kills many people in India',\n",
       " \"2005 (UTC) \\n ::::: Fuck you, Jim. Everyone knows I'm female. IJzeren Jan, Jim is harassing me on the basis of a medical chromosomal condition I was born with.  15:46, August 10,\",\n",
       " \"==September 30, 2005== \\n Back to your old tricks, eh? Stop it or you'll be blocked.\",\n",
       " '= Tomahawk Chop = \\n Need to add a section to talk about the bone-in ribeye steak, which is referred to as a Tomahawk Chop.',\n",
       " '\" \\n :::::@yash read wp:VANDAL \\'\\'\\'\\'\\'\\' \"',\n",
       " 'u suck u suck u suck u suck u sucku suck u suck u suck u suck u u suck u suck u suck u suck u sucksucku suck u suck u suck u suck u sucku suck u suck uu suck u suck u suck u suck u suck suck u suck u sucku suck u suck u suck u suck u suck \\n u suck u suck u suck u suck u sucku suck u suck u suck u suck u u suck u suck u suck u suck u sucksucku suck u suck u suck u suck u sucku suck u suck uu suck u suck u suck u suck u suck suck u suck u sucku suck u suck u suck u suck u suck \\n u suck u suck u suck u suck u sucku suck u suck u suck u suck u u suck u suck u suck u suck u sucksucku suck u suck u suck u suck u sucku suck u suck uu suck u suck u suck u suck u suck suck u suck u sucku suck u suck u suck u suck u suck \\n u suck u suck u suck u suck u sucku suck u suck u suck u suck u u suck u suck u suck u suck u sucksucku suck u suck u suck u suck u sucku suck u suck uu suck u suck u suck u suck u suck suck u suck u sucku suck u suck u suck u su \\n u suck u suck u suck u suck u sucku suck u suck u suck u suck u u suck u suck u suck u suck u sucksucku suck u suck u suck u suck u sucku suck u suck uu suck u suck u suck u suck u suck suck u suck u sucku suck u suck u suck u suck u suckck u suck',\n",
       " \"Slavery is forbidden in Islam?  That seems to run counter to history.  Weren't the Mamluks, simply to mention one group, former slaves?\",\n",
       " '\":Perhaps WP:AN can provide some advice... I\\'m not quite sure what to do either.  —  •  •   \\n\\n \"',\n",
       " '\"I notice that you and jehockman have close connection on your talk page. Jehockman edits SEO articles and runs an SEO company(conflict of interest? That is the fox guarding the chicken coup?). Perhaps you should have this sock puppet conversation with jonathan hockman. In my opinion having an SEO masquerade as a wiki editor and using sock puppets to delete other SEO\\'s is gamesmanship and clearly not in the spirit of providing accurate information on wikipedia but rather suppressing it. I just Googled \"\"seo expert\"\" and out of 5 million results Mr. Guy is number 3. Not notable? What is your ajenda?  \\n\\n \"',\n",
       " '\" \\n ::No problem. Sorry my question was unclear - do you prefer the three arks picture in the article now, or the log drive photo (linked above) that probably is on Pine Creek - agree Little Pine is too little now. No idea if it was enlarged by a splash dam though, but I agree it looks more Pine than Little Pine.   \\'\\'\\'\\'\\'\\' \"',\n",
       " \"Please do move my comment there to legitimize everything. I really don't know how to do things here. all i know is just to edit.\",\n",
       " \":::Looks like this was an old issue so I took the liberty of removing it. I don't see any difference between the non-spaced version and the spaced version now. The spaced version just makes the intro look very strange.\",\n",
       " 'I saw the cricket match played on 2nd oct 15 at dharamshala india. i just wanted to know why our bowlers do not through dot-balls. our bowlers always throw short balls; i could not understand as to why short balls on which the opponent team scored easy runs. why they do not practise for dot-balls; instead of throwing balls with speed of 147 km/hr they should throw dot-balls say with speed of 130 km/hr so that they may not score easy runs.  \\n\\n My idea is that out of 120 balls 100 were short balls.  \\n\\n please pay special attention on this  \\n\\n i am lay man but click on such things, which are very much',\n",
       " '**I just revamped WP:FART, I thought a little housekeeping would give it more street cred.',\n",
       " '\" \\n\\n ==US== \\n I\\'m trying not to just be a whinger and a hand waver here, but it annoys me that there\\'s an entire section devoted to left vs. right politics in the US, yet there\\'s nothing similar regarding the rest of the world. The US bias of wikipedia is very irritating sometimes, though it shouldn\\'t be, as most Internet users are in the U.S. In other words, i\\'m a whiny European who is too lazy to write a non US section. \\n\\n From the US>  That\\'s easy to fix.  Start writing more about non-US views on topics, creating topics, and  getting your friends to help.  Something that is created by users being called biased only reflects the predominant users posting and thus can easily be remedied. \\n\\n Also from the US> No, it\\'s NOT so easy to fix. Throughout Wikipedia you will see entries from (obviously) American authors who have no concept of a world view and automatically write from a US perspective without any attempt to qualify their language. What, therefore, tends to happen is that the US view becomes a default with international views living in ghetto-ized paragraphs.     \\n\\n Also from the US> That is actually kind of the problem with Wikipedia all around in the first place, and that is that popular ideas are not necessarily correct. You can have people posting information about the corruptibility of whatever organization, but then the organization can have its people change the entry the next day.  —Preceding unsigned comment added by     \\n\\n  \\n This entire dicussion lends a great deal of credibilty to the idea that the left-right spectrum poorly represents political and economic views.  It seems to me that most of the debate below is equivalent to attempting to define the square root of negative 1 with only real numbers at our disposal.  It is painfully obvious that politics is muli-dimensional.  The most that can be hoped for here is to describe how the left-right spectrum is used and leave it at that.  This should probably be a very short article.  —Preceding unsigned comment added by     \\n\\n == Better Chart == \\n\\n I think that this page needs a metter chart. Like this one http://studentnewsdaily.com/conservative_vs_liberal_beliefs.shtml    \\n\\n  \\n Edit  \\n\\n I actually think that the article, in fact the whole political movement, needs a better definition of \"\"left-right\"\". Most political parties cannot adhere to a single category, including revolutionnary movements and far-right groups, as described somewhere else in the discussion. \\n\\n I suggest a new use of the \"\"left-right\"\" compass. \\n\\n The political compass uses the \"\"square\"\" system with two axis  x and y (social and économic), which is not very accurate because I know my political ideas, and they tend to be pretty nearer to Mussolini than to Gandhi. Whatever. \\n\\n What I suggest is a cube! \\n\\n 3 axis  x, y and z \\n\\n Économic \\n Social \\n Politic \\n\\n The first one defines the market system (if any) of a political group. \\n The second defines the social standing of a political group about the welfare of the people (welfare checks/charity, private/public school/medical system, etc) \\n The thirds one is, basically, the way a society treats it\\'s people (rehabilitation/punishment, democracy/totaliratism (in which I include Soviet Communism!) etc) \\n\\n What do you think?  —Preceding unsigned comment added by     \\n\\n == Interesting book == \\n\\n I came across this book: Left and Right in Global Politics \\n by Alain Noël and Jean-Philippe Thérien.  I haven\\'t read it yet but it seems to be of great interest.    \\n\\n == Removing unneccessary detail == \\n\\n I am removing several paragraphs that are unhelpful to the article: \\n * Edmund Burke - terms left and right not used in UK then \\n * Adam Smith - terms left and r',\n",
       " ':Does J.P. Harris have anything to say about the Ancre?',\n",
       " '\" \\n ::People don\\'t need to be sent messages. They can go to the talk page and see it for themselves.—  \"',\n",
       " 'REDIRECT Talk:Pieter Melvill van Carnbee (1743-1826)',\n",
       " '\" \\n\\n Make all the personal attacks you want. Plus I read your replies & my so called \"\"Spamming\"\", & noticed of the 5 adimns I contacted, 2 replied in my support, while the other 3 didn\\'t reply at all. You are the only one who has a problem. See here to fix it, ), just a little joke of course, or is it?...Mysterious pause.... Gooooooooodbye buddy, may out paths never meet again....  \"',\n",
       " ':The information looks good.  What you need to do now is remove the  template.',\n",
       " '==Archive 2 (Janruary 4, 2004-December 22, 2004)== \\n ==Archive 3 (February 14, 2005-September 1, 2005== \\n ==Archive 4, The Final (Janruary 7, 2006-September 30, 2006)==',\n",
       " 'Do the Macareena, you old coot.',\n",
       " \":Another item that should be considered: WP's goal to serious institution and its policy not to hurt people gratuitously apply to all articles, regardless if their subjects are living or dead.\",\n",
       " \"== Don't feed the troll == \\n\\n Responding with taunting is exactly the wrong way to respond.  Don't feed the troll.  Remove the post without comment, or don't do anything at all.\",\n",
       " 'The original Homophobia in the Black Diasporic community article is god awful.  So I moved that articles information here.',\n",
       " '== Your a disgrace == \\n\\n For you I am going to keep this simple You are a disgrace and you give admins a bad name. Is because of editors like you that Wikipeda sucks to edit and continues to not only lose editors but its editors like you that prevent new editors from joining. Kumi',\n",
       " '::::That policy if it ever existed is not the policy now, and when every other map in the media shows the status of same sex marriage law (not effect) how would such a policy reflect on Wikipedia, which is supposed to be the most current source of encyclopedic information in the world?',\n",
       " '\" \\n\\n ==Requested page protection== \\n I can no longer edit this article under these intolerable conditions. I have requested page protection for edit warring by Sceptical. I find his attitude and editing alongside him very antagonistic and it is only going to provoke me to personal attacks. There is zero chance of the article passing FA if it is going to be constantly edit warred so may as well forget it.\\xa0|\\xa0 \"',\n",
       " '\" \\n\\n :Please accept my apologies.  I interpreted your statement \"\"Find a quote yourself, or move it, I don\\'t care\"\" to mean that you thought the source could be removed instead of finding a quote.  My mistake!   \"',\n",
       " \":::While I tend to agree with all of this and am as slightly annoyed as anyone that we appear to have been blamed even though our article was accurate and respectful at all times, and Mr. Roth was treated with dignity and respect at all times... it's always in my nature to think about how we might do better in the future.\",\n",
       " \":I appreciate you asking, RoyBoy.  My response may seem a lot less appreciative. \\n\\n :It violates WP:V.  In a word, it is tendentious, just like the one that's been forced into the abortion article.  It is still a POV pushing, unsourced compromise with a small group and its meat puppets.  Even the medical definition is abbreviated and distorted as the result of the context, suggesting death is part of the medically accepted definition of abortion. \\n\\n :Here’s yet another source to add to the ignored source list.  The ‘’Oxford Thesaurus’’:  In all the entries that contain abortion, death (including its variants) is not listed.  The main entries include miscarriage, monster, prevention, termination, and veto. \\n\\n :I think the only potential solution for this now is arbitration.\",\n",
       " 'KSchwartz is an annoying person who often smells of rotten fish and burnt animal hair.  He has a passing interest in Wikipedia.',\n",
       " \"June 2007 (UTC) \\n :It being a first isn't very important, but mentioning the control scheme is, I think, notable.   22:23, 19\",\n",
       " '\" \\n\\n :::I just reread the section...I have no idea why the section is labeled \"\"Views of the Faithful\"\".  The section has very little to do with Mormon viewpoints and is a hodgepodge of critiques mixed with minor Mormon viewpoints.  It definitely needs work.  However, I still will like for your specific ideas so that they could be incorporated, GMK.   \"',\n",
       " '\":::ok Fadix says that I am loosing credibility. it seems that when ever someone comes and tells something else he looses credibility. let me introduce myself first I am new comer here and not (obviously) in any way professionaly involved in history studies (I have a PHD in Neuroscience). and not getting any money from the Turkish goverment. and I am not a Holocoust denying neo-nazi either.I just read the article because of the relatively new debate here in Germany(ok i will be honest I have a Turkish girl friend and I am interested in Turkish history. and now i am using her computer. Does that reduce my credibility, probably yes ha?). I am sory to give this description but I get the impression that i will soon be blamed of beeing a Turkish propagandist, goverment person, racist whatever. Am I too sensitive. No take a look at the discussion history and see that these accusations are there.    \\n I am making clear points that any sane unbiased human cam make. First of all the article issues the Genocide as a fact! A fact but with still some discussions (most of them being from the Turkish goverment). This gives the inevitible impression that all issiue is largely accepted(final verdict). Yet it is not!!!  \\n Secondly the term Genocide can only be used under certain conditions (as in the holocoust). in this case there is a real doubt if these conditions are met!!! still the article freely and carelessly uses the term just only because some people or countries recogonise it that way. Do we have the right to blame a nation with this ultimate crime just because of that??? Genocide guys this is no joke!!! tell it 100 times for 90 years and Turks are Genociders! Cool! \\n third: after building up the genocide idea The article mainly represents the opposing view as the view of the Turkish goverment as clearly described by the headings (the position of Turkey,the position of Turkish authorities, political issues) as well as the content. which inevitibly gives the impression that the opposing view is just bull S*** Turkish propaganda. But it is not! Many Prof. and researcher of the era say that it is not. (As seen in the attached letter). yet fadix wrote that these prof were actually accepting the genocide they were fooled in to this (quoting Israel Charny). this is ridiculous. I dont know who the hell is Israel Charny or he really claims something like that. But please we are not stupid people. this was a letter to the representatives and these people who signed it are Profs. for gods sake!!! also If these prof were in favor of the genocide and really fooled in this conspiracy later they would have said \"\"ok guys I am misslead and fooled into this\"\" and this would be the ultimate tool for Armenian side too ridicule and discredit the Turkish side. Is it the case? No!(so fadix what about credibility) \\n\\n I am not bitching anyone. I am not using citations and names to blurr peoples mind. if you read my previous adds you will see that i am trying to use a carefull language. I am sorry again if I used harsh words. But after reading the long history of discussion in this page I have the impression that Fadix (who seems to be the main edittor in this page)has a certain attitude towards the issue and despite serious oppsition now and in the past he is just pushing the article his way.  \\n\\n ok Fadix I believe in your good faith. I am a dumb ass who doesnt know any thing about history .please give me answers. I am just asking plain, crystal clear questions. I dont want to hear citations, dates and historian names. just logical anwers!! Just logical answers which will show that you are unbiased!!! Or you may choose to say I believe in Armenian genocide and that is why I chose to ignore... \\n\\n 1. how can you use the nomenclature or lets say the word \"\"genocide\"\" so easily knowing that it is desribed and only can be declared by international law. also knowing that there is robust objections to the usage of this term. Are you the ultimate expert. Are you the head of an international court?(if yes where is self defence?)  ((you say Go try finding such a section in the Cambodian genocide article, the Nanking massacre article, Rwanda genocide article. I could not see a Cambodian genocide article, in Rwanda genocide: United Nations set up the International Criminal Tribunal for Rwanda, so the guild is described by law. Nanking massacre is a perfect example!!! why is it not called a genocide but massacre? is it because the guilt is not described by law??!! and in the discussion there is no real objection to the issue accept the numbers) \\n\\n 2. why does the article present the genocide as a fact? (I hope you wont tell that it doesnt). why do you build up the article so that people are first instructed that there is indeed a genocide and only later show the objetions. \\n\\n 3. why is there no data about armenian gangs killing muslims and raiding villages before and after 191',\n",
       " ':Gimme Dat Ding (song) →  – Mainly known as a song not an album.',\n",
       " \"==Vandalism== \\n\\n Hello Barbara.  \\n It appears you have a long history of vandalism, and after another incident I am afraid I have no choice but to request a 'permanent ban from administrators. I wish you good luck for the future.\",\n",
       " \": I came across the lawsuit info while I was doing research to see if the entry was notable. That what was came up for Coit Cleaners. I understand how you feel, and if what you say is true (that it was a bullshit suit), it really sucks that your Grandfather had to go through that  there's nothing worse that being falsely accused. However, I was just describing  the facts of the case, that's all I can do.\",\n",
       " 'You should not always ask me about everything. I am not kind of wiseman. Try to ask at WP:AN. I really do not know.',\n",
       " 'SURKHAIL IS GAY AND A WASTE OF TYME LOOL LOL!!!',\n",
       " 'All the other DAPs have similar links and no one has complained.',\n",
       " ':::also fwiw I nominated polyamorous people for deleting, take a look and weigh in if you like.',\n",
       " 'Please review the conflict of interest guideline before you begin editing again.',\n",
       " 'jonhs a big fat smelly russian warrier who live in china town be side the fat hamster scary fagit who ha one eye and tits',\n",
       " '== ur a dick == \\n\\n ...',\n",
       " \"Since you have no further defence of your unsubstantiated claims of unreliability, or to your oversight of precise statements in the provided citations that Israel indeed broke the ceasefire (thus rendering your claim of 'editorialising' refuted), I will post a WP:3O.\",\n",
       " \":Thank you very much for your review! And didn't you know pony people are the most important people around...closely followed by the bishop people? *grin* Thanks again.\",\n",
       " 'YOUR MOM LIKES TO GOLF WITH MY DADS BIG BALLS!!!',\n",
       " \"mmm, the see also's a crap. why list of bands from europe?  User:arieriswandy\",\n",
       " '\" \\n\\n == Revision of a paragraph in mind-body section == \\n\\n The following paragraph appears in the section on mind-body problem \\n ::Incompatibilism requires a distinction between the mental and the physical, being a commentary on the incompatibility of (determined) physical reality and one\\'s presumably distinct experience of will. Although  substance dualism offers such a distinction, a less extreme form of naturalism known as non-reductive physicalism may also suffice. Although one might suppose that mental states and neurological states are different in kind, that does not rule out the possibility that mental states correspond to neurological states. Under non-reductive physicalism, although physical states do cause mental states, they are not ontologically reducible to them. In one such construction, mental events supervene on physical events, describing the emergence of mental properties as correspondent to physical properties. This relationship is known as causal reducibility. Non-reductive physicalism is therefore often categorised as property dualism rather than monism, yet other types of property dualism do not adhere to the causal reducibility of mental states - such as epiphenomenalism. \\n\\n I understand the urge to recast the preceding discussion in a form more similar to the rest of the article. But I don\\'t find this paragraph, although superior to its predecessor, has quite made the grade. I\\'d like to try to do this in a manner reverse to that of the paragraph; that is, go from the simple viewpoint to the technical rather than vice versa. A single paragraph won\\'t do it. Here is a possible substitute (please take it as a suggestion to be tinkered with): \\n ::One may choose as a starting point the point of view that mind and matter constitute different things. One may then take several views about how or even whether they interact. At one extreme there is no interaction at all. At another extreme, mind completely controls matter or the other way around. In between, one may say mind and matter each influence each other to a degree, in some cases one is more in control and sometimes the other. \\n ::We might attempt to establish which of these choices is best, but that seems to be out of reach at the moment. Instead, we will simply connect these possibilities with various identifying labels of historical importance.  If one takes the extreme view that mind completely controls matter, or vice versa, in effect the controlled aspect is simply an appendage of the controlling aspect, and may be considered simply as a property of the controlling aspect. The two substances are then simply one, albeit perhaps with some additional attributes, and this viewpoint is called monism, which takes on several forms as described in that Wikipedia article.  \\n ::An example, is epiphenomenalism, that mind is just a peculiar side effect of matter. Thomas Huxley described the relation between mind and matter as follows: \\n :: \\n ::Huxley goes on to say he sees no difference from humans in this regard. Very similar to this point of view is reductive physicalism adopted by some neuroscientists: \\n ::{{quote|...consciousness is a biological process that will eventually be explained in terms of molecular signaling pathways used by interacting populations of nerve cells... |Eric R. Kandel|In Search of Memory: The Emergence of a New Science of Mind}} \\n ::The view that mind and matter are different is called dualism, and it again takes on several forms described in that Wikipedia article. Within this description are various degrees of control of one entity over the other, ranging from complete autonomy of one or both entities, to some degree of interdependence. Considerable interest attaches as to what forms of interdependence might arise. \\n ::For example, even if mental states and neurological states are different in kind, that does not rule out the possibility that mental states bear some correspondence with neurological states. Under non-reductive physicalism, physical states do cause\\'\\' mental states, but they are not ontologically reducible to them. In one such construction, mental events exhibit emergence from physical propertie',\n",
       " 'I have 10 pictures of armed gaddafi loyalists (mostly from 2013-2014) they are all taken from facebook/YT videos would they be classified as fair use?',\n",
       " '\" \\n\\n == Misplaced \"\"warning\"\" == \\n\\n If your intention is to report me accusing me of edit warring, this is the correct place: WP:AN3. The talk page of the article is not the place to do so. Please follow the WP:TPG and remove the section you opened over there. Regards.    \\n :It is a record of your warring not an official report - I don\\'t want you banned, I want you to edit in a more consensus way - that is all -    \\n ::You can keep a record of whatever you want on your own talk page. Per the talk page guidelines you can not use the talk page of the article to do so, as  correctly told you. Your last edit as well goes against the guidelines. I suggest you read them after removing the section from the article. Regards.    \\n :::User:Gaba_p - where is it exactly stated that I cant detail your warring on the talkpage?    \\n ::::Precisely in the place you\\'ve been pointed to no less than three times already, the WP:TPG: \\n ::::* Talk pages are for improving the encyclopedia, not for expressing personal opinions on a subject or an editor. \\n ::::Do as you will, you\\'ve already been warned enough times. Regards.    \\n :::::it is improving the encyclopedia by reporting your warring -    \\n ::::::OK. Regards.    \\n\\n == Deepak Kamani == \\n\\n Could you take a look at the revised Deepak Kamani article?    \\n\\n I was asked to come back and reconsider - There have been edits additions from   - it still looks like an attack story, it looks more like an attack story after the  changes - I can not change my position to require removal from publication    \\n\\n ==  Calling the First Minister an Arsehole == \\n\\n I put the story back ,the truth hurts ? I guess you need £ 8,000 really badly \\n\\n I have now put it back again and will continue to do so every time you remobve it \\n\\n You need to try and understand that the wikipedia entry is public property ,you don\\'t own it . \\n\\n :I really don\\'t care about this truth, in fact I agree completely with Mike Daily. You  need to understand that this wiki has rules and you are not following them. FYI I wouldn\\'t qualify FOR THE 8000 euro minimum wage    \\n\\n you may not care about the truth ,some of us do \\n\\n NO NEED TO SHOUT \\n\\n LINK ADDED http://www.eveningtimes.co.uk/news/tweet-rant-lawyer-will-not-resign-168480n.24573484 \\n\\n HAPPY ? -) \\n\\n == Hello! There is a DR/N request you may have interest in. == \\n\\n This message is being sent to let you know of a discussion at the Wikipedia:Dispute resolution noticeboard regarding a content dispute discussion you may have participated in. Content disputes can hold up article development and make editing difficult for editors. You are not required to participate, but you are both invited and encouraged to help find a resolution. The discussion is about the topic Talk:Bob\\'s Burgers.  \\n Please join us to help form a consensus. Thank you! —    (DRN volunteer) \\n\\n == Suzannah Lipscomb == \\n\\n Hi, I only tried to add education info to the article. I don\\'t think there is any contenscious in the info I added? I apologise for messing up the references when editing- I think these are ok no',\n",
       " '== Racist Girls == \\n\\n How can this article possibly not mention the famous incident regarding the two racist girls whose video became viral and got them expelled from the school, unconstitutionally?',\n",
       " \"== Hands off my noobs P == \\n\\n It's not that I'm particularly concerned about the loss of , but did you really need to step in and hardblock there? \\n\\n I saw the test edits. I saw the username that, while not violating any particular part of policy, managed to be an astoundingly bad choice of username anyway. I responded to these issues with the warning I felt was appropriate, feeling that the user could have a second chance under a less moronic username. \\n\\n Yes, I am more patient with newbies who screw up than you are. We can each have our own approach to adminship. But I don't unblock and warn noobs you've just hardblocked, so how about you don't hardblock noobs I've just warned? \\n\\n And if this was just an oversight, that's fine. Again, it is unlikely that Wikipedia will suffer from the loss of this user.\",\n",
       " 'Please stop your disruptive editing. If you continue to vandalize Wikipedia, as you did at Henry Hudson, you will be blocked from editing.',\n",
       " 'Are you also suggesting all paintings of black moors are fake too? are you saying that they should be white?',\n",
       " '::Assyrian nationalists should just go back to using  instead of drawing a new flag every five years and then shout at each other over it. Seriously, it looks undignified to any bystander.',\n",
       " 'this is realy crap man Boots is one tite ass who treats its staff like slaves, mister richard you realy need to calm the preasure on the staff hire more staff and stop it with your gridy ideas that will fail the company, P.S a very deapreciated staff that has so much potential.',\n",
       " 'she was a horny leader.earthgirls are easy to fuck.',\n",
       " \"lol @ the Manly-Cronulla rivalry.  \\n\\n I'm adding a coaches section.\",\n",
       " 'EdJohnston you are wrong, I did not file the report, BenHen1997 did. You also did not block the other person but only one of the several IPs they were using.',\n",
       " '\" \\n\\n == Shameless Canvass == \\n\\n Hello, Diannaa! Thanks for blocking that horrible puke again. When I \"\"translate\"\"  on your page I get mad. He is just a total piece of garbage. Thanks again!   \"',\n",
       " 'go fuck yourself ...cunt',\n",
       " 'WHAT THE HELL \\n\\n   Justin',\n",
       " '* Delete, combine the apparent controversy of this link and that I think most articles have too many external links (this is what search engines are for).  June 29, 2005 02:31 (UTC)',\n",
       " 'Would you stop it already? WP:TE',\n",
       " 'running into houses and killing people...... shame.....',\n",
       " ':::::: You had to consider??? Humph!!!!!!! N...',\n",
       " \"== my edit in Arkansas – Ole Miss rivalry == \\n\\n Sorry about that - didn't realize the logos weren't non-free images.\",\n",
       " '\" \\n :We\\'ve gone through those \"\"more than enough contemporary scholars\"\" and their \"\"sources\"\" long ago and all those sources were in reality rejected. See the archives and the discussions. Again, per Georgians scripts you cannot have that kind of wording because this is way too much controversial and disputed issue and everything concerning the Georgian script or its origins should be based upon its main article. You cannot claim A in one article and B in another. So please, leave out this edit warring and get aware those long discussions at the Georgian scripts article. It is a very complex issue and you cannot describe it in one sentence by bombarding it with some cherry picked sources.  \"',\n",
       " \"this whole wiki is misinformation, note new world order (CONSPIRACY THEORY) uh, I think we've proved they exist so its not a theory any longer is it...fucking tool's\",\n",
       " '\" \\n ::::To the individual who is so insistent to add all the \"\"future destinations\"\", take a look at WP:NOTCRYSTAL. While you may have reference sources to the information posted, it\\'s just PURE SPECULATION and cannot be verified. Nothing is firmed except London.   \"',\n",
       " 'WP:SOAPBOX, WP:FORUM, etc. Please engage in your conspiratorial fantasies elsewhere.',\n",
       " 'The specific page linked to is just junk in regards to our policies on sources - check it for yourself.',\n",
       " '\" \\n ::Or just click the \"\"move\"\" tab at the top of the page to move it to the new title. Remember to remove the User: prefix. This is easier, and better.  [\\xa0\\xa0] \"',\n",
       " '\" \\n\\n == Religion == \\t   \\n\\n One thing which I have heard numerous times and which is not explicitely stated in the article is that the US \"\"way of living\"\" religion is often seen as Freedom of religion, but not freedom from religion: one can chose any religion he wants (preferably a variant of Christianism  and preferably a variant of protestantism if one wants to have fair chances to obtain high positions), but atheism, or even agnosticism, are not well tolerated. \\t   \\n  \\t   \\n This is especially observable when wealthy evangelists from the USA go on their \"\"evangelisation\"\" trip to Europe and start talking about religion to people in the streets, a subject widely regarded as very personal. \\t   \\n  \\t   \\n I don\\'t know how this could fit in the article though (I\\'d rather discuss this here before).   \\t   \\n  \\t   \\n :Are you American? I ask that because it sounds like you have the common \"\"I\\'ve heard America is this way\"\" idea. I\\'m an American, live in a nice city with many friends in different social classes and with different backgrounds and I would say that religion is totally on the back-burner with people choosing whatever they like and not dropping it on others. I personally feel religion is for the most part a crock, and when I discuss that fact I get a wide variety of replies and thoughts, but nobody is trying to convert me. If I see a televangalist on TV I just turn the channel, no big deal. Now as far as the midwest gos, I can\\'t really speak from experience but my idea is that the US as a Christian fundamentalist factory is WAY overblown in the foreign press. We get sterotyped as a caricature of what we are...like when you get a charcoal sketch of yourself at the beach and the guy draws your ears really big and has your head all mishapen to highlight your features, way overblown! I could say that I don\\'t like all the German shit-porn videos that I know they are really into and that I should include a section on the Germany page about fecal-defecater-porn because it is so prevelant in their society when really that is kind of a personal thing, but I realize that Germany really isn\\'t THAT into filming themselves shit on each other and I know it is an overblown viewpoint of Germans in America. Does that go too far to make a point? Sorry if I offended any Germans, totally for explanation sake ) Anyway, we need a rebuttal section first that highlights the fact that some of this is misconception propogated by ignorance of Americans and religous extremism too   \\t   \\n  \\t   \\n ::Rama is perhaps unwittingly revealing a major root of anti-American sentiment abroad. Ignorance.   |   \\t   \\n \\n ::: I don\\'t say that this is true exactly the way it is shown on some media. Just that lots of people percieve it this way, and that some traits in American Weltanshaung confort this perception. The \"\"In God we trust\"\", swearing on the Bible, religious proselytism abroad and other punctual details like this can give an overall impression which is the subject of the article.  \"',\n",
       " 'Supporting gay rights does not put him in opposition with his church. If he supported gay marriage that would.',\n",
       " '\" \\n :Aw, you aren\\'t so bad yourself.   ) \"',\n",
       " 'on February 21, 2015.',\n",
       " ':::::::::The rapcore article cites 15 sources which back up all information stated, including the basics of the genre. The only person who is evading anything is Ridernyc, who avoids any instance in which he would be forced to admit that he is wrong. (  )',\n",
       " '. \\n\\n FUcking stuid asses, you have to apply for one when your 16 stupid fucks',\n",
       " 'just a community post: isnt DB2FSS a First trimester screening, a prenatal test aimed to detect diseases or conditions in a fetus or embryo',\n",
       " 'If not here are some more: \\n\\n The Macedonian language in the development of the Slavonic literary languages B Koneski - 1968 - Kultura \\n A diachronic interpretation of Macedonian verbal morphology MJ Elson - 1990 - Edwin Mellen Press \\n Two typological gaps in stress systems: arguments from early language acquisition S Peperkamp, E Dupoux - 2000',\n",
       " \"Tom is right. Here's a simple solution: Remove quotes from sources that do not explain their analysis. I've said this before and the ridiculous quote remains. Without objection, I would like to clean-up unreliable sources who are spewing pure hate and don't even bother to justify their postions.\",\n",
       " '::::Buffoon Synonyms:    bozo, buffo, clown, comedian, comic, fool, harlequin, humorist, idiot, jerk, jester, joker, merry-andrew, mime, mimic, mummer, playboy, prankster, ridicule, stooge, wag, wit, zany.',\n",
       " '\" \\n\\n  \\n == Confusion upon Globus == \\n Shouldn\\'t we mention that professor posses a huge penis? And I\\'m not joking. It doesn\\'t seem very apropriate given that it is a children series and thus I find it amusing and strange. (maybe it\\'s not important, bit what about the \"\"once apon a time\"\" section, I find it similar) To be clear what am I talking about, here is a picture: http://i2.photobucket.com/albums/y15/odinchoy/fserie_vie06.gif (Globus is the man on the right side) I mean this seriously ;)   \"',\n",
       " '\" \\n ::::::Thank you for your comment.  (According to this diff, 98.116.147.84 and  is one and the same editor, is that correct?  And is 98.200.203.99 a different editor, or also the same?). \\n ::::::If there is not a reliable source for anything in this article, it can be removed on that basis.  No original research is permitted at WP, so the personal experience of any given editor here is not relevant.  If it can be backed by a source, it goes in the article; if not, it doesn\\'t \\n ::::::For that same reason, I have reverted your recent edit to the article.  For one thing, I do not know what \"\"forum facilitation\"\" might be or how it could be a primary purpose of a communal living arrangement.  If you would like to propose the changes you want to make one at a time, providing reliable sources for them and working to arrive at an agreed-upon version that best summarizes those sources, we can discuss that here.  That is already what  and I have begun to do above; if you have an objection to the wording of the lead section that we have already agreed upon, please express that objection here before continuing to revert that text from the article.  Thank you.  ☯  \"',\n",
       " 'I hate everything @$$',\n",
       " ':Eek, but shes cute in an earthy kind of way. Cant sing for shit though. Thanks for giving me an unhappy memory.',\n",
       " \"::::'Found' them? He has already told us that the documents concern his registration of the name 'El Marino'. As to whether these supposed documents say anything whatsoever about a newspaper published in 1917 I have no idea - but they aren't a third-party source either way. They are primary-source documents confirming his personal actions.\",\n",
       " '\" \\n :::\"\"Draga\"\", apparently means \"\"Dear\"\" (Google Translate). Yes, I am able to understand almost every Romance language at an intermediate level. I never stated that I could \"\"speak\"\" Romanian. Also, I removed the babel list because I could not find a proper position for it, as it took too much space and made my userpage long. How is that any of your concern?   \"',\n",
       " \"::Hullaballoo Wolfowitz believes that editors should comply with WP:RS, which requires editors to be careful about circular referencing, as quoted from the applicable policy above.  aparently doesn't support complying with this policy, or WP:CIVIL, or WP:NPA.\",\n",
       " '== Can somebody move this page to Caitlyn Jenner and redirect to Bruce?  == \\n\\n Is an admin planning on moving this page to Caitlyn Jenner and redirecting Bruce Jenner, rather than the opposite (which is the current state)?',\n",
       " \"==Wikimania== \\n Hello.  We're chatting right now at Wikimania.  Pleased to meet you.\",\n",
       " 'Thanks for experimenting with Wikipedia. Your test worked, and has been reverted or removed. Please use the sandbox for any other tests you want to do. Take a look at the welcome page if you would like to learn more about contributing to our encyclopedia. Thanks.     (comment moved from user page by  )',\n",
       " '\" \\n\\n ==Page name change== \\n\\n I think it would be a good idea to move this article to OE (overseas experience) as the term used is nearly always OE with a qualification of (overseas experience) if the user of the term does not think that person to whom the comment is directed will understand. \\n A Quick google will confirm this: \\n *  about 110 English pages for \"\"overseas experience (OE)\"\" \\n *  about 1,300 English pages for \"\"OE (overseas experience\"\" \\n  \"',\n",
       " 'This page is a complete nonsense... The tallest mountain on Sal island is Monte Grande (as also mentioned in the page)... Does Sal have two tallest mountains ??',\n",
       " \"::You still don't get it man, the RECOUNT has been declared.  The race itself hasn't yet because of the challenge, but the recount's results have declared Franken the winner of the recount.  Sorry, but you need to back off and accept the fact that technically Franken is the winner of the recount until the courts say any different.\",\n",
       " \"for all peoples living East of a certain line, like the Vistula, because he distinguishes them from other large ethnic groups in the same area, the Fenni (probably Finno-Ugric) and the Sarmatians themselves. Taking that together with Jordanes'\",\n",
       " '\" \\n\\n P.S. IMHO, this all falls under the category created by  on her talk page, which she appropriately refers to as \"\"loopy talk page discussions/scoldings.\"\"  \"',\n",
       " 'Here is another one  http://www.omniglot.com/writing/norwegian.htm',\n",
       " '\" \\n ::Sleetman is still blocked because he has yet to really apologize for violating WP:CIVIL. All of his \"\"apologies\"\" have skirted the issue. In his second unblock request, he says that he wouldn\\'t have done what he did had he known Bearcat was gay...does that mean it\\'s okay to call straight users ma\\'am after they\\'ve asked you not to? In his third request, he says he would have stopped had Bearcat told him why it was offensive. You don\\'t need to be told why something is offensive - if someone asks you to stop, it\\'s not that hard to just stop. In the last request, he just points us to the first three...and then defends himself! All in all, not the best sequence of events if you want to get unblocked.  \"',\n",
       " 'REDIRECT Talk:Ponhook Lake 10',\n",
       " '\"[[ This is my first time on wikipedia and I have not found how to make my own comments page, so I am putting the comment here. I just changed the piece on hierocracy, because I\\'ve never heard it used as a synonym for theocracy, and it has its own perfectly clear meaning in the work of Weber which has been widely adopted. I suspect that whoever wrote that bit had no idea what he was talking about.  \\n\\n I find the whole entry for theocracy completely unsatisfactory, starting with the definition. Again, it reads as if the writers had no idea about the subject and have it confused with several other topics. I think it would be hopeless to try to repair the page by successive edits. It needs to start with a proper definition of theocracy that distinguishes theocracy from caesaropapism and clearly says that a pious society is NOT by definition a theocracy, and also that church establishment is not compatible with theocracy, but is compatible with caesaropapism. Theocracy is a form of government, not a social quality, it can be defined as \"\" \"\"a government in which the persons and institutions of the religious order either control or replace the organs of the civil government.\"\" (Sen McGlinn, Church and State, page 243).  \\n\\n Then it is clear that Iran is a theocracy, Saudi Arabia is not, and so on through all the other questions discussed here. The problem is a vague and too broad definition at the outset. One should rather start with a clear and hard definition, and later note that in popular usage the term has become an almost meaningless pejoritive applied to religion in public places.  \\n\\n Can somebody enlighten me about how one goes about fixing the page? One obvious step would be to ask for input via the editors of the Journal of Church and State (Baylor University, they have a research school on this topic). Email me at Sen.sonja [at] Casema.NL - Sen McGlinn ]] \\n\\n \"',\n",
       " \"does she respect howard stern's penis?\",\n",
       " ', but you should really try some of that good GRILLED DICK',\n",
       " 'Harchibald Discussion',\n",
       " \"::::Fair enough.  I don't think I'd have trouble getting more cites, but I don't see the value in showing that many people disagree with the result: this is something most people will already have an opinion on.  I just wanted to insert a citation that says that showed the FIG ruling wasn't the end of the public opinion on the issue.\",\n",
       " '\" \\n :Actually, I agree with the POV tag. The lead sentence should include something about her status as a political prisoner and her experience in prison. In the meanwhile, I added your source, SAGE Encyclopedia, to the sentence about \"\"seditious conspiracy\"\". Best,    \"',\n",
       " ', 18 June 2006 (UTC) \\n ::What part of 3rd party source do you not understand? Simply give us the name of the book, journal, newspaper, or whatever it is and let us find it for ourselves. Why do you keep resisting this?  01:46',\n",
       " '\" \\n\\n ===Use of \"\"Nepal Bhasa\"\"=== \\n The term \"\"Nepal Bhasa\"\" is used in English, officially as well as commonly. Here are some examples and facts about its use- \\n * Google ngram search shows that Nepal Bhasha has exceeded the use of Newar language here. \\n * Government of Nepal (see picture of news about the Government\\'s stance is there in the page itself)  \\n * Nepal Bhasa Academy (in its publications and awards) \\n * Nepal Bhasa Parishad (in its publications and awards) \\n * World Newah Organization (examples of use in page 2,3 and 7) \\n * Central Department of Nepal Bhasa, Tribhuwan University, the only university with curriculum in Nepal Bhasa (News about scholarship in Nepal Bhasa) \\n * Nepa Pasa Pucha America-ye (An example see page 9) \\n * Pasa Pucha Guthi UK (An example) \\n * Rising Nepal daily (Example) \\n * Dharmodaya Sabha, the national Buddhist organization of Nepal (The publications in the language are listed as Nepal Bhasa) \\n * Asha Archives, the biggest archive of Nepal Bhasa literature (Website) \\n * Journal of Lumbini Buddha Dharma Society (Example) \\n * Journal of Newar Studies (An example  \\n * Archive of English essay about Tipitaka translation project in Nepal Bhasa (they have been publishing various segments of Tipitaka in Nepal Bhasa) \\n * Lotus research center Activities in Nepal Bhasa  \\n * English-Nepal Bhasa dictionary in Amazon \\n * Mobile phone Nepal Bhasa dictionary app \\n * Matina international website \\n * Miss Newa (Miss best Nepal Bhasa is one of the categories, Official website with contestants talking about Nepal BhasaTHT news about using Nepal Bhasa) \\n * Nepalmandal.com, one of the very few websites in Nepal Bhasa, stating their objectives regarding Nepal Bhasa \\n * Image Channel Nepal Bhasa section \\n Thank you  \"',\n",
       " 'The article The Super Communists has been speedily deleted from Wikipedia. This was done because the article seemed to be about a person, group of people, band, club, company, or web content, but it did not indicate how or why the subject is notable, that is, why an article about that subject should be included in Wikipedia. Under the criteria for speedy deletion, articles that do not assert notability may be deleted at any time. If you can indicate why the subject is really notable, you are free to re-create the article, making sure to cite any verifiable sources. \\n\\n Please see the guidelines for what is generally accepted as notable, and for specific types of articles, you may want to check out our criteria for biographies, for web sites, for bands, or for companies. Feel free to leave a note on my talk page if you have any questions about this.',\n",
       " '\" \\n **Nice work with the Search and Capture model. Do you think you could find citations for the new material? \\n ::And no problem, though the IP has responded to you with a rather lengthy \"\"defense\"\" on the Talk. He argues that the theory isn\\'t \"\"fringe\"\" or nonsense, and that the criticisms are either strawmen or have been answered. —  \"',\n",
       " 'If the indigenous population is so low why do they think they deserve everything',\n",
       " '\" \\n\\n == Top Gear of The Pops == \\n\\n Should we put something about what they did for comic relief on that top gear special this year. That \"\"Sofa,Hyundai,Administration\"\" song   \\n  \"',\n",
       " 'and lewd sex in China',\n",
       " '\" \\n ::::: is a confirmed  sock.  \"',\n",
       " \"== No more April Fool'd edits by me in the article space. == \\n\\n I will not make any more April Fool's edits in the article space. \\n\\n Just in case you never saw it, here is my April Fool's edit from last year.\",\n",
       " \"== RE: User talk: 24.121.73.22 == \\n\\n It wasn't my intention. This IP adress is shared by 4 users.\",\n",
       " \"I absolutely agree with you. Something is very wrong with my English if you misunderstood me as though I said all Haredim regected Rabbi Hirsch's way. What I said was actually quite the opposite:In the beginning Agudat Israel was based on the legacy of Torah im Derech Erech. Afterwards, the Litvaks changed it, but even today there is no dichotomy between Agudat Israel and Rabbi Hirsch's way.\",\n",
       " '\" \\n\\n \"\"Judge Thomas H. Wilson that Genarlow Wilson\\'s punishment be declared cruel and unusual\"\" \\n\\n Judge Wilson orders release of sex offender Wilson? Smells wrong. \\n\\n The perverse acts of this convicted sex offerender clearly merits his conviction. Else, he hadn\\'t been convicted by the American legal system.  \"',\n",
       " '== Bitch Creek Cow Camp Idaho == \\n\\n Hey- Just a heads up, I looked into this one, and indeed, there is a place named, Bitch Creek Cow Camp. Wanted to let you know that the folks in Idaho, need not worry',\n",
       " '\" \\n\\n ==Two short stories== \\n *The list of works contains something called \"\"The Mysterious Portrait\"\". Is this the same as the short story \"\"The Portrait\"\"?  \"',\n",
       " '\" \\n\\n == May 2015 == \\n \"',\n",
       " '\" \\n ::Lol, and there we have it, right on time. As far as I remember, the only person who kept raving about \"\"undue weight\"\" was yourself, so I fail to see how that can be the reason for anything. The third row was reverted simply because you and three others didn\\'t like it. But I see, the details of a civil war are determined by numbers. In fact, this entire page seems to be testament to the fact that terms can be redefined to serve an agenda. Israel cannot be part of the infobox, because external factions need to make a \"\"certain number\"\" of attacks. A war faction can\\'t be considered separate because it has not contributed with a \"\"certain percentage\"\" of fighting. Are you fucking kidding me?   \"',\n",
       " 'go suck some fucking cock and stop blocking my edits u cock.',\n",
       " '\" \\n ==Brothers== \\n The List of association football families of note was listed Giuseppe Colucci (footballer) and Leonardo Colucci, but i think it is un-sourced. Anyone have source please cite it and add back to article.   \"',\n",
       " \"::::Well, it sucks to have a university to be nicknameless. And it's the first time in NCAA history that it has happened. /\",\n",
       " '== Argh == \\n\\n Some random idiot deleted the whole Japan article <.',\n",
       " '== hello == \\n\\n you are an T0T@L D0UCH3 B@G',\n",
       " \"Melanie; PLEASE read previous debates on these very issues. (PS; are you hitting the Save page button multiple times? several server hangups - sometimes happens when two people are simultaneously submitting) Article used to have extensive discussion of Limbaugh's cost analysis and logic, BUT to include material on Limbaugh's cost analysis and logic, you then have to include Limbaugh's ACTUAL cost analysis and logic. It isn't anywhere on the page, not because nobody knows what it was, but because the controversy being dealt with in this page is ENTIRELY about sexist and misogynistic language. Consensus has been established several times on the subject, and always coalesces around excluding it. PERSONALLY, I do NOT want to have to include the math through which Limbaugh came up with his calculation s that Fluke was having sex at least 3 times a day to justify the number, and I cannot believe that you want to renew the debate.\",\n",
       " ':::::::?????????????? You added and the opposing Mukti Bahini fighters which were supported by Indian Army. So you think that is not duplication????????????????? Or you think the rebels were so bad they ought be mentioned twice in the lede?????????????????????????????????',\n",
       " '\" \\n\\n ==FK Vojvodina== \\n\\n Ej, pošto vidim da si ubacio tabelu u članak o FK Vojvodina, molim te da promeniš \"\"away colours\"\" u tabeli, jer ja ne znam to da uradim. Ovde možeš videti kako izgledaju \"\"away colours\"\" kluba: \\n * http://en.wikipedia.org/wiki/Talk:FK_Vojvodina \\n\\n    \\n \"',\n",
       " \"Thanks for your response.  I'll nominate them today.\",\n",
       " \"Hello everyone I'm just here to tell you that you're all freaks\",\n",
       " '\" \\n :To be blunt: so what?  What does that have to do with improving the article?   \"',\n",
       " '\" \\n :Magic...so I suggest you don\\'t tempt such powers any further P...  \"',\n",
       " 'See the Wikipedia article on specific impulse.',\n",
       " ':Agreed. Moreover, the recent additions place an undue emphasis on arguments in court briefs, much of which will become far less salient after the Supreme Court actually decides the case in a few months. –  ·',\n",
       " 'Stop vandalizing the Sheryl Swoopes article, or you will be banned.',\n",
       " '==AAlerts question== \\n I was wondering about the reasons behind this edit. This is actually a recently set up page; did I miss a step somewhere when setting it up? Thanks.—\\xa0•\\xa0; February\\xa028, 2011; 14:34 (UTC)',\n",
       " '\" \\n * \"\"While profeminist men and profeminist writing generally constitute the dominant perspective within men’s studies in the academy, the shelves in the men’s section of most bookstores are filled with books that come from two other perspectives, namely, men’s rights and mythopoetic, which share the basic assumption that what is wrong with men’s lives derives from the traditional masculine gender role of protector, provider, and head of the family.\"\" Kenneth Clatterbaugh \\n * \"\"[S]tarting with Herb Goldberg’s The Hazards of Being Male: Surviving the Myth of Masculine Privilege (1976), there has been a steady stream of books that argue that men are not privileged relative to women.  The authors of these books claim either that men are just as afflicted by their gender role or that they are more afflicted by it than are women by theirs.  In either case, men’s rights defenders find a great lie at the center of feminism, namely, the notion that men are privileged relative to women.  Probably no writer has said it better than Goldberg [who cites] problems of traditional masculinity such as emotional repression, isolation from other men, fear of failure, and a high suicide rate.\"\"  Kenneth Clatterbaugh \\n * \"\"The theme that was foundational to men\\'s rights, namely, the oppressive nature of traditional masculinity, has been undermined by fathers\\' rights activists who want to pursue a set of custody rights \\'and\\' traditional masculinity.\"\"  Kenneth Clatterbaugh\"',\n",
       " '\" \\n\\n I really don\\'t think that this is less than \"\"simple.\"\"  The other page summarizes the first movie.  Should that information be part of this article?  If so, why not merge them? \\n   \"',\n",
       " '\" \\n\\n Just for the record, I disagree with using this photo, since it is a mugshot from an arrest, being used in the info box.  The last reason given for it\\'s inclusion partially stated \"\"nothing in the photo cues the reader to perceive it\\'s a mug shot\"\".  So we count on dumb readers? -   \"',\n",
       " \":Thank you for your suggestion. When you feel an article needs improvement, please feel free to make those changes.  Wikipedia is a wiki, so anyone can edit almost any article by simply following the  link at the top. The Wikipedia community encourages you to be bold in updating pages. Don't worry too much about making honest mistakes — they're likely to be found and corrected quickly. If you're not sure how editing works, check out how to edit a page, or use the sandbox to try out your editing skills.  New contributors are always welcome. You don't even need to log in (although there are many reasons why you might want to).\",\n",
       " '\" \\n\\n ::I am not asking that the article itself draw any conclusions, and the rest of your remarks are exactly the kind of synthesis that I desire. My remarks are meant to move us past the conflict on the talk page. Our sources are, of course, the verifiable secondary sources, and we are not to do original research. As CTSWynekan has said, Wikipedia is a tertiary source. Frankly, it\\'s enough for me that the various Christian views are presented fairly and accurately, the various Jewish views are presented fairly and accurately, the various historical views (whether by specialists or nonspecialists) are presented fairly and accurately, and all other views are presented fairly and accurately. All should be given the appropriate weight and context. That is enough of a synthesis for me.  \\n ::But, we all have our subjective views, and many of our views have clashed, hence we have been bogged down in one paragraph for far too long. What bothers me is the binary thinking evidenced by some (many, not all), which has polarized the debate. We should also, of course, be sure not to confuse our various subjective viewpoints with the objective actual, verifiable and factual (as someone once said). So in the end, I essentially agree with you. My remarks on thesis-antithesis-synthesis and the rest have to do with the debate on this page, not with the article itself. I want us to move past conflict so we can examine the verifiable sources, and put aside our own views while still making sure that we (any \"\"we\"\") are accurately represented, as are the views of others. To paraphrase Ross Perot, everybody stop fighting and get to work! If you\\'ll check you\\'ll notice that I\\'ve done very little work on the article itself; most of my efforts have been focused on the talk page. \\n ::NPOV (when we reach it) will be a synthesis accurately reporting the views of all, and referenced to the appropriate verifiable sources.That said, I have been as frustrated as anyone else and needed to vent my spleen (which perhaps presented my POV more strongly than I have in the past. Does that make it trinary?). My spleen has been vented. My comments will remain on my user page at least until we formulate a second paragraph that does exactly as you say, and is accepted by all. It may go back if we run into further unresolved conflict. \\n ::My \"\"claim that it is a conundrum\"\" alludes to how the issue of historicity is handled at Socrates, where any debate has been much more peaceful and civilized.   \\n\\n \"',\n",
       " \"T IS PEOPLE LIKE YOU THAT MAKE WIKIPEDIA HORRIBLE. BLOCKING SCHNITZELMANGREEK FOR NO REASON!GET A LIFE YOU LOSER OR I'L KILL YOU, YOU WIFE, AND CHILDREN!!!!BURN IN HELL!!I LIGHT YOUR CORPSE LIKE FIREWOOD!!BEWARE-YOU AND YOUR FAMILY. I DARE YOU TO TALK BACK TO ME AND SEE WHAT HAPPENS!!!!!!!!!!!!!!!!!!!!!!!!!!!!!!SO WHATS IT GOING TO BE!!!!!!!!!!!Fuckin Nigga'  \\n   +   \\n   + I managed to track your adderess and will hunt you down in your sleep. I WILL SHOOT YOU AND CUT YOUR CHILDREN UP!!!!!!!!!!! JUST, I DARE YOU TO TALK BACK TO ME OR BLOCK ME FOR DEATH THREATS!!!JUST SEE WHAT I'LL DO!!!!!!!!!!  \\n   +   \\n   + This isn't vandilism, its A SERIOUS DEATH THREAT!! UNBLOCK SchnitzelManGreek!!!! Get a life you loser or I'll kill you FUCKING BITCH!!!!!!!\",\n",
       " '\" \\n \"\"Why hasn\\'t RetroS1mone been as forthcoming on this CFS talkpage?\"\" Why you think, bc people here call me \"\"it\"\" and \"\"this\"\" and revert MEDRS w/o discussing. CFS is not chronic fatigue?? Pls, authors talk about CFS and some say \"\"chronic fatigue syndromes\"\" and some say \"\"chronic fatigue\"\" you are saying CFS and chronic fatigue are not same thing or things?? What is MEDRS for it. And you think CFS symptoms are medically explained?? Every review says the cause is not known. The MUS reviews say CFS and FM and MCS and IBS are medically unexplained symptoms, do you want me cite three of them,five how many?? Do you want one quote from each, five?? Do you want, I ignore copy rights like some people and send you whole PDFs?? Pls go to a library people and you can get internet access through library when you can not leave house there are programs.   \"',\n",
       " '\" \\n\\n  \\n ==What a loser== \\n This is a message for User:71.199.22.250 \\n\\n Wow, I was passing by and at first I thought you were a victim of attack, but after looking into it for 10 mins, I see you\\'re the loser who started this shit. \\n\\n I see you attacked the \"\"99.107.151.144\"\" guy on his own talk page for no reason and then you cried like the big baby you are in a failed report attempt, when really he\\'s the one who should have been reporting you. \\n\\n Next time, if you can\\'t take shit, don\\'t start it you jackass! Get a life!\"',\n",
       " 'Please stop your disruptive editing. If you continue to vandalize Wikipedia, as you did at Warwick School, you will be blocked from editing.',\n",
       " '== Citation for use == \\n\\n * \\n :Citation for use. —  •  • review) -',\n",
       " ', so I propose merging African Bush Elephant into African Savanna Elephant',\n",
       " '== A question == \\n\\n I dont understand how they play, why they play only 34 games when there are 20 teams => 19 x 2 = 38 games. \\n Portland Timbers played 3 teams with LA Galaxy... how ? \\n Maybe someone can explain to me...',\n",
       " '== Mexico == \\n Mexico is easy because I speak the language fluently. Iran, I stopped because the jerks at ANI made it no fun any more.',\n",
       " '\" \\n\\n == Why is this article not called \"\"Republic of China\"\"? == \\n\\n In the Macedonia name dispute a vote was taken that ignored the provisional UN name of Former Yugoslav Republic of Macedonia. The rationale given for this is that Wikipedia does not conform to international bodies and that self-determination of name trumps regardless of international disputes between states. Ergo - why are the people of the Republic of China held to a different standard? This inconsistent logic smells of prejudice towards either  the people of Taiwan and/or the people of Greece. I therefore propose that this article be renamed Republic of China to keep things consistent.  — Preceding unsigned comment added by     \\n\\n  \\n A few points I\\'d like to add. \\n\\n # The People\\'s Republic of China recognizes the self-determined name of Republic of Macedonia. \\n # The People\\'s Republic of China does not recognize the self-determination of the Republic of China (Taiwan). \\n # The US government, did not recognize Republic of Macedonia in 1944 (the US state department at the time calling it \"\"communist demagoguery\"\") but flip flopped in 2003 and now recognizes it. \\n # The US government, orginally did recognize the Republic of China (Taiwan)  right up until it flip-flopped and removed recognition in the 1970s. \\n\\n This opens up the secondary question is Wikipedia taking a principled approach on international issues or simply parroting the current foreign policy of leading nations? (i.e. mob rule)  — Preceding unsigned comment added by     \\n\\n : For the reasons given here: Talk:Taiwan/Archive 20. A lot of discussion so a lot of reading, but if you\\'re interested in the issue I think well worth reading at least the highlights of it.  \\n\\n :: For the same reason that we have North Korea not the \\'Democratic People Republic of Korea\\' and we have Burma not the \\'Republic of the Union of Myanmar\\'. It is policy to use the common English name. Not the official name; not the UN designated name; not the preferred name of the local people; but the common name as used by English speaking people to describe the subject. See WP:Naming Conventions for more information about how article names are decided on Wikipedia.    \\n\\n ::: Naming this article \\'Taiwan\\' does not contribute clarity. Titling the article \\'Taiwan\\' may lead the reader to belief that such a country as \\'Taiwan\\' exists, or that \\'Taiwan\\' can be equated to the \\'Republic of China\\', which are both invalid arguments in accordance with the Constitution of the Republic of China. The fact is that no country called \\'Taiwan\\' exists, and that the \\'Republic of China\\' cannot be casually associated with \\'Taiwan\\' as historically they are very distinct entities. It also contravenes the rules for Wikipedia\\'s neutral POV rules, as it promotes the DPP\\'s assertion that Taiwan should edge toward independence by increasing the usage of \\'Taiwan\\' without officially abandoning the \\'Republic of China\\' name. It is for the sake of objectiveness that the official name should be used. See: WP:Neutral point of view   \\n ::::Again see the requested move, where this was debated in long detail to arrive at the current title, best representing consensus and common usage. The article is Taiwan reflecting the common name for the country.  \\n\\n :::::Thank you  for your clarification on this matter. I agree that this article should be named Taiwan for the sake of clarity to English speakers in Wikipedia. However, I believe that it should be made clearer that the Republic of China is not equivalent to Taiwan.    \\n\\n ::::::If the reader wants to actually understand what the topic is about and what the name m',\n",
       " 'Rob, I actually like having you around for no other reason than you have a different POV from those with a Christian perspective.  However, I also find you to be overly disruptive.  Yes, I understand, as well as everyone else, your position that factual evidence does not exist.  Yes, we understand that there are scholars that support that position.  No, they are not the majority.  They are not even a significant minority.  They are a very small group that contends Jesus did not exist.  You have registered your POV and we are aware of it.  I ask that you now move on and address the article as a whole and accept that your position has already been accounted for in the article.  When you fight so hard and become so obstinate, you lose the respect of your fellow editors and your POV is shut out almost completely.  You have become a source of conflict and contention.  Please recognize that your current methods are not working.  Find another way to interact with your fellow editors so that your POV is at least a chance of being heard.',\n",
       " 'Thank you for experimenting with the page zinc on Wikipedia. Your test worked, and it has been reverted or removed. Please use the sandbox for any other tests you want to do. Take a look at the welcome page if you would like to learn more about contributing to our encyclopedia.',\n",
       " \":It's a recommendation. That's the point, keep this stuff off the main space.\",\n",
       " 'Um that is your opinion i belive DBZ tenchaichi 3 and the last of the original bodikai for the PS2 bodikai 3 is just as good as virtua fighter, tekken, DOA and other well known fighting games. So come into reality and notice that everything you think is fact that is just base on what you think is highly unimpaortant and is mediocre in the eyes of others that actually do research on the subject. You havent even stated anything about the game itself you just started of by saying thats a crappy series OR its not any good LOL. Anyway even if you did your research with hardcore evidence that say these games suck huge balls or is poo and the games are a craptistic series and user Sabishi Kage is indeed a suck up and a yes man that is not neaded here on wikipedia. And also if you two are going to start an edit war over something that is not even related to this article and is childish as Kim Kusanagi paragraph maybe you to should exchange your yahoo user names or myspace user names or whatever to argue. BUT not here on this DISSCUSSION PAGE. And Kim Kusanagi when you screw things up, you deserved to be bashed and even physically punished.....WOW you need therapy about child hood realated issues buddy, mabey its because of your dad, your mom or possibly your grandfather beating on you? That is obviously some words said by someone that needs help mentaly most likely due to incidents done when you were a child. I mean, who say or even type something like that? You have only added a useless sentence to this page until you came up with this paragraph that shows you have anger issues, you used to get beaten on and you belive what you say goes without any research (more clearly without say) Get your facts straight LOL ......,  .',\n",
       " '==Semi Protected Request== \\n First an IP address, and then a newly registered user (most likely the same person), continue to make changes that rely solely on sources published by those related to the church.',\n",
       " \"No Sandstein, it is not derogatory. Just because it is not your viewpoint does not change the fact that it is FACTUAL. If it wasn't the terminology would not exist. So get your facts straight before you comment on anything.\",\n",
       " '\" \\n ==The accusations have profoundly effected his life, therefore are notable and deserve inclusion.== \\n The facts have moved past debating whether there really is a love affair or a love child, its on to how this is hurting John Edwards. I guess someone researching him would just have to wonder why his political career suddenly sputtered the summer of 2008, wiki won\\'t mention what everyone else is writing long stories about. \\n\\n Its probably ended his career in politics. Whether the story is true or false or not is debatable, and it doesn\\'t matter if you don\\'t like the original source, leftist wiki editors protecting Edwards: the story now is how the allegations are damaging him and have already probably lost him any chance at his best chance at furthering his career: the VP slot. Its an important story, its an important fact that his behaviour has caused a firestorm. Suppressing the story _completely_ is making wikipedia a laughing stock. Gawker, Mickey Kaus, countless bloggers are going on about it and pointing to it as proof of wiki\\'s leftist bias. You aren\\'t really hiding anything anyone doesn\\'t know already, and you\\'re making the site you claim to be protecting look stupid.  \\n\\n Its noteworthy, very much so. Its verifiable that the scandal, true or false, is affecting his career (many people have been hurt by scandals that turned out to be false, that doesn\\'t make the news of the damage any less noteworthy). It has innumerable sources as to the effect on Edwards\\' career. Its time to lift the blackout and start debating on the wording of a section about it. You can\\'t avoid it forever. Are you just trying to bluff it out until the election is over in hopes of minimizing any tangential damage you think it might cause Obama?  —Preceding unsigned comment added by     \\n\\n :Is it really a surprise that people are fighting to get the truth posted on Wikipedia? I recently had to deal with the Nazi admins on Wiki and let me tell you, I could honestly say they act like a bunch of kids in the movie \"\"Lord of the Flies\"\". The majority of them will not listen to reason and when you present them with facts they disregard them. There is also no one managing this site from the top who gives a crap about what is going on here. The only way the owners of Wikipedia will challenge a Nazi admin is when it involves legal action. Wikipedia is the anti-Christ of the internet. Also a majority of the Nazi admins are liberals and the only way to become an admin is to be voted in by another liberal Nazi admin. Once again, \"\"Lord of the Flies\"\". Just wait and see. I will be hounded by many of them for posting just this little snippet. Its pretty much a given. They will probably ban my IP or kick me off the site for a few days. If they dont like what you are saying, that is what they do. They pretty much do what they want. Pretty pathetic.    \\n\\n :: It is obvious that there is a calculated effort by the mainstream media (MSM) to suppress any information about this story. The MSM has jumped on stories with much less to go on than this Edwards story. It doesn\\'t take a rocket scientist to know that the MSM, and the liberal websites like Wikipedia, won’t talk about the bad things that happen in the Democrat party because it is the party and ideals that they personally believe in. It is human nature to not attack yourself and the Democrats will not attack themselves by talking about Edwards cheating on his wife who is dying of cancer. This is a silver bullet for the Democratic Party especially because there is a presidential race going on. Why do you think the MSM sits on stories until months or weeks before an actual election takes place? It is a new phenomena occurring in the MSM where they run a story with little facts in an effort to smear a person (typically a politician) then they let the people decide if they want to believe it. This usually occurs with little or if any facts to back it up. All the major networks do it all the time. A perfect example is the Dan Rather forged documents story about President Bush. They unleashed the story with little to no facts right before a Presidential election. It’s very sad that more of the American people don’t see what the MSM to trying to pull off right in front of their eyes. I am not an avid listener of Rush but I have caught him a few times and there is absolute truth to the term he uses when referring to the MSM, \"\"Drive-by Media\"\". The MSM is a business and they are putting out a product. What is very sad is the fact that the upper management in most of these news organizations don’t realize that they are putting out a product that most of the American people don’t c',\n",
       " '\" \\n\\n No kidding  right up there with the \"\"Superman\"\" and \"\"Poltergeist\"\" curses.  If I was Samuel L. Jackson, my ass would be on lockdown right about now.   \"',\n",
       " ': if the photo is deleted, another troll or the same one, will simply put it back. \\n : unfortunaly, trolls are everywhere, we just have to be pantient and follow wikipedia policies and etiquete -',\n",
       " ':When speaking of getting blocked, you talk from multiple experience.',\n",
       " ', 6 December 2005 (UTC) \\n :::He blocked me for a suposed Breach of personal attack injunction.  18:10',\n",
       " '\" \\n\\n == JTBX\\'s post at Editor assistance == \\n\\n You might want to have a look at this.  I am not telling you whether or how you should respond, but I do think you should be aware of his one-sided version of events.  Cheers! -\\'\\'\\'\\'\\'\\'\\'\\'\\'\\' \"',\n",
       " 'fuck you bitch email me at Dragonhill@ymail.com',\n",
       " 'hô \\n | Ha Mitsukō \\n | Yeop Milho \\n | ? Mật ?',\n",
       " \":::But right now the book is more notable. The film isn't out yet.\",\n",
       " '-bye, bitches and walk hard.',\n",
       " '(we hate america and we are going to bomb the shit out of there cities, Queza;s will rain)',\n",
       " ':::Hey, , what was the D&G; pic about? My slinging of wit against my seemingly almighty opponents? Or were you implying that I have grown into a Wikipedian Goliath merely waiting for some newbie to revenge-bite me to death? \\n :::',\n",
       " '\" \\n\\n  \\n == Lettonia == \\n\\n The Oxford online dictionary entry \"\"Lettonia\"\" merely points to \"\"Latvia\"\", and in some other languages the name of the country is \"\"Lettonia\"\" or some variation thereof.  Is \"\"Lettonia\"\" a rare/obsolete English name for the country?  If so, it should be mentioned in the article.    \\n\\n : It\\'s not an obsolete English term, prior English is Livonia (most of current Latvia plus Estonia). In German, Latvia is LettlandLettonia is the German Lettland fashioned into Latin. (Latvia is also Lettonia in modern Italian.)  ► \"',\n",
       " '== Bold textYOU SUCK!!! == \\n\\n  \\n\\n U SUCK HANNAH MONTANA',\n",
       " '\" \\n\\n  Please do not vandalize pages, as you did with this edit to Badminton. If you continue to do so, you will be blocked from editing.   \"',\n",
       " 'REDIRECT Talk:The Amazing Race 20',\n",
       " \", 2 February 2007 (UTC) \\n\\n :Certainly, I would not ask you to include something in Wikipedia solely on the basis of anecdotal evidence; what I'm trying to convince you of is that claiming that adultery between a married woman and an unmarried man only is prima facie ridiculous in modern usage.  Also, I certainly do not object in any way to having an explanation of historical usage and the fact that it used to be considered a property-type crime.  I am not pushing any type of anti-sexist POV here; I am disputing the definition you are attempting to give having reviewed sources on the matter. - |  21:52\",\n",
       " 'NIGGER PLEASE  \\n EAT A COCK, LOL HY.',\n",
       " '\"I went ahead and added \"\"or exclusive\"\" to \"\"primary,\"\" because just like \"\"sexual preference\"\" can be seen as problematic to some, \"\"primary\"\" suggests that there is some other type of individual in which pedophiles can get \"\"turned on\"\" by. While this is the case for some pedophiles, it does not cover the ones who can only get \"\"turned on\"\" by thoughts of sexual interactions with prepubescent children.    \\n\\n \"',\n",
       " \"== Witkacy's deletions on AP == \\n If he won't reply to you let me know and I will see what I can do. For now, I try to stay away from this and similar controversial articles, if I can. I do think it is an encyclopedic subject, but I find it to depressing - both in actual content and related POV fighting - to use my time on it...\",\n",
       " '\" \\n ::::::::Really? Wow that sucks. Cool! Who should we have look through it? * \"',\n",
       " ':::::::::Moi? Ego? I am mortified that you could say such a thing - poor old Mona I always thiught she was a miserable looking woman - probably hormonal.',\n",
       " \"She lies, she's sad, because most probably her father was killed by other Jew for telling secrets, so now she accuses all Polish nation of cooperating with nazi Germans, which is not true and she should be ashemed and never call herself Polish. What a shame she lies like that, but the Polish government will take care of this scandal. I know she seeks attention and money and she's very sad, because of pottetntial fact, that her father was killed by his brothers - Jews. \\n Polish peopole were helping Jews to survive, were risking their lives in order to save Jews from death, so spreading such lies is hurtful and shameful. Shame on you Debbie, shame on you! Not because your religion is Jewish, but because you are spreading lies and you don't search for justice amongst Germans - in the embassy of Germany, but amongst the biggest saviors of Jews - Polish nation. You are ungreatful and ask those who were saved by Polish people whether they say anything wrong about Polish people. Oh, they won't tell you one thing wrong. \\n Ask for justice amongst Germans!!!!!\",\n",
       " '\" \\n\\n ==Timeline section should be prose History section== \\n Most sections in articles that trace the history of a given thing are called \"\"History\"\", and written as prose. Bulleted lists sections should be kept to a minimum, and used only when the material is best presented as such. This section is not one of those. When I put the {{prose|section}} tag on that section, Nunh-huh removed it, saying, \"\"By its nature, a timeline is bulletpoints.\"\" The only problem is, no one ever said that it has to be a timeline in the first place, as he is assuming that as a given. It isn\\'t a given. It\\'s something that should be discussed.   \"',\n",
       " '\" \\n ::::::::You are right, Dmcq, but many editors don\\'t understand the \"\"undue weight\"\" principle (this may not apply to anyone here, of course) and that can lead to useless arguments. I thought a more concrete reason might be more successful at bringing this thread to a reasonable conclusion.   \"',\n",
       " '\"==Revision of Asterinidae== \\n\\n Just a heads up to all interested in this sea star family. Here is the paper:  \\n * P. Mark O’Loughlin and Jonathan M. Waters.(2004). \"\"A molecular and morphological revision of genera of Asterinidae (Echinodermata: Asteroidea)\"\". Memoirs of Museum Victoria 61(1): 1–40.  \\n\\n If you can\\'t access it feel free to ask me to send it to you -)   \"',\n",
       " 'FK OLIMPIK SARAJEVO',\n",
       " \"a butt-fucking bitch who rappes innocent little boys and girls. At night, she turns into batbitch, a super hero who dedicated her life to rapping the fuck out of children. She's also\",\n",
       " \":::The great thing about TWINKLE is that it removes any frustration in playing whack-the-vandal: hence I haven't insulted a vandal for months. Or even tried to get fun-sarcastic - though maybe some part of me misses those idyllic days of telling userpage vandals to FUCK OFF via edit summary. Any mail for me, Riana?   Request a recording?\",\n",
       " '\" \\n\\n ::::The point is that strains and breeds are not \"\"social concepts\"\", they are the result of selective breeding in plants and animals; very different from the human concept of \"\"race\"\".  Species even more so; no human intervention at all, but rather a function of biology.  A 1966 source isn\\'t going to work here, and though  was, well, rather grumpy, you did ask if you were being \"\"silly to suggest this,\"\" and the answer is yes, you are.   \"',\n",
       " 'https://en.wikipedia.org/w/index.php?title=Elkton_High_School_(Oregon)&diff;=prev&oldid;=629947129 send her to school. Here ia a good one.',\n",
       " '\" \\n\\n ==Peter Blum== \\n I woulld like to thankyou for your very fast assistance on the AfD talk page. I have left appriate messages on . Again, Thankyou  \"',\n",
       " '\" \\n\\n == \"\"popular conception\"\" == \\n\\n We are talking here about how Sommers was perceived by the public, thus the phrase \"\"popular conception\"\" properly attributes the conception to the said public and is logically sound and indivisible (\"\"The conception of Sommers by the public was...\"\" would be a long-winded way to say it). Without \"\"popular\"\", the attribution is unclear...is it Sommers\\' conception of herself? (illogical) \\n   \"',\n",
       " '\" \\n\\n == The current Gauntlet to be run == \\n\\n While  encourages us to \"\"be bold\"\", there are drawback in controversial articles.  It helps to know who will tend to revert.  Based on Archive 44, here is the list: \\n\\n * \\n * \\n * \\n * \\n * - more of a commentator than a reverter\"',\n",
       " '*Unfortunately, the site you took the text from suffers from really poor grammar and spelling.',\n",
       " 'For example, here is my sig:',\n",
       " ': see Axial tilt',\n",
       " ', 1 September 2008 (UTC) f**k **f is that kashmir cloud getting angry vandal showing his true colours you dont deserve anything fool this article will eventually be removed then you can swear and abuse some one else if your man enough do it in person or did your balls dropp off   20:38',\n",
       " '\" \\n\\n == ZOMG! iPhone dictation faux pas! == \\n\\n \"\"We\\'re putting together some things to bring in to you later (semi colon)\"\" came out as \"\"We are putting together some things to bring in to you like to suck cock ....\"\" LULZ!   \"',\n",
       " \":Hi, I take it that you are Dick Solomon, the webmaster of sourcing.com, the above company's website. You might like to read WP:Conflict of interest, thanks.\",\n",
       " 'Seneca college sucks donkey dick',\n",
       " '\" \\n\\n So, on the tenth anniversary of 9/11, \"\"New York Times\"\" \"\"columnist\"\" Paul Krugman delivered the odious piece of dribble ever on the attack  well, at least since the last time he wrote about it. The headline is, quote, \"\"The Years of Shame,\"\" end quote. And no, it\\'s not directed at radical Islam. Instead, he targets America and the, quote, \"\"fake heroes.\"\" Krugman claims that the atrocity has been hijacked. The sick word given that he\\'s not actually talking about the real hijackers who killed some 3,000 Americans. No, he\\'s referring to people like George Bush and Rudy Giuliani who he thinks capitalized on the horrible crimes. But the worst part, at the end of this column, the creep writes, \"\"I\\'m not going to allow comments on the post for obvious reasons.\"\" That obvious reason, he\\'s a coward. I mean, why else would you ban responses? He\\'s like a 10-year-old boy crank-calling all of us only to hang up even before he hears a response, hearing his shame for his own wickedness. Now, I watch the memorial services and I feel sorrow for the families whose grief never really ends. But since I\\'m lousy at emotional reflection I usually avoid it. But at least I can summarize what many feel today in nine words: go to hell, Paul Krugman, you bearded, bitter buffoon.\"',\n",
       " \"== RfC at 2009 Honduran coup d'état regarding mention of the constitutional crisis in the lede == \\n\\n I'd like your opinion, and that of other editors that have been interested in the Honduran articles, at Talk:2009_Honduran_coup_d%27%C3%A9tat#RfC:_Do_the_sources_support_the_mention_of_coup_as_part_of_the_constitutional_crisis_in_the_lede_of_this_article.3F. Thanks!\",\n",
       " '\"Hi, \\n Thank you for your contributions to skating articles but I had to remove the information such as \"\"15th highest score under the IJS\"\" because that information can change regularly and I doubt anyone will update it. I\\'m sorry but keeping World rankings updated is trouble enough.  \"',\n",
       " 'Who the fuck is the idiot who thinks Chobits is shoujo',\n",
       " \"Your argument is dead in the water. I'm not an Irish nationalist yet I object to the term - I am entirely stisfied for Northern Ireland's constitutional status as an integral part of the UK to remain in perpetuity. It's non-usage in Ireland is certainly not determined by political stance, it is determined by the fact that Ireland is not British. This is due to our understanding of the English Language. The Pretannic Isles is not the same as 'British' Isles which you have great difficulty comprehending; 'British' refers only to the island of Great Britain, 'Pretannic' refers to Great Britain, Ireland and surrounding Islands excliding the Channel Islands.  \\n\\n Irish is not spoken by a tiny minority either, up to 40% of the population claims to speak it to some degree. The ignorance of Britons is bewildering at times; it is not a neutral term and to believe that ot has no geo-political connotations is at best naive and ignorant, at worst arrogant and stupid. To believe taht this is an English encyclopedia is just plain bizarre - this is the English LANGUAGE version of an internet Encyclopedia. The English language is not yours either, you do realise that English has been 'bastardised' to a huge extent over the centuries already, don't you? To claim that, 'Islands of  the North Atlantic laden with political judgements' and 'bastardising' the language is just absurd. Iolar\",\n",
       " ':: *rolls eyes drily* Slippery slope is a logical fallacy. At least, sometimes.',\n",
       " '(1956 film)|Moby Dick',\n",
       " '\" \\n :::::::Acttually, if you click through the pages of results, there are infact  458 hits for \"\"occupation of the baltic states\"\", and 295 hits for \"\"incorporation of the baltic states\"\" , so \"\"occupation\"\" has twice the number of hits that \"\"incorporation\"\". Anyway, I think \"\"incorporation\"\" is a narrower term.   \"',\n",
       " \"::Please remember , I do not set the standards or decide the afds. I can sometimes influence a particular discussion, and I can sometimes help establish a trend, but I am only effective if I stay reasonably close to  the current consensus. It is quite common for  what I propose is to be rejected, and I don't want my ideas to be rejected too often, or I'll have no influence at all. ''''''\",\n",
       " '\" \\n Attention: \\n\\n This IP address, , is registered to Merrimack Education Center and is shared by multiple users. Comments left on this page may be received by other users of this IP and appear to be irrelevant. Caution should be used when blocking this IP or reverting its contributions without checking. \\n\\n If you are an unregistered user operating from this address, note that this need not necessarily be the IP address of your machine. In many cases, it turns out to be the IP address of a proxy server that communicates between your browser and the Wikimedia servers. Such proxies are shared among a huge number of users compared to the number of persons using your particular machine. If you are frustrated by irrelevant comments appearing here, you can avoid them by creating an account for yourself. \\n\\n  \\n \"',\n",
       " '\" \\n\\n ::: Firstly, it must be noted that there has been compromise, and that several of the suggestions have been incorporated. \\n\\n As to the remainder, the overriding problem is the casual language. Fragments such as: \\n\\n \"\"Louis narrates how he reached this point\"\" is clunky and less formal than the more appropriate In a  flashback, Louis reveals in narration the circumstances of his imprisonment. \\n\\n This is minor, but Louis\\' mother is forced to take a boarder - more accurate than \"\"humbles herself\"\" which is also clunky. \\n\\n \"\"Unimpressed by his prospects, Sibella turns down his proposal and instead marries Lionel (John Penrose)\"\" is firstly an assumption and casual (ie. \"\"turns down\"\"). This: After being rebuked by an now adult Sibella and witnessing her marriage to Lionel (John Penrose) is more formal and 100% accurate. \\n\\n \"\"At his workplace, Louis has to wait upon\"\" is clumsy, but there can be a modification that incorporates the best of both.  \"\"A darkroom explosion makes her a widow\"\" is simply unnecessary and casual in tone. This can also be modified. You\\'ve also missed the viewing of the remaining family at the church. \\n\\n That said, there are some improvements, such as the fatal boating accident and the letter of condolence. \\n   \"',\n",
       " \"::That site is full of people gnashing their teeth over the fact that they've been banned from Wikipedia; only a handful of the contributors there have routinely displayed well thought out and reasoned criticisms of Wikipedia.  I wouldn't include thekohser in said handful. ''''\",\n",
       " '==UFO University, Universiteti UFO== \\n What is or was UFO University?  Apparently you can still see a billboard with this name on it in Tirana, and the UFO coffeehouse and other places take their name from it. \\n\\n What does the UFO stand for, and what has become of it?  Thanks,',\n",
       " 'I was referring to the writer in charge of the Thor comic book at the time.',\n",
       " 'So i was right, you are mentally retarded.',\n",
       " '\" \\n\\n  \\n ==Suggested improvements== \\n This article has a lot of information and could be a B class article if attention was given to the following issues: \\n\\n * introduction: the article needs an introduction that summarises the entire article (currently it does not have this); \\n * in line citations: another must for a B class, at least one per paragraph or block of information; \\n * a more comprehensive narrative - also as mentioned above by a frustrated reader the opening of the history section does not make sense. It refers to \"\"the wing\"\", but what wing - I assume it is the 17th Bombardment Training Wing as detailed below the offending section, but this should be spelt out clearly; \\n * finally it will need a copy edit. \\n\\n Just a few ideas. Hope this helps.   \"',\n",
       " 'HE IS A GHAY ASS FUCKER@@!!',\n",
       " 'User status \\n |status= offline \\n |position= top \\n |float= left',\n",
       " '\" \\n ==Speedy deletion of Jodie huang== \\n  A tag has been placed on Jodie huang requesting that it be speedily deleted from Wikipedia. This has been done under section A7 of the criteria for speedy deletion, because the article appears to be about a person or group of people, but it does not indicate how or why the subject is notable: that is, why an article about that subject should be included in an encyclopedia. Under the criteria for speedy deletion, articles that do not indicate the subject\\'s importance or significance may be deleted at any time. Please see the guidelines for what is generally accepted as notable, as well as our subject-specific notability guideline for biographies.  \\n\\n If you think that this notice was placed here in error, you may contest the deletion by adding  to the top of the page that has been nominated for deletion (just below the existing speedy deletion or \"\"db\"\" tag), coupled with adding a note on the talk page explaining your position, but be aware that once tagged for speedy deletion, if the article meets the criterion it may be deleted without delay. Please do not remove the speedy deletion tag yourself, but don\\'t hesitate to add information to the article that would would render it more in conformance with Wikipedia\\'s policies and guidelines. Lastly, please note that if the article does get deleted, you can contact one of these admins to request that a copy be emailed to you.     \"',\n",
       " \": Well, a very small portion of the Dragovistica's watershed is in Maceodnia. The source of the Brankovacka reka, its tributary, is on the border of Serbia and Macedonia, and a small area (not more than few square kilometers) of its drainage area is within Macedonia. So I thought it should be noted. However, my map is detailed but old, and it is possible that after corrections of the border in the 1990's, the borderline leaves all of it within Serbia (which, if you look at the map, would be natural). But if you think it is not important, it can be omitted\",\n",
       " '\" \\n\\n == Rex_Germanus == \\n\\n Greetings, I\\'m a little concerned about , who is so unrepentant about reverting Dutch_language 4 times in 26 hours that he has removed all Talk (his own, those of other users, admins) about his 48hr block from his userpage with the edit summaries \"\"apparently wikipedia hasn\\'t got it any more\"\" and \"\"remove shameful wikipedic punishment\"\". That seems to fall into the category of Behavior that is unacceptable. Do you think it\\'s worth pursuing this further?  \"',\n",
       " '\" \\n :Support: I support the merge.  \"',\n",
       " '\" \\n\\n == Improper == \\n\\n This whole \"\"article\"\" is racist and subpar crap. No respectable dictionary would spread slurs. Fuck America!   \"',\n",
       " \"Cool! Thanks, I'll fix this. \\n Tom\",\n",
       " \"== Bantry Bay == \\n\\n Wow, I don't know how I was that far off, or where I got that date from. Scratching my head >\",\n",
       " '\" \\n\\n == A barnstar for you! == \\n\\n {| style=\"\"background-color: #fdffe7; border: 1px solid #fceb92;\"\" \\n |rowspan=\"\"2\"\" style=\"\"vertical-align: middle; padding: 5px;\"\" |  \\n |style=\"\"font-size: x-large; padding: 3px 3px 0 3px; height: 1.5em;\"\" | The Barnstar of Good Humor \\n |- \\n |style=\"\"vertical-align: middle; padding: 3px;\"\" | For that fantastic userpage!...hehehe     \\n |}\"',\n",
       " \"== Anthony Browne in Political Correctness == \\n\\n Hello, I'm contacting you because the Anthony Browne bit you added to the article Political Correctness was removed: https://en.wikipedia.org/w/index.php?title=Political_correctness&diff;=690760560&oldid;=690751090 \\n\\n If you would like to have it stay, then come to the talk page and state so: https://en.wikipedia.org/wiki/Talk:Political_correctness#Civitas_think_tank_pamphlet. \\n\\n I for one am for it.\",\n",
       " '== Fuck you == \\n\\n You fucking faggot, stop sending me these gay little messages about vandalism!  Even if you ban me I can make a new account-simple as that ]',\n",
       " 'Simple: You are stupid!',\n",
       " 'refuse to be open to other people and ideas',\n",
       " 'The only group the US is unambiguously supportive of is the Kurds.',\n",
       " 'tai is a gay fuk nd hes fukd n tha heads hhehehehehehehehehehehehe peace!!!!!!! bloodzzzzzzzzzzzzzzzzzzzzz',\n",
       " '\" \\n\\n  \\n :Oh, that\\'s because they don\\'t. Or more precisely, because the \"\"More Guns Less Crime\"\" faction can\\'t get the difference straight between number of crimes and number of crimes per capita: \\n :Regional Offense Trends and Rates  \\n :The UCR Program divides the United States into four regions: the Northeast, the Midwest, the South, and the West. A map of the United States delineating the regions is included in Appendix III. Estimated crime volume, rates, and percent changes by region are published in Table 4.  \\n\\n                            per 100,000  \\n              violent crime                 murder  \\n northeast       416.5   -2.80%            4.1   -3.70%  \\n midwest         424.9   -1.40%            5.1   -3.50%  \\n west            508.2   -2.10%            5.8   +4.10%  \\n south           571.0   -2.00%            6.8   +0.70%  \\n\\n :. \\n :The gun-banning northeast has the lowest violent crime rate, the lowest murder rate, the steepest decline in violent crime, and the steepest decline in murder rates. The second-amendment-loving south has the highest violent crime rate, the highest murder rate, the second lowest decrease in violent crime rate, and the second highest *increase* in murder rate.  \\n\\n :Include property crime? \\n :The FBI\\'s Crime Index rate reflects the total number of offenses per 100,000 residents. According to the FBI, the national Crime Index rate for 2002 was 4,118. The Northeast region of the United States had the lowest crime of the four regions, with a rate of 2,889 offenses per 100,000 population. The next lowest region was the Midwest, with a Crime Index rate of 3,883 offenses. The Western region followed with a rate of 4,418 offenses, while the Southern region showed the highest crime rate of 4,722 offenses per 100,000 residents.  \\n\\n  \\n 100 Largest Metro Areas \\n (Ranked in order from Least to Most Crime)  \\n  Nassau-Suffolk NY  \\n  Middlesex-Somerset-Hunterdon NJ  \\n  Ventura CA  \\n  Monmouth-Ocean NJ  \\n  Bergen-Passaic NJ  \\n  Scranton-Wilkes-Barre-Hazleton PA  \\n  Harrisburg-Lebanon-Carlisle PA  \\n  San Jose CA  \\n  Pittsburgh PA  \\n  Orange County CA  \\n  Ann Arbor MI  \\n  Albany-Schenectady-Troy NY  \\n  Boston MA-NH-ME  \\n  New York NY  \\n  Allentown-Bethlehem-Easton PA  \\n  Syracuse NY  \\n  Philadelphia PA-NJ  \\n  Hartford CT  \\n  Rochester NY  \\n  Newark NJ  \\n  Buffalo-Niagara Falls NY  \\n  San Diego CA  \\n  Providence-Fall River-Warwick RI-MA  \\n  Jersey City NJ  \\n  Grand Rapids-Muskegon-Holland MI  \\n  Cleveland-Lorain-Elyria OH  \\n  San Francisco CA  \\n  New Haven-Meriden CT  \\n ... \\n St. Louis \\t MO-IL \\n Salt Lake City-Ogden \\t UT \\n Wichita \\t KS \\n Mobile \\t AL \\n Houston \\t TX \\n Nashville \\t TN \\n Orlando \\t FL \\n Fresno \\t CA \\n McAllen-Edinburg-Mission \\t TX \\n Fort Worth-Arlington \\t TX \\n Charleston-North Charleston \\t SC \\n Jacksonville \\t FL \\n Charlotte-Gastonia-Rock Hill \\t NC-SC \\n Dallas \\t TX \\n Omaha \\t NE-IA \\n Tampa-St. Petersburg-Clearwater \\t FL \\n Columbia \\t SC \\n Toledo \\t OH \\n Albuquerque \\t NM \\n Tacoma \\t WA \\n Columbus \\t OH \\n Kansas City \\t MO-KS \\n West Palm Beach-Boca Raton \\t FL \\n Honolulu \\t HI \\n Oklahoma City \\t OK \\n Stockton-Lodi \\t CA \\n Baton Rouge \\t LA \\n San Antonio \\t TX \\n Little Rock-North Little Rock \\t AR \\n Phoenix-Mesa \\t AZ \\n Miami \\t FL \\n Memphis \\t TN-AR-MS \\n Tucson \\t AZ \\n\\n : \\n :Does a pattern emerge? \\n\\n The cities listed here are the 114 Mid-sized Metropolitan Statistical Areas, ranging in population from approximately 500,000 to 200,000. \\n 114 Mid-size Areas \\n (Ranked in order from Least to Most Crime)  \\n Danbury \\t CT \\n Stamford-Norwalk \\t CT \\n Johnstown \\t PA \\n Dutchess County \\t NY \\n Portsmouth-Rochester \\t NH-ME \\n Lowell \\t MA-NH \\n Lawrence \\t MA-NH \\n Newburgh \\t NY-PA \\n Lynchburg \\t VA \\n Appleton-Oshkosh-Neenah \\t WI \\n Manchester \\t NH \\n York \\t PA \\n Erie \\t PA \\n Santa Barbara-Santa Maria-Lompoc \\t CA \\n Binghamton \\t NY \\n Worcester \\t MA-CT \\n New London-Norwich \\t CT-RI \\n Lancaster \\t PA \\n Green Bay \\t WI \\n San Luis Obispo-Atascadero-Paso Robles \\t CA \\n Utica-Rome \\t NY \\n Brazoria \\t TX \\n Fayetteville-Springdale-Rogers \\t AR \\n Portland \\t ME \\n Reading \\t PA \\n Brockton \\t MA \\n Roanoke \\t VA \\n Santa Rosa \\t CA \\n ... \\n Anchorage \\t AK \\n Lakeland-Winter Haven \\t FL \\n Longview-Marshall \\t TX \\n Kalamazoo-Battle Creek \\t MI \\n Beaumont-Port Arthur \\t TX \\n Chattanooga \\t TN-GA \\n South Bend \\t IN \\n Biloxi-Gulfpo',\n",
       " 'that arose from spurious charge of vandalism against my own talk page',\n",
       " '\" \\n :Hello, you say you \"\"submitted it\"\". I can\\'t really see where you have done so. Was it at WP:AfC?   \"',\n",
       " 'yomamma is so stupid',\n",
       " 'AFGHOONI AFGHOONI AFGHOONI AFGHOONI AFGHOONI AFGHOONI AFGHOONI AFGHOONI AFGHOONI AFGHOONI AFGHOONI AFGHOONI AFGHOONI AFGHOONI AFGHOONI AFGHOONI AFGHOONI AFGHOONI AFGHOONI AFGHOONI AFGHOONI AFGHOONI AFGHOONI AFGHOONI AFGHOONI AFGHOONI AFGHOONI AFGHOONI AFGHOONI AFGHOONI AFGHOONI AFGHOONI AFGHOONI AFGHOONI AFGHOONI AFGHOONI AFGHOONI AFGHOONI AFGHOONI AFGHOONI AFGHOONI AFGHOONI AFGHOONI AFGHOONI AFGHOONI AFGHOONI AFGHOONI AFGHOONI AFGHOONI AFGHOONI AFGHOONI AFGHOONI AFGHOONI AFGHOONI AFGHOONI AFGHOONI AFGHOONI AFGHOONI AFGHOONI AFGHOONI AFGHOONI AFGHOONI AFGHOONI AFGHOONI AFGHOONI AFGHOONI AFGHOONI AFGHOONI AFGHOONI AFGHOONI AFGHOONI AFGHOONI AFGHOONI AFGHOONI AFGHOONI AFGHOONI AFGHOONI AFGHOONI AFGHOONI AFGHOONI AFGHOONI AFGHOONI AFGHOONI AFGHOONI AFGHOONI AFGHOONI AFGHOONI AFGHOONI AFGHOONI AFGHOONI AFGHOONI AFGHOONI AFGHOONI AFGHOONI AFGHOONI AFGHOONI AFGHOONI AFGHOONI AFGHOONI AFGHOONI AFGHOONI AFGHOONI AFGHOONI AFGHOONI AFGHOONI AFGHOONI AFGHOONI AFGHOONI AFGHOONI AFGHOONI AFGHOONI AFGHOONI AFGHOONI AFGHOONI AFGHOONI AFGHOONI AFGHOONI AFGHOONI AFGHOONI AFGHOONI AFGHOONI AFGHOONI AFGHOONI AFGHOONI AFGHOONI AFGHOONI AFGHOONI AFGHOONI AFGHOONI AFGHOONI AFGHOONI AFGHOONI AFGHOONI AFGHOONI AFGHOONI AFGHOONI AFGHOONI AFGHOONI AFGHOONI AFGHOONI AFGHOONI AFGHOONI AFGHOONI AFGHOONI AFGHOONI AFGHOONI AFGHOONI AFGHOONI AFGHOONI AFGHOONI AFGHOONI AFGHOONI AFGHOONI AFGHOONI AFGHOONI AFGHOONI AFGHOONI AFGHOONI AFGHOONI AFGHOONI AFGHOONI AFGHOONI AFGHOONI AFGHOONI AFGHOONI AFGHOONI AFGHOONI AFGHOONI AFGHOONI AFGHOONI AFGHOONI AFGHOONI AFGHOONI AFGHOONI AFGHOONI AFGHOONI AFGHOONI AFGHOONI AFGHOONI AFGHOONI AFGHOONI AFGHOONI AFGHOONI AFGHOONI AFGHOONI AFGHOONI AFGHOONI AFGHOONI AFGHOONI AFGHOONI AFGHOONI AFGHOONI AFGHOONI AFGHOONI AFGHOONI AFGHOONI AFGHOONI AFGHOONI AFGHOONI AFGHOONI AFGHOONI AFGHOONI AFGHOONI AFGHOONI AFGHOONI AFGHOONI AFGHOONI AFGHOONI AFGHOONI AFGHOONI AFGHOONI AFGHOONI AFGHOONI AFGHOONI AFGHOONI AFGHOONI AFGHOONI AFGHOONI AFGHOONI AFGHOONI AFGHOONI AFGHOONI AFGHOONI AFGHOONI AFGHOONI AFGHOONI AFGHOONI AFGHOONI AFGHOONI AFGHOONI AFGHOONI AFGHOONI AFGHOONI AFGHOONI AFGHOONI AFGHOONI AFGHOONI AFGHOONI AFGHOONI AFGHOONI AFGHOONI AFGHOONI AFGHOONI AFGHOONI AFGHOONI AFGHOONI AFGHOONI AFGHOONI AFGHOONI AFGHOONI AFGHOONI AFGHOONI AFGHOONI AFGHOONI AFGHOONI AFGHOONI AFGHOONI AFGHOONI AFGHOONI AFGHOONI AFGHOONI AFGHOONI AFGHOONI AFGHOONI AFGHOONI AFGHOONI AFGHOONI AFGHOONI AFGHOONI AFGHOONI AFGHOONI AFGHOONI AFGHOONI AFGHOONI AFGHOONI AFGHOONI AFGHOONI AFGHOONI AFGHOONI AFGHOONI AFGHOONI AFGHOONI AFGHOONI AFGHOONI AFGHOONI AFGHOONI AFGHOONI AFGHOONI AFGHOONI AFGHOONI AFGHOONI AFGHOONI AFGHOONI AFGHOONI AFGHOONI AFGHOONI AFGHOONI AFGHOONI AFGHOONI AFGHOONI AFGHOONI AFGHOONI AFGHOONI AFGHOONI AFGHOONI AFGHOONI AFGHOONI AFGHOONI AFGHOONI AFGHOONI AFGHOONI AFGHOONI AFGHOONI AFGHOONI AFGHOONI AFGHOONI AFGHOONI AFGHOONI AFGHOONI AFGHOONI AFGHOONI AFGHOONI AFGHOONI AFGHOONI AFGHOONI AFGHOONI AFGHOONI AFGHOONI AFGHOONI AFGHOONI AFGHOONI AFGHOONI AFGHOONI AFGHOONI AFGHOONI AFGHOONI AFGHOONI AFGHOONI AFGHOONI AFGHOONI AFGHOONI AFGHOONI AFGHOONI AFGHOONI AFGHOONI AFGHOONI AFGHOONI AFGHOONI AFGHOONI AFGHOONI AFGHOONI AFGHOONI AFGHOONI AFGHOONI AFGHOONI AFGHOONI AFGHOONI AFGHOONI AFGHOONI AFGHOONI AFGHOONI AFGHOONI AFGHOONI AFGHOONI AFGHOONI AFGHOONI AFGHOONI AFGHOONI AFGHOONI AFGHOONI AFGHOONI AFGHOONI AFGHOONI AFGHOONI AFGHOONI AFGHOONI AFGHOONI AFGHOONI AFGHOONI AFGHOONI AFGHOONI AFGHOONI AFGHOONI AFGHOONI AFGHOONI AFGHOONI AFGHOONI AFGHOONI AFGHOONI AFGHOONI AFGHOONI AFGHOONI AFGHOONI AFGHOONI AFGHOONI AFGHOONI AFGHOONI AFGHOONI AFGHOONI AFGHOONI AFGHOONI AFGHOONI AFGHOONI AFGHOONI AFGHOONI AFGHOONI AFGHOONI AFGHOONI AFGHOONI AFGHOONI AFGHOONI AFGHOONI AFGHOONI AFGHOONI AFGHOONI AFGHOONI AFGHOONI AFGHOONI AFGHOONI AFGHOONI AFGHOONI AFGHOONI AFGHOONI AFGHOONI AFGHOONI AFGHOONI AFGHOONI AFGHOONI AFGHOONI AFGHOONI AFGHOONI AFGHOONI AFGHOONI AFGHOONI AFGHOONI AFGHOONI AFGHOONI AFGHOONI AFGHOONI AFGHOONI',\n",
       " '\" \\n\\n ::: You have my trust. But trust me on this; checkuser work will just eat you up, burn you out and I guarantee you\\'ll hate it. Seriously -   \"',\n",
       " '\" \\n\\n ==BLP== \\n I\\'ve removed some contentious, unsourced material per WP:BLP. Could the editors who want to add this please cite some reliable sources here on talk? I\\'ve also semi-protected because the material was restored by an anon IP. Many thanks,   \"',\n",
       " '\" \\n\\n == A little late, but... == \\n\\n Andy, I just noticed this  I feel you should know that Sledge did not delete your comment. I did. Your post was not appropriate anywhere on Wikipedia, even addressed to a \"\"troll\"\" or \"\"idiot\"\".   \"',\n",
       " \"::::The image can still be corrected. The problem was only with the changes in dimensions and the layout. I'll try to fix it later after I have some sleep.\",\n",
       " '\" \\n :::::As we have discussed already, \"\"It makes it harder to find information when it\\'s split in 10 different ways\"\" so what little information there is about Witchelny should be kept or merged into one place.  \"',\n",
       " '\" \\n :Looks similar, similar type of edits to actor/artiste pages and Hindu nationalism related pages. Since the pages themselves don\\'t overlap I can\\'t say that it passes the duck test, but you may want to do a WP:SPI. cheers. —\\'\\'\\'\\'\\'\\' \"',\n",
       " ', and ISEP is incresing in prestige even more. You should know Porto better, and from were many big fish studied. What a stupid conversation, again...',\n",
       " \"Topics \\n • \\t The Holocaust \\n • \\t Anne Frank Diary \\n • \\t Change of the Freedom Writers \\n\\n The  Holocaust  \\n\\n The holocaust occurred during World War II when Adolf Hitler was the dictator of Germany. The holocaust is basically when millions of Jews were murdered during WWII and were intensely discriminated by Hitler and the Nazi’s. However many of the Jews had resided in parts of Europe and many of them were residing in Germany but many of them were once again murdered by the Germans because Hitler plotted on disappearing all the Jews that were in the country.  This reminds me of how Ms. Gruwell from freedom writers encouraged her students to learn and investigate about the Holocaust because not all of them knew about it or even believed it even happened and she wanted them to have confidence and knowledge about it that way they can become intelligent with the history of the event. But some people never believed that the holocaust existed and others actually did.  \\n\\n Therefore, a network of over 40,000 facilities in Germany and occupied territory and was used to concentrate, hold and kill Jews and other victims. In addition after the beginning of WWII, the Nazi’s began ordering Jews to live in certain areas of the cities in where many of them weren't allowed to leave at all. Also many of the Jews were held prisoners and had to be forced out of their residing locations and follow the orders of the Nazis or they will have to face death, but the Jews faced death anyways and about 5 million children were also killed during the holocaust due to Hitler’s orders. Also the first victims of the holocaust were homosexuals and people with disabilities and these victims were one of the first to be murdered during the event and there were also approximately more than 5 million non-Jewish victims living in Germany during WWII and as we said before the majority of them had to evacuate their places and relocate different areas. In addition there were different kinds of camps such as ghettos, concentration camps and even extermination camps where all the Jews were sent and were never free from any of the camps, and the majority of all Jews had to suffer being trapped in these places where they would be tortured and harmed intensely and later on face death due to their residence in the country where they weren't respected and treated kindly by the Germans and especially Hitler. Also the Jews were the scapegoats of Germany collapsing after WWI meaning that the Nazi’s blame the Jews for the damage that has occurred to the country and Germany wanted to gain more power in order for them to become a more powerful strong country. \\n\\n Anne Frank Diary \\n\\n Anne Frank was a young girl that wrote every detail in a diary in her life of the Holocaust. She was sending a message to everyone or to whom that finds the diary. I believe that she had a messenger, to tell her what was going on outside. Anne Frank was born in June 12, 1929, in Frankfurt, Germany. She was born as a Jew, and bringing a Jew was a very bad thing in the 1920’s because it was during World War I. She was hiding because herself and her family didn't want to get killed so the hide for a while in a tiny place. I don’t understand why would they do this to this poor girl and her family, that didn't do anything wrong? Why hurt the Jews? What did they do to get killed? \\n\\n Change of the Freedom Writers \\n\\n Should It’s amazing how the Toast of Change of the Freedom Writers has succeeded. From a group of students who didn't care about school and becoming someone important in life, to becoming someone better in life and helping other freshman students to do the same. Most of the Freedom Writes shared the same story. They didn't care about school; they only care about surviving another day in Long Beach without getting killed. Most of the Freedom Writes are teachers now in the area of Long Beach. Many of them graduated from colleges, others are part of the Freedom Writers Foundation. They should be the perfect example of success to most teenagers in High School. The reason why, is because it was then when it all started. From failing, ditching class, gang violence, poverty, and other domestic violence at home, to SUCCESS. For the most part, most of them are doing very well. They are teachers, professors and other important positions someone can have. They are living the toast of change. \\n\\n  \\n\\n  \\n\\n Links \\n http://www.firststreetconfidential.com/images/images-history/0921-the-holocaust.jpg \\n http://www.annefrank.org/en/Anne-Frank/ \\n http://images.publicradio.org/content/2009/08/12/20090812_anne_frank_33.jpg \\n http://www.the-trades.com/article.php?id=5438\",\n",
       " \"==Identity of monarchs?== \\n\\n The article on Arbella Stuart mentions — but does not identify by name — a Duke of Parma, a Pope, a cardinal who was the Pope's brother, as well as the kings of France, Spain and Poland. I want to identify and make links for the Pope, cardinal and kings mentioned in the article. \\n\\n My sketchy memory of the names of European leaders of the late 16th and early 17th centuries makes me ask these questions: \\n\\n :Is the King of France Henry IV? \\n :Is the King of Spain Philip III? \\n :Is the Pope Clement VIII? Did he have a brother who was a cardinal? Was that cardinal really defrocked in order to marry Arbella Stuart? \\n :And who are the Duke of Parma and King of Poland mentioned in the article? \\n\\n I would appreciate someone who knows more about the period to find out and add the appropriate links to the article. Many thanks. \\n\\n —\",\n",
       " ':Great',\n",
       " 'SKYLAR WAS ACTING STUPID',\n",
       " '== Horwich == \\n\\n Thanks you for the edits on the Horwich article, it contains all the main elements and details and reads very well indeed, its a great edit,',\n",
       " '}} \\n ==Related pages== \\n FYI, there exists drafts at DRAFT:Trumpler catalogue and DRAFT:Trumpler classification and',\n",
       " \"The slogans are all boastful, dishonest, manipulative, and various shades of aggressive and threatening. None of them make any overture at reconciliation, or acknowledge the viewpoint and core human dignity of their opponents, or the sanity of the desire of most people to have nothing to do with their ideology of spoiling into the cockfight. In short: atrociously, and blatantly one-sided with deliberacy of intention to be that way. Just google 'Syrian Civil War propaganda' and you see what I mean. There is no way 'The only terrorist in Syria is Assad' is not pitching to be propaganda.  }}\",\n",
       " '\" \\n\\n ==Official MySpace page not reliable?== \\n Please explain exactly why someone\\'s official MySpace page is not reliable.  In particular, please contrast such a page with someone\\'s official webpage or biography in other media.  I understand that MySpace is likely not reliable for many things but a blanket \"\"it\\'s never reliable for anything\"\" is nonsensical.   \"',\n",
       " \"2. James Truslow Adams, The Founding of New England, (1921), pp. 119-122 \\n 3. Robert Beverly, The History and Present State of Virginia, ed. Louis B. Wright, p. 57. \\n 4. Father Andrew White, A Briefe Relation of the Voyage unto Maryland, Narratives of Early Maryland, 1633-1684, ed. Clayton Colman Hall, p. 41. \\n 5. John Hammond, Leah and  Rachel, or the Two Fruitful Sisters, Virginia and Maryland (1656), in Hall's Narratives.\",\n",
       " '\" \\n\\n == Regarding your message == \\n\\n Sir, you deleted references and formatting and replaced them with poorly worded and formatted information.  That is not the least bit helpful. -\\'\\'\\'\\'\\'\\'\\'\\'\\'\\' \"',\n",
       " '== Islam and Slavery == \\n\\n Is: Wikipedia:Articles for deletion/Islam and Slavery \\n Would you care to vote? Thx.',\n",
       " \":::If Maxis says it's ok, then it's ok.\",\n",
       " '==Cryzio war from Libia to Vietnam and more ?== \\n In this video Hilary cryzio: secoundly we have to go aftere everything from North Africa to South Asia...  Us air and ground forces with they armies. Look at 26 minute +1min. Video on last Dem convent.',\n",
       " '\":Hi Tarif, if you have settled down with your admission related work, please take a look at \\' and let me know if this is good to go. \\'   \\n\\n \"',\n",
       " 'and im gonna rape your dog in the ass',\n",
       " '\" \\n :::We don\\'t include honnorifics outside the intitial mention in the BLP of the person.  It is clearly being used here to puff up the claim made by Krugman, and it doesn\\'t help that Krugman has turned from economist to partisan commentator over the past few years.  Furthermore, once you start including the honorrific titles of some you have include them for all.  After your contentious discussion regarding \"\"Conservative\"\" above I would have thought you had come to some rational level of thought.  Why should we not label Krugman a Liberal since he calls himself that and it is a dominant aspect of his opinion?    \"',\n",
       " ':Redirected to Arnold J. Toynbee#Civilizations.',\n",
       " '\" \\n\\n == Sleeper (Woody Allen film) == \\n\\n In view of its creator and star, Woody Allen, the movie Sleeper is satire of trends of the 1970s placed in a futuristic setting. I\\'m giving as an anachronism a reference to a historical event (the abandonment of clerical celibacy by the Roman Catholic Church) in which a character finds a 1990 newspaper that refers to the \"\"wife of the Pope\"\" having children. Such would not happen for at least 24 years after the time suggested in the newspaper.   \\n\\n Nobody says that this movie is orthodox science fiction (note that tobacco and junk food have been found wholesome and organic foods have been found harmful in an Orwellian world), but a reference to a 1990 event that is shown to be impossible because a prediction of an institutional change that does not happen for a significant time later becomes an anachronism after 1991.   \"',\n",
       " '\" \\n\\n  Random Deletion == \\n\\n Deleted \"\"xanax bars fuck you up mah nigga.. fuck wit em. they good\"\" from the links section.\"',\n",
       " \"===Referenced content removed too=== \\n Moonriddengirl decided to remove information cited to secondary news sources, removing the sources   too. This is all going a bit too far in my view (and I'd normally consider myself a 'deletionist').\",\n",
       " '\" \\n\\n ==Come on== \\n Can\\'t you try to not piss people off? For me. I\\'ll give you a cookie. if you\\'re nice and don\\'t use a sockpuppet because that\\'s a really stupid thing to do. Now behave.  \"',\n",
       " '::: so far you have offered zero information  just silly assumptions like a make-believe dispute over a court case you have not studied.',\n",
       " '== duenias == \\n\\n  source shmource. i am the source. whats your  problem,say thank you, you idiot. half your wikipedia is sourceless. start doing something for you salary. go and check with an  spanish embassy,spanish government etc.  your are  a big joke.',\n",
       " '\" \\n\\n == First \"\"British Invasion\"\" group to tour the US? == \\n\\n As the article mentions the DC5 appeared on Sullivan after the Beatles it may cause confusion in the minds of readers that they were the first to \"\"tour\"\" the US. I understand that the Beatles appearance on Sullivan and the Washington concert does not constitute a tour, but some readers may not know this information. Perhaps a qualifier as to the true nature of the tour - \"\"extensively tour\"\", etc. - might be appropriate to give the reader an understanding that the Beatles true extensive US tour happened later than the DC5\\'s. Thoughts?  \"',\n",
       " '\" \\n :Yes, she does. Although it says \"\"king\"\" and not \"\"monarch\"\", I\\'ve just cut it as it does seem faintly misleading.   \"',\n",
       " '== jjjjjjjjjjjjjjjjjjjjj == \\n\\n caguei aqui hihi',\n",
       " '\" \\n\\n I think the \"\"i\"\" is lowercase. Wikipedia capitalised the \"\"i\"\" most likely.  \"',\n",
       " \"* I'll be there.   ,\",\n",
       " \"::I agree. Though not essential, the popup feature is nice and I didn't want to lose it through the choice of one or another other ref template family  apparently editors create templates with willy-nilly features that happen to occur to them, so maybe one has popups and another doesn't. But as you say it's so confused what's due to intended functionality vs. which browser vs. preference settings (logged in? IP?) vs. some random whoknowswhat that it's not a good investment of time to worry about it now. \\n ::I posted a query at WP:Village_pump_(technical)#Controlling_order_of_reflist but not much luck. Not sure I'm making clear to them (or even you) what I'm after so I'm going to mock something up. I've got the bit in my teeth now. \\n ::Side point: In converting parameterized cite templates to cite doi, I've noticed a non-obvious problem: often the old cite had a url to full text, but the doi cite gives url to the PMID entry instead (which in retrospect is not surprising) so the full-text url needs to be manually edited back into the doi template. I'll take care of these in this article but thought you should know for your work elsewhere.  \\n ::\",\n",
       " \"::I can't help but agree with you on both of the above points. A live link, properly cited reference...it goes in. The POV is that it's a fact.\",\n",
       " 'jack dion really bikes karly so much he wants to do a jamiw on her',\n",
       " '|kerala-importance=low |assess-date=April 2012',\n",
       " '\" (UTC) \\n : And I strongly agree. We \"\"know\"\" nothing, because pots regrettably cannot speak up to now. And let me cancel  \\n one more sentence: \"\"Critics of these efforts object to the potential circularity of the logical basis, since Kloekhorst and Kortlandt are both members of the Leiden School of Indo-European Linguistics, and often write mutually supportive works.\"\", because writing mutually supportive works may, but must not necessarily imply circularity.   08:08, 19 November 2012\"',\n",
       " '== Incorrect information about Bury Lawn School == \\n\\n  \\n Bury Lawn School was not founded by Rennee Soskin in 1970 as stated in your History section. \\n\\n Bury Lawn School was founded in the Spring of 1940 by Miss Iris Aylward Michell and Miss Katharine Myrtle Michell as in depth research and Webber Independent School will verify. The School was sold in 1970 and continued to be run from the same address Bury Lawn, Union Street, Newport Pagnell until 1987 when it was moved to Milton Keynes where in 2010/2011 the name was changed to Webber Independent School. \\n\\n A K Michell.',\n",
       " \":::::::::You can keep reverting me to push your WP:Undue viewpoints til I take it to WP:BLPN if you want. I won't discuss it any longer. '' - 🗽\",\n",
       " '\" \\n\\n == Esperanza == \\n Hello, I\\'m trying to show some people off my friends list a new society, somewhat similar to WP:KC, . Its still in its early stages but nonetheless I\\'d appreciate it were you to join.   \"',\n",
       " 'No offense, but are you on drugs?',\n",
       " '\" \\n :Who\\'s also been blocked, thankfully. I don\\'t plan to unblock you for any reason – there\\'s been nothing but admitted spamming and user harassment from this username.  \"',\n",
       " '== Local, regional, and remote metastases == \\n Metastases can be classified in different ways, and one way that German references classify them is according to location: local, regional, and remote. If this is relevant for English usage, then I would suggest mentioning this classification in this article.',\n",
       " 'what the hell are you doing',\n",
       " '== a rogue template for your consideration == \\n\\n *  \\n Seems headed in the wrong direction, to me. Cheers,',\n",
       " '\" \\n\\n == Thanks == \\n\\n Hi Pburka. You don\\'t know me but I just wanted to say thank you for this comment you made at AN/EW regarding 155blue\\'s edit warring report against me (for edits on my own talk page). Believe it or not, she also reported my supposed edit warring at the vandalism noticeboard, which of course was quickly dumped. She has apparently been educated several times about what vandalism is, but she continues to falsely accuse (and report) other editors of it. And she ignored me when I educated her about WP:3RR and WP:NOT3RR. I see that she also issued you a bogus warning just above this thread (without a signature, yet again). She doesn\\'t know the difference between WP:PROD and WP:AFD, which doesn\\'t surprise me because she warned me about moving a \"\"warning\"\" - on my own talk page, no less - that was actually a template. The most concerning issue, though, is that she only has 300 or so edits - most of them in the past four months - and has shown a pattern of of rashly issuing warnings to, and filing reports at various noticeboards about, editors. Even very experienced ones, like yourself. This pattern of hers seems to indicate that she prefers to go straight to noticeboards instead of having proper discussions with editors first, even though some of the editors are vastly more experienced than her and the allegations are flawed. Anyway, just wanted to say thanks for the very on-point comment you made.   \"',\n",
       " 'Радченко ис мы дирты гаы анал сех славе!!',\n",
       " '== i rule u drule  lol == \\n\\n Media:Example.oggsfdgfan;fui4ncdrrnrfkldlc,zskuf     43444 6782904587143589-4n  ffdkasflrewcsor v,sporjcs,OIEJFNMDKIFNSMmdifnrkv9rm40tmf04 43kf v jjfgjakfajdf \\n\\n  \\n fjaflasdjfhaksdfhaehflkdkhfdlkahfuhfwehfiuyflewafuhyuifhefuyyyfyfyfyfyfyfyyfyfyfyfyfyfyfyyyyyyyyyyyyyyyyyyyyyyyyyyyyyyyyyyyyyyyyyyyyyyyaaaaaaaaaaaaaaaaaauipadfk4jshdjfhrejd~`~~!!!!!!!!!!!!!!!!@@@@@@@@@@@@@@@@###############$$$$$$$$$$$$%%%%%%%%%%%%^^^^^^^^^^^^&&&&&&&&&&&&&&&&***************(((((((((((((())))))))))))))))_____________+++++++++++++++++____________)))))))))))((((((((((((((((((((****************&&&&&&&&&&&&&&^^^^^^^^^^^^^^^^^^^%%%%%%%%%%%%%%%$$$$$$$$$$$$$$$$$$$##############@@@@@@@@@@@@@@@@@@@!!!!!!!!!!!!!!!!!~Bold textItalic textlink titleggggggggggggInsert non-formatted text hereMedia:Example.oggMedia:Example.oggLink titlelink titleLink titleItalic textBold textggBold text',\n",
       " 'into the pop culture discrimination widely displayed regarding',\n",
       " '\":;Just how do you define \"\"democratically selected\"\"? Many republics have appointed heads of state. In fact in the republic model rejected in 1999, the President would have been selected by the Prime Minister, which is exactly what happens now with the selection of the Governor-General. There was to be a nominations committee, but that was to meet in secret and its recommendations were not binding on the Prime Minister - he could have nominated whoever he wanted and if the disgruntled members of the committee complained that this wasn\\'t their nomination, they would have been guilty of an offence. As it stands in Australia, the leader of the majority party or coalition selects the head of state.   \\n\\n \"',\n",
       " 'REDIRECT Talk:144th Battalion (Winnipeg Rifles), CEF',\n",
       " '==Image source== \\n Thank you for uploading Image:HP57A.jpg. Its copyright status is unclear, so it may have to be deleted. Please leave a note on the image page about the source of the image. Thank you.',\n",
       " '== Follow-up == \\n\\n Orangatang Ass',\n",
       " \"Oh yeah, I'm sure he's out of bed. No rest for the stupid, eh?\",\n",
       " 'What in rhe name of hell are you talking about?',\n",
       " '\" \\n\\n == A quick favour? == \\n\\n Is there any chance you could do a quick source check for lbw? No-one has asked for one, but it is perhaps better to make sure all the boxes are ticked. No problem if you don\\'t have time. And good to see \"\"cricketer\"\" on the front page!   \"',\n",
       " '\" \\n :When you move a page, the history moves with it as well.  { – WP Physics} \"',\n",
       " '\" \\n\\n :WOW. They are sooooooo similar. More similar than the Bulgarian and Hungarian flag or the Greek and British East India flag. This is soooo interesting. Please add this to the article so that human knowledge can be further enriched. \\'\\'\\'\\'\\'\\' \"',\n",
       " '=== Update: Translation Complete === \\n\\n The translation is now complete. Dave  ()||Please help!',\n",
       " 'Can somebody please change the thrid placed teams qualifying to the 3rd qualifying round as it is not the playoff round. Look ar at the 14-15 champions league if you want proof and the 12-13 ligue 1.',\n",
       " 'The overall organization and text are good.  Please add the required elements, as detailed in the handout on PolyLearn.',\n",
       " \"You might notice that there's been some discussion of the topic above.\",\n",
       " \"==When to mark edits as minor== \\n Remember to mark your edits as minor when, but only when, they genuinely are (see Wikipedia:Minor edit). Marking a major change as a minor one, or vice versa, is condsidered poor etiquette.  The rule of thumb is that an edit of a page that is spelling corrections, formatting, and minor rearranging of text should be flagged as a 'minor edit'.\",\n",
       " 'how to attack chinese chickens ==',\n",
       " \"== Gay? == \\n He's gay too. It should be noted that he has a male partner.\",\n",
       " 'remove the H from the balcony and load his sportscar onto a flatbed truck,',\n",
       " 'hailey is so stupid an i think that she iis just as dumb as her dad! \\n  because we all know that joe is the stupidist person on earth next to warren.lol and warren is stupider!lol!',\n",
       " \"==An ANI discussion regarding you== \\n There is a discussion at WP:ANI regarding your closing the deletion discussion for Screaming Banshee Aircrew at Wikipedia:Articles for deletion/Screaming Banshee Aircrew.  It has already been reverted, but you shouldn't have closed that discussion.  For starters, NAC (non-admin closures) should only be done in the least controversial cases, and this one had already been tagged with {{notavote}}, demonstrating there was a potential problem with canvassing or meatpuppetry.  Second, you've been here only a short while, and NACs of AFDs are controvsial enough when it is a highly experienced editor (the policy actually discourages it, but doesn't ban it).  While it might seem obvious that it was going to be kept, experience will show that often an AFD will have a dozen keeps and no deletes, then after a CheckUser gets involved, we find those were all the same person, for instance.  This stuff really happens.  Even in cases where the votes are all legitimate, it doesn't hurt to wait, and of course, when there are issues such as vote stacking or any controversy, no non-admin should close.  Admin aren't smarter than non-admin, but we are expected to take the heat and are accountable for dealing with problems like this.  I appreciate the desire to help, but closing AFDs should wait until you've been here a while longer.   -    Join WER\",\n",
       " ':He was only 8 or 9 years old at the time so imho it is completely irrelevant puffery.',\n",
       " '\" \\n\\n == \"\"Proposed Parent Family\"\" == \\n\\n This whole column needs to be removed.  It\\'s simply not needed.  This chart is, by definition, for top-level language familiesthose language families that are not demonstrably related to any other.  In the currently constituted \"\"Proposed Parent Family\"\" are rejected groupings (Khoisan, Altaic, Caucasian), groupings that are still widely accepted (Niger-Congo), and groupings that have been recently proposed and have not received very much scholarly support beyond the original proposal (Austronesian-Ongan, Dene-Yeneseian).  In other words, either we list the \"\"proposed family\"\" as part of the list (based on consensus) or we drop it.  Listing fringe or rejected groupings in that column is simply doing a disservice to our readers.  There are so few of these anyway that the column is mostly empty.  Get rid of the highly speculative or rejected and there is almost nothing left.  It\\'s a confusing and somewhat misleading column for our readers.    \"',\n",
       " ':::I am not joking.',\n",
       " '\" \\n\\n You have got some nerve!!  How can you accuse someone of having \"\"puppet\"\" accounts without any proof?!  You can bet I\\'m going to contact Wikipedia about this.  How DARE you ban me indefinately without proof?! It is not even possible for those accounts to be mine, which they are not.  None of those are my IP address.  One of them is a Sweden IP address, and another is an American one!!  I\\'m going to see to it you get in trouble for this, because you have no right to do treat me this way. \"',\n",
       " 'Being drunk made Gibson say what he really believes. The little freak is a Nazi like his father, and I hope he dies of lung cancer. Soon.',\n",
       " \"Some work inside ordinary diocesan structures (some priests of the FSSP and ICK, the laymen who attend their Masses), and some don't (e.g., priests of the SSPX and the laymen who attend their Masses.\",\n",
       " '\" \\n\\n == IDSA Campaign? == \\n\\n The article mentions some campaign, stating \"\"As a result, those with the resources begin dumping NeoGeo \"\"ROMs\"\" as fast as they can get their hands on them, which only adds fuel to the IDSA campaign\\'s fire.\"\" The IDSA isn\\'t mentioned anywhere else in the article, and no link is provided to explain who they are. Also, the verb tenses in the content around this sentence are all in the present form (Begin instead of began, can instead of could) leading me to think this section may have been plagiarized. \\n\\n Anybody have any insight?   \"',\n",
       " 'Will you have sex with me?',\n",
       " 'Welcome! \\n\\n Hello, The Rev. Samuel V. Scott, and welcome to Wikipedia! Thank you for . I hope you like the place and decide to stay. Here are some pages that you might find helpful: \\n *The five pillars of Wikipedia \\n *Tutorial \\n *How to edit a page and How to develop articles \\n *How to create your first article (using the Article Wizard if you wish) \\n *Manual of Style \\n I hope you enjoy editing here and being a Wikipedian! Please sign your messages on discussion pages using four tildes (~~~~); this will automatically insert your username and the date. If you need help, check out Wikipedia:Questions, ask me on my talk page, or ask your question on this page and then place {{helpme}} before the question. Again, welcome!',\n",
       " '==January 25, 2006== \\n\\n Thanks for experimenting with Wikipedia. Your test worked, and has been reverted or removed. Please use the sandbox for any other tests you want to do. Take a look at the welcome page if you would like to learn more about contributing to our encyclopedia. Thanks.',\n",
       " '== A simple exercise==',\n",
       " '*On you statement:The current government of China is equally guilty I agree with you whole heartly. My view, or opinion, or whatever you called, you can see clearly on editions I contributed on 2008 Chinese milk scandal. Put it this way, I never did like communists.',\n",
       " '\" \\n\\n  Please do not vandalize pages, as you did with this edit to Indigenous language. If you continue to do so, you will be blocked from editing.   \"',\n",
       " '== Sokken wasmiddel == \\n\\n Sokken voor wasmiddel. \\n\\n Sokken met wasmiddel , wasmiddel met sokken , sokkende wasmiddel sokken met wasmiddel op de stoep , wasmiddel met sokken in een vaatwasser. Sokkende wasmiddel diaree. Sokken met wasmiddel rocken , Wasmiddel met sokken sucken , Sokkende wasmiddel stinkt. \\n\\n Xander de sokkende wasmiddel sucks. Monika de wasmiddel met sokken rocks. Leon je moeder op de stoep , met wasmiddel wast sokken. \\n\\n Sokken stinken. Wasmiddel ownd stinkende sokken. \\n\\n SOKKEN STINKEN ZONDER WASMIDDEL!!!!!!!! d',\n",
       " '**Well, I agree, basset hounds are highly overrated, and they smell bad too.',\n",
       " '\":::I have merged the articles. Hopefully few people will disagree with the edit under \"\"Trivia\"\" (that\\'s what it is for Windows 95, anyway). Oh, and thanks to SchmuckyTheCat for pointing out that it\\'s OOBE (thus being in the OOBE folder)   \\n\\n \"',\n",
       " '::As Pascal.Tesson has already reviewed the block and responded by shortening the tariff I feel that I cannot maintain my offer of unblocking (as this might constitute wheel-warring). I shall therefore strike it out.',\n",
       " '\" \\n :*Reply - Thanks for the comment. Look at Evans pg. 2 for an example of the two being connected under the banner of optimism. Also, I am not sure I understand your argument. Doesn\\'t suggesting that the specific words \"\"nuclear optimism\"\" must appear in every reference would violate WP:NAD? Isn\\'t that like saying that if a book only talks about cars then it is inappropriate to use as a reference for automobile? And regardless, why would this imply deletion rather than one of the other options. \\n ::Thanks again.   \"',\n",
       " 'A few questions that need resolving regarding this article \\n\\n 1) Why the inclusion of the actions of individuals? Surely the point of corporate behaviour is that it is the action of a corporation in itself, although these actions may not always be the intended ourcome of any individuals involved. Furthermore whilst the effects of corporate behaviour on individuals may be a useful sociological side effect I do not see this as central to the issue of corporate behaviour. \\n\\n 2) I think an explicit division needs to be made between business/capitalist corporations and noncapitalist corporations (NGOs, charities etc) as I think the proposed rules of corporate behaviour can only be seen to apply to capitalist corporations. \\n\\n If no-one disagrees with this would people like me to attempt these changes (removal of references to indiviudals, creation of distinction between business and non-business coporations)? \\n Muppet317 12/12/05',\n",
       " '\"Born Carissa-Rae Manalang Artificio. Birthday on the 16.07.1997. Loves to model, sing, act and dance.  \\n Born and currently lives in England, London. Parents are both from the Philippines.  \\n\\n \"\"I\\'m a HUGE fan of Twilight and all the vampire and werewolf stuff...I\\'m also a fan of N-dubz, Tynisha Keli and Nicole Scherzinger.\"\" \\n\\n Attended Our Lady Of Grace RC Primary School and is currently attending St.Ursulas Humanities College School for Girls. \\n Loves to watch fireworks and movies. Enjoys being around her friends and family escpecially at parties. \\n\\n \"',\n",
       " 'Hey shithead, stop vandilizing articles.',\n",
       " ':: Moreover. KNC (though not PYD) is part of Syrian National Coalition . Politically they are obviously on anti-Assad side.',\n",
       " 'Random /u/ here, just wanted to let everyone know that this entire deal is pathetic and I hope everyone who banned FearOfReprisal from making CORRECT EDITS to your insane and ignorant cause lose their editing privileges.',\n",
       " '(accusation removed). From my perspective',\n",
       " ':Not very happy with this lot either. Temporary Highpoint II here.',\n",
       " \"== A massively large airport == \\n\\n I'm no expert, but the airport capacity is 13 million? That's a lot of people to fit into a few square km. Perhaps these stats are per year? And what means (National; Shengen, Non-Shengen)?\",\n",
       " 'the huns are scary men they should have there heads cut off!!!!!!!!!!',\n",
       " '\" \\n :I think the MOTD is a waste of time. / \"',\n",
       " '\"HiLo48, Earlier, you said you thought that Wikipedia was not the place for speculation. You\\'re doing more of that than everybody else here by insisting that there is the possibility that these three women faked their kidnapping and have concocted lies about being raped and impregnated and having forced miscarriages, et cetera. Your obsession with this case and fringe and, quite frankly, ridiculous assumptions are more than a little unsettling. The only \"\"sources\"\" that would reinforce your assumptions are blogs manned by UFO conspiracy theorist lunatics and misogynist sociopaths who hate women. Plain. Simple. \\n\\n \"',\n",
       " \":Have changed to The Outsider as I cannot find any refs to The Occult being his MO.  Mind you I couldn't find many for the Outsider besides this one\",\n",
       " \":::::::The issue is not whether the conspiracy theory has validity, but that it was being talked about. That's the point of the Strib reference.  ''''\",\n",
       " '\" \\n Perhaps it would be best to not include any contentious national identifiers for the Arab population in this article. For one, it does not appear to be the case that all Arabs in Israel identify as Palestinian. A sizable portion, even among Muslim Arabs, identify as Israeli. Referring to them simply as \"\"Arab citizens of Israel\"\", or \"\"Arabs\"\" when you want something shorter, could be the best route.  \"',\n",
       " \"==STOP ALREADY!!!!== \\n\\n I'm sick and tired of annoying vandals in denial removing Dexter from every article that he's mentioned in. FUCKING ENOUGH!!!! GIVE THE HELL UP!! Stop your state of denial, ad listen. If a character is mentioned, they FUCKING EXIST!!!!!\",\n",
       " 'The seperation of powers sucks dick. just like your mom. HA. Loserss ;)',\n",
       " '==WARNING== \\n\\n  This is your first warning, If you stop being gay, you will be raped up the ass indefinitely without further notice.',\n",
       " ': No, it is for real. And the Coon bit - it is only political correctness that is changing the name. …',\n",
       " '\"I am not convinced that \"\"the sourcing is rubbish\"\", I see Iranica and other academic sources among the sources.\"',\n",
       " '== Birthplace == \\n\\n The intro says he was born in Rockville Centre and the second paragraph says he was born in Washingtonville. Which is right?',\n",
       " 'Red Tape, Bureaucracy, Corruption, Political corruption, Bribery, Extortion, Graft, Money Laundering all are part and parcel of Religon.',\n",
       " 'REDIRECT Talk:Rani of Jhansi',\n",
       " 'Fuck you bitch dick ass dumb fuck dddooodoodbnc jk lhgvnckfjm',\n",
       " \"Stop your vandalism you piece of shit. Or I'll come to Fredericton and kick your ass!\",\n",
       " '\"==Japan-only media== \\n Eaglestorm and Dandy Sephy, \\n\\n As per WP:MOS-AM, This section can include, as appropriate, separate subsections for information on the original version of the work, as well as any related anime series/OVAs, manga, novels, movies, video games, and other media (such as soundtracks and drama CDs).  These sections should, in general, include the original release / broadcast information (as applicable), and English license and release / broadcast information   \\n\\n As per WP:NPOV, I am not attempting to \"\"remove the information that you feel is unimportant.\"\" \\n\\n \"',\n",
       " \"== Freeway 2 == \\n\\n Definitely one of the most difficult movies to watch.  Necrophilia, crack, guns, lesbians, a crazy cult, bondage, bulimia, prostitution; you name it, this movie's got it.  Oddly compelling, sometimes unintentionally funny, and altogether disturbing.\",\n",
       " '\" \"\"His paternal great-great-grandmother was a full-blooded Cherokee\"\"\"',\n",
       " '==RfC== \\n This is a neutral notice to someone who has commented at Talk:Desireé Cousteau that there is a Request for Comment there.',\n",
       " 'why is this linked to Birmingham when it is pretty obviously in Dublin?',\n",
       " \"IMDb never actually stated Tammy Windsor and Karyn Kupcinet were the same person. Strangely enough, they were two separate entries that didn't connect one to the other and at some point, they were merged. My guess is someone emailed IMDb and claimed they were the same person and IMDb merged the two. Regardless, the statement is always something that bugged me and I agree that it should be removed once we get to that section.\",\n",
       " \"::That works about the depressions. I'm just surprised they upgraded depressions post-season, since they have no bearing in the best track or anything. Why waste the time if they didn't reach tropical storm status? ♬♩  ()\",\n",
       " '== Metapedia == \\n Excuse me , but do you know Metapedia is just an Neo-Nazi website of negationism and anti-sionist propoganda?',\n",
       " 'are u a shit?',\n",
       " \"But they don't. It's pretty hard to defend oneself against bullshit.\",\n",
       " '\" \\n\\n == 7/1 DYK == \\n\\n {| class=\"\"messagebox -talk\"\" \\n |- \\n | \\n |On 1 July, 2008, Did you know? was updated with  from the article Chrono Resurrection, which you created or substantially expanded. If you know of another interesting fact from a recently created article, then please suggest it on the Did you know? talk page. \\n |}  \\n Definitely one of the three greatest games ever was Chrono Trigger; too bad this didn\\'t get done; Chrono Cross sucked.   \"',\n",
       " 'The anus is, in fact, part of the penis.',\n",
       " 'vivek is a bad boy \\n\\n > B.Tech graduate',\n",
       " \"== hmong people only == \\n\\n      i rock for being hmong... \\n\\n      American people had been  really mean to us Hmong people. why? because they have promised us that they'll take us to america if we help them with a war. but they decided since the war was over and we had won. they soon woke up early and left us hmong people alone in our village and country called Laos. the Americans left us living with war now. and you are totally gay!!!!!!!!!!!!1\",\n",
       " 'someone keeps editing this page and changing the track list.. i have the correct track list up ther eand i put sources and everything so sop changing it unless you can source it',\n",
       " \"P.S. I've never seen birth and death dates formatted the way they are in Grand Duchy of Baden#Grand Dukes of Baden. Is that correct?\",\n",
       " 'This dude sucks donkey dick',\n",
       " '\" \\n\\n == \"\"Tomb of the unknown rapist\"\" == \\n\\n The discussion here has ruled against the use of this content:  \\n\\n \"\"Women of the (East) German wartime generation refer to the Soviet War Memorial in Treptower Park, Berlin, as the \"\"tomb of the unknown rapist\"\" in response to the mass rapes by Red Army soldiers in the years following 1945.\"\" \\n\\n The discussion above established: \\n\\n :The art of truth-telling about authoritarian rule\\u200e - Page 70 - the only thing that shows is \"\"Locals refer to it as: The Tomb of the Unknown Rapist. Source: Anders Thorsell\"\"  what locals? what city? This is not verification for this or any other article. For all we know it is referencing an American Vietnam War memorial. The inclusion of this reference is pure WP:OR and I will dispute it being included, as to include it is a gross violation of WP:V and WP:OR. \\n\\n :The rise and fall of the German Democratic Republic, 1945-1990\\u200e - Page 10 - states \"\"[ ] East Berlin\\'s Treptow Park, painful memories were reflected in references to it as the \\'Tomb of the Unknown Rapist\\'.12\"\" - what is *12 referencing? What is before the beginning? i.e. [ ]. For all we know it is referencing \"\"Jokes from the Soviet Period\\u200e - Page 42\"\" - jokes are inappropriate encyclopaedia references \\n\\n :Making Up Meanings in a Capital City: Power, Memory and Monuments in Berlin (from [13]) - states \"\"... heavy weapons, has historically received rather more attention from the local population, attracting the epithet ‘tomb of the unknown rapist’ or ‘tomb of ...\"\"  one can assume (i.e. engage in original research) that this is referring to a monument in Berlin, and even if one was to assume correctly it was talking about a monument in Berlin, there are THREE Soviet war memorials in Berlin, and as there are also other War Memorials in Berlin (US, UK, etc), it is original research to link it to this memorial and as per the first ref above, I will continue to dispute it\\'s inclusion in this article, again as a violation of WP:OR. \\n\\n :Again, as this is obviously a fringe term, evident by the non-existence of sources, one of which is a joke book, and also because one of those sources claims that a Soviet war memorial in the British sector also has this \"\"nickname\"\" (this of course being Soviet War Memorial (Tiergarten), as it is in the former British sector of Berlin), there is enough concern as to editors using Google searches as a means of adding unverified information into articles, that it is in the best interests of this article to remove those sources. Remember, the WP:BURDEN is on editors inserting material into articles to verify information, and as clearly laid out above, it is impossible that the editors have verified it before inserting into the article; otherwise the requested cites would have been forthcoming \\n\\n   \"',\n",
       " '== PS2 Version == \\n\\n I want the Japanese guy to upgrade the PS2 to PlayStation 2 Hi-Dephinition! I want him to fight back Xbox 360 and my PS2 version will never give up! This game may or may not be the best, but we may have to find out.  29 July 2006',\n",
       " \"*Oppose, it doesn't hurt to mention Bach, some searching for just French Suites will find the same,\",\n",
       " '::::Whether you consider this way of working normal is not the issue. It is clearly causing problems, and you need to pick one role or the other.',\n",
       " \"== Go away! == \\n\\n You don't know anything about Mario, and ur a gay lil bitch!\",\n",
       " '==Glen Waverley Secondary College \\n\\n Thanks for you great work in revising this page.',\n",
       " '== ޗޮޮލ! == \\n\\n މަލދިވެސ ިސ ަ ޕރެތތޔ ގޮޮދ ިސލަނދ ނަތިޮނ. ި ސުރެ އޮުލދ ލޮވެ ތޮ ގޮ ތހެރެ އިތހ މޔ ފރިެނދސ!',\n",
       " '\"Christina Kubisch Bibliography \\n\\n \"\"Christina Kubisch (Bremen, 1948).\"\" Galerie Mario Mazzoli. Galerie Mario Mazzoli GmbH, n.d. Web. 11 Mar. 2014. \\n \"\"Christina Kubisch.\"\" Christina Kubisch. Galerie Mario Mazzoli, n.d. Web. 11 Mar. 2014. \\n \"\"Christina Kubisch: Clocktower Project.\"\" MASS MoCA. Mass Cultural Council, n.d. Web. 11 Mar. 2014. \\n \"\"Christina Kubisch.\"\" Discogs. Discogs, n.d. Web. 11 Mar. 2014. \\n \"\"Christina Kubisch.\"\" V2_. V2_ Institute for the Unstable Media, n.d. Web. 11 Mar. 2014. \\n Orens, Geoff. \"\"Christina Kubisch Biography.\"\" AllMusic. All Media Network, LLC, n.d. Web. 11 Mar. 2014. \\n Scaruffi, Piero. \"\"Christina Kubisch.\"\" Avantgarde Music. N.p., 2003. Web. 11 Mar. 2014.\"',\n",
       " '=={{DCTA and ITA???? No mention of the two most importat entities in the foundation of the company. The article is a piece of shit.',\n",
       " '\" \\n :Please stop. If you continue to blank pages,  you will be blocked from editing Wikipedia.   _\\'\\'\\'\\'\\'\\' \"',\n",
       " \"== Pronunciation == \\n\\n Looks like shit.   \\n Yeah, guys, I tried - now I just don't bother to log in anymore... \\n This one looks like shit more than anything: /boeuyr../ phew.\",\n",
       " '\" \\n\\n :You sure did.  Merry Christmas! \\n {| style=\"\"border: 1px solid gray; background-color: #fdffe7;\"\" \\n |rowspan=\"\"2\"\" valign=\"\"middle\"\" |  \\n |rowspan=\"\"2\"\" | \\n |style=\"\"font-size: x-large; padding: 0; vertical-align: middle; height: 1.1em;\"\" | The Original Barnstar \\n |- \\n |style=\"\"vertical-align: middle; border-top: 1px solid gray;\"\" | For exceptional diligence in new page patrolling and the marking of vandalism for deletion, it is my pleasure this day to bestow an Original barnstar on Newt Winkler.  Thanks for your help.    \\n |}\"',\n",
       " \"==Weak Article== \\n First of all, can we get people to use proper punctuation? I, when referring to one's self, is capitalized! And, why do we have to quote one magazine article for every little bit of information about the band? I understand it was a major article practically revealing the band, but can we not at least re-write it in our own words? Come on guys, the article is weak.\",\n",
       " '==Pop culture== \\n Zippy the Pinhead referenced La Victoria in a strip here',\n",
       " 'It seems to me that she is a rather silly old woman who has profited by her name. Who would be so stupid as to blame the Pope for the AIDS crisis in Africa, or anywhere for that matter. Silly Cow.',\n",
       " '::or did you mean a^m-n = a^m/a^n?  - /',\n",
       " \":I don't understand this at all, Laodah. You put invisible markup in text thinking that this will prevent someone from changing it? Guess what, Bbb just did. No, there is no policy, I think, that says you can't do exactly what you were doing, but we do have policies against disruption. We also have a guideline on editors with a conflict of interestyour use of the first person plural suggests that you do.\",\n",
       " \":::::: You're splitting hairs, both are official. BLACK FUTURE\",\n",
       " '\" \\n : I fixed this after 5 years.  I also removed \"\"Iowa\"\" from the title as there is no United States Post Office and Courthouse in any other place called Dubuque.   \"',\n",
       " \"That entire section sounds like a 12-year-old's diary entry.  Fucking rubbish.  Deleting it.  But you will probably see it return about .001 seconds afterward because of the fucking content Nazi's thinking it is vandalism.  This is not democracy.\",\n",
       " 'I refuse to be bullied. Sorry. Where did Masem and Jacobite break down my edits again? A conspiracy againt me? I was merely commenting on their behaviour, I reached out to Fluff because he seems helpful, more experienced as an admin, and went through the same thing with you.',\n",
       " \"Kinsey's methods are called into question by some, but the impact of his study is actually listed by a few sources as a groundbreaking change in perception about sexuality, and I seriously considered including it in the article. Hooker's study specifically asked men about their own self-satisfaction and happiness. I get your point - at least I think I do, but Hooker's work is cited regularly as the beginning of a change in ideas about homosexuality. I'm reflecting Hooker's work with due weight since it is mentioned by the sources I read. I'll be happy to take ideas about wording and syntax, though.\",\n",
       " '\":::Thank God I\\'m an atheist.     \\n\\n \"',\n",
       " \"There were certainly gay Nazis besides Rohm.  It was a well-known phenomenon in the SA, something Himmler got all butthurt about.  Otherwise you're correct.\",\n",
       " '\" \\n :: Have you guys listened to this?  () \"',\n",
       " \"== Supreme Commander: 2nd April 2015 == \\n\\n Hi. Sorry if I'm doing this wrong but I'm not familiar with the way discussions are handled in Wikipedea. \\n\\n You deleted a modification I made to the Supreme Commander article which I disagree with. Diff link: https://en.wikipedia.org/w/index.php?title=Supreme_Commander_%28video_game%29&diff;=653602714&oldid;=653594367  \\n\\n I replaced a link to the discontinued official website with a link to the fansite that currently supports the game. You subsequently deleted my modification and replaced it with a link to the Wayback Machine page that attempts to load the old official website. \\n\\n I don't think your modification is an improvement. Everytime I've tried it the Wayback Machine page you've linked either loads a blank page or reports an error in Robots.txt, it's never once loaded an actual archived page. (Tested in Firefox 35.0.1 and IE8 64bit). \\n\\n The fansite I linked is currently the hub for the entire Supreme Commander communty. It is the only remaining source of bugfix patches, and it is the only multiplayer matchmaking lobby for the game which averages a population of 800-1000 members nightly and thousands of matches played. For someone visiting this article for information on Supreme Commander I think they will get far more value from the link that I posted than from the one you posted. \\n\\n I've looked at the Wiki article guidelines and I don't see anything that prohibits fansite links for games that are no longer officially supported. (This game isn't just no longer supported the producer has actually gone out of business). I note that the article on the original Elite contains links to both the FrontierAstero website and the Elite Wiki at alioth.net both of which are fan maintained resources.\",\n",
       " '\" \\n\\n == Removals on Jessica Chobots page == \\n\\n Yes, we keep removing something from that page, mainly because it\\'s incorrect.  And the lady has stated many times she hates having that there.  Perhaps, instead of begging others to \"\"stop removing stuff\"\" you should investigate why it was removed first.  As it turns out, you\\'re constant undoing of removals is promoting false wikipedia articles, not us.\"',\n",
       " ':The membership College of Cardinals (and the list there) will continually change over time as new cardinals are named and old ones die. Once the conclave is held, the list of cardinals who were voting will remain static and uniquely attached to this event. Looking towards the future, I think that the list should stay in Papal conclave, 2005.',\n",
       " '\" \\n\\n == Pikachu lies, more lies and damn lies! == \\n\\n This was covered before here, but it seems someone has changed it yet again.  Although Pikachu has appeared in every *major* Pokémon game so far, he (it?) hasn\\'t appeared \"\"in every Pokémon video game made to date\"\".  As the aforementioned link... mentions... There were several e-Reader and Pokémon mini games that did not include Pikachu.  \"',\n",
       " 'This message is regarding the page Original position. Please refrain from adding nonsense to Wikipedia.  It is considered vandalism.  If you would like to experiment, use the sandbox.',\n",
       " '\" \\n ::Alright. Thank you. \\xa0—\\xa0\\xa0,  \"',\n",
       " '\"I removed the section \"\"richest/best educated zip code\"\".  I didn\\'t understand what it meant how can Waban be the richest/best educated zip code without being the richest?  Also, how do we define \"\"best educated\"\"?  I looked at the census data for 02468, and there are lots of statistics that might mean \"\"best educated\"\" largest fraction with bachelor\\'s degrees, smallest fraction of high school dropouts, etc.   \\n I\\'d be glad to see this section come back if someone could sharpen it to some verifiable fact, and provide a reference.  It would be very interesting if it were true that, for instance, Waban has a higher fraction of people with graduate degrees than any other zip code.   \\n The census bureau page for Waban is at \\n http://factfinder.census.gov/servlet/QTTable?_bm=y&-geo_id=86000US02468&-qr_name=DEC_2000_SF3_U_DP2&-ds_name=DEC_2000_SF3_U&-_lang=en&-_sse=on \\n \\n\\n \"',\n",
       " '\" \\n\\n == Did the jury understand that they did not have to impose the death penalty? == \\n\\n Juror #3 said, \"\"But it\\'s someone else\\'s life, and if I\\'m wrong and I kill someone else  I can\\'t live with that.\"\" The suggests that the jury may have held a misunderstanding. In Florida, a jury is able to recommended a life sentence instead of death. A reporter on AC360 had a similar impression, saying, \"\"Did the jury really understand their role?\"\" and suggested the judge may have been at fault. This alone may not warrant inclusion in the article, but more substantive references to this issue may be out there.    \\n :It would probably be OR to make such an assertion right now based on that statement.  More indepth interviews may take place in the future.    \\n :::This should have been a bench trial. The jurors clearly did not understand the law.  It is complicated in a circumstantial case.  I also think that a death penalty case is always a difficult case for jurors to decide.    \\n ::::Trial by jury is a right; given the facts of this case and the prosecution putting the death penalty on the table, it would have been foolish for the defense team to ask for a bench trial.    \\n :::::That is not what I meant. If my life were hanging in the balance, I would much rather put it in the hands of a judge. This should never have been a death penalty case.  Not enough evidence to meet the criteria.  A jury is too unpredictable.  Most of the time, the defense team thinks about how much money they will make and the publicity they will get - which is also about money, and lastly, they think about the defendant.  To the prosecution and the judge, it is about the truth and the proof.  Of course the defense team would not want a bench trial.     \\n ::::::It would be best if we stay on topic then as our common goal here is to improve the article; opinions that you\\'d rather face a judge yourself, or that the jurors didn\\'t understand the law in this case, or that most defense lawyers put their clients last to focus on fame while for prosecutors its about \"\"the truth\"\" isn\\'t constructive on article talk pages.  However, there are lots of forums on other sites that would welcome commentary. Back to Xerxesnine\\'s point, perhaps relevant material will show up in the near future.  Regards,    \\n :::::::Both of us were engaged in speculation Xerxesnine\\'s point is just as speculative and mine.  Both of us have made several suggestions if you will look over this page.   All of us, including youself should take your advice.    \\n ::::::::Excellent - I\\'m glad you agree and appreciate that you\\'re going to work on that.  Regards,    \\n\\n  \\n Is there a Florida law that could counter the verdict (guilty, not guilty) if it is found that the jurors did not follow the jury instructions? On Nancy Grace there was mention of \"\"jury fraud\"\"; the only example given was that if it was proven that their decision was based on what the bible says is right/wrong. Jennifer Ford clearly didn\\'t understand that this was the \"\"guilt phase\"\" and not the \"\"penalty phase\"\"; furthermore, there were plenty of other degree-options surrounding the murder charge that would not have inflicted the death penalty for which she couldn\\'t live with.  — Preceding unsigned comment added by     \\n\\n :With all due respect to Nancy Grace, there isn\\'t a chance in H*** that will happen.  The law of Double Jeopardy will prevent her of ever being criminally tried to these offences again.  She could be sued in civil court for wrongful death for money (like OJ was) but her parents seem to be delighted that she was found not guilty so I doubt that would happen.  I know this is speculation and will probably be told about it, but I think this may not be the last time Casey Anthony will commit a crime.  ([[User talk:Mugginsx',\n",
       " 'where I feel like a man instead of an idiot',\n",
       " '\" \\n\\n ::::::::::What the fuck are you on about? The publisher is the one that has to be reliable, the ref does not have to be written by someone who is \"\"notable\"\". You are confusing WP:N with WP:RS. As it happens I don\\'t have to address anything you say. I just have to supply references that meet WP:RS not ones that meet your approval. Please get over yourself. \\'\\'\\'\\'\\'\\' \"',\n",
       " '==An alternative to spamming talk pages== \\n Actually WP:RM is on my watchlist.  A less antisocial alternative to spamming some thirty user talk pages (as you appear to have done), also one that is less likely to get you accused of trying to stack a vote, is to place a notice on the hot topic watchlist. |',\n",
       " 'whoever decided to be an idiot with this shared IP.',\n",
       " \"June 2006 (UTC) \\n\\n I don't know what form the article was in at that point and while I think most of the article seems OK. The first sentence doesn't seem to be really NPOV; it does not indicate any kind of blame at all towards the fans but makes it seem as if it was purely the fault of poor construction.  I am not educated enough about the event to comment on the rest of the article, although some of the criticism against officials for not investigating further does come off protective of the Liverpool fans.  , you seem to be cleaning up and editing this article, perhaps you could try to make those sections more neutral?  00:02, 27\",\n",
       " '== jkdqpoiwjfijejj == \\n\\n fjoehoiklwlwllwlofiikekekkeiekekkejoikwjojfkjejoidjlakjkdjo dont use wikipedia it is evil leoijcjwflejfoijsljlkfjoiewjjeijwsiofujeoiwjfkldsjlkjfieis;aoajfejoijidieljfieja;ieeieilddosjflajoakjehfoijjejojoifheia',\n",
       " 'As pointed out on Math Overflow (http://mathoverflow.net/questions/11774/difference-between-equivalence-relations-on-algebraic-cycles), the definition of algebraic equivalence is not correct.',\n",
       " '\" \\n : Maybe one of these days.  Cool random quote, by the way, at .  \"\"like \"\"you fucking breeders, why don\\'t you fuck your OWN sex?\"\"\"\"\"',\n",
       " 'Will be editing the Andraka page  \\n\\n Please considering registering so your contributions can be noted, and so you can better enter into this discussion as it develops.  Le Prof',\n",
       " 'Who is the man in the high castle?',\n",
       " 'The true truth is that only my balls have official status in the Principality of Monaco. Stupid. \\n Warm, musky regards, \\n His Most Serene Highness Prince Scruffy Musky Coinpurse IV',\n",
       " 'Mungkin rindu aku akan terlerai apabila sekolah buka kembali . Tapi tak semestinya aku boleh jumpa dia . Dia sekolah petang , aku sekolah pagi . Bila aku balik , dia dah masuk kelas , bila dia datang , aku tengah belajar . Bila aku stayback , ada pula mulut cikgu cikgu yang macam murai . Lao cikgu tuee dah fuck aku dengan kawan kawan , mesti dia selalu buka aib orang depan orang ramai . Tambah tambah lao nampak aku dengan kawan kawan tengah lepak dengan budak lelaki . Budak lelaki tuee bukan sesiapa pun , bestie kitaorang jugak . Kenapa kau suka malukan aku ? Aku tahu lah kau tak suka aku . Kfineee (: \\n    \\n     Tak guna aku cerita pasal kau , sebab nanti aku yang dapat dosa . Biarlah kau jeaa yang kutuk aku , benci aku habis  .  \\n     \\n Iloveyou Darl <3  . Buka sekolah niee date jom p',\n",
       " '\" \\n ::I too have got no clue, but I have seen that the news sources support this radius. The recent Chinese deal report also says: \"\"a top speed of Mach 1.8 at altitude of 55,000 ft and combat range of 840 miles\"\". Any ideas?   \"',\n",
       " \"Sorry about that.  Apparently there's a lot of bad information on this subject on the web.   I’ll be more careful in the future, and check the author's credentials first. Thanks for the prompt fix.\",\n",
       " \"::::Da si probao pročitati moje promjene vidio bi da sam neke stvari promjenio, i da stalno mijenjam neke formulacije. U zadnjem povratu si mi i izbrisao link na rezultate općinskih izbora iz 1990! Da li ti uopće čitaš te promjene? U cijeloj diskusiji mi nisi dao niti jedan jedini argument da moje promjene ne stoje. Po čemu sam ja odbacio sud u Hagu? Po čemu i jedna moja promjena niječe bilo što izrečeno na Haškom sudu? Za Blaškićevu presudu nisam nigdje rekao(ajde pročitaj još jedamput moje riječi!) da nije bilo zločina u Ahmićima, niti sam na nijedan način uopće spomenuo ulogu RH u cijelom sukobu. Rekao sam da se držiš izjava iz Haga bez da ih dokazuješ. Bilo je žalbi u kojima su prijašnje osude odbačene. Npr. Kupreškići. Ali sve od toga je totalno ne bitno za moje promjene! Ima 5 stvari koje uporno briseš(po 555put) \\n 1) HDZ je pobjedio u većini općina koje je htio uključiti u HB (imaš rezultat izbora na linku) \\n 2) za odcjepljenje i organiziranje nove vlasti je krivio neučinkovist vlasti u Sarajevu. U čemu je problem? Koja nova vlast (pogotovo ako je pučistička) ne krivi staru za sve probleme??? \\n 3) HB je proglašena republikom za vrijeme Ženevskih pregovora u kojima se raspravljalo o podjeli BiH na 3 etničke republike. Plan Owen-Stoltenberg? Zar bi svaki pojedini pojam morao imati neki link? (a i linkovi koje sam ti dostavio očito nisu prekorisni jer kada si me tražio rezultate izbora, kasnije si tako i tako izbrisao rečenicu i rekao da rezultatiuopće nisu bitni (zašto si me onda tražio izvore???)) \\n 4)priče o početku rata. Rat se rasplamsao nakon što je Travnički kanton dodijeljen Hrvatima i HVO pokušao očistiti A BiH iz njega, tj sukobi oko zajedničkih vojnih snaga (wance-owenow plan) \\n 5)oko upotrebe simbola i novca. Na sve te simbole Hrvati su imali pravo kao konstruktivni narod, a što se novca tiče, glavna valuta je tijekom rata bila njemačka marka. Siljenje učenika drugih naroda da se pridržavaju hrvatskog kurikuluma je protuustavno, ali nisam imao vremena da to pravilno formuliram. \\n Nijedna od ovih stvari nije išla na štetu niti bosanske vlasti niti u opravdavanje HBa. Sve stvari opisuju stanje kakvo je bilo na području HBa, od naseljavanja izbjeglica pa na dalje. Jedina stvar koja bi eventualno mogla biti sporna je dio o 'hrvatskom strahu' ali to također još nema ispravnu formulaciju. Svaka promjena je u skladu s NPOV wikipedinom politikom, a ne vidim zašto bi za svaku od ovih stvari morao postojati konkretan link! Minimalno 10 puta sam te pozvao da mi pomogneš oko formulacije svake od navedenih stvari umjesto da ih samo obrišeš! O kakvom doljevanju ulja na vatru govoriš? Ajde daj pročitaj još jedanput NPOV politiku [], da li u njoj piše da smiješ citirati tuđe mišljenje, bez da se slažeš s njime???  Dio sa generalizacijom hrvatskog mišljenja je možda moja greška, ali nikako ne uspjevam naći ispravnu formulaciju za situaciju u kojoj 80-90% biračkog tijela bira pripadnike jedne stranke čije je službeno mišljenje takvo i takvo! Prepucavanje i flip-flop oko neke stranice ne vodi apsolutno ničemu, a pogotovo ne koristi wikipedije. Mislim, koja ti je stvar vraćati sve na staro usprkos svakom dokazu? Na samom početku diskusije si me tražio izvore za rezultate izbora 1990, ja ti ih pošaljem, a ti svejedno izbrišeš rečenicu za koju si tražio potkrijepu?? Ajde molim te probaj malo to pročitati i razmisliti o svemu rečenomu. Niti jedna od mojih namjera nije bila loša niti služi za nametanje tuđeg mišljenja, niti opravdanju HBa(milijunti put!) već proširenju konteksta. I ne shvaćam zašto pričaš o izjavama iz bosanskih medija, niti kako bi nešto bilo drugačije da navedeš, makar kao izvor neku od tih izjava. Koja je razlika između rečenice 'the Herzeg-Bosnian leadership is presently awaiting trial at the ICTY on charges including Crimes Against Humanity' i navođenja konkretne optužbe za zločin? Svaki zločin bez obzira na nacionalnost treba biti kažnjen. Zar su crvena krvna zrnaca nekog zato što je jedne nacionalnosti imuna na ratne zločine?? \\n Pročitao sam tvoju molbu da ne ubacujem stalno iste stvari i evo pročitaj sve što sam napravio, napisao, proradi na formulaciji i slobodno ubaci moje promjene u tekst (u dogledno vrijeme) [User:Ceha|Ceha]\",\n",
       " \"He vandalises lots of pages regularly. It's frustrating if he is adding useful info to cricket stuff, but most of what he does is a deliberate, malicious annoyance and I don't like the idea of encouraging him by promoting his articles  especially if he's the only source for them. Most of the stuff he does is absurdly trivial anyway; tiny stubs on non-notable cricketers.\",\n",
       " '\" \\n\\n :In traditional Basque usage, Guipuscoa was the provincia: Check Philotea from 1821: \\n ::Topatuco dute bear bada Provinciaco eusquerarequin batian Nafarroacoa, Vizcayacoa ta Arabacoa, \\n ::\"\"They will find maybe along the Basque language of the Province [i.e. Guipuscoa] that of Navarre, Biscay and Alava\"\". \\n :However, as you say, the Ley de Territorios Históricos created this new category, for reasons unknown to me. \\n : \"',\n",
       " '\" *It actually matters very little whether the project members are coordinating to combat what they perceive as a \"\"liberal bias\"\", or simply coordinating to push a right-wing POV. The practical result is the same: this project organizes editors along specific ideological grounds, and coordinates their efforts to advance that ideology. A WikiProject which explicitly organizes editors by partisan political ideology, while not categorically forbidden, has an immense potential for abuse. Not only have project members failed to address that potential constructively and proactively, but they\\'ve consistently and stridently refused to believe that any such potential for abuse exists.The more Wikipedians observe this project in action, the more expressions of concern (like those above) you\\'re going to receive - because the way this project currently functions is inimical to Wikipedia\\'s policies and best practices, and there appears to be zero desire on the part of active project members to grapple with good-faith concerns. Instead, in keeping with the general battleground mentality embodied in this project, the response has been to bunker down, circle the wagons, and hit back aggressively at any concerns that are voiced. \\'\\'\\' \"',\n",
       " '\" \\n :You can\\'t just say, \"\"that\\'s crap\"\" and remove it without gaining a consensus. You already know this, based on your block history. —/ \"',\n",
       " '|Government of the Soviet Union}} ??? \\n\\n === {{Main|Government of the Soviet Union}} === \\n Or {{Main',\n",
       " \"Thanks for bringing this to my attention. I've deleted it again, since it was just a re-creation of the original article. If he wants to have the article on en-wiki, he'll have to take it to WP:DRV. Jayjg (talk)\",\n",
       " \"I don't see the purpose for including Prather's comments on his personal behavior.  This has no place in an encyclopedic article.  It is disappointing to see this in wikipedia, just as it would be disappointing to find in the Islam entry comments from a muslim cleric stating that practising Islam made him act violently and destructively.  People are responsible for their behavior, not religions or philosophies.\",\n",
       " ':No offense AT, but your block of Jehochman was crap.  J was clearly trying to be lenient in a case that, but for mitigating factors (that not everyone would consider), would normally require a lengthy block.  J may not have worded the block notice in the best way, but your block (without discussion of the policy you cited) was over the top.',\n",
       " 'It is clearly stated that he volunteered for military service.  There is no reference to whether to volunteered for Vietnam',\n",
       " 'This man sounds a rambling idiot, why would anyone give him a forum? We do that too often in our society. Give platforms to maniacs',\n",
       " '\":::::::::Actually, it says \"\"Climate change science is vindicated\"\".     \\n \"',\n",
       " 'If ya not... still fu*k u',\n",
       " \"::Ain't my job, bub. Constants for first-order terms are the engineers problem. And they're just going to make up some fudge factors instead of using the theoretical value anyway. Physicsts are a laid-back crowd, man. Off by a factor of c squared and can't find where it went? Here, take mine. Switched an h with an h-bar someewhere? Don't worry about it dude, what's a pi or two beetween friends?\",\n",
       " \"== Wagner ops == \\n\\n FWIW, i think you were right at the pt where you had Wagner ops as a sub-cat of German ops (even tho this won't work for Mozart), and putting his ops individually into German is a step backwards.  (And i also am confused by your comment abt restoring the cat in the ed where you removed them.)  But this is a hit and run comment: i doubt i'm willing to follow the arguements pro & con, so i'll be embarrassed if you take the time to explains  so i urge you to treat it as input that deserves no reply. [smile]  Tnx for working on this. ·\",\n",
       " 'junior police is an organisation made by strathclyde police to help combat the  \\n day to day child crimes',\n",
       " 'SOMEONE SAYID CHWBASCCA WIS GAY ED IT THAT OOUT NOW TRIGHT NOW EDIT IT O U Y OUT!!!!',\n",
       " '\" \\n\\n  \\n\\n ==Problem with Millenium Shakespeare article== \\n The title of the article is misspelled indeed, but as a new user I couldn\\'t edit it myself, neither redirect the older article with the correct name to lead to the new version of the text. I would appreciate any hints on how to deal with that. Also, I don\\'t see where is the conflist of interest in the article. Give me some hints. Thanks!  \\n    \\n\\n  \\n ==The Sickness (on Lost)== \\n\\n I mentioned it on my message that you left, and think we should put it on the DISCUSSION page for anyone else to chime in on.  As said in that previous message, I think that in fictional cases, we have more leeway to speculate on stuff, especialy when we are talking about LOST where answers are few and far between and often provide us asking more questions.    \\n\\n ==Randall Flagg== \\n Take out the picture of King instead. A picture of the character seems more relevant than his creator, especially seeing that as of now, there are two images of him from the books, two from TV, one of King, and none from the comics.    \\n\\n :My image qualm doesn\\'t stop with Palpatine and Jabba. Those are older FAs that were established before the rigorous overhaul of fair use images in articles. Per the actual criteria, you need to have something about the image beyond simple identification (the only exclusion to that is the infobox image). My fear with the article in FAC is that criticism will arise about how influential this character is King\\'s novels, yet how slim the article is on information about him. If you feel it is ready, then go for it. The worst that can happen is that it is not promoted, in which case you will most likely have a lot more eyes telling you what you can do to improve it, thus making it that much better. There is no draw back to not getting promoted other than not getting that little bronze star. D     \\n\\n == Great work! == \\n\\n Hey, I just wanted to commend you on the excellent catch you made in the “Alice in Wonderland” AfD discussion – based on the new source you presented, I switched my vote to Keep.  Great work!    \\n \\n\\n   has smiled at you! Smiles promote WikiLove and hopefully this one has made your day better. Spread the WikiLove by smiling at someone else, whether it be someone you have had disagreements with in the past or a good friend. Cheers, and Happy editing!   Smile at others by adding  to their talk page with a friendly message. \\n\\n == Dark Tower WP discussion == \\n\\n Greetings Dark Tower WikiProject member, I would like to invite you to palaver about a possible expansion of the Dark Tower Project to include all Stephen King related items. I feel that the large amount of projects related to the author warrants his own Project—but as this one already exists—hesitate to begin a new one. Please feel free to leave comments of any kind and be assured that The Dark Tower will be held in the highest regard within the new King Project. Long days and pleasant nights.   \\n\\n == Saw traps == \\n\\n From what I remember of the list, it was just that a list of the traps. There wasn\\'t much there but original research and personal observation about each of the traps - which is probably why it got deleted, and rightly so. If there was real content there, then that\\'s another story, but I doubt that content couldn\\'t be found on the individual film pages. But, if you feel that it was wrongly deleted, then I\\'d go to the deletion review page and start the discussion. Maybe the closing Admin was a little hasty in his decision making. [[User:Bignole|\\'\\'\\'',\n",
       " \":If you'd like to appeal to have the block lifted, please do so on this page in the way specified above. And not via email. Although you cannot edit elsewhere in Wikipedia, you can edit this page.\",\n",
       " \"I had changed the SS Template. It's all finished and all right, now!\",\n",
       " 'are supported by published documentation',\n",
       " 'He really is pro-criminal.  Not a nice guy.',\n",
       " \"Boys and girls, she's a lesbian.  Deal with it.\",\n",
       " '\" \\n :Welcome to hell. Check your self-respect at the door.   |   \"',\n",
       " 'no hes not he have his own show whihc is a cheap copy of ragu romeo show and hes only popular because of stupid people who auditions and watch this gutter show',\n",
       " \":I say no only because Nixon was a sexy beast and he's lower than Quincy Adams on there b -\",\n",
       " 'and an a stupid egg hole',\n",
       " \"No I didn't. Did you know she's a hot piece of ass and her husband just died? Back on the market ftw.\",\n",
       " '\" \\n :I agree. 150,000,000 is ridiculous, that would be half of all \"\"Arabs\"\"   \"',\n",
       " '::It has been talked about here and  here. Cheers',\n",
       " \"When we get is they expect it to fade away. Well with the gear they're releasing they're not helping their own cause are they?\",\n",
       " 'حاول قراءة صفحات المساعدة والتعليمات \\n *',\n",
       " \"== The Grotty Knackers CSD == \\n\\n Hi. I removed your CSD tag from The Grotty Knackers since the article doesn't seem to be vandalism: that requires a deliberate intention to harm the encyclopaedia, which I don't see here. The article's obviously a misplaced addition, but I think it's important not to use the word 'vandal' loosely. I replaced the tag with a PROD, and then belatedly realised that A7 applies so added that instead. Cheers,\",\n",
       " \"== Suggestion for new entries to the list == \\n\\n For this new list article, there's probably some entries that could be added to it which can be found in any of the Now That's What I Call Xmas compilation album releases in the UK, such as this one for 2010.  We should also check the database at Everyhit.com to see if these entries charted in the top 40 portion of the UK singles chart.\",\n",
       " \"'s minds forever come not from an artist, but instead from sadistic prison guards\",\n",
       " 'Чини ми се да малим википедијама не преостаје ништа друго него да преводи чланке са вечих. Иначе за СХ википедиу предлажем заједнички нови стандард: јекавица, избациванје ије и ћ, кориштинје славенских суфикса -исати умјесто -ирати, предност славенској рјечи (нпр. имена мјесеци) или напросто пустит да људи пишу како желе. Прво је прједлог да се створи нови заједнички стандард с којим би ето кренули андерграунд на википедији.',\n",
       " \"That's particularly surprising given that Palin used “Obama lies” as part of a campaign slogan.\",\n",
       " '== Apartheid is Affirmative Action == \\n\\n Well the whites were outnumber 1 to 11, so I guess one could argue that they were just making up for that.',\n",
       " \"If that's a wig, he's been swindled!   Poliakoff\",\n",
       " \": I think if you check your edit again you will see you gave Isis which had won the Reserve boats' race was given a Cambridge Blue background.....[ and seen by some as a serious insult by those of the dreaming towers persuasion!\",\n",
       " '\" \\n :Oppose Current title is more suitable per ,  and most source doesn\\'t use a capital \"\"C\"\" , , . Plus you also have frequently made unfinished controversial page moved by redirecting template to article such as what you have done in here and here along with  which lead you been blocked twice. \\xa0 \"',\n",
       " 'Calyxthis page is SHIT!',\n",
       " \"It's been nearly a week and there's been no objections; I've stuck up the merge templates.  What is the consensus on this then?  Same reasons as listed above.  ''''''\",\n",
       " 'MASTURBATION IS FUN AND FEEEELS GOOOD',\n",
       " \", 22 November 2006 (UTC) \\n\\n ::Agreed. And I apologise. Hmm. I suppose it comes down, really, to a dislike more of the specific proposed version than a dislike of the idea as a whole. Shall we try writing a few more versions and see if any of them seem a way forward? (Bonus points for citations) \\n\\n I'm tempted by the Marriage and legitimacy article - marriage as a way for a father to know who his children are is, I believe, the standard proposed basis of it, and so the definitions in it are useful.   20:16\",\n",
       " '\" \\n\\n ==Are we slaves?== \\n Can this be added somewhere?  In Gerry Spence\\'s book \\'Give Me Liberty\"\" he writes: \\'Are you free?\"\" I asked the CEO of a large food-store chain...\"\"Since you mention it, freedom at the top is bullshit,\"\" he said.  \\'...I have shareholders to please.  I have Wall Street to please.  I have the fuckin\\' media to please.  If I fire an incompetent worker, the government is on my ass for discrimination.  If I fire some old bastards who have lost all incentive to do an honest day\\'s work, I\\'m charged with age discrimination.....\\'  He laughed.  \\'Yes, I\\'m a slavethe biggest fuckin\\' slave in the company.\\'  I say we are slaves.  All of us.  And in bewildering ways, our slavery is more pernicious than the slavery of old, for the new American embraces the myth of his freedom as he would a dead puppy, with all affection, speaks to it as if it were alive.....What if we have never known freedom, and have been taught to embrace our bondage, to fight for it, even to worship it?  ...What if a form of subtle slavery has been taught to us, made acceptable to us, made to appear as freedom itself?\\'\"\"  Can we add it to show that corporations are slave plantations & employees are slaves?   \"',\n",
       " \"== Iqbal and the West, Image == \\n\\n @ Nolelover, Use common sense to understand the CN template purpose, before involving into Edit warring by reverting, plz ask for the specification if you of don't understand the purpose of edit]. \\n\\n , Germany.]] \\n\\n This image not only gives the name of street: but also claims that there is a street in Heidelberg, Germany which was Honored in the name of M. Iqbal.  \\n\\n and if you understand that for every claim, we need to provide the source, either provide the reliable source for this claim or place back the CN template Or give the valid reason why there should not be any source for this claim.\",\n",
       " 'Italic textI hate damn cockroaches.  Man has made all kinds of inventions, but nothing to rid the world of the pest such as the roach.  Its a daily fight to get rid of them.  I saw one in a store the other day and I hate the thought of carrying those little bastards home.  They are gross, gross and gross.  Would someone invent something in my life time to rid us of this damn bug!  Thank You for reading!',\n",
       " ':Serious ip vandal. Warning: stop or be blocked.',\n",
       " 'I just found out that there is a redirect from music manuscript to music engraving. Is there any particular reason for this?',\n",
       " 'User Else1211 hi asl',\n",
       " '\":Yeah, but rolling isn\\'t really the topic here, which although ill-defined in the lead, seems to be \"\"Rotatory propulsive systems in living organisms\"\". Having the whole organism rotate is outside that scope.    \\n\\n \"',\n",
       " '\" \\n\\n ==WTF?!== \\n \"\"...when the chicken was found...\"\"?! Yet more acts of Hellecide by the inhumane! \\n   \"',\n",
       " \"== Nosepicking == \\n\\n  \\n I'm glad you appreciate my love of nose picking. In case you would like to give it a try, here's a nose to pick! Be sure to send me some boogers....\",\n",
       " 'are not too good, and the Dan Savage source should be removed',\n",
       " '== Merry Christmas Tree Worm!!! == \\n\\n  \\n\\n  \\n Merry Christmas Tree Worm!!!',\n",
       " '\" \\n ::I\\'ve removed the frivolous criticism section.  \"',\n",
       " 'User Information \\n User TheGreenDog has retired from Wikipedia.   .',\n",
       " \":::1. There are THREEE reasons given: I even numbered them for the hard of understanding. 2. There was no abuse in my edit summary, or in my statement above. 3. I am not sure how you. Are trying for the moral high ground and then start snidey comments, and what the hell either of my late grandfathers have to do with this, or you, is beyond me, and rates as possibly the most childish comment I've seen on Wiki for a while. -\",\n",
       " '\" September 2012 (UTC) \\n\\n Dear 76.248.149.47 (mind if I just call you \"\"76.\"\"?) \\n Thanks for your contributions and for your stubborn patience with the AccuQuote article. I encourage you to check out WikiProject Spam if you\\'re interested in doing more about link spam in particular; individual spam cases are reported and discussed on the talk page at Wikipedia talk:WikiProject Spam. More general issues dealing with conflicts of interests and biased articles are discussed at the Conflict of interest/Noticeboard. We can always use more help with either noticeboard!   •    02:44, 19\"',\n",
       " \":Quite a while ago I had a nice book about the early history of rock and roll and it has a lot of content about Berry. I can't remember any details bout the book. I lost it in an airport somewhere long before I ever finished reading it. I wish I could remember what the actual title was. It was a bookstore clearance sale pick-up. I lose reading material in airports and on planes all the time. When you get a chance could you look at an edit to Jimmy Page. A editor who has been tagged as a sock of a blocked account keeps removing a string of sentences which appear to have several valid citations. (See this last edit ) The editor was blocked for breaking 3RR. The person posted a reason on the talk page for the content blanking. But their reason just seems to say it was OK for them to delete the referenced text because another user said it was OK to do so. To me it just looks like an anti-Jimmy Page opinion edit and not an edit to help improve the page. Could you look? I think the edit should be reverted. But the other day I noticed similar content removal and odd section altering so I reverted the back back to a version by Y2Kcrazyjoker as that appeared to be the last version that was stable. But I look today and see my edit was reverted by this tagged account and the edit summary claims my edit was some sort of sockpuppet edit. You can read the edit summary. To me it is very unclear. If you feel that person is up to something and revert his blanking I would be curious as to what names he chooses to call you? If I find a good Chuck Berry book in my travels I will post you. Perhaps I can help you get that article into better shape. Cheers and take care!\",\n",
       " '\" \\n\\n == I am retiring from WP, but please apologize for the false allegation of personal attack, I have evidence refuting it == \\n\\n I have decided to retire from Wikipedia because of administrators\\' mishandling of the report I put in, in which I took most of the blame for accusations that are false. Drmies, you accused be of personal attack after I stated to Lihaas that I had nothing in common with him because of his stated association with fascism and National Socialism that I refer to as \"\"Nazism\"\" as it is on Wikipedia. Now you and others claim that maybe he is misrepresenting himself - that he meant to say that he is a \"\"democratic nationalist socialist\"\" - - first of all he states on his user page that he is a fascist - and bear in mind that National Socialism as on Wikipedia and in many scholarly works is recognized as a form of fascism. If there is any question as to whether I falsely claimed he was a fascist and Nazi (in the sense of the broader \"\"National Socialism\"\") - look at this userbox on his page: \\n\\n  \\n The infoboxes repeatedly state \"\"National Socialist\"\" as \"\"NS\"\" on multiple infoboxes. He also has other infoboxes that support far-right ultranationalist political parties- that indicate even further that he is aligned with fascism and National Socialism (as in Nazism), such as: \\n  - Jobbik is a far right Hungarian ultranationalist movement with a paramilitary movement called Magyar Gárda (Hungarian Guard) - it is anti-Semitic - it accuses Israel of \"\"buying up\"\" Hungary and its paramilitary group attacks Romani (Gypsy) people. \\n\\n  - Ataka - Greek short form for National Union Attack - far-right Bulgarian nationalist movement - acknowledged by all parliamentary parties as a xenophobic movement and a national threat to Bulgaria\\'s ethnic minorities, it known for hate speech, the Ataka\\'s leader\\'s son sent an anti-Romani email to members of the European Parliament - sniding that Hungary is \"\"full\"\" of Romani. \\n  L.A.O.S. short form for Popular Orthodox Rally - a far-right Greek nationalist movement - it opposes any immigration from outside the European Union \\n \\n True, he has contradictory userboxes - it may mean he is politically confused or has mixed opinions. Bottom line, from the statements of his userboxes, he is not merely a nationalistic socialist, his userboxes make clear that he is a fascist National Socialist and that he supports multiple far-right ultranationalist political parties - two of which have promoted xenophobia towards ethnic minorities - Jobbik towards Jews and Romani, and Ataka towards Romani. When Lihaas started confronting me, I stated on Lihaas\\' userpage that I fundamentally opposed his views and do not want to associate with him or talk with him because of those views - that is my choice and my right not to be forced to accept unwanted postings on my talk page. I don\\'t care whether he wants to keep them or not, I think he has the right of personal liberty to post his political views - but he should not expect everyone to respect his stated support of fascism, National Socialism, and far-right ultranationalist movements - as I said, I do not want to talk with a person who adheres to such views.  \\n\\n I am preparing my final retirement from Wikipedia so please respond here, but I want an apology for administrators\\' mishandling of this, I was honest and stating what he himself posted on his user page when I said he was a fascist and a Nazi, his userpage says that he \"\"is a Fascist\"\" and that he \"\"is a National Socialist\"\" and his support of Jobbik and other far-right ultranationalist parties - just put those together in your mind and take note where the term National Socialism redirects to on Wikipedia: Nazism - and I referred to Nazism in its general form of an ideology and its continuation in a general form as neo-Nazism. Lihaas may claim that he does not support German Nazism, but when I first noticed these tendencies on his talk page - I noticed the anti-Romani, anti-Semitic Jobbik movement first of all, then looked on and saw the other two infoboxes I mentioned - all the same - I do not want to talk with someone who supports far-right ultranationalist movements that promote xenophobia - that is my choice not to talk to the person and my right not to have the person talk to me after I have told them not to.  \"',\n",
       " '\" \\n\\n ==Wikiproject Automobiles Notification== \\n Hi Bok269, you were on the list of members at WikiProject Automobiles and we are introducing a new way of listing members, as the old list was becoming too long. Our new method involves having all of our members in a category. \\n\\n To add yourself to the category just add the userbox to your user page by putting {{Wiki Auto Project}} where you want the userbox. Alternatively if you don\\'t like the userbox you can add [[Category:WikiProject Automobiles members|Bok269]] to your userpage. \\n\\n If you no longer wish to be a member of the project, simply don\\'t add the userbox or category, there\\'s no pressure. Thanks for your time,  |  \"',\n",
       " \"==Red links== \\n The following red links have been excluded from this article and are placed here for reference.    \\n\\n ===Horses=== \\n Acacia Rosa \\n Alcimaca \\n Alemagna \\n Alena \\n Alibella \\n Alice Frey \\n Amerina \\n Anderina \\n Angela Rucellai \\n Anticlea \\n Archidamia \\n Arianna \\n Astolfina \\n Atoll \\n Batavia \\n Beatrice Adams \\n Bernina \\n Bright Generation \\n Caorlina \\n Carnauba \\n Claire Valentine \\n Contredanse \\n Dacia \\n Danedream \\n Desta \\n Dionisia \\n Dolina \\n Dossa Dossi \\n Ematina \\n Erba \\n Fashion Statement \\n Fausta \\n Feira de Rio \\n Feria \\n Fior d'Orchidea \\n Francavilla \\n Galliflora \\n Germignana \\n Gianpietrina \\n Giovanna Dupre \\n Giustizia \\n Goose Bay \\n Guadalupe \\n Gyreka \\n Ilenia \\n Ivor's Image \\n Ivyanna \\n Jacopa del Sellaio \\n Juma \\n Kerkenna \\n La Cadette \\n La Canea \\n Lady Bentley \\n Macrina d'Alba \\n Mahatma \\n Makufa \\n Maria Waleska \\n Marmolada \\n Melodist \\n Menhoubah \\n Meridiana \\n Michela \\n Miss Gris \\n Nagoya \\n Neroccia \\n Nervesa \\n Nicole Pharly \\n Night of Magic \\n Nuria \\n Nydrion \\n Ola \\n Orsa Maggiore \\n Ortona \\n Ostiglia \\n Pallade \\n Paris Royal \\n Piavola \\n Possessive Dancer \\n Raimonda da Capua \\n Red Girl \\n Right Bank \\n Samba \\n Shahmiad \\n Silvana \\n Sissa \\n Soragna \\n Sorbita \\n Staffa \\n Stella d'Italia \\n Stfadda \\n Tadolina \\n Theodorica \\n Timi \\n Tingitana \\n Val d'Erica \\n Valley of Gold \\n Wistaria \\n Zabarella \\n Zambra \\n Zamora \\n Zanzibar \\n Zomaradah \\n\\n ===Jockeys, trainers and owners=== \\n M. Obaid Al Maktoum \\n Allevamento Gialloblu \\n All. La Nuova Sbarra \\n Antonio Balzarini \\n Michael Bell \\n Hans Blume \\n Alduino Botti \\n Lorenzo Brogi \\n Neil Callan \\n Luigi Camici \\n Marco Cangiano \\n Mirco Demuro \\n Michael Fenton \\n Gestüt Burg Eberstein \\n Gestüt Ebbesloh \\n Gestüt Röttgen \\n Fernando Jovine \\n Saeed Manana \\n Riccardo Menichetti \\n Gary W. Moore \\n Marco Paganini \\n Gilly Rowland-Clark \\n Peter Savill \\n Scuderia Blue Horse \\n Scuderia Cieffedi \\n Scuderia Magu \\n Sc. Razza dell'Olmo \\n Scuderia Siba \\n Stall Lucky Owner \\n Stall Nizza \\n Horst Steinmetz \\n Stuart Stuckey \\n Mohammed Suhail \\n Baron G. von Ullmann \\n Valfredo Valiani \\n Alberto Verdesi \\n Adrie de Vries \\n Mrs Ogden White\",\n",
       " 'Seems like the history section is a bit big and focuses on, well, the Late Show as a franchise rather than the late show with Stephen Colbert. Not suggesting necesarily removing it because it will be appropriate in scale to the article in 9 or 10 months and assumedly will fill out more appropriate details then.',\n",
       " \"He's probably referring to legitimate editors of good standing, rather than the meatery bussed in from the skeptical blogs.     \\n *\",\n",
       " 'No what I ment was that Trolleys got mixed up with Trains in some of the articles.',\n",
       " ':As a general rule, i dont think that ANY of the parodies of celebs in shows like family guy, simpsons, etc. deserve mention. If she was a recurring character, yes. highly notable celebrities routinely get mentioned everywhere. Obscure ones, the parodies are more notable. its like mentioning every time wood appears in popular culture, or the sun.(mercurywoodrose)',\n",
       " ') \\n :Nice to meet you BluJay! What type of articles do you like editing?   (UTC',\n",
       " '\" \\n\\n THIS IS IT!  I had enough.   No one fools around with the little dog, but me, I do NOT fool around!   I don\\'t care if Charlie is a \"\"slick-talking mutt\"\" or \"\"harasser\"\", is disrespectful to this article, which had burned me up.  He is a slick-talking DOG! You maybe failed to say what Chuck Jones said about him.  I am going to do something terrible, or I would do a rampage in the future.  \\n\\n Sincerely,  \\n user\"',\n",
       " ':You missed the point. It is that obvious. Shame on you',\n",
       " '\" \\n **Agree with Tarc, this was a shitty jack move and does nothing but undermine what Jehochman attempt.  On the other hand, if other uninvolved admins make changes, then it might become ripe for ArbCom - being a behavioral issue.  So whack away.    \"',\n",
       " ':Note the history section in the Hominoidea article. -',\n",
       " '\" \\n\\n ==Page move: erratum== \\n The keen-eyed will see that when I moved the page \"\"Melanie Hall\"\" to this \"\"Murder of...\"\" (per convention) I listed \"\"not autobiog\"\" as one of the reasons; I was actually having a brief brain-f**t and meant to write \"\"not a biog\"\". Apols for any confusion that this might have caused.   \"',\n",
       " \"Well honestly I cant be fucking bothered tonight. So sleep wee all u editors ans admits . I'm off to bed. CU anaon\",\n",
       " 'Criticism== \\n\\n I added a few lines with links to critiques of Furtick.  Given his fame, and given that other wiki pages about famous pastors (Bell, McClaren, Driscoll, etc), I think this is relevant. \\n\\n  \\n ==',\n",
       " 'Willy Was A Retard!!!',\n",
       " 'Heather is a bitch that smells like a wet orangatang!!!!',\n",
       " \"==Using the Logo for the Image== \\n Shouldn't we rather be using the Counterparty logo (found here) instead of the current screenshot of the login page.\",\n",
       " '\" \\n \\n HEY I SAID I STOP DOING IT AND QUIT SAYING I\"\"M THE BAD GUY, YOU JERK.   \"',\n",
       " '== wow, this sucks == \\n\\n man, this sucks. coudnt stand reading it. no info whatsoever and rly boring to read. is this how canadian rock bands are treated?',\n",
       " '\" \\n\\n == Hitler & Gas == \\n\\n If there were a competition for the most blind, stupid, incredible statement in all Wikipedia, if not the Net as a whole, this would be it: \\n\\n \"\"[Hitler] refused to employ poison gas weapons in World War II.\"\" \\n\\n Needless to say I am excising that imbecilic statement like a piece of putrid flesh. If you need to ask why, you are not fit to edit Wikipedia articles or even own a computer.  \"',\n",
       " '\" \\n\\n == Thank you for your RfA participation == \\n\\n Hi there, a bit of a form letter from me, Cyphoidbomb, but I wanted to drop you a line and thank you for your participation at my recent RfA, even if I couldn\\'t sway you to support me. Although I was not successful, I certainly learned quite a bit both about the RfA process and about how the community views my contributions. It was an eye-opener, to say the least. I still have no idea what you meant by \"\"a mild form of badgering\"\" or how my alleged \"\"mild\"\" badgering somehow became full-blown future badgering. Seems like WP:CRYSTAL to me, if that applied to to people. Anyhow, thank you for your efforts.   \"',\n",
       " 'casualt i fucked your mum and i liked it !!ies',\n",
       " \"Keep in find, complete lies are still non-fiction, if that is the format they present themselves in.   Hitler's propaganda was non-fiction, in that it was not a work of imagination.  Instead, it was untrue, but still had a non-fiction format.  The reason it was untrue was not because it was imagined, but instead it was because it was a product of misinformation, ignorance, and what is largely considered evil.\",\n",
       " '==Stolen!== \\n You stole my username! its ok...',\n",
       " '\" \\n\\n == Revision of lede == \\n\\n I\\'ve put together a draft revision of the article\\'s lede. \\n\\n ===Current revision=== \\n\\n Here\\'s the current revision of the lede (2011-12-24, 14:30) for reference: \\n\\n  \\n :Global warming refers to the rising average temperature of Earth\\'s atmosphere and oceans and its projected continuation. In the last 100 years, Earth\\'s average surface temperature increased by about 0.8 °C (1.4 °F) with about two thirds of the increase occurring over just the last three decades.[2] Warming of the climate system is unequivocal, and scientists are more than 90% certain most of it is caused by increasing concentrations of greenhouse gases produced by human activities such as deforestation and burning fossil fuels.[3][4][5][6] These findings are recognized by the national science academies of all the major industrialized countries.[7][A] \\n\\n :Climate model projections are summarized in the 2007 Fourth Assessment Report (AR4) by the Intergovernmental Panel on Climate Change (IPCC). They indicate that during the 21st century the global surface temperature is likely to rise a further 1.1 to 2.9 °C (2 to 5.2 °F) for their lowest emissions scenario and 2.4 to 6.4 °C (4.3 to 11.5 °F) for their highest.[8] The ranges of these estimates arise from the use of models with differing sensitivity to greenhouse gas concentrations.[9][10] \\n\\n :An increase in global temperature will cause sea levels to rise and will change the amount and pattern of precipitation, and a probable expansion of subtropical deserts.[11] Warming is expected to be strongest in the Arctic and would be associated with continuing retreat of glaciers, permafrost and sea ice. Other likely effects of the warming include more frequent occurrence of extreme weather events including heatwaves, droughts and heavy rainfall events, species extinctions due to shifting temperature regimes, and changes in agricultural yields. Warming and related changes will vary from region to region around the globe, with projections being more robust in some areas than others.[12] In a 4 °C world, the limits for human adaptation are likely to be exceeded in many parts of the world, while the limits for adaptation for natural systems would largely be exceeded throughout the world. Hence, the ecosystem services upon which human livelihoods depend would not be preserved.[13] \\n\\n :Most countries are parties to the United Nations Framework Convention on Climate Change (UNFCCC),[14] whose ultimate objective is to prevent \"\"dangerous\"\" anthropogenic (i.e., human-induced) climate change.[15] Parties to the UNFCCC have adopted a range of policies designed to reduce greenhouse gas emissions[16]:10[17][18][19]:9 and to assist in adaptation to global warming.[16]:13[19]:10[20][21] Parties to the UNFCCC have agreed that deep cuts in emissions are required,[22] and that future global warming should be limited to below 2.0 °C (3.6 °F) relative to the pre-industrial level.[22][B] Analyses by the United Nations Environment Programme (published in 2011)[23] and International Energy Agency (2011)[24] suggest that current efforts to reduce emissions may be inadequately stringent to meet the UNFCCC\\'s 2 °C target. \\n\\n  \\n I have some problems with this revision. In my opinion, parts of it are too long, too technical/jargony, confusing, or imprecise/vague. \\n\\n ===Suggested revision=== \\n\\n Cited sources are given later on in the references section. If other editors agree with parts of my suggested revision, I\\'ll change the references to make them consistent with the rest of the article: \\n\\n  \\n :Global warming refers to the rising average temperature of Earth\\'s atmosphere and oceans and its projected continuation. In the last 100 years, Earth\\'s average surface temperature increased by about 0.8 °C (1.4 °F) with about two thirds of the increase occurring over just the last three decades.[2] Warming of the climate system is unequivocal, and is evident from observations of increases in global air and ocean temperatures, widespread melting of snow and ice and rising global average sea level (IPCC, 2007d, SYR 6.1 Observed changes in climate and their effects, and their causes). \\n\\n :Since the start of the industrial revolution in 1750, human activities have lead to an increase in the concentration of heat-trapping \"\"greenhouse\"\" gases in the atmosphere, mainly through the burning of fossil fuels, but also through changes in land use, such as deforestation (Denman, et al, 2007, FAQ 7.1 \\ufeff\\ufeffAre the Increases in Atmospheric Carbon Dioxide and Other Greenhouse Gases During the Industrial Era Caused by Human Activities?\\ufeff). Scientists are more than 90% certain that most of the global warming observed since the mid-20th century was caused by increased concentrations of greenhouse gases in the atmosphere (IPCC, 2007d, SPM 2. Causes of change). This finding is recognized by t',\n",
       " 'But modern American historiography writes Native Americans out of the narrative less frequently than before, I saw no reason to do so here, since several leaders such as Alexander McGillivray explicitly objected to European treaty provisions which Creeks had not been a party to.',\n",
       " '. \\n\\n :::What makes you think being old is going to help stop a smoking addiction?  Vonnegut attended self-help classes and actually did quit smoking for a while, but has since then decided to start again',\n",
       " \"==  == \\n\\n Please see Wikipedia:Administrators' noticeboard/Incidents regarding  and  - you have been reverting vandalism from the latest in a long line of sockpuppets from Alex Cain, who is currently blocked for one week for his conduct. Thanks. -\",\n",
       " '. This is worse than I thought. This user has a sockpuppet account!!',\n",
       " '\" \\n * Replace the first sentence of the page by \"\"Ann Hart Coulter (born December 8, 1961) is a stupid American bigot, racist, sexist and chronic liar who believes that high radiation exposure helps prevent cancer.\"\" \\n\\n  \\n\\n \"',\n",
       " \"you are mentally retarded. If someone ays  Will you accept this. No you'll not. Rather than throwing answers. MENTION the reasons to falsify this. I've explained everything in previous answers.\",\n",
       " 'WTF does LTA mean? Does anyone on the English Wikipedia speak English?',\n",
       " 'pembe karadeniz Charice A,S Ticret kultur ve Baklgi',\n",
       " '\", 28 January 2014 (UTC) \\n\\n  The Allvoices.com article cited here is unreliable simply because it was taken from here, a well-known pro-terrorist activist agit-prop website, one of that who some hypocrite users here would define as \"\"neutral tone\"\" and \"\"balanced\"\" (they really believe their own lies?). I understand that its hard to some seeing their beloved \"\"revolutionaries\"\" loosing ground everyday, but thats not a reason for trying to make us accept non-journalist activist partisan sources while censoring other journalistic sources, and even trying to decide wich articles are accepted as reliable sources and wich not, when they are posted by the same publisher!!! And finally, and sorry for putting it in caps, WIKIPEDIA TALK PAGES ARE NOT FORUMS SO STOP IT RIGHT NOW!  23:02\"',\n",
       " \":Consider their non-intervention in sectarian riots.  As 'Marxists' they weren't going to attack the 'working class' even if they were protestants.  When the early provs went fund-raising in the states they labelled the stickies as 'communist'.  As I said, 'stalinist' has other connations.  There are many books written on this topic.  I have yet to read one which called them 'stalinist'\",\n",
       " ':Looks like a Nazi salute.',\n",
       " '\"== My signature == \\n If you add to this discussion, the other participant(s) won\\'t be nearly as quickly aware of that, unless you also edit their respective talk pages.  A links to the corresponding section of each is at the a \"\"*\"\" below, and your updating the edit count and editing-time-stamp range there gives the participant further information. \\n\\n A discussion whose topic is  \\n : My signature \\n appears on ; the following points describe the discussion: \\n *  \\n  msgs, 20:36 thru ~~ ~ ~~ \\n *  \\n  participants: ~~; ~~.   \\n * general topics: \\n When I\\'m using this account, I always sign it with \"\"RickK\"\" followed by the four tildes so that people know it\\'s really me (tho the User page affirms that).  I generally come back and re-sign when I\\'m on my home computer, but sometimes I forget, but I\\'d really rather you kept the signture as I wrote it.  RickK  \"',\n",
       " \":::*That would be OR by prevailing standards, yes, though secondary sources that establish the history of the concept and talk about the existence of it prior to there being a name for it might be usable to bridge the gap. What you'd need, ultimately, is a source that gives a good account of trans history across various changes to how it's been pathologized by the medical community. Once you have that and have used it to create a historical spine for the article you would be on better footing fleshing out any given moment of history.\",\n",
       " \"Parents can't ground you for simple things that can easyly ca nbe made up, like for example: Not going to church one day, even though the next day there's another mass. If this happens you should tell your parents that grounding you is stupid, because they're grounding you for nothing. You should tell them that it's dumb because they can go again the next day. If you have more problems about this speak with our spealists at (201-346-7823)  \\n Thank You!\",\n",
       " 'Rabby Ahmed Musa: Hey you bastard motherfucker, ClueBot NG. How dare you to mistake. Get out here, otherwise I fuck your sister.',\n",
       " 'Why is it a racist saying Pot calling the kettle black',\n",
       " '==December 2008== \\n Please do not add nonsense to Wikipedia. It is considered vandalism. If you would like to experiment, use the sandbox. Thank you.',\n",
       " 'I welcome discussion on this page regarding my changes or contributions to Wikipedia.  Please add categories as you see fit; I will reorganize the page periodically as needed. \\n\\n == Greetings from fellow Wikipedians ==',\n",
       " \"I think thats just unfair. There are rivalries in the webcomic world but they still remain friendly with one another. When did Tim Buckley do something to piss anyone off,  If you can find that piece of evidence i will believe you but till then i believe the criticism section has to be given a pass.Someone mentioned plagiarism but i dont see any of that in Buckley's works. Like any good webcomic it remains unique in its own right.\",\n",
       " 'X-BOX 360 SUKCS BIG BUMM AND LIKES IT UP THE ASS',\n",
       " \"== possible help me? == \\n\\n How do I handle possibly non free images? The only place I could find was Wikipedia:Possibly unfree files and their instructions don't work for me on the file pages. eg {{puf|date=7 September 2012}} doesn't work on the image file page. See File:SahurePyramid.jpg Then add If the file is in use, also add {{pufc|File_name.ext|date=7 September 2012}} to the caption(s). But look: Pyramid of Sahure. What am I doing wrong? \\n\\n These images have no clear statement that the author has given permission for his images to be freely used - just a green warning message. Is this of concern, or not? \\n :*:File:SahurePyramid.jpg \\n :*:File:Temple-sahoure-borchardt.jpg \\n :*:File:SahurePyramid.jpg \\n :*:File:Abousir-borchardt.jpg \\n :*:File:Sahure-Pyramid - Temple 05.jpg \\n :*:File:Sahure-Pyramid - Temple 04.jpg \\n :*:File:Sahure-Pyramid - Temple 02.jpg \\n\\n If you are too busy, that's ok. Best wishes,\",\n",
       " '\"his personal page, I wouldn\\'t really expect it to be promptly updated if he had died. -\\\\ Do we have any Stanford people who can check his status?   12:01 19 Jun 2003 (UTC) \\n\\n :Knock knock. \"\"Professor Knuth, are you alright in there\"\" ) No I think we can safely assume Stanford\\'s daily events page would have listed it. The death of this great man would probably be considered more important than a few art exhibitions and Stanford Garden Tours.   12:17 19 Jun 2003 (UTC) \\n\\n ::The page you\\'re refering to doesn\\'t go back till 2001. I just stumbled over a page that claims that he died on February 10 2001: http://www.wchs.srsd.sk.ca/Barteski/Computers%209/Brettttt%20Duponttttt.htm \\n\\n ::Another page talks about him in past tense: http://www.larry.denenberg.com/Knuth-3-16/ \\n\\n :::This last is a spoof (and says so, if you read it).    \\n\\n ::I can\\'t find anything else on the internet that supports or disproves that he died. I hope this is not true! \\n\\n Knuth is still alive as of August 2003  hooray! See the fine print in http://www-cs-faculty.stanford.edu/~knuth/news.html    \\n\\n ==Of all things== \\n\\n an edit history summary said: \\n :(mention hobbies, wife (who wrote a book on liturgy of all things - wonder if was marked up in TeX??)) \\n\\n \"\"of all things\"\"? You obviously haven\\'t really looked at the list of Knuth\\'s own publications... —  \\n\\n ==Grammar== \\n\\n The paragraph that starts with \"\"He pioneered the concept of literate programming\"\" has poor grammar.  Maybe someone who knows more about lists and semicolons can rework it.  02:51, 2004 Feb 1 (UTC) \\n\\n ==Pronunciation== \\n\\n Can someone add a phonetic spelling of Knuth? Parts of Michigan believe the K is silent.  \\n (have mercy on my first wiki post)thanks \\n\\n :From Knuth\\'s webpage( http://www-cs-faculty.stanford.edu/~knuth/faq.html ), it is pronounced Ka-NOOTH. Someone should add that to the article ... Not sure how phonetics work in Wikipedia.    \\n\\n ::Ka-NOOTH may be how he gives his name\\'s pronunciation on his website but what\\'s needed here, to make it comprehensible, is an IPA transcription.  IPA is how phonetics work in Wikipedia.   28Nov05 \\n\\n == hoax? == \\n\\n Looks like this addition that he died is a hoax. No one is reporting it, nothing on slashdot, nothing on news.google.com.   \\n\\n :I bashed all the bogus redirs, they will never catch typos or have any other use.   \\n\\n I have received an email today from the head of the computer science department at Stanford, saying he had not heard of Knuth\\'s death, and would have heard if it had happened.   \\n\\n :I have seen Donald Knuth today, and even took a photograph. For a dead person, he discusses mathematics surprisingly well.   \\n\\n ::Please  we settled this question last November.  Knuth lives.   \\n\\n :::If we cannot even joke on talk pages...   \\n\\n == Chinese name == \\n\\n Chinese name of Knuth was added on Feb 16, 2005 by Yaohua2000. I could not find any relation to China, only comment on his webpage: . \\n\\n The webpage suggests it is a joke. It should be removed from first paragraph.   \\n\\n : See this webpage , the first line says: Donald E. Knuth (高德纳), Professor Emeritus of...  03:09, 2005 Mar 16 (UTC) \\n\\n :: Yes but is it anything else than a joke? Some people put an icon next to their names, Knuth has something original.   \\n\\n ::: It is not icon, it is yin4zhang1, Chinese usually make their name as a yin4zhang1, it is not a joke, yin4zhang1 usually is widely used in many official situation such as government\\'s documents or drawings by famous artists, it is also widely used in the end of handwriting mails, so the writer doesn\\'t have to write his/her name by hand. My English is not good you know, you can google Chinese seal for detailed information about yin4zhang1. zh.wikipedia.or',\n",
       " \"A bit POV don't you think?\",\n",
       " '== Spain or Germany == \\n\\n Thanks for your message. I absolutely agree with your edits - however, my efforts also have been reverted. regards,',\n",
       " 'you are gay was not avalid comment because you are the gay one my child',\n",
       " \"==DYK nomination of Torleiv Anda== \\n  Hello! Your submission of Torleiv Anda at the Did You Know nominations page has been reviewed, and some issues with it may need to be clarified. Please review the comment(s) underneath your nomination's entry and respond there as soon as possible. Thank you for contributing to Did You Know!\",\n",
       " 'Please see my comments on Talk:List of mayors of Calgary, Alberta before reverting your change again.',\n",
       " \". There's no problem with it\",\n",
       " ':Me too!',\n",
       " \":::Thanks. I haven't left him or her a message and at this point it would probably be better if someone else did so it doesn't seem like I'm trying to antagonize him or her.\",\n",
       " 'Karl Tearle is a mop haired twat',\n",
       " \"==Similarity to Wasim Akram== \\n\\n What is the source for this quote? Sure, they are both left arm bowlers who swing the ball, but what else is similar? Wasim's run up was shorter, with a groin ripping delivery stride, and Vaas's run up is longer and the action smoother. Don't know any figures for fastest deliveries, but the naked eye (and memory) suggests that Wasim was markedly quicker. Cite references, please!\",\n",
       " 'they still shouldnt kill a women for a reason like that christains are soppose to be good people.',\n",
       " '==My RfA== \\n Thank you for the note, and for the +sysop!    ~',\n",
       " '\" \\n ::Think you\\'re missing the point.  \"\"David and Goliath\"\" as is commonly used in the English language refers to the Biblical legend.  The clothing store should be a disambiguation link in the main article. -  \"',\n",
       " 'www.coe.int/t/e/human_rights/minorities/2. framework convention (monitoring)/2. monitoring mechanism/5. comments by the states concerned/2. second cycle/PDF 2nd Com Romania en.pdf]',\n",
       " '\" \\n :::::*Or less than obscure ones...  |  \"',\n",
       " '::Btw, it is amazing how looks like a tax return form in the US, they assume that everybody is retarded.',\n",
       " 'REDIRECT Talk:End Of the World (song)',\n",
       " '\" \\n\\n == Thank you == \\n\\n James, thank you for reverting that horrible vandalism from my user page.   \"',\n",
       " 'تعتبر ابنوب من اجمل مدن مصر حيث اصبحت الان قطعة من اوروبا حيث المبانى الشامخة ووجود المصالح الحكومية والنوادى وغيرها وذلك بجهود السيد المحافظ نبيل العزبى  واذا نظرنا الى ابنوب وجدنا انها مقسمة الى مناطق واشهر هذه المناطق العسيرات التى تعتبر مركز البلد واشهر عائلة بها بيت حمد',\n",
       " 'And those who are dicks, mock people in the discussion sections. Something for you, Wetman.....',\n",
       " '\" \\n ::I don\\'t think he belongs in this category - of course, he believed that the world was created by God  - that much is obvious. But so does an overwhelming majority of Orthodox Jews - that doesn\\'t mean that every Orthodox Jew who has an article should be in this category. I think that only people who are publicly (and specifically) outspoken about the issue of creation vs. evolution. I don\\'t think the Rebbe was known for that.  \"',\n",
       " '== Definitely Notable == \\n\\n I added a recent scholarly publication and a partial list of recordings (the bio on his site says he has participated in 35 recordings).  I will research this further and add links but my preliminary search suggests that this is a notable musician and scholar.',\n",
       " \"==NPOV? Nah== \\n\\n Nice to see that Jimbo is commited to NPOV, especially when it comes to userboxes. Oh wait, that was just my imagination! When it comes to userboxes good old Jimbo must be one of the most bias people of this website. Fair's fair, it is HIS website, but but make out that the website is fair to all, with NPOVs abound. Jimbo Wales has abused his postition for his own preferences, and his admins, like little lap dogs have down his dirty work for him. Jimbo didn't even have the balls to delete the userboxes himself. Well, fuck you Jimbo.\",\n",
       " \"Any way we can get the Hotchkiss BS off WP? Everything written there is so black and white. Stereotypes and generalizations man. They taught us those things are bad in grade school, they're equally bad here as well. Your display of ignorance on the matter, while forgivable, does in fact make you a an ignorant person, and possibly a narcissist.\",\n",
       " '\" \\n\\n == Your biographical info has been userfied, for your convenience. == \\n\\n Hi. Your biographical info, originally posted at \"\"Harmisajedi\"\" has been moved here to your user page. Happy editing!   July 2, 2005 00:56 (UTC)\"',\n",
       " '\", 26 November 2005 (UTC) \\n :::Well, Permyakia and Perm Oblast have established economic ties and a lot of common infrastructure—that\\'s one of the main reasons.  Also, Permyakia is heavily dotational, relying on the federal transfers to form a significant portion of its budget.  Problem is, federal government is not always good with transferring funds timely, which, as you imagine, creates all sorts of issues.  Perm Oblast, on the other hand, is a donor, and once both budgets are merged, it will ease the pain somewhat (but note that during 2006 there will still be two separate budgets, so there will be a transitional period).  Another thing—Permyakia will still have a special status within new Perm Krai.  The main scoop is that Permyakia will no longer need to rely on federal government\\'s transfers (but will, of course, become dependent of Perm Krai\\'s budget), and Perm Oblast will gain access to Permyakia\\'s resources.  The merger also lowers administrative costs—instead of two local governments there will only be one.  Considering that Russians and Komi-Permyaks co-existed peacefully for quite some time, there is something in this merger for both parties. \\n :::In 2003, a poll of 309 people was conducted among the population of both oblast and autonomous district.  The most common pro-merger responses were \"\"because together is better\"\" (21%), \"\"because the common budget will create better opportunities for the territories\\' development\"\" (19%), \"\"because the government will be able to build new bridges and roads\"\" (15%), and \"\"because there will be a reduction in the number of government workers\"\" (12%)— 15:43\"',\n",
       " \"==Q== \\n Sandy advised that I seek your council on the title of Study for a Self Portrait—Triptych, 1985-86. Problems with dashes and commas I'm not clever enough to figure out by myself. For some odd reason she thinks you might have the necessary smarts.  \\n Sorry about the hassels with Bishonen a few days back I want to say because you got caught up; she pressed the wrong buttons with me is all, found a sore point. Fine, thats my problem, I have no issue with Bishonen.\",\n",
       " \":I've asked  to discuss removals of information first. I will need to remind him. \\xa0|\\xa0\",\n",
       " \"== I'd like your view on a conflict of interest question == \\n\\n I'd like your view on a conflict of interest question I've raised, since you're deeply involved in some of the pages / subjects that we'd be linking from. Wikipedia:Conflict_of_interest/Noticeboard#Workplace_COI_questions\",\n",
       " '==Wikipedia Goes to the Movies in NYC this Saturday Dec 1== \\n  in NYC]] \\n You are invited to Wikipedia Goes to the Movies in NYC, an editathon, Wikipedia meet-up and workshops focused on film and the performing arts that will be held on Saturday, December 1, 2012, at the New York Public Library for the Performing Arts (at Lincoln Center), as part of the  Wikipedia Loves Libraries events being held across the USA.   \\n\\n All are welcome, sign up on the wiki and at meetup.com!',\n",
       " 'protectionbitch why the fuck change my fast lane thing',\n",
       " \"Schmidt was just the best-funded advisor on privatisation methods in Estonia.  Treuhand Ost-Beratung financed e.g. Finnish-numbered fax machines and other support.  USAID and the EU PHARE project provided counterbalancing advice which took into account the voucher system that had been instituted in Estonia, which was alien to Schmidt's German experience.  Indeed, in opposing the first public offerings for shares, in the manner of Margaret Thatcher's government in Britain, Schmidt commented that such methods equated to the reintroduction of communism.  When majority stakes were sold in former state enterprises according to the classic German method, especially to entities associated with the state enterprises' managers, questions were asked as to whether the majority shareholders were unduly profiting by not treating their part-subsidiaries at arm's length. Schmidt should not be credited with the mixed method of privatisation instituted in Estonia.\",\n",
       " 'I love you more talebs * cge go, sabot namu for 2mrw talebs.',\n",
       " '\" \\n\\n == \"\"Burn the mother fucking lot down already\"\" == \\n\\n This here is unacceptable, and if it were not for the fact that you mentioned, I\\'d block you for a month. Someone else still may. \"',\n",
       " 'I said is going to be a longgggg one!!!!',\n",
       " '\" \\n\\n I really think you are worrying unnecessarily about it. I just happened to come across the article and found a huge close up of her face which was overpixated. Think what you like and do what you like if you disagree.       \"',\n",
       " \":Thanks for letting me know. I've commented on the review - essentially, I think I probably got that wrong.   •\",\n",
       " \"== Note: 1 & 2 Copied from Talk:Airbus G-EUPC == \\n\\n ==1. Comments== \\n New page created, feel free to add or edit.   \\n :wHILST I would dearly love to see this page blossom, I cannot seem to be able to justify it. I feel that the subject should have no more mention than a parqagraph in an article on the 2012 Games as a whole. Having said that I amhoping that I spark a discussion that will enable the coorect path to be chosen. P.S. my ex-wife is going to be one of the torch-bearers!!   \\n ::Actually I kinda agree. Let's leave here for a few days and then see what LOCOG use the plane for next! If it disappears back into the BA schedules perhaps I should move the whole page to WikiNews??   \\n :::On further reflection I have moved most of the non-aviation material to a new section of 2012 Summer Olympics torch relay.   \\n\\n == 2. Deletion request == \\n\\n  wrote concern = Not notable outside of the 2012 Summer Olympics torch relay, failing WP:GNG and WP:ONEEVENT.  Any useful information can be merged there (which most of it is already).  No real need for a redirect as it is an unlikely search term. \\n :However she/he did not put any discussion on this page to discuss this deletion first.   reveals s/he has a tendency to delete articles without a full discussion on appropriate pages and wikiprojects eg Wikipedia:AVIA. Her/his reasons for deletion may be valid but please let's have an informed discussion first.   \\n ::Wikipedia has several modern aircraft used for specific purposes, eg VC-137C SAM 26000 in the USA. These specially painted Airbus aircraft will have several purposes during the Summer Olympics, not just the arrival of the Olympic Torch. Can we wait a bit before Speedy Deletion? Perhaps widen scope of article to include all 9 Airbus aircraft with livery designed by Pascal Anson.   \\n :::Lidos, as I (just) mentioned on your talk page, the WP:PROD process does not require discussion (and is completely different from the Speed Deletion process.  There was nothing wrong my actions, nor was any offensive intended towards you nor an attempt to circumvent any discussion.  lease review what PROD means before making further allegations.  If you think an article deserves a deletion discussion (aka an WP:AFD process), whether or not you believe the article should (or would/will) be deleted it is perfectly acceptable to remove the PROD tag without comment (though preferably a reason should be given.). Finally, I do not agree that the article (even if expanded in scope) will ever meet WP:GNG and intend to bring the article to WP:AFD.\",\n",
       " 'GIVE BLOWJOBS TO HOT WOMEN FROM ALDERLEY EDGE, CHESHIRE',\n",
       " \"I don't see anyrhing wrong with this being called Amigos!?I like ie, finally some spanish in Sonic! (lol)\",\n",
       " ': If this continues I will likely be requesting article protection, due to persistent IP-vandalism.',\n",
       " '== Suggested deletion of the article by  == \\n\\n It seems  suddenly decided to delete all Seventh Framework Programme projects articles, using the same copy-paste arguments: Ephemeral project. No independent sources, no indication of notability. Does not meet WP:GNG. \\n\\n The CyberEmotions project is one of the major projects of the 7th Framework Programme in terms of financial funding, as well as in terms of duration, number of research teams involved, and multidisciplinarity of these teams. If this article is deleted, so should be for instance FINNOV, DARIAH, or EGAIS. Five Wikipedia articles about emotions and the Internet link to CyberEmotions. The reason for this is the importance of studying collective phenomena on the internet to prevent negative events, with repercussion both inside and outside of the online world. This is one of the purpose of CyberEmotions. \\n\\n Furthermore, the notability of the project is already partially demonstrated in the Research section. A series of references to high quality peer-reviewed journals are made (e.g., Physica), in a brief summary of some of the findings of the project so far. \\n\\n This Wikipedia article will be improved, and its relevance and notability for understanding collective phenomena on the Internet will be clearly demonstrated.',\n",
       " 'fukin fagit y u so ghey',\n",
       " '\" \\n\\n :It is a rumour, not a fact...The bit about Bert McCraken is a fact. I think that is why it is removed. Olivia is not a person...She is Gerard\\'s dog. The girl in the rumour is Eliza \"\"Cuts\"\". She is Mikey\\'s hair stylist and a friend of Alicia Simmons. Mikey has offically declared on his myspace account that Eliza has never dated anyone in the band. Please visit worldsmosthated.com to learn more about Eliza and Alicia. Unlike Mikey, Gerard never talked about his personal love life in interviews.   \"',\n",
       " \"What's going on here? This article now reads like a tourist brochure, not an encyclopaedia. Where did the one image and all the original text go?\",\n",
       " 'SOMEONE PLEASE HELP I FEEL LIKE IM GOING HARM OTHER PEOPLE AND THEN KILL MYSELF',\n",
       " '\" \\n\\n == Rifeños are moroccans !!! == \\n\\n Hi, it\\'s stupid to call the resistence by \"\"rifeños\"\" without mentionning antything about their nationality, as you know, The region of Rif was part of the spanish protectorate in morocco and before that it was moroccan and still now it\\'sd moroccan, so Rifeños are moroccans and the article must mention it. Stop manipulating and denigrating history of Morocco \\n   \"',\n",
       " '\" \\n\\n I don\\'t remember why I have this on my watchlist, but you are all seriously pissing me off, therefore you have won the \"\"page is now protected\"\" sweepstakes. SOLVE YOUR DAMN PROBLEM HERE FIRST. Thanks.  \"',\n",
       " 'naravno gajdobra je zakon!!!pozz od milice bjelice',\n",
       " ':Is  your sockpuppet. if so, stop using using it now and forever. Using 2 identities in the way you appear to be is not acceptable behaviour at wikipedia,',\n",
       " \"==Carnatic music & Bharatnatyam== \\n Nilakana Sastri's book on Cholas (published in 1955) has section on their temple culture that was a precursor to Carnatic Music and Bharatanatyam. You should get it, if you already do not have it. Also the K. Indrapala's Evolution of an ethnic identity... puts it together as to how Chola Art forms directly lead to Bharatanatyam forms in sculptures in Sri Lanka. Indrapal quotes Nilakanta Sastri extensively.\",\n",
       " \"Hello. I have split this page's content from that of Bromide paper, as it seems more appropriate for it to have it's own page. I'm no expert on Japanese culture; I searched for refs in English but found only one - perhaps you could help develop this page further. Also, I have no Japanese fonts on my P.C., so I apologise if you see a load of question-marks instead of the intended text. Thanks.\",\n",
       " \"== Summerlin website restrictions == \\n\\n Just to note that access to Summerlin's official website is restricted in terms of the usage agreement in place.  Reading the terms of use policy, you can't perform machine translation of the site as that puts it inside a frame  a violation.  You can't even use software from the site if you are from Iraq.  I understand how the U.S. is restricted from exporting to Iraq or other restricted countries/organizations, but this is just a homeowners association website!  Foreign users of Wikipedia who try to follow the link and have to read it in English will be disappointed.  Isn't this a bit too much?\",\n",
       " \"(I'm sure there's more sources that call them that in a more neutral manner too)\",\n",
       " '== Incoming == \\n\\n  \\n\\n Manila wikipedia article was mentioned in the currently-airing episode of Veronica Mars —2007-01-24T02:17:38(01/23 21:17EST)',\n",
       " 'For the sake of compromise, there could other possible solutions to the two that you mentioned. Perhaps expanding the prose.',\n",
       " \"Bloody Mary is a real girl that goes insane if you say you killed her baby in the mirror you will DIE from her,so that's a heads up for you guys that are curios.by the way i love Goosebumps\",\n",
       " \"Dear FisherQueen, \\n\\n I am currently blocked, but at least'm not dead, unlike that gay twat Jeffpw ahahahahahahahahahahahahahahahahahahahahaha\",\n",
       " 'sjf fjpmij oijf;lfejfkdj jije f kfje;fij fjfjflkjf;sijf fmjfsjfijf;wejfdkjnfoidfjlj fjposjf;l;lsakjfalskd jijnelnfle kl;ajsdfk;lsdfkj;lhere',\n",
       " '\" \\n :I like your closing statement as an example of what should be said in such cases: \"\"and since none can agree, neither can I.\"\" Don;t be surprised if I borrow it.   \\'\\'\\'\\'\\'\\'  \"',\n",
       " \"Search Google, it's listed as 1966 everywhere I've seen, including many PJ related sites.\",\n",
       " '\" \\n :::::::this source dosnt prove anything you said its present anything exept of calling them \"\"palestinians\"\" and that is not a foreign civilian from foreign country especialy when most of them can\\'t be refugees from mandatory palestine.and stop ignoring my question why i should give sources to this simple facts??how the fact that the source dosnt relate give any information that relate to the chart need a \"\"source\"\"? are you reading what i am write her?. \\n   \"',\n",
       " '\" \\n\\n ::::: That\\'s enough of this \"\"incompetence\"\" bullshit from you and Jtydog. DrChrissy might get upset at times, but there is nothing incompetent about him. He seems to have made a slip and meant 6 years instead of 16 years, that\\'s all. What the RfC was about seemed quite clear to me. The waters have been muddied again and again by others.    \\n\\n \"',\n",
       " '== chevron texaco oil and gas company endowment funds == \\n\\n Dear Sir, \\n\\n I would just like to inquire about the above subject, does it exist?, because a certain Mrs. Julie Newton of UK emailed me and was telling me that i won the funds selection.  If this is true, please help me togo about it. \\n\\n Thank you very much. \\n\\n roberto',\n",
       " ': I would not call this propoganda when there is so much evidence to support the claims made. Some people DO research before adding material! Hence,',\n",
       " '\" \\n\\n == Image:DVDs-On-The-Run-Logo.jpg == \\n\\n Yes it was, dear Zoe, tho he didn\\'t upload it as a self-work at that time, but under a \"\"with permission\"\" tag and as such fell under I3, and I speedied after asking around a bit. \\n\\n I\\'ll take the opportunity to thank you for your kind message, dear Z - being noticed and approached with words as nice as those you said to me by people I\\'ve looked up to for months and months is something I still can\\'t believe to be true ) Expect a more appropriate thanking message from me in the next hours - I\\'ll go crazy, so many messages to reply, ahh! ) Please take good care, Z - I see you\\'ve been having a tough time lately, and it\\'ll be my pelasure if I can help you in any way. Have a big hug,  ♥  - \"',\n",
       " '\" \\n\\n == Question == \\n\\n Is it okay to use letter written from the trenches as a source when writing a wikipedia article.  For example I assume that you could use published letters to verify an oppinion of soldiers during a war, but could you use it as a verifiable source for facts?  Like when published civil war letters state that they are employeeing snipers at a certain battle, would said letter be enough to site it as a fact, or do you need further proof.  Also If the letters ARE NOT published can you use them to show oppinions of soldiers during war.  For example if I have possesion of several letters from the civil war stating that soldiers from the war stated that they dont believe the \"\"fredom of a few nigers\"\" is worth the war, can I thereby state that not all soldiers of the north even agreed with the abolishment of slavery.  Any info or direction you can point me to might help.\"',\n",
       " '== Donald Pevsner? == \\n\\n Is anybody else concerned about the number of mentions of Don Pevsner in the article, which has many edits by  ?   has corresponded with him about WP:V, and yet footnote 13 is clearly not verifiable by anybody but the two people privy to the conversation, one of whom is Don.',\n",
       " ':Doing no harm is not a reason to include the links, and being useful is not a reason to include the links. We err on the side of not including links in these situations. The main reasoning that keeps coming forward about including the links seems to be WP:ILIKEIT and [[:WP:USEFUL]. But after getting several neutral admins to contribute to the discussion, the huge majority agree that keeping these links is inappropriate. Unless someone comes up with some new, compelling reason why these links should be included, we all need to move on to something more productive (IMO).',\n",
       " \"Hi again, Imperfectly. Will you still have time to weigh in on the Hedge fund Talk page sometime soon? If you're busy, I may seek out another editor who has occasionally contributed to the article. Cheers,   · )\",\n",
       " \"::::We're going to have a bot go through the B class category and paste in the checklist to our banner which should prevent the loss of B class when you make the changes. I believe this should work unless you think otherwise. This will likely take a few days to complete so will let you know when that is complete.\",\n",
       " \"== Sorry == \\n\\n Misclicked there and ec'd with you undoing.\",\n",
       " '\" \\n\\n Vlakies lei, den xero an ta pistevi - boris na mu kanis mia hari? Na kanis epanafora tis vlakies pu ehun grapsi sto arthro ya ton \"\"lao\"\" tus.  \"',\n",
       " 'nelson has a bean head',\n",
       " '\" \\n\\n ==Wikipedia Day Celebration and Mini-Conference in NYC Saturday Feb 23== \\n \"\" thing at one of our earlier NYC Wiki-Conferences.]] \\n You are invited to celebrate Wikipedia Day and the 12th anniversary (!) of the founding of the site at Wikipedia Day NYC on Saturday February 23, 2013 at New York University;  sign up for Wikipedia Day NYC here, or at bit.ly/wikidaynyu.  Newcomers are very welcome! Bring your friends and colleagues! \\n\\n We especially encourage folks to add your 5-minute lightning talks to our roster, and otherwise join in the \"\"open space\"\" experience!  \"',\n",
       " 'REDIRECT Talk:Uncanny Tales (comics)',\n",
       " \"I think you should delete the whole fuckin' Wikipedia!\",\n",
       " '\" \\n : Keep it. Unless you would like to use (semi)official termimology from last years of socialist Czechoslovakia: \"\"advanced Western countries\"\".   \\n \"',\n",
       " '\" \\n\\n === Feb 3 2006 === \\n Topgun - Hi.  Have you reviewed the links I provided at the top of this section?  They really do a better job than I could at explaining the problem.  Please don\\'t at all feel like you\\'re being targeted if you see other similar links that aren\\'t getting removed, that just means they aren\\'t on anyone\\'s radar.  On Credit scoring for example I removed all the forum links.  So, can I ask that you read the guidelines, think about how they apply, and comment on my talk page before you add anymore links to your website? -  \"',\n",
       " '|living= y|class=stub |a&e-work-group;=yes |listas= Goldsworthy, Vesna',\n",
       " \":Cocks. I'm confused now. It is fully protected until 5th December at the moment. Registered users are 'crystal ball' editing it, but not actually vandalising it. Are you on IRC? I cannot see you. Do you think it needs taking down to a day or two? I am going to take it down to two days of full again. It will look messy, but to hell with it.\",\n",
       " 'Its a crap article but hardly vitally biased. Someone just make a good one.',\n",
       " '\", 19 December 2015 (UTC) \\n\\n :Because it is sourced to the Irschick work, which is far more reliable than the Raj \"\"ethnographies\"\". I\\'m pretty sure there are other reliable sources that make the same point. -   10:49\"',\n",
       " '\" \\n\\n == Norepi makes you think better == \\n\\n I disagreed rather directly to your response to a question at the science reference desk, and decided to send you my reply directly to facilitate dialogue: \\n\\n ::In response to your question specifically, no, being stressed does not make you think better. The Blood brain barrier prevents large molecules in the blood stream from entering the nervous system, protecting it from most infections. Although norepinephrine can be found in the brain and in the body in general, the norepinephrine produced by the adrenal glands doesn\\'t reach the brain. Norepinephrine in the brain is produced by neurons and stays in the brain.  \\n\\n ::Besides, think pracitcally: when you\\'re stressed, don\\'t you find that you are more grumpy, unstable and more prone to making bad decisions? Do you personally think that you or those around you \"\"think better\"\" when you\\'re stressed? Faster maybe, but better? \\n\\n ::Moreover, although drugs that boost norepinephrine availability have been useed to treat ADHD, the general idea that having alot of neurotransmitter in general makes you think better is a little confused. Having alot of a neurotransmitter may sound good but it\\'s usually not and often can result in psychiatric disorders of chemical imbalance. Dopamine is commonly used as an example: dopamine deficiency results in Alzheimers, and dopamine excess can cause Schizophrenia.   \"',\n",
       " \"Correct me if I'm wrong, but didn't Rhodesian blacks have voting rights?\",\n",
       " \"I am an ignorant but interested Australian learning about this important topic from you two well-informed Wiki editors, rather than from the media. Random's comments here seem to include compromises, open mindedness and plenty of good sense (his continuing personal reservations about Rob being the only exception).\",\n",
       " '\" \\n\\n ==Social Status = Number of Edits== \\n Who engineered this perverse subculture?  It had to be either Mayor McCheese or Barney the Dinosaur.  Or maybe it just evolved after everyone with even a shred of intellect was run off by an angry mob of self-proclaimed \"\"editors.\"\"  Wikipedia is like a mental hospital run by the inmates. - \"',\n",
       " 'Nigga you blind???? This article does not cite -bla bla bla!! Watch the episode nigga!! You got your facking resource there, mothafucka!',\n",
       " '::there was(circa1990 last time i checked it was there) a plaque on that corner that says 0km as is was the starting point for all distance measurements from Perth.',\n",
       " '==&&&&&== \\n This guy is yet another sock operator. When did everybody go nuts?',\n",
       " '== Thanks... == \\n\\n ...for reverting my user page.',\n",
       " '\" \\n Welcome! \\n\\n Hello, , and welcome to Wikipedia! Thank you for your contributions. I hope you like the place and decide to stay. Here are a few good links for newcomers: \\n *The five pillars of Wikipedia \\n *How to edit a page \\n *Help pages \\n *Tutorial \\n *How to write a great article \\n *Manual of Style \\n I hope you enjoy editing here and being a Wikipedian! Please sign your name on talk pages using four tildes (~~~~); this will automatically produce your name and the date. If you need help, check out Wikipedia:Where to ask a question, ask me on my talk page, or place {{helpme}} on your talk page and someone will show up shortly to answer your questions. Again, welcome!\\xa0 e () \"',\n",
       " \":::Thanks Ryan and Worm. It didn't occur to me to check the later editing history to see if anyone had said where it came from. I have now merged the sandbox history into the article.\",\n",
       " \"== Thank you! == \\n Hi PKM, I'm not sure if this is appropriate given I'm such a Wikipedia newb but I just wanted to thank you for the welcome. I appreciate it!!\",\n",
       " 'For those people saying that Top Gear is not a Fact based show. Top Gear has won Most Popular Factual Programme  at the 12th National Television Awards, 13th National Television Awards, 14th National Television Awards and 16th National Television Awards and been nominated for the same award at the 10th National Television Awards, 11th National Television Awards, 15th National Television Awards, 17th National Television Awards and 18th National Television Awards.',\n",
       " 'GAY FAG FAG FAG',\n",
       " 'pg1 4 life, div 6 winners 2006!',\n",
       " '== French Revolution Causes == \\n\\n 1. Old Regime: The Three Estates \\n First Estate Church owned 10 percent land paid 2 percent in taxes \\n Second Estate Nobles owned 20 percent of land and paid 1 percent taxes \\n Third Estate 98 percent of population working class merchants paid half to taxes \\n The third Estate was out numbered in voting and wanted to have voting with population so everyone was counted \\n they were exploited \\n 2. Economic Problems \\n Population Growth \\n Business could not make money because of high taxes \\n Bad Weather Drought led to famine poor crops \\n The price of bread doubled too expensive for third estate and it was the main source of food \\n 3.Weak Leader \\n Lois XVI spent too much money borrowed to help America defeat Britain \\n Indecisive  \\n Did not want to govern his country \\n 4.Marie Antoinette \\n Spent Millions \\n 5.Enlightenment \\n Inspired peasants to revolt \\n 6.American Revolution \\n Inspired peasants served as a model of freedom \\n 7.Dept \\n Desperation Bad Economy \\n -RjR',\n",
       " \"Not my intention to accuse you of anything. Apologies if I came across like this. The correct spelling is however is one word 'Moulvibazar'. I know this as I was born there, it is in all official documents, going back 37+ years.  I don't know where this archaic Maulvi bazar spelling comes from but this has caused a lot of pain personally, i.e. bank address, account detail mismatch. I am on mission to correct it here and elsewhere. \\n\\n I wanted to rename this page and remove the redirect (possibly redirect from here to correct one). But unfortunately I don't know the know-how or have the right privilege. May be you can help me here.\",\n",
       " \"::I don't know if this is worth including in Jihadi John but it is very clear at this point that ISIL does a very good job as far as making viral videos is concerned and its social media arm is very strong. Aside from their execution videos, even their propaganda films are extremely well edited and produced. I think this is something that is addressed at the main ISIL article at Islamic State of Iraq and the Levant#Propaganda and social media. So, in my opinion, most readers would be able to relate that to the quotes in question. Maybe a wikilink to that page if editors still feel its not clear enough? -\",\n",
       " '::::My issue is that I feel like adding this, without giving the background on to why the voters are not registered  is also misleading, and should be noted.  In any case, I will try to find some time to work on the article and find sources and expand upon what you have added.  Thanks.  //',\n",
       " '\" \\n\\n == Hey you islam motherfucker why deleted you my text - motherfucker == \\n\\n Changing times show us the truth about the 9/11 conspiracy theories \\n\\n Changing times show us the truth about the 9/11 conspiracy theories \\n\\n Hey George, what a boring day, why not to attack the Iraq to initiate a 2.700 billion Dollar war \\n\\n Geroge: Sounds good, but why \\n\\n Just for fun \\n\\n George: Ok, why not, I will ask the demokrats to destroy our World Trade Centrum inclusively all our highly paid top specialists to initiate a devastating financial crisis. Damm Iraq lets attack them! \\n\\n Joking apart, as the changing times let recognise us islamists try daily to blast everything whatever they can, if you belive it or not, they even wouldn\\'t refrain from attacking a women marathon or our women, to make us hate and fight them \"\"as much as we can\"\". By all appearances there was one of this typical terror organizations, they have gained the control over the three plaines and steered them into the World Trade Center Towers of the USA in the middle of New York to show us how evil they are. \\n\\n George Bush has so many enemies under the politicians that it really never would be possible to kill anyone. The politicians even had not said anything or much against this childish theorie, as they all have known that it is completely childish.\"',\n",
       " '\"== Update == \\n Tell Tyrone to check his messages. A representative of the Wikimedia Foundation has made an attempt to contact Stephen Colbert through his staff. In the meantime, I\\'m still gathering more information about the specific linking issue.   (Lee)  \\n :That\\'s an edit summary in an admin\\'s block log, not a message sent to anyone in any official capacity  contrary to popular opinion, some Wikipedians do have a sense of humor. The message that was sent to him would represent an attempt to ascertain identity following an established procedure. If Colbert wants to promote his site here, all he needs to do is make a trivial effort to establish his identity to the Foundation, which is already seeking to contact him as we speak. Not that I have anything to do with this, but I thought I might alert you to a simple way around this.   (Lee)  \\n\\n :Sheeh. I apologize for not being more clear. I didn\\'t exactly expect you to go searching through miscellaneous site logs when I mentioned that someone from the Foundation was attempting to contact Colbert. The Wikimedia Fountation is, just to clear, the non-profit organization that handles Wikipedia\\'s business and legal affairs. They\\'re seeking to contact him, actually, over events related to the previous night\\'s \"\"Wikiality\"\" discussion on the Report  this is something I heard through the grapevine and not anything I know much about  but I thought perhaps that if this site is indeed a scrappy little underdog of a marketing campaign for book whick Colbert considers his baby, he or a representative might want to bother to have a fifteen minute discussion which would allow tek-related information to happily coexist with Wikipedia\\'s policies. He doesn\\'t have to do anything he doesn\\'t want to, but since the folks at the tekjansen site seem to be somewhat preoccupied with the status of a single link here  and have us listed as their top referrer, despite the link being down half the time  I thought the option might be of interest. No, huh?   (Lee)  \\n\\n :Re-read the above. I did not say they had to falsify the list in order for Wikipedia to be the top referrer. I suggested a brief phone conversation might be worth the trouble if we\\'re generating the bulk of their traffic and they\\'re looking to promote. Take a deep breath. \\n :I also did not say Colbert has to verify his identity in any way. However, since the site seems to fail several points of our linking policy, yes, the site is likely to be removed without additional information being provided. I\\'m sorry, but the \"\"it\\'s relevant anyway\"\" angle is fairly weak; the only reason this material would be an especially relevant resource on Colert would be if it was actually Colbert\\'s writing. It does not have information on anything relevant to Stephen\\'s biography. Generally speaking, we don\\'t count fan forums as an invaluable, unique resource  see WP:EL.  That leaves the book, which, while possibly being Colbert\\'s, is irrelevant if it\\'s not. I could write a novel about Charlene and post in on my website, and that would also not be relevant. Or a novel about Stephen Colbert for that matter. In any case, I\\'m sorry that for some reason I seem to have pissed you off. I have no idea why you\\'re so angry about this, but I assure you again, as I have assured you before, it\\'s nothing personal.   (Lee)  \\n\\n My AMA request, which you seem to have found, was a private request for advice on how to handle a situation which has become somewhat tense. You are welcome to conduct a straw poll if you want  I haven\\'t followed through on that personally because I\\'ve already have openly solicited comments from editors at the Colbert talk page, and believe we already have a pretty good index of what most experienced editors think of the link. But go for it. As I have stated before, if there\\'s a consensus to add the link, I won\\'t remove it. I never, never, ever, not even once said that I will \"\"refused to allow the link unless [myself] or a Wikipedia \"\"official\"\" is contacted by someone at the Colbert Report\"\" so please stop misrepresenting my remarks. In the meantime, there is absolutely nothing wrong with my asking another user for help and it does not represent bypassing a regular process. You are welcome to file',\n",
       " '==Graphwise article deletion== \\n Hello. I wrote the article for graphwise which was speedily deleted. I would like more information on why it was deleted. Graphwise is a brand new company with a unique and proprietary graphing process. The company has created something new and unique to the web, and has numerous patents on their unique creation, these patents were listed in the article. In writing the article I I made an effort to post only  informative and relevant content. I would like to know what did not fit the criteria of wikipedia and what I can do to repost an article for the sites contribution to the web. Thank you in advance for any input.',\n",
       " \"== Re:Help me == \\n\\n Well, you see, you were vandalizing my talk page. Not only were your edits not in English, after translating them, I found that they were unhelpful/inappropriate.  Not to mention that you vandalized the Yangban article. That's why you're getting warnings from me.\",\n",
       " \"::Yes. Search for some celebrities or fictional characters (eg, Batman, Alan Partridge, Ross Geller) and you will see for yourself. I would have wrote it myself in the article but I don't know how to word it and where to put it.\",\n",
       " 'Dynamic IPs sure are a bummer sometimes! \\n\\n Sorry for whoever fucked up your article.',\n",
       " 'Fuck you. Many people want the original Japanese names. This Japanese anime. Japanese names should be, it will not interfere.',\n",
       " '\" \\n\\n ===Re.: REQUEST LINKS ON CZ, NESSIE=== \\n\\n Found 29,300 websites and data sites for CZ, NESSIE. Three of these are \\n\\n * Cryptozoology Homepage \\n * Dinojoe\\'s Homepage \\n * Mysteries Megasite homepage: Click on any Cryptozoological subject and/or \"\"Cryptozoology \\n\\n Will these do ? \"',\n",
       " '.after many years a butt that comes out of a di',\n",
       " \"If you think I will refer to the matters and affairs of this War in GOOD vs. BAD, Terrorists ( spreads 'Terror and 'Mayhem'), Evil doers and 'Cute Puppies' you are mistaken. You can legitimize whatever you want, as long as you do everything else.. So yes, you will strip the news coverage you read from it's politic siding and filter the facts, because this website is not a news dump.\",\n",
       " '\" \\n\\n == Richard Etchberger article == \\n\\n I don\\'t see an issue with adding or uploading relevant media; I found a photo of Etchberger\\'s brother at the dedication to a memorial to him at Barksdale AFB from 2008 on defenseimagery.mil and uploaded that. The videos I would think should be PD, so by all means, go for it. There\\'s also the video of the White House presentation ceremony and I already uploaded an .ogg of the President\\'s remarks.  \"',\n",
       " '\" \\n ==\"\"nightclubs?\"\"== \\n I\\'ve never seen anything in Point Roberts other than a sports bar. There\\'s TJ\\'s, Breakers, and The Reef. None of these are clubs. \\n Thrillhouse85 \\n  Feb 13, 2007\"',\n",
       " \"WTF is this emo shit? At The Drive In weren't emo!\",\n",
       " '::There is a whole bloody world outside of the USA - some people would do well to remember it!',\n",
       " '==Vote for Deletion== \\n This article survived a Vote for Deletion. The discussion can be found here. Several voters recommended that the title be changed since the cutoff date at which things pass into the public domain in the US will change over time.',\n",
       " '\" \\n\\n :Not nit-picky at all — it\\'s a point very well taken. Unless anyone objects, I think we ought to remove the \"\"soft pastel\"\" reference altogther. —   \"',\n",
       " '\" \\n *Ok, dokey. This revert puts us square on the \"\"discuss\"\" portion of the BRD cycle. I feel that my changes aren\\'t broadly transformative to the POV of the article, that they improve the flow (for reasons posted above) and that they can be supported by either side of this business. I see that this change specifically could generate some consternation and I\\'m more than happy to put that on the back burner (though a big quote shouldn\\'t be leading the section, IMO). If I don\\'t see some discussion here I\\'ll assume that silence implies consent and go back to improving the article.   \"',\n",
       " ':::: The fact that most of your bullshit is believed by most Americans is the reason the world would be better off without the USA. We did it, we are good, therefore it was good. Thank goodness for us.',\n",
       " '\" \\n ::I think you misunderstand, and I already changed the article from what it said before. Before it listed her in shorthand as \"\"Chase Smith,\"\" like \"\"Chase Smith did this and Chase Smith did that.\"\" There\\'s no doubt that she used the name \"\"Margaret Chase Smith\"\" in lieu of \"\"Margaret Smith\"\" (which I have never heard), but her \\'last name\\' was always Smith, and she was \"\"Senator Smith\"\" not \"\"Senator Chase Smith\"\" (some books have referred to her as such, but I can\\'t find anything from her or the US Government). The sources you provide show that she was categorized as \"\"Smith, Margaret Chase\"\" with Chase being treated as a middle name (as was/is common for many married women), not a part of her surname. Thus, I think the shorthand for \"\"Margaret Chase Smith\"\" remain simply \"\"Smith\"\" (or \"\"Senator Smith\"\" or what-have-you), and \"\"Chase Smith.\"\" Unless of course, I\\'m still missing something. \"',\n",
       " '==Stop doubting me!== \\n Please stop saying that user:Gabeyc is my puppet!',\n",
       " '\" \\n\\n :::::::*This means what? And are you saying that people ignoring my being insulted is justified? (If you are, it explains why I relate to this.) Erpert  |  \"',\n",
       " \"Your smart, he'd like you.\",\n",
       " 'Wtf, all western corners are 90 degrees.',\n",
       " '\" \\n\\n == Population of Mosul == \\n\\n Existing text says: \"\"It is Iraq\\'s second largest city after Baghdad.[1]\"\" \\n\\n This eliminates Al Basra as the second largest city, although it has 3.8 million citizens vs. the 1.8 million for Mosul.\"',\n",
       " 'The debate centers on whether or not this material is appropriate: See this deletion',\n",
       " '== willeys  == \\n\\n if u are a male with no willey then u are likley to be gay lol',\n",
       " \":What's your question?\",\n",
       " '\" \\n :::: OK, thanks.  \"',\n",
       " 'D. Hinmon',\n",
       " 'TOGOOOOOOO BOBOOOOOOO BIG FAT HAIRY BALLS.',\n",
       " '\" \\n\\n == Name? == \\n\\n What\\'s the source for \"\"Mehmet Günsür\"\" being the \"\"proper name\"\"? I don\\'t know any Turkish, and certainly there are different name forms to be found, but the Turkish wikipedia has opted for Mehmet Günsur, and here is another source.   \"',\n",
       " \", 21 December 2015 (UTC) \\n\\n :::::: I also agree. There's not a shred of evidence supporting the contention that native Germans spoke anything but German when interacting with the Jews. | 20:45\",\n",
       " ':Extremely cool, thanks! -',\n",
       " '== Canberra Districts == \\n\\n Hi, I have been moving the Canberra districts all back to their non-disambiguated names. I have done them all except Tuggeranong which needs an admin to first delete the redirect page. I would appreciate it if you could move it over for me. Thanks. -',\n",
       " \"I just want to congratulate whoever it was that made the executive decision to make this article utterly worthless and unusable to anyone who isn't familiar with Islamic lunar year calendars.  That's just brilliant!  Now this article is good for nothing to anyone outside of the Muslim lunar calendar world.  Stupid idiots...\",\n",
       " 'Greetings  \\n\\n Hello, we need WP:RS to WP:V information here. Best.',\n",
       " \"@Chasmania \\n\\n By removing the decreed of Allah through his holy prophets, concerning the history of Gaza, YOU are responsible for the bloodshed in Gaza strip.  Peace is only found by obeying the will of Allah.  \\n But obviously you care nothing for peace, nor the thousands of deaths that are continued through politics and corrupted officials. From now on, when innocents die, you can think to yourself, that you Chasmania have contributed to their deaths. Because you removed the commands of Allah, from wiki, regarding Gaza.  May Allah's mercy be upon you.\",\n",
       " ':Blocked again. Quit vandalizing.',\n",
       " \"== Purple Pimpernon == \\n\\n How can you leave out the reference to the Purple Pimpernon birth mark on the baby's butt cheek? A search of the phrase turns up this article, but the term isn't actually in it.\",\n",
       " '==Table re-formatting== \\n I started merging the 2 tables per event into one today, and standardizing their formatting. Am about 1/2-way through (did 50 free through 100 breast so far). Will be back to finish the rest. -',\n",
       " \":::Well, my opinion's worth exactly what you paid for it, since I've never edited that article ;) But I'm not sure why this needs to be analyzed within the COI framework at all. This doesn't appear to be about someone pushing for their specific acupuncture clinic or whatever, so it's not clear to me that this is any different from any other general POV-pushing case. I suppose the issue I have with the COI-related discussions I've come across lately is that they all turn the conversation from one about edits to one about the interests of the real-life person behind the edits. Those interests are difficult to identify, often unverifiable, and not always easily stuffed into the COI box.\",\n",
       " \"Somehow too many unread ranting idiots are allowed to post on these pages....no...too many people werent killed....unfortunately the stupid ones survived and procreated begatting more inbred stupidity....leaving the world in its current pathetic state. Nowadays, merely stating something makes it fact...true are not. Please read the real history of Corvair (btw, the only car ever proved safe to drive on US roads) and do not depend on this Wiki stuff, because what most people know isn't that much.   John\",\n",
       " '\" \\n\\n == Jesus\\' name == \\n\\n You wrote: \\n :that Judaic sources on Hebrew not claim authoritarian ownership of that language. I would love for you to present the sources you claim contradict the Yeshua transliteration. I for one am curious as to the nature of the so-called controversy you describe \\n *I am not sure what you mean about \"\"Judaic sources\"\" claiming \"\"authoritarian ownership of Hebrew.  Which sources?  Did you mean Alkalai and Chomski?  I think they are authorities because of their research as linguists, not because they are Jewish (and I can only assume they are from their names, but I have no idea whatsoever how they self-identify or what their beliefs are).  The textbook on Biblical Hebrew I used in college was definitely written by a Gentile, I do not have it on hand; the Hebrew-English Concordance we used, Brown-Drivers-Briggs, was not by Jews.  So when you refer to \"\"Judaic sources\"\" I really do not know what you are talking about and you have to spell it out for me. \\n * You want my sources contradicting your transliteration?  Please read my first comment on the talk page again.  Please read the second one.  Please read Andrew Card\\'s.  I never claimed to have any sources contradicting your transliteration, indeed, I said - and I wrote this yesterday, it was in my first comment - I said your reconstruction was plausible.  our reason for reverting it is not because we have sources contradicting it.  It is because we know of no historical sources that provide Jesus\\' name in Hebrew or Aramaic (which by the way I never said were unrelated.  Never.)  Andre, Leadwind, and I are reverting your edit because we are supporting a consensus reached by many editors, who reached that conclusion because no historian has ever provided a historical source for Jesus\\' name in Hebrew or in Aramaic.  Will Durant speculated what Jesus\\' Hebrew or Aramaic name would have been but it is a speculation.  There is no mainstream view, because there are no historical sources.  I said this several times: N-O S-O-U-R-C-E-S.  Why do you ask me for my source when I gave as my reason the fact that there are n...o  s...o..u..r..c..e..s?  \\n * You want to know the controversy I describe.  The Yeshu stories in the Talmud are considered by some modern scholars to be about Jesus (and by the way, those modern scholars do not see them as pejorative of Jesus but as reflecting through stories Jews\\' ambivalent feelings about Jesus and Christianity), but many modern scholars as well as medieval scholars argue that they are not about Jesus (in which case they cannot possibly be pejorative about Jesus and Christianity).  One reason why there is this controversy (is it Jesus?  is it not?) is because it is unclear what \"\"ha notzri\"\" means - many argue that it is a reference to a religious community described by Jerimiah (long before Jesus was born, and not \"\"Nazarene\"\").  And of course the other reason is that it is not at all clear that Yeshu or Yeshua was Jesus\\' name in Aramaic.  All of this controversy does not mean that Yeshu or Yeshua was not Jesus\\' name in Aramaic.  It does mean that we do not know.  My point was that the one case where we definitely have an Aramaic name, the earliest text with an Aramaic name one might think was Jesus\\'s Aramaic name, there is lots of controversy as to whether this name has any connection to Jesus, and whether the name is proper Aramaic, and what the name means or who it refers to.  If there is all this controversy over the earliest texts we have with an Aramaic name, it seems to me that the most one could do today is say that Jesus\\' Aramaic name may have been Yeshu or Yeshua.  We just have no reliable historical documents relating to this question. \\n\\n Without any reliable sources, any claim as to what Jesus\\' Hebrew or Aramaic name was would be original research, and that is forbidden by Wikipedia policy. \\n\\n Get it?  I am not saying my sources about Jesus\\' are better than your and I never said my sources were better than yours (I simply pointed out what was false in some claims you made about Hebrew and Aramaic.  And that has nothing to do with someone being Jewish and someone being Christian, it was you who suggested and seem to continue to suggest that.  You are not wrong \"\"because\"\" you are Christian.  You are just wrong.  And Christian who is also a scholar of Biblical Hebrew and of Aramaic and of Ancient Near Eastern history would also tell you you were wrong about your claims about Hebrew and Aramaic).  I am saying that THERE ARE NO HISTORICAL SOURCES AS TO JESUS\"\" HEBREW OR ARAMAIC NAME so any Wikipedian making a reconstruction IS VIOLATING NOR. \\n\\n Why do I have to repeat this?  Reread my first comment to you explaining my revert.  I continue to stand my it.  Every sentence of my first comment is true.    |   17:14, 21 January 200',\n",
       " 'WHAT THE FUCK YOU DOING ARSEHOLE!!! DICKHEAD!!! COCKFACE!!!',\n",
       " '\" \\n\\n == Unblock request == \\n\\n  \\n\\n NOTE to reviewing admin: Unless Ibaranoff24 admits to his sockpuppetry/block evasion (see Wikipedia:Sockpuppet investigations/Ibaranoff24) and commits to restrict himself to one account, I would strongly recommend against unblocking. —  \\n * I apologize for the evasion attempt, and I do not wish to abuse my privileges. I wish to make myself useful on Wikipedia, get some more FAs listed and make another run for adminship down the line. (  )\"',\n",
       " '\" \\n\\n ::Strongly agree with , this section needs to be rewritten with correct references.   \"',\n",
       " ':Please suck my dick. Thanks. -',\n",
       " '\" \\n\\n 1946 \\n\\n Ground-breaking Ceremony  \\n at Sunnydale Academy  \\n\\n Promptly at 2 o\\'clock on the afternoon  \\n of February 18 a goodly number of  \\n workers, lay members, business associates  \\n and friends from the surrounding com-  \\n munities met on the future nine-acre  \\n campus for a ground-breaking ceremony  \\n marking the beginning of the girls\\' dorm-  \\n itory, the first building to be erected at  \\n our academy.  \\n\\n The program was presented from a  \\n temporary platform erected on the future  \\n site of the new building. Superinten-  \\n dent H. C. Hartman served as master of  \\n ceremonies, introducing the program  \\n and speakers.  \\n\\n Elder Leon Robbins from St. Louis  \\n offered the opening prayer. Elder G. E.  \\n Hutches, president of the board of di-  \\n rectors, sketched the \"\"Historic Back-  \\n ground,\"\" relating the activities of the  \\n academy commission from the day it  \\n was organized until the day in October,  \\n 1945, when the end of the long search  \\n for an academy site was reached.  \\n\\n A hearty welcome was extended to the  \\n academy from Centralia by Mr. Julius Ed-  \\n wards from the First National Bank and  \\n from the community by Mr. John  \\n Shindler.  \\n\\n Elder G. R. Fattic, Central Union ed-  \\n ucational secretary, outlined the purposes  \\n and objectives of our three hundred ed-  \\n ucational institutions the world over,  \\n assuring the hearers that we had come  \\n\\n to be a permanent institution in this  \\n community and the state of Missouri.  \\n\\n Elder E. E. Cossentine, president of  \\n Union College, welcomed Sunnydale  \\n \\\\cademv into the sisterhood of acade-  \\n mies comprising Union\\'s territory. He  \\n stated that Union College would be  \\n happy to accept the first graduates as  \\n well as future graduates in view of the  \\n fact that Sunnydale will be staffed quite  \\n largely by fully accredited teachers from  \\n Union College.  \\n\\n Mr. Hartman pointed out the loca-  \\n tions of the proposed building sites for  \\n the girls\\' dormitory, boys\\' domitory, ad-  \\n ministration building, teachers\\' cottages,  \\n superintendent\\'s home, and other fu-  \\n ture structures to be erected on the  \\n spacious nine-acre plot. He then intro-  \\n duced Mr. Robert Deering, Columbia  \\n arcritect who drew the plans for the  \\n girls\\' domitory. Mr. Deering briefly out-  \\n lined the outstanding features of the  \\n building which will house 80 girls and  \\n expressed his belief in its beauty, prac-  \\n tibility, and adequacy.  \\n\\n Staff Sergeant Willard L. Bresee was  \\n next introduced as building supervisor  \\n and he made a brief response. Because  \\n of Sgt. Bresee\\'s experience in supervising  \\n the erection of a number of other large  \\n buildings, such as the auditorium and  \\n Don Lo\\\\e industrial building located  \\n on the Union College campus, we can  \\n be assured of well constructed edifices.  \\n\\n In an earnest dedicatory prayer Elder  \\n C. M. Babcock from Columbia pre-  \\n sented the plot of ground to the throne  \\n of grace, asking that the purposes for  \\n which it had been set aside be carried  \\n out.  \\n\\n Then with Mr. Hartman at the con-  \\n trols of a caterpillar tractor and Elder  \\n Hutches guiding the plow, Mr. HerscJiel  \\n Turner driv ing -a team of typical Missouri  \\n mules and Elder Babcock holding an-  \\n other plow, deep furrows were made in  \\n preparation for laving the foundation  \\n of the new building.  \\n\\n In spite of cloudv, wet weather every-  \\n one seemed to recognize the advantages  \\n of a location where pure air, sunshine, and  \\n spacious, roomy lawns provide an ideal  \\n setting for student home life.  \\n\\n A serious, interested atmosphere pre-  \\n \\\\aded the group as this milestone was  \\n reached, and we rejoice that our acad-  \\n emy is started; for its primary purpose  \\n\\n is to help save Missouri youth and aid  \\n in preparing them for the kingdom of  \\n God.  \\n\\n MRS. H. C. HARTMAN  \\n\\n http://www.adventistarchives.org/docs/CUR/CUR19460312-V15-11__C/index.djvu?djvuopts&page;=1 \\n http://www.adventistarchives.org/docs/CUR/CUR19460312-V15-11__C.pdf#view=fit \\n\\n \"',\n",
       " \"::::That entry made a lot of sense to me. As I was replying to you for the first time up there, someone came by my desk and noticed I wasn't effervescently happy and made a comment about how my attitude affects the whole office. I included him in my running mental essay of People Who Can Go Fuck Themselves. Yes, I know his heart was probably in the right place, but gah!\",\n",
       " \"==:Jason Rigert== \\n\\n A tag has been placed on Jason Rigert, requesting that it be speedily deleted from Wikipedia. This has been done because the article seems to be about a person, group of people, band, club, company, or web content, but it does not indicate how or why the subject is notable (see the guidelines for notability here). If you can indicate why the subject of this article is notable, you may contest the tagging. To do this, please affix the template  to the page and leave a note on the article's talk page explaining your position. Please do not remove the speedy deletion tag yourself. \\n\\n Please read the criteria for speedy deletion (specifically, article #7) and our general biography criteria. Feel free to leave a note on my talk page if you have any questions about this.\",\n",
       " '\" \\n\\n ==Barnstar== \\n {| style=\"\"border: 1px solid gray; background-color: #fdffe7;\"\" \\n |rowspan=\"\"2\"\" valign=\"\"middle\"\" |  \\n |rowspan=\"\"2\"\" | \\n |style=\"\"font-size: x-large; padding: 0; vertical-align: middle; height: 1.1em;\"\" | The Anti-Vandalism Barnstar \\n |- \\n |style=\"\"vertical-align: middle; border-top: 1px solid gray;\"\" | Have a Barnstar for Fucking reporting me to the AIV. Thankyou and have a nice day. This is also my 4rd attempt to add this barnstar. See the history.    \\n |}\"',\n",
       " 'hay whats up kayla \\n\\n  \\n\\n  \\n\\n  \\n\\n  \\n                             kayla',\n",
       " \"Oh yes, I'm a great fan of Scrotum, the wrinkled retainer. ) |\",\n",
       " '\" \\n\\n == August 2012 == \\n\\n In a number of recent edits you have made unsourced changes such as changing \"\"Anti-Globalization\"\" to \"\"Alter-Globalization\"\" or \"\"Libertarian\"\" to \"\"Right-Libertarian\"\". You need to provide citations to reliable sources that support those changes. See WP:NOR.   \"',\n",
       " '\" \\n\\n == Compromise == \\n\\n Would anyone have a problem with keeping the current arrangement (Johnson in the title, Ocho Cinco in the text) until consensus can be reached? -   \\n :Yes. Having title saying A and text saying B is just messy and unencyclopedic. Both the title and the text should read the same name. I would immensely prefer it stays Chad Johnson until we\\'re week or two into the NFL season and we see what Chad is predominantly called by the media, and then fix the article accordingly when consensus backed up with sources is reached. I am, however, perfectly willing to help transition the article to Chad Ocho Cinco if he is indeed called \"\"Chad Ocho Cinco\"\" or \"\"Ocho Cinco\"\" by the majority of journalists and broadcasters, but I would like to see reliable sources calling him Ocho Cinco before we change the article.    \\n\\n My feeling is that the guy is named Ocho Cinco, and whether you think it\\'s dumb, or you think he\\'s an attention whore, that is in fact his name. If you enter \"\"Chad Johnson\"\" in the search bar, it\\'s goiung to direct you here anyway, so what\\'s the big deal? \\n\\n And another thing: Why is the page titled \"\"Chad Johnson\"\" and yet he is referred to as \"\"Ocho Cinco\"\" all throughout the page? , \"',\n",
       " 'eat shit fag boy',\n",
       " 'you fucking braindead oroszka 50% of the syrian government is sunni including the first lady and the army.',\n",
       " '\" \\n\\n == Renaming == \\n\\n I don\\'t think this renaming is a good idea. Where there is one name which is by far the most common (as is the case here), it should be under that title. If Jane Eyre (the character) is made into an article, the approprite naming scheme would look like this: \\n\\n Jane Eyre \\n -the page about the novel \\n\\n Jane Eyre (disambiguation) \\n -containing links to all the others: \\n\\n Jane Eyre (character) \\n Jane Eyre (musical) \\n Jane Eyre (opera) \\n etc. \\n\\n  \"',\n",
       " '\" \\n Please refrain from adding nonsense to Wikipedia, as you did to Wars of the Roses. It is considered vandalism. If you would like to experiment, use the sandbox.  \\'\\'\\'\\'\\'\\' \"',\n",
       " \":: OMG! Hallelujah!! I've seen the light!!! You're absolutely right about everything!!!!  I have been acting childish(ly), and you are so very right  even though I've been here since 2005 and have over 150,000 edits, I am not an actual Wikipedia editor, only a pale imitation of one.  My primary purpose is to impede real progress in every way possible, and to keep the United States pure and unsullied by the barnbarians I believed lived everywhere else in the scary wide world.  Oh, what a fool I've been!!!!!  I know now that with your will of iron and keen determination to right great wrongs you will be victorious in your glorious crusade to drag us unworthy and unwashed Americans into the clear white light of revelation enjouyed by the rest of the world.  ONWARD THE PROGRAM!!!!!!  ALL HAIL THE GREAT METRIC CRUSADE!!!!!!! Yr. obt. hble. srvt.\",\n",
       " '\" \\n ::Here is some more from Atwozee.\"\" Bloody gujjar/Kanjar keep your fucking face away from me. I don\\'t wanna see you. Bloody Wahibi Kanjar. DevJats116.71.60.89 (talk) \"\" Kanjar means pimp, every time he use a new name.Regards  \"',\n",
       " '== WP:MOS == \\n\\n Please try to space properly after punctuation when editing in mainspace, so that our articles can conform to WP:MOS guidelines.    /',\n",
       " '\" \\n ::::::אוקיי אז שיניתי את זה לליד בית חנינא,פשוט באופן כללי כרושמים על איזשהו מקום שנמצא במה שקוראים לו היום \"\"מזרח ירושלים\"\" שהוא לא בתוך ירושלים זה כבר כן קשור לפוליטיקה לדעתי,בכל מקרה תודה על העזרה עם העריכה  \"',\n",
       " '\" \\n :Thabnks Mark. Yeah, that was a while ago now, but I\\'ve still got to take it easy. I can do without a repeat episode of vomiting up everything I ate, complete with loads of blood. Not pleasant at all. ... \"',\n",
       " '\" \\n :::: American Association for the Advancement of Science (AAAS) a.k.a. Science Journal from which the quotations were taken is not science? What scientific cosncensus? It is already a well established fact both linguistically and genetically, but I do see your political agenda which doesn\\'t fit the \"\"neutral\"\" defenition.   \"',\n",
       " 'supported by a large number of sources; see Origin theories of Christopher Columbus for more details.  The infobox includes that information most widely believed by international historians.',\n",
       " 'One of the advantages of sandpiting an article is you can ask other editors to review or edit it before you submit it. There are two ways you can do this - one is approaching an editor directly on their talk page or alternatively putting a note on the related project talk page asking for review. Most of us are happy to help with suggestions and guidance.',\n",
       " 'May 2013 (UTC) \\n\\n *The image is retarded, leave it out.  Besides, everyone knows that an apple bong is way cooler.   00:02, 28',\n",
       " \"::::::::Barak Obama's faith was a frequent item of comment during his presidential election campaign. Ed Miliband's ethnicity was hardly commented on during the Labour leadership campaign.  It is not us that determines 'weight' but the general level of coverage of the issue. If this subsequently becomes significant, we may have to revise the article, but for now we are merely reflecting the general consensus in the mainstream media.\",\n",
       " \"== Semi-protected edit request on 3 October 2014 == \\n\\n  \\n\\n ==Features== \\n As well as traditional timekeeping, Apple Watch will allow wearers to make contactless payments with Apple Pay, a mobile payment service introduced at the same event as the Watch. The Apple Watch is capable of receiving phone calls as well as iMessage and SMS Texts. It can track fitness, run third-party apps built using WatchKit, Apple's new API for Apple Watch software development, control the Apple TV, as well as act as a walkie-talkie and a viewfinder and remote shutter-release for an iPhone camera. \\n\\n ===Design=== \\n Apple Watch will be available in a number of customisable design configurations, across three distinct 'collections', in two sizes (38\\xa0mm and 42\\xa0mm), making 34 individual models. Considering the number of physical models, and the wide variety of digital watch faces available on each model, the potential to personalise Apple Watch is considerable. Apple's head of design Jony Ive stated in an interview after Apple Watch was announced that the total possible number of unique designs is 'in the millions', although it is as yet unclear whether this is an exaggeration. \\n\\n Apple Watch also features a new, pressure-sensitive touchscreen that can distinguish between a tap and a press, and features a dial called a digital crown, which can be turned to scroll or zoom and pressed to return to the home screen, allowing the user to interact with content on the display without obscuring it with their fingers. It also features a 'Taptic Engine'; a linear actuator which provides haptic feedback to users when they interact with the watch, or when they receive notifications, as well as allowing them to share physical 'taps' with other Apple Watch users. \\n\\n The watch is charged by means of inductive charging, using a cable similar to the MagSafe cable for Apple's MacBook family of laptops. Reports also suggest that the retail box for the 'Edition' series of the Apple Watch will act as a combined charging and display stand.\",\n",
       " \"== Soulscanner is a RCMP agent == \\n\\n Thank you, Soulscanner. One thing is sure now, this article is total crap. You still live in the 1970's or what ? The Quebec nation is a fact, if you don't want to write it in the lead, you are a liar. You are an ignorant on that issue and your references are not reliable. You take POV from columnists of La Presse or from The Globe and Mail, and you know those are not reliable sources. Your methods are the same used by Goebbels in the 2nd World War. I have no respect for you and I want you to know that all what you write on Quebec is seriously biased and that you are far from reality. The difference between me and you is that I don't have 10 hours a day for WP, since I have wife and kids and a Job. You hate Quebeckers ? Fine, but just leave us alone, please.\",\n",
       " \"Gargantuan cocks?  Now you're not even trying.\",\n",
       " 'Hi. I created a page in 2009 for a music visualisation called Morphyre. It was deleted because it had insufficient coverage. It is now listed on: \\n\\n - the Apple iTunes store in two different versions at http://itunes.apple.com/gb/app/morphyre-visualiser/id495968233?mt=12 and at http://itunes.apple.com/us/app/morphyre-christmas-visualiser/id487696907?mt=12 \\n\\n - the Windows Media Player visualisations page at http://windows.microsoft.com/en-GB/windows/downloads/windows-media-player/visualizations; and \\n\\n - softpedia at http://mac.softpedia.com/get/Audio/Morphyre-Visualiser.shtml \\n\\n as well as being on the Winamp site (which was the only site it was on originally) at http://www.winamp.com/visualization/morphyre-visualizer/222088. \\n\\n I think that this gives it at least as good coverage as other music visualisations that have articles on Wikipedia. If you agree please reinstate the Morphyre page or let us know why not. \\n\\n Thanks! \\n\\n - Gordon',\n",
       " 'BACK OFF THESE NUTS',\n",
       " '\" \\n\\n ::::This is not exactly helpful advice. If you are unable to articulate a coherent criticism, then your suggestion is arbitrary, and hints at WP:OWN. There is no time limit on this, as WP:WIP says. I would be inclined to say, once again, that other sections of the article need more attention than the lede; we can always come back to it. \\n ::::I would like to propose, , that you and I (at least, others are welcome of course) choose another section to work on together. I would propose the one on Justice, which has had a \"\"requires expansion\"\" tag on it since late 2010. I dont think this talk page is the most appropriate forum for the initial bigger edits, but perhaps your or my sandbox could be used to that end. After some editing and expansion, we will post sections of it here for additional comment. \\n ::::How about it?    \"',\n",
       " 'REDIRECT Talk:Comparison of email clients',\n",
       " '\" \\n\\n == I can not understand your behaviour!!!! == \\n\\n Dear Krator, \\n\\n I really can not understand your behavior. Is there any problem with the photo \"\"Typical buildings in Amsterdam\"\"???? \\n The photo has excellent quality (better than many others) and it shows three beautiful houses of Amsterdam. In Amsterdam there are hundreds  of them. That\\'s why I uploaded this photo. If you want to delete any photo there are plenty of useless and low quality photos in wikipedia to delete. \\n\\n Thank you for your attention. \\n KostasKon\"',\n",
       " '== Project notification == \\n\\n I strongly object to inappropriately supercilious messages on my talk page. Kindly go fuck yourself. Warmest regards,',\n",
       " '== What is the purpose of Novorossiya? == \\n\\n Suppose Putin never recognizes Novorossiya as a legitimate independent state, what would be the function of Novorossiya? Ukraine will never let go of Donbas and, as a result, war will continue indefinitely. Is the purpose of Novorossiya to kill and maim Ukrainian people?',\n",
       " '\" \\n :::You\\'re quite right, (Wikipedia is not a directory #5) I\\'ve removed the prices and changed \"\"traditional security services\"\" to \"\"security guards\"\". (Btw, type ~~~~ after your posts to sign and time stamp your comment)  \"',\n",
       " '== Butt face == \\n\\n your a butt face',\n",
       " '\" \\n Wknight94, I\\'m going to give you a timeline. I don\\'t think I behaved aggressively, and I don\\'t really see how they could be viewed as such. On July 8, I noticed the ridiculous mess Danny Valencia\\'s article was turned into. Epeefleche reverted my edits on July 11 by stating that I removed \"\"RS-supported on-point material,\"\" and left a threatening message on my talk page (see above). NOT WANTING to get into an edit war, I took it to Wikipedia talk:WikiProject Baseball, and left messages on Epeefleche\\'s talk page. Later in the same day, I offered a happy medium version of the article that I thought would satisfy. I don\\'t think aggressive is an accurate word to describe my actions. Vodello, your comment isn\\'t even worth dignifying with a response.  \"',\n",
       " \"MC's these days are fake homies and rebels without a caused.\",\n",
       " 'and WP:NPOV changes || 6 || Talk:Gilad Atzmon/Archive 5 \\n |- \\n | WP:RS',\n",
       " '\" \\n\\n == Latest sock of LouisPhilippeCharles == \\n\\n Please take a look at this. I didn\\'t know how to \"\"un-archive\"\" it, so I\\'m not sure it\\'s been restored to the queue of active cases, but it needs to be addressed. Thanks.   \"',\n",
       " \":Oh, I see. Been a while since I were 'oop North... But nevertheless, surely a school wins the final every single year? It might be unusual for any given school, but it's not actually an unusual event for a school to win... \\xa0\\u200d\",\n",
       " \":Here's another one; The Worker's World Party claimed that tbey were responsible for organizing a demonstration in 1962, which hasn't been covered in this article. I can try to find more of the details, but I don't have them now.\",\n",
       " '\" \\n :::::\"\"This I hate Eagles 247 for. since he made that comment every action I undertake somebody is fucking me in the ass for it.\"\" I\\'m thinking a trip to ANI would be productive. Thoughts? \\' \\'  \"',\n",
       " \"Hello,I live in iran.I like sandra cretu very very...much and like her husband and like her voice .I 37'years old and about over 20 years that listen to sandra'voice.  \\n I LIKE EVERYTHING THAT SANDRA LIKES.please tell me that how can mail or talk with sandra cretu? or not!!!!\",\n",
       " ':The IRA ARE still killing people.',\n",
       " \"==Please discontinue your involvement outside of the article namespace== \\n I was quite shocked tonight when I stumbled onto the recent RFA for Rl and saw your vote and its justification. Quite frankly I can see no excuse for the harm caused to our community by your ridiculous imposition of a bureaucratic and arbitrary numerical standard which is neither supported by policy or by community behavior. I find it further unacceptable that you choose to use a helpful user as a pawn in your wiki political battle and as a result alienated him from our project. I have never before been so ashamed to be a Wikipedia editor.  After careful consideration I believe that all users who have caused this travesty are a greater harm to our project than an asset. I am especially disappointed in your case because you offered to switch to neutral if he explained that his 100% wasn't a minimum, he did and you failed to follow through with your word. Please confine your activities to the main namespace or discontinue your involvement altogether. Thank you.\",\n",
       " '::That was just a stupid typo.',\n",
       " 'if ytou think shes greek your a moron',\n",
       " '== 2013 flooding == \\n\\n Some news sources: \\n\\n * Minden Times http://mindentimes.ca \\n * The Township of Minden Hills http://www.mindenhills.ca/',\n",
       " '666 the devil will get you all !!!!!!!!!!!!!!!! \\n !!!!!!!!!!!!!',\n",
       " '\"Welcome! \\n\\n Hello, , and welcome to Wikipedia! Thank you for . I hope you like the place and decide to stay. Here are some pages that you might find helpful: \\n *The five pillars of Wikipedia \\n *Tutorial \\n *How to edit a page \\n *How to write a great article \\n *Manual of Style \\n I hope you enjoy editing here and being a Wikipedian! Please sign your messages on discussion pages using four tildes (~~~~); this will automatically insert your username and the date. If you need help, check out Wikipedia:Questions, ask me on , or ask your question and then place {{helpme}} before the question on your talk page. Again, welcome!  \\n Also try visiting Tambayan Philippines for collaborating Philippine-related articles. WELCOME!    \"',\n",
       " ';They: will do nothing unless we let them.',\n",
       " '== The first two media in Mao page should be delete == \\n Well, if you understand what they said, if you can listen Chinese, you will know that this is not an interview of Mao!',\n",
       " 'Who the fuck is Irwin Goodman? Seriously, who the FUCK IS ERWIN GOODMAN?!!',\n",
       " \"I totally agree with you Sca, I could not possibly agree with you more.  I understand that Nazi Germany was the aggressor in Europe.  There is the problem that misunderstanding people now equate German nationalism with Nazism because the Nazis were the aggressors in Europe (perfect example is das lied der Deutsche.  What I think is the biggest question mark of the whole era is what if it had of been another party to have ruled Germany, one that didn't attack Jews or minorities. What if they had of taken German inhabited lands back after their loss at Versailles? would it be considered more acceptable now because it was not a war of conquest like Hitler's war was? \\n\\n ::as for your remarks Xx236, we are talking about what happened to Germans here, not Poles, you have made the stereotypical nationalist remarks as seen on talk:expulsion of Germans after WWII and elsewhere.  How many times must you be told? Two wrongs don't make a right, it doesn't matter here.  To you, it is always about the Poles, you always have to insert them when we are not talking about them. from the sentence From a Polish point of view they are rather too German, because they say relatively little about the historical and political contex. we all know you obviously mean that they don't provide the same excuses as the Polish Government has. \\n\\n ::\",\n",
       " '\"Heh. So what the hell is up with the \"\"disputed\"\" tag on this?  \\'blinded by the left\\'s hatred\\' is the explanation.  Okay... So. er... Hard to assume good faith here. -Leontes\"',\n",
       " '\" \\n\\n ==WikiProject Red Hot Chili Peppers September 2007 Newsletter==  \\n {| \\n | colspan=\"\"2\"\" valign=\"\"middle\"\" style=\"\"width: 60%; background-color: #9BC4E2; border: 1px gray solid; padding: 1em;\"\" | \\n  The Red Hot Chili Peppers WikiProject Newsletter Volume 1, no. 6 — September 2007 \\n |-  \\n | valign=\"\"top\"\" style=\"\"border: 1px gray solid; padding: 1em; width: 70%; \"\" | \\n : \"\"John was just up there like he didn\\'t give a fuck about anything. You can\\'t be in a band and not care. It\\'s gunna show. And it did. A lot of the shows were terrible.\"\" — Chad Smith \\n ; News and Announcements \\n *Welcome to the Red Hot Chili Peppers WikiProject sixth Newsletter, dated Monday, October 1, 2007.  \\n *John Frusciante was promoted to Featured Article status. John Frusciante discography was promoted to Featured List status. \\n *Blood Sugar Sex Magik was featured on the main page on September 24. \\n *One Hot Minute is currently a Good Article candidate. \\n\\n | valign=\"\"top\"\" style=\"\"border: 1px gray solid; padding: 1em; width: 29%;\"\" | \\n ; New members \\n No new members have joined the project. \\n ; Editors \\n \\n |- \\n |} You are receiving this newsletter because you have signed up for WikiProject Red Hot Chili Peppers. If you wish to stop receiving this newsletter, or want to receive it in a different form, please contact the publishers. This newsletter was delivered by the automated   .\"',\n",
       " 'this is a fuck coming towards you - hide! \\n\\n 8====>  \\n\\n ^^penis',\n",
       " ':You arent the brightest crayon in the box are you....',\n",
       " '== Request for update == \\n\\n Hello! Can your bot make update for this page, please? Thank you!',\n",
       " \"== Inflation and conversions == \\n\\n I've made this argument on a few occasions, generally with little success. Most academic and even popular historians stay well away from trying to convert the cost of military equipment into modern terms due to the many problems with this (as well as the loss of context), but such conversions often pop up in Wikipedia articles. Cheers,\",\n",
       " ':Sounds good to me! -',\n",
       " \"Your edit to WWE New Year's Revolution \\n Thank you for experimenting with the page WWE New Year's Revolution on Wikipedia. Your test worked, and has been reverted or removed. Please use the sandbox for any other tests you want to do. Take a look at the welcome page if you would like to learn more about contributing to our encyclopedia.\",\n",
       " 'chase the cheetah is one of the most dangerous animals if you have a twinke in your hand when he is around you will die. he is about 5 foot and weighs about 2oo lbs. he has a top speed of 50 mph. if you piss him off he will kick your butt! dont mess with the grrr baby.',\n",
       " '\" \\n *:::So a long historical usage should override its current name and usage?—  \"',\n",
       " '== June 2008 == \\n\\n  Please stop your disruptive editing. If your vandalism continues, you will be blocked from editing Wikipedia.',\n",
       " '\" \\n\\n hank you \"\"Appraiser\"\" for your answer.You must remember that some of us have not been here as long as you have and don\\'t have your experience.So please help us to be as good as you and try not to scare us away from Wikipedia with the harsh tone of your answers.Thank you for telling me something I did not know. \"\" An alphabetical list of all rivers in Germany appears within List of rivers of Germany\"\".That was really all that needed to be said.Some of the wikipedians go over the top with critizism when people who are so qualified ask a simple question.And yes I hope many read this and learn from it.We loose many good new editors because of the old editors \"\"attitude\"\" to a simple question  \"',\n",
       " '\" \\n\\n ::I brought up the same concerns a few days ago but was rebuffed.  No one has said what caused the slide or why other than grand water saturation from a record month of rain.  Yes, there was logging in the area, but as far as I\\'ve seen/heard, that isn\\'t in the equation for the current official explanation for the slide.  We aren\\'t newspaper reporters, folks. This is an encyclopedia.  Gotta remember that, yes?   ●    \"',\n",
       " 'This page is an absolute whitewash of a man known internationally as having championed illegal and indiscriminate bombings of Cambodia. Inconvenienced his travels? What a load of horse shit.',\n",
       " '\" \\n :Re: the first source given in footnote, U. of Texas, I intended it from anthropological POV as illustrative of semantical roots foundational of idea of \"\"baptism\"\", not primarily as etymological exemplification of English \"\"baptism\"\" Greek linguistical IE root, hence the PIE etymon and IE reflexes cited there in list, and used by me in the paragraph.  pax vobiscum   \"',\n",
       " '\"    \\n who the fuck cares?ahhaahhahaha \\n :I don\\'t, but the admins do.    \\n they blocked me already but i can still edit my own discussion page \\n :not for long, if you keep using personal attacks. \"',\n",
       " \"cause she's just a devil with evil on her mind and my penis in Materialscientist's birth place.\",\n",
       " '\" \\n\\n == File:Japanese officials check for radioactive material on residents living near the Fukushima station.jpg == \\n\\n Thank you for your work with File:Japanese officials check for radioactive material on residents living near the Fukushima station.jpg.   / \"',\n",
       " '== Update economy size == \\n\\n According to the latest list released by IMF for 2007, India is now 3rd largest economy in PPP terms ahead of Japan. Please update.',\n",
       " 'shubaluba dingdong wang suckers!!!!!Insert non-formatted text here!!!!!!!!!!!!',\n",
       " 'hi i like dicks',\n",
       " '\" \\n\\n == Social conservatism == \\n\\n I have to say that I find this edit war ridiculous, but all we\\'d get for participating is a page lockdown for days, probably with the worst possible version. Let\\'s please back off and nail the case for \"\"authoritarian\"\" in discussion before editing with unquestioned consensus.   \"',\n",
       " 'You guys are sick!',\n",
       " '== Pavel Fursov == \\n\\n Sorry, I left my account logged in at a public terminal, and some idiot put it in. My bad.',\n",
       " '\" \\n ::Can you cite any policies?  If not, why are you wasting my fucking time.  Cite a policy and I\\'ll strike those bastards.  And you better have a good fucking idea of what the \"\"complaint\"\" will say or you\\'re wasting your goddamn time too.   \\n ::Again, opinions are worthless, what matters is policies, guidelines and sources.  I don\\'t give a pile of steaming dogshit about manners, and you sounding off about nonsense and bullshit with no understanding of what the community mores are is a whole fuck of a lot ruder in my opinion.  Jesus Christ, stop polite-trolling and learn the fucking rules.     Wikipedia\\'s rules:simple/complex \"',\n",
       " \"== Deletion discussion about WCTZ-LD == \\n Hello, K-Johnson 127,  \\n\\n I wanted to let you know that there's a discussion about whether WCTZ-LD should be deleted. Your comments are welcome at  Wikipedia:Articles for deletion/WCTZ-LD .  \\n\\n If you're new to the process, articles for deletion is a group discussion (not a vote!) that usually lasts seven days. If you need it, there is a guide on how to contribute. Last but not least, you are highly encouraged to continue improving the article; just be sure not to remove the tag about the deletion nomination from the top.  \\n\\n Thanks,\",\n",
       " '\" \\n\\n EXCUSE ME \\n\\n i see you now say \"\"i once spilled beer on my laptop\"\" \\n\\n You have been editing my page you little fuck haven\\'t you ? \\n\\n i\\'ve never owned a laptop and do not drink beer hardly \\n\\n   \"',\n",
       " 'Momenul islam',\n",
       " 'Speedy deletion converted to PROD: Hybridshoring  \\n Hello Underbrennan, and thanks for patrolling new pages! I am just letting you know that I have converted the speedy deletion tag that you placed on Hybridshoring to a proposed deletion tag. The speedy deletion criteria are extremely narrow to protect the encyclopedia, and do not fit the page in question. You may wish to review the WP:CSDCriteria for Speedy Deletion before tagging further pages. Thank you.',\n",
       " '. Please see how that was done on ruwiki . Making something similar here would be fine',\n",
       " '== Grrrrrrrrrrrrrrrrrrrrrrrrrrrrrrrrrrrrrrrrrrrrrrrrrrrrrrrrrrrrrrrrrrrrrrrrrrrrrrrrrrrrrrrrrrrrrrrrrrrrrrrrrrrrrrrrrrrrrrrrrrrrrrrrrrrrrrrrrrrrrrrrrrrrrrrrrrrrrrrrrrrrrrrrrrrrrrrrrrrrrrrrrrrrrrrrrrrr == \\n\\n You suck suck suck suck suck suck suck suck suck suck suck suck suck suck suck suck suck suck suck suck suck suck suck suck suck suck suck suck suck suck suck suck suck suck suck suck suck suck suck suck suck suck suck suck suck suck suck suck suck suck suck suck suck suck suck suck suck suck suck suck suck suck suck suck suck suck suck suck suck suck suck suck suck suck suck suck suck suck suck suck suck suck suck suck suck suck suck suck suck suck suck suck suck suck suck suck suck suck suck suck suck suck suck suck suck suck suck suck suck suck suck suck suck suck suck suck suck suck suck suck suck suck suck suck suck suck suck suck suck suck suck suck suck suck suck suck suck suck suck suck suck suck suck suck suck suck suck suck suck suck suck suck suck suck suck suck suck suck suck suck suck suck suck suck suck suck suck suck suck suck suck suck suck suck suck suck suck suck suck suck suck suck suck suck suck suck suck suck suck suck suck suck suck suck suck suck suck suck suck suck suck suck suck suck suck suck suck suck suck suck suck suck suck suck suck suck suck suck suck suck suck suck suck suck suck suck suck suck suck suck suck suck suck suck suck suck suck suck suck suck suck suck suck suck suck suck suck suck suck suck suck suck suck suck suck suck suck suck suck suck suck suck suck suck suck suck suck suck suck suck suck suck suck suck suck suck suck suck suck suck suck suck suck suck suck suck suck suck suck suck suck suck suck suck suck suck suck suck suck suck suck suck suck suck suck suck suck suck suck suck suck suck suck suck suck suck suck suck suck suck suck suck suck suck suck suck suck suck suck suck suck suck suck suck suck suck suck suck suck suck suck suck suck suck suck suck suck suck suck suck suck suck suck suck suck suck suck suck suck suck suck suck suck suck suck suck suck suck suck suck suck suck suck suck suck suck suck suck suck suck suck suck suck suck suck suck suck suck suck suck suck suck suck suck suck suck suck suck suck suck suck suck suck suck suck suck suck suck suck suck suck suck suck suck suck suck suck suck suck suck suck suck suck suck suck suck suck suck suck suck suck suck suck suck suck suck suck suck suck suck suck suck suck suck suck suck suck suck suck suck suck suck suck suck suck suck suck suck suck suck suck suck suck suck suck suck suck suck suck suck suck suck suck suck suck suck suck suck suck suck suck suck suck suck suck suck suck suck suck suck suck suck suck suck suck suck suck suck suck suck suck suck suck suck suck suck suck suck suck suck suck suck suck suck suck suck suck suck suck suck suck suck suck suck suck suck suck suck suck suck suck suck suck suck suck suck suck suck suck suck suck suck suck suck suck suck suck suck suck suck suck suck suck suck suck suck suck suck suck suck suck suck suck suck suck suck suck suck suck suck suck suck suck suck suck suck suck suck suck suck suck suck suck suck suck suck suck suck suck suck suck suck suck suck suck suck suck suck suck suck suck suck suck suck suck suck suck suck suck suck suck suck suck suck suck suck suck suck suck suck suck suck suck suck suck suck suck suck suck suck suck suck suck suck suck suck suck suck suck suck suck suck suck suck suck suck suck suck suck suck suck suck suck suck suck suck suck suck suck suck suck suck suck suck suck suck suck suck suck suck suck suck suck suck suck suck suck suck suck suck suck suck suck suck suck suck suck suck suck suck suck suck suck suck suck suck suck suck suck suck suck suck suck suck suck suck suck suck suck suck suck suck suck suck suck suck suck suck suck suck suck suck suck suck suck suck suck suck suck suck suck suck suck suck suck suck suck suck suck suck suck suck suck suck suck suck suck suck suck suck suck suck suck suck suck suck suck suck suck suck suck suck suck suck suck suck suck suck suck suck suck suck suck suck suck suck suck suck suck suck suck suck suck suck suck suck suck suck suck suck suck suck suck suck suck suck suck suck suck suck suck suck suck suck suck suck suck suck suck suck suck suck suck suck suck suck suck suck suck suck suck suck suck suck suck suck suck suck suck suck suck suck suck suck suck suck suck suck suck suck suck suck suck suck suck suck suck suck suck suck suck suck suck suck suck suck suck suck suck suck suck suck suck suck suck suck suck suck suck suck suck suck suck suck suck suck suck suck suck suck suck suck suck suck suck suck suck suck suck suck suck suck suck suck suck suck suck suck suck suck suck suck suck suck suck suck suck suck suck suck suck suck suck suck suck suck suck suck suck suck suck suck suck suck suck suck suck suck suck suck suck suck suck suck suck suck suck suck suck suck suck suck suck suck suck suck suck suck suck suck suck suck suck',\n",
       " '::Its not just that Jews Against Zionism and Neturei Karta are extreme (although they are).  They also violate WP:RS and WP:Fringe and the way that PalestineRemembered has tried to integrate them into articles violates WP:Undue weight.',\n",
       " \"notability tag \\n I removed the 'notability' tag. For chrissakes, there's already an article about this guy on the swedish wikipedia! Speaking of which, if someone that speaks swedish could translate the text from there, that would be excellent!\",\n",
       " \"This is bullshit.  OJ Simpson was acquitted at trial, and there are tons of details of that in his article.  Why can't we do the same for Lloyd?\",\n",
       " ':Web of Science (searching under title and topic fields) we get: \\n :* Colombian conflict - 99 results \\n :* Colombian war - 77 results \\n :* Colombian armed conflict - 40 results \\n :* Colombian civil war - 21 results \\n :* Colombian internal conflict - 10 results \\n :',\n",
       " \"> \\n From 2nd GA Review: \\n * Citation clean-up. \\n * Update 'Europa Series' section. \\n * Update 'Specification' section. \\n * Update 'Counterfeiting' section. \\n * Reference watermarks in 'Security features' section.\",\n",
       " '\"==GA Review== \\n :This review is transcluded from Talk:The Secret Life of the American Teenager/GA1. The edit link for this section can be used to add comments to the review. \\n\\n  \\n Reviewer: \\'\\'\\'\\'\\'\\' \"',\n",
       " \"If I'm not mistaken, wasn't Pac-Man Plus also created as a hack of the original Pac-Man by some non-Namco people, then later sold to them (much like Ms. Pac-Man)? MAME even requires the original Puck-Man ROM in order to play Pac-Man Plus, indicating that it's the same basic Pac-Man code with a few sprite changes and disappearing mazes.\",\n",
       " '== Jan. 2008 == \\n\\n Please do not add nonsense to Wikipedia. It is considered vandalism. If you would like to experiment, use the sandbox. Thank you.',\n",
       " '\" \\n\\n I agree as well, please merge and turn this into a re-direct.  \"',\n",
       " '\" \\n :Stop.  This is not being helpful.  Nobody \"\"won\"\" anything here, and \"\"winning\"\" is not what Wikipedia is about.  I suggest you take a break from editing articles that Earth100 edits, and vice versa.  If you guys continue to edit war like this, it\\'s going to result in blocks to both of you.   \"',\n",
       " '== The pictures of chinese culture is too ugly！ == \\n\\n We can put some beautiful pictures to replace them，like 。',\n",
       " '== Nominating an article for deletion == \\n\\n Please let me know how to nominate an article for deletion.',\n",
       " 'Diamond Anatomy - Explanation \\n Diameter – Width of the diamond as measured thru the girdle \\n Table – Largest facet of a gemstone \\n Crown – Portion of the diamond extending from girdle to table \\n Girdle – Intersection of Crown & Pavilion.  Defines Perimeter of Diamond \\n Pavilion – Bottom portion of the gemstone extending from girdle to culet \\n Culet – The Facet at the tip of the gemstone.  Preferred culet is not visible with unaided eye (“none” or “small”) \\n Depth – Height of Gemstone from Culet to Table \\n Crown Angle – angle of the Bezel Facet relative to the table plane \\n Pavilion Angle – angle of the main facet plane with respect to the table plane \\n\\n The presence of absence of the culet make the diamond either a 58 or 57 faceted  \\n one.  There are differing points of view of whether a diamond needs a culet.  Some  \\n people say that the absence of a culet ensures that light stays within the diamond.   \\n Other says that the culet being a “point” leaves the diamond susceptible to  \\n breakage because the culet is the most delicate part of the diamond \\n  Diameter – Width of the diamond as measured thru the girdle \\n Table – Largest facet of a gemstone \\n Crown – Portion of the diamond extending from girdle to table \\n Girdle – Intersection of Crown & Pavilion.  Defines Perimeter of Diamond \\n Pavilion – Bottom portion of the gemstone extending from girdle to culet \\n Culet – The Facet at the tip of the gemstone.  Preferred culet is not visible with unaided eye (“none” or “small”) \\n Depth – Height of Gemstone from Culet to Table \\n Crown Angle – angle of the Bezel Facet relative to the table plane \\n Pavilion Angle – angle of the main facet plane with respect to the table plane \\n\\n The presence of absence of the culet make the diamond either a 58 or 57 faceted  \\n one.  There are differing points of view of whether a diamond needs a culet.  Some  \\n people say that the absence of a culet ensures that light stays within the diamond.   \\n Other says that the culet being a “point” leaves the diamond susceptible to  \\n breakage because the culet is the most delicate part of the diamond \\n\\n Diameter – Width of the diamond as measured thru the girdle \\n Table – Largest facet of a gemstone \\n Crown – Portion of the diamond extending from girdle to table \\n Girdle – Intersection of Crown & Pavilion.  Defines Perimeter of Diamond \\n Pavilion – Bottom portion of the gemstone extending from girdle to culet \\n Culet – The Facet at the tip of the gemstone.  Preferred culet is not visible with unaided eye (“none” or “small”) \\n Depth – Height of Gemstone from Culet to Table \\n Crown Angle – angle of the Bezel Facet relative to the table plane \\n Pavilion Angle – angle of the main facet plane with respect to the table plane \\n\\n The presence of absence of the culet make the diamond either a 58 or 57 faceted  \\n one.  There are differing points of view of whether a diamond needs a culet.  Some  \\n people say that the absence of a culet ensures that light stays within the diamond.   \\n Other says that the culet being a “point” leaves the diamond susceptible to  \\n breakage because the culet is the most delicate part of the diamond \\n Diameter – Width of the diamond as measured thru the girdle \\n Table – Largest facet of a gemstone \\n Crown – Portion of the diamond extending from girdle to table \\n Girdle – Intersection of Crown & Pavilion.  Defines Perimeter of Diamond \\n Pavilion – Bottom portion of the gemstone extending from girdle to culet \\n Culet – The Facet at the tip of the gemstone.  Preferred culet is not visible with unaided eye (“none” or “small”) \\n Depth – Height of Gemstone from Culet to Table \\n Crown Angle – angle of the Bezel Facet relative to the table plane \\n Pavilion Angle – angle of the main facet plane with respect to the table plane \\n\\n The presence of absence of the culet make the diamond either a 58 or 57 faceted  \\n one.  There are differing points of view of whether a diamond needs a culet.  Some  \\n people say that the absence of a culet ensures that light stays within the diamond.   \\n Other says that the culet being a “point” leaves the diamond susceptible to  \\n breakage because the culet is the most delicate part of the diamond \\n\\n Diameter – Width of the diamond as measured thru the girdle \\n Table – Largest facet of a gemstone \\n Crown – Portion of the diamond extending from girdle to table \\n Girdle – Intersection of Crown & Pavilion.  Defines Perimeter of Diamond \\n Pavilion – Bottom portion of the gemstone extending from girdle to culet',\n",
       " 'Yo guys, watch my channel on YouTube',\n",
       " '== Is the trick here asking the specifically correct question the exact right way?  == \\n\\n That was not very illuminating about sources is it? \\n\\n What does Wiki REQUIRE for BIOGRAPHICAL sources if the person who had the history is automatically discredited as being a liar about themselves? \\n\\n Is that specific enough?',\n",
       " \"I don't care what Hitler claimed. Hitler clearly did not need to execute Jews to defend Germany. Also, if genocide can be justifiable, then how is it extreme? Savage has the dark view (which many people share) that this is going to be a fight to the death against radical Islam. It's better that they die than we die.\",\n",
       " '\" \\n\\n :::I went ahead and did it. \"',\n",
       " '* I quite concur with my fellow editor above.  Your work is very much appreciated, Lisa!',\n",
       " '\" \\n ::::So, to summarize your dealings with me in this matter so far: \\n ::::* (On my talk page) Alan Liefting: \"\"Please have a read of WP:CAT anf please observe what is convention out there in category land\"\" \\n ::::* I read WP:CAT - and just as I expected, it agrees with me. \\n ::::* I quote from it here (see above). \\n ::::* I observe what other articles are doing - and provide three actual examples from major, high profile, featured articles that are amongst the most frequently visited and carefully edited of any in the entire encyclopedia (Automobile, Physics and Christianity). \\n ::::* (Here) Alan Liefting: \"\"Wikipedia:CAT#Eponymous_categories is largely ignored.\"\" and \"\"you will find very few instances where the guideline is followed\"\" - despite I show that there are many, many high-profile, FA-reviewed instances where it\\'s followed - so it\\'s clearly NOT \"\"largely\"\" ignored - it\\'s mostly only ignored by Alan Liefting.  (Who also needs to read WP:3RR.) \\n :::: Hmmm - interesting debating style.  You\\'re demonstrably wrong - what you\\'re saying is contrary to an established guideline and to common practice and not one single other person here agrees with you.  This same argument applies to many other useful category removals that you\\'ve recently undertaken.  I shall be reverting all of them if you do not do so yourself. \\n ::::   \"',\n",
       " '\" \\n\\n : Hi  - \"\"The eGeeTouch Smart NFC Padlock was first introduced in August 2014 at the 50th Japan DIY Homecenter Show and was voted \"\"The Best New Product\"\"[3] by buyers. In 2015, the Smart Luggage Lock was first showcased[4][5] in the 2015 International Consumer Electronics Show (CES)[6] in Las Vegas, USA and was named an Innovation Award Honoree[7][8] under the \"\"Tech for Better World\"\" category.\"\" - all promotional. The rest of the article is simply promotion for the company\\'s products. Think of it this way: Articles tell, advertisements sell. Tell us about the company, don\\'t try to sell us the products. Hope this helps.   \"',\n",
       " ']] \\n * Paul Viiding \\n * Kristen Viikmäe \\n * Luule Viilma \\n * [[Viimne reliikvia',\n",
       " \"Hi \\n yes please help me move it there \\n I am a new user and I don't know what to do\",\n",
       " \"== Edits Reverted == \\n\\n Hi, \\n\\n I've responded to your article on .\",\n",
       " \"Proposed deletion \\n I've removed the prod: both the article and the reference clearly assert notability, although the article does need to be expanded.\",\n",
       " 'Welcome! \\n\\n Hello, , and welcome to Wikipedia! Thank you for your contributions. I hope you like the place and decide to stay. Here are a few good links for newcomers: \\n *The five pillars of Wikipedia \\n *How to edit a page \\n *Help pages \\n *Tutorial \\n *How to write a great article \\n *Manual of Style \\n I hope you enjoy editing here and being a Wikipedian! By the way, please be sure to sign your name on talk pages using four tildes (~~~~) to produce your name and the current date, or three tildes (~~~) for just your name. If you have any questions, you can post to the help desk or ask me on my talk page. Again, welcome! /',\n",
       " \". And only Bad-God can be the first principle of 'Hate'\",\n",
       " '::::::Tryptofish, perhaps you might want to engage with _why_ Dawkins and others increasingly prefer the accurate term over the archaic pre-scientific usage?',\n",
       " 'Agreed, it is stupid to say that any Malfoy is albino.',\n",
       " 'Nosite onog Jamaka sramota za BH fudbal',\n",
       " '\" \\n\\n ==Happy Easter!== \\n  ]] \\n Hey, just wanted to wish you a Happy Easter, or whatever it is that you celebrate! (I\\'m an atheist to tell you the truth, but I do love the chocolate )). And sorry the userpage design is taking so long.  I\\'ve a design going, but I\\'m running into some problems. P —\\'\\'\\' \"',\n",
       " 'I hope that my move of 2009 flu pandemic in the United states by state did not create double redirects.',\n",
       " '\" \\n\\n == Edit request  add a picture of Allen West to the \"\"racism\"\" section == \\n\\n For example this one.  It makes a key point quite eloquently.   \\n \"',\n",
       " \"==Personal attacks== \\n I don't feature the constant barrage of personal attacks from this user to me. He is constantly attacking me, and I am tired of it. I'd appreciate the personal attacks to stop. \\n\\n ::I have been patient and I have tried to basically stay away from this user, however out of the blue he sent me a message on my talk page - March 17 about an edit that I made in January which was in essence a save of a very serious problem that he created at Neo-Impressionism. Here is how he left the article:  \\n\\n The other day he sent me this, out of the blue: \\n\\n I see you have again forced a specific size for gallery. This may work well on your desktop, but definitely not on all. Therefore, please reconsider that a default setting may allow a better effect on the screens of other collaborators. All the best,    \\n\\n My reply: \\n With due respect - this was your last edit before I changed the gallery. - , on my computer the gallery ran clear into the Signac. I changed the gallery, added a section, and now I'll return the gallery to normal....because I think it'll be ok now.....you're welcome.    \\n\\n Tyrenius, I am have no interest in continuing any dialogue with this user.\",\n",
       " '\" \\n\\n I do tried to ask you NICELY , but you don\\'t reply my message but  delete my page \"\"Kate Ma \"\" . So , I have to say  F U C K YOU !!  Besides, if Kate ma doesn\\'t deserve to have a page , then why STEPHANIE RETUTA can ?\"',\n",
       " '\"You DO NOT have any new messages (last change). So, don\\'t click either of the blue links in this box. \\n \"',\n",
       " '\"— Preceding unsigned comment added by    \"',\n",
       " 'REDIRECT Talk:City of Strangers',\n",
       " '\" \\n \"\"forces of Ganondorf to become Hyrule\\'s first Shogun\"\" the fuck?\"',\n",
       " '\" \\n : In case you missed it the decision was speedy keep. \\x95 \"',\n",
       " 'people in argentinalive on apile of crap',\n",
       " \":Splitting to two separate articles is unnecessary.  The main article should be about the 101 names per se, with a section for translations to English, of which Meher Baba's is one.  If you make a separate article for the translation, it should incorporate anything else that is said in that book; i.e. it should be about the book or Meher Baba.  It is possible that this article should be moved to 101 Names of Ahura Mazda.\",\n",
       " \"::: Oh, come one ... )). First came the NYT article (and others) about a 70-pages-report; then the AI report itself could be read.  \\n AI is blaming both sides; but your summary is a caricature of report's content: a very personal view like your comrade's view above. ;)\",\n",
       " \"MUHAMMED RAPED LITTLE CHILDREN. HE WORSHIPPED SATAN AND SACRIFICED BABIES IN HIS NAME. MUSLIMS ARE TERRORISTS AND SHOULD BE SHOT. ALLAH DOESN'T EXIST.\",\n",
       " 'in the  Intertropical Convergence Zone (ITCZ)',\n",
       " 'See also Stephen Hawking? Huh?  —',\n",
       " \"==HI BASTARD== \\n You're back BASTARD, PIMP, MOTHRFUCKER, SISTERFUCKER?   )\",\n",
       " \"==Neofascism and religion== \\n\\n Would you mind having a look at the actions on that article of Enviroknot and 129.7.35.1 . Both are insist reinserting SS's pov, despite his being blocked and having no credible supporting cites for that *unique* pov, and the fact that Cberlet has provided on the talk page no less than 12+ signifcant and credible references supporting the point that fascism is primarily a right-wing product. Thanks Mirv.\",\n",
       " \"== Queue 4 issues (including lead hook!) == \\n\\n Crisco, can you take care of the two pending issues that affect Queue 4? Sasata has posted at WT:DYK that the lead hook is problematic, and Yoninah has pointed out that the Queue 5 hook about an orthodox rabbi in LA is going to run during the Sabbath, when orthodox Jews there can't use technology (among other things) and so won't be able to see the hook on the main page. Swapping the rabbi hook to Queue 4 means it runs before local sundown on Friday (when the Sabbath starts). Thanks. (PS: Just did a little more work on the Pearsall hook, since he only designed the extension to the fire station that just closed, not the original building.)\",\n",
       " '\" \\n\\n == Ridiculous Etymology == \\n\\n \"\"The English word hummus comes from Turkish humus meaning the hummus food dip or spread, which in turn comes from Arabic حمّص ḥummuṣ\"\" - This is ridiculous, and actually quite desperate.   \"',\n",
       " 'solve this problem, it would be much appreciated. Either do it yourself, or tell me how to do it. I makes no difference to me how its done, just that it is done, and soon.',\n",
       " '\" \\n To attempt to distort the facts under discussion does little to further the discussion.  This has never been a \"\" \\'crusade\\' about \\'replacing God\\'s name\\' .  Nor has it been an attempt to \"\" \\'prove\\' that those translations are inferior\"\".  Also, I have no \"\"confusion about the meaning of the word render \"\".  The problem is that you made a defenseless revert to a properly source edit based on a very flimsy excuse and are now attempting to detract from that fact by bringing up ridiculous points that have little or no bearing on the edit.  Please stick to content and leave off with your unsolicited and baseless comments about me as an editor.  I do not have trouble understanding, I am on no crusade about replacing God\\'s name and my objections have already been clearly stated, so there is therefore no need for you to add further interpretation to them. Again, PLEASE STICK TO CONTENT! The material is properly sourced, there is no justifiable reason for its removal...please restore the properly sourced material, or lets open an RfC and get this settled by a consensus from other editors.   \"',\n",
       " 'Ring mail, mail, plate mail. \\n\\n Hello \\n There is indeed several type of mail and again in different countries ended up calling them a different way. \\n\\n All the historical mail I have seen is 1 in 4 or 1 in 6, oriental style as in Japanese and Moghul/ Mongolian, this done with flat or round rings. \\n\\n Now if I say 1 in 4 to you how do you know if I am refencing the “European” 1 in 4 or kagomegata-gusari  futae-gusari, kame-ko-gusari (or the Indian equivalent) \\n\\n Oriental mail organises the ring differently. The rings are flat on the fabric and they are linked but much smaller oval rings. There are several patterns. Regardless it is very different in construction from “European” mail. \\n My understanding, and I can be wrong, is that the Victorian used the tern ring mail to describe the European mail in opposition to the oriental way, which was called chain mail. \\n To be fair, it has good as anything yes the even the flat rings when mounted looks like a succession of rings and the oriental mounting look like a chain.  \\n\\n If you take some Moguls, Mongol and Islamic armour, some of them have the same oriental disposition and link small plate of metal. Those plates are separated by and attached to strip of mail.  \\n\\n Here is one link to Japanese mail \\n http://www.sengokudaimyo.com/katchu/katchu.html \\n\\n The link in the French wiki \\n http://fr.wikipedia.org/wiki/Cotte_de_mailles_annulaire \\n\\n And the link to “plate mail” \\n http://www.quaibranly.fr/cc/pod/recherche.aspx?b=1&id;=70.2001.27.286# \\n\\n Phil',\n",
       " '*support +1, circlejerk in progress',\n",
       " '\" \\n\\n == Angry == \\n\\n 1st matter of order: YOU NEED TO REPLY TO ANY MESSAGE ANYONE SENDS YOU SO THAT PEOPLE KNOW THAT YOU\\'RE NOT IGNORING THEM!! PEOPLE START GETTING MAD AND JUST DECIDE TO NOT EVEN CARE ABOUT USERS THAT DON\\'T REPLY TO THEM ANYMORE!!! I KNOW THAT YOU ARE LAUGHING RIGHT NOW AND THINK THAT THIS IS FUNNY BUT I AM NOT JOKING!! YOU NEED TO TAKE THIS SERIOUS AND START REPLYING TO PEOPLES MESSAGES!!! \\n\\n 2nd matter of order: If you would like to recieve the Wikipedia newspaper then you can add your to this list. \\n\\n Well that tis be about it. May the force be with you (Yes I know that\\'s POV and not NPOV because it only supports the Jedi\\'s and not the dark side... Just leave me alone gosh...).  ESP. |  \"',\n",
       " \":* IBM's image is definitely free (unknown author, image published some 80 years ago). I will upload it to commons myself and expect her to be included per the consensus list.\",\n",
       " \"You wikipedia nazis need to stop removing information, just because YOU dont know if a piece of information is true, doesnt mean it's not true.......\",\n",
       " \"I'm ready when he thinks\",\n",
       " '== Block for 80.6.193.71 == \\n\\n Thanks for blocking . Do you think 1 week is appropriate, given the permanent ban on the sockmaster and the several months that has been applied to the other IP address involved . Given the repeated block evasion from this user it would be better if the block was extended so that both blocks match.',\n",
       " ':No problem, the least I can do is offer my opinion!',\n",
       " '\" \\n\\n == Skull and crossbones == \\n\\n You say in some edit summaries that some other articles have the skull and crossbones symbol on them to symbolize \"\"death\"\". Well, the correct solution is not to add that image to new articlesit\\'s to remove it from all of the articles it\\'s already on. Wikipedia is not a kid\\'s book, it\\'s not a tabloid newspaper, it\\'s not a video game. That cartoony imagery has absolutely no business in an encyclopedia, and if you know if it being on other pages, please remove it. If some local group of editors have decided they like it, feel free to let me know and we\\'ll figure out where it\\'s happening and make sure to clarify how absolutely unacceptable those images are.   \"',\n",
       " '\" \\n\\n == Re:Watch your back (aka shivs and shanks) == \\n\\n Well, it\\'s \"\"fashion\"\" on purpose because it\\'s unlikely that you\\'ll come across something already perfectly broken and ready for use. I didn\\'t change it to \"\"shiv\"\" in the text because it\\'s more or less a \"\"shard\"\" being used as a \"\"shiv\"\", but it\\'s definitely not a knife as it had been changed to. Also, when Luthor picks it up, he doesn\\'t let anyone know about it, and when he uses it, he uses it in a way that models prisoners (the twist and break off for maximum damage in one hit). I also didn\\'t change it because it\\'s relatively original research, as it\\'s never stated in the movie what it is or how he is using it. I think had he wrapped some tape around the end, it would have been more closer to the definition of \"\"fashioning\"\" a device. You could take a sliver of glass and wrap tape around for a handle and that\\'s a shiv. Anyway, I was only trying to say that it wasn\\'t a \"\"knife\"\", and definitely wasn\\'t a reference to Darkseid\\'s knife, in the edit summary.  \"',\n",
       " '\" \\n : No sources are provided for either the CoConis claim or the previous Bob Peak claim. — \"',\n",
       " '\"The whole concept of blocking and banning is an anachronistic tribal practice that not only predates the advent of the Rule of Law, it\\'s the very subject of the first three laws ever carved onto stone tablets, some 3750 years ago... \\n\\n  \\n Hammurabi of Mesopotamia \\n\\n These are the first three laws, in their entirety, of the Code of Hammurabi, translated into English: \\n\\n :1. If any one ensnare another, putting a ban upon him, but he can not prove it, then he that ensnared him shall be put to death. \\n\\n :2. If any one bring an accusation against a man, and the accused go to the river and leap into the river, if he sink in the river his accuser shall take possession of his house. But if the river prove that the accused is not guilty, and he escape unhurt, then he who had brought the accusation shall be put to death, while he who leaped into the river shall take possession of the house that had belonged to his accuser.  \\n\\n :3. If any one bring an accusation of any crime before the elders, and does not prove what he has charged, he shall, if it be a capital offense charged, be put to death.  \\n\\n The second law seems bizarre by modern standards. It appears to be the source of the dismissive phrase, \"\"Go jump in the lake.\"\"  (Compare to the Yiddish expression, Nem zich a vaneh! \"\"Go take a bath!  Go jump in the lake!\"\") \\n\\n There are 282 such laws in the Code of Hammurabi, each no more than a sentence or two.  The 282 laws are bracketed by a pukeworthy Prologue in which Hammurabi introduces himself, and a narcissistic Epilogue in which he affirms his authority and sets forth his hopes and prayers for his code of laws. \\n\\n Note that Wikipedia is not even as evolved as Hammurabi, since Wikipedia does not even do the level of due process required of Hammurabi\\'s first law. \\n\\n Given that Wikipedia has adopted an anachronistic pre-Hammurabic tribalistic ochlocracy that does not even rise to the level of the Code of Hammurabi, is it any wonder that Wikipedia is the venue of recurring classic liminal social drama that reprises the oldest stories in the annals of human history?   \\n\\n Hammurabi\\'s notion was to advise everyone to go jump in the lake when they are tainted with an unproven allegation. \\n\\n I reckon the secular cultural practice of absolution through ablution inspired the Early Morning Baptisers of Qumran to co-opt Hammurabi\\'s Remedy into the Mikvah Ritual Bath. Baptismal sin cleansing survives to this day in most Christian denominations. \\n\\n Of course there was that interlude in the desert where there were no bodies of holy water, so Aaron devised an alternate ritual involving a delightful goat named Caprice. I am rather fond of Caprice, since her story inspired portions of the Passion of Christ. \\n\\n I find it ironic that a site that purports to offer the sum of all human knowledge is still struggling to learn the oldest lessons in the annals of human history. \\n\\n So I suggest people wash their hands of Jimbo\\'s anachronistic cult of pre-Hammurabic tribalism, cleanse themselves of the grit by jumping in the lake, and evolving to a more modern and enlightened governance model along the lines suggested by such innovative pioneers as Moses, Socrates, Buddha, Jesus, Lao Tsu, Maimonides, Thomas Becket, Stephen Langton, Benjamin Franklin, Thomas Jefferson, Henry David Thoreau, Mohandas Gandhi, ML King, Thich Nhat Hanh, John Rawls, Father John Dear, Barak Obama, Kermit the Frog, and Barsoom Tork Associates. \\n\\n Barsoom Tork    \\n \"',\n",
       " '\"::I\\'m confused that you think \"\"slur of homosexuals\"\" is \"\"more correct\"\" than anything. It sounds like the sort of thing a non-native-speaker would say.    \\n\\n \"',\n",
       " 'but he is rubbish, and is factually true!!',\n",
       " 'REDIRECT Talk:Cuz I Can',\n",
       " \"== IEP next steps == \\n\\n Annie, I was surprised to see here that there are plans not only to continue at Pune but even to expand to another campus.  I am sure that this is all still under discussion, but speaking as someone who has put quite a few hours into the IEP cleanup already, and who expects to have to do many more, I would be very disappointed if the program continues in anything like its current form.  I understand the post mortem is continuing, and I hope that the revised IEP plan for next semester will be on a scale that won't cause anything like the current impact, but because of the scale of the additional work caused I think a great many people will be very upset if there is not a very clear dialogue with the community about your plans before you commit to the IEP's next incarnation.  I've argued that the community should be more involved with the discussions about the future of the USEP, as you know; but as I've said in those discussions I think the USEP is in pretty good shape and if you decide to go in a different direction to the one I've suggested I think it will be OK.  For the IEP the stakes are much higher and I would really like to see these discussions take place on-wiki, at least simultaneously with the mailing list discussions.  Thanks    -  -  )\",\n",
       " '. \\n *Schluchtenscheißer (The guys, who shit in the canyons) used in Germany',\n",
       " '\" \\n\\n == Alleged Dutch name == \\n\\n \"\"Dutch: Karelskoning, but Charleroi is more frequently used\"\",  writes. But this is incorrect information, because Karelskoning is never ever used at all. I suggest that Karelskoning be deleted, just like in the Dutch and French articles about Charleroi, unless reliable sources such as Belgian books, reference works and official documents prove that the name does exist. Most of the internet hits are actually quotes from Wikipedia.  13:25:18, 2005-08-07 (UTC)\"',\n",
       " \"== Special:Version == \\n\\n In one wiki i try to run (www sarkotube com), I don't understand why the Special:Version is empty, and find no explication on that. But I find you contribute a lot to this special page. So I apologise to disturb you with such question...but if you can help me...I enjoy. Best regards.\",\n",
       " 'Re-Posted by Sharon Mooney',\n",
       " \"== Arthur MacArthur IV  (Son)  Born February 21, 1938 == \\n\\n Why is General MacArthur's son with Jean Marie Faircloth MacArthur not mentioned as a relative of the General's?\",\n",
       " 'Well that was fast. Thanks for fixing my bullshit, I guess.',\n",
       " '\" \\n :If you find it \"\"chillingly interesting\"\", why not correct the information? You can\\'t complain about something being wrong if you aren\\'t willing to correct it! –  \\'\\'\\'\\'\\'\\' \"',\n",
       " '\"::\"\"Jack\"\", you\\'re nobody. You\\'re an asshole and nobody likes you. Just log off, shut the fuck up and get a job.   \\n\\n \"',\n",
       " '23, 7 July 2008 (UTC) \\n\\n  \\n ::Thanks, I am quite well and hope you are too.  Cheers.   21:',\n",
       " '\" December 2005 (UTC) \\n\\n :: I went and looked through the different stub categories for quite a while, but I can\\'t seem to find one that fits Transfer Act of 1905. I was looking for something along the lines of natural resources or legislation.   \\n\\n :::There are three possible stub categories I found, US politics {{US-poli-stub}}, US government {{US-gov-stub}}, and Law {{law-stub}} (I think the US government one would be best). Using a general stub is also fine, {{stub}}, and stub-sorters will find a category for the article or create a new one (I found these stub related pages useful: Stub sorting and Stub types). Listing an article as a stub isn\\'t always required, but use it if you feel an article is fairly short and could really be expanded upon. See you \\'round.\\xa0—  08:27, 18\"',\n",
       " \"it's possible. That said I wasn't able to find something postulating the theory formally\",\n",
       " 'the establishment... I reckon Plane Stupid are looking alot prettier',\n",
       " ': No-one has touched the Cris Alexander page, nor is there any evidence that anyone has contacted you.',\n",
       " '\" \\n\\n :Khoikhoi, this block is remarkably ill-considered.  I suggest you lift it and let other admins handle this.  The discussion I\\'m participating in will decide whether an editor is banned or not.  Do you understand that?  And the editor up for banning has been lied about – yes, lied about – by an admin with a very troubling history of harassing the to-be-banned editor.  WP:AGF is pretty clear about this: assuming good faith does not preclude direct confrontation of lying when it occurs.   \\n\\n :Here is the link to the thread in which Jayjg lies about PR, saying he has a \"\"history regarding [Holocaust denial]\"\" when Jay knows (better than anyone else, since he was the one to make the original bogus allegation) was categorically false. \\n\\n :Once again and for the record, I do not accept the legitimacy of this block.  \"',\n",
       " \"== ... == \\n\\n I have one thing to state before it airs. It's gonna SUCK. HOW EXACTLY IS BLACK LION RIO AN ANCIENT EVIL!?\",\n",
       " '\" \\n\\n  \\n\\n  \\n\\n Seeing as there is no actual belief in the Christian concept of original sin in Judaism, why not just place that in as the \"\"Jewish veiwpont\"\"?\"',\n",
       " \"*And if you look at my edits to the O'Reilly page, I think you'll see they are mostly to revert vandalism of stupid comments about him posted by IP addresses. His article deserves some defense here, even if his views don't, necessarily.\",\n",
       " '== I HATE YOU == \\n\\n i hate you idiot. you are profoundly mentally retarded and is severly Autistic. you were born dyslexic and you cant even read!!! HAHAHA.  you are so so so so so so RETARDED',\n",
       " 'Regarding Auguste Gautier, Sr. \\n\\n Hi! Before documenting the Gautier Family much further I would like to suggest you take a look at Wikipedia policy on notability of people. People documented in an encyclopedia should pass some criteria on notability. Mere genealogies are rarely notable as Wikipedia is not a genealogical database.',\n",
       " '\" \\n :\"\"Fall\"\" (or indeed any season name) should be avoided because it is confusing for the Southern Hemisphere. \"',\n",
       " \"go to court? \\n  Shit, cause the judge look just like that motherfucker put our ass on the boat and made me a nigga \\n\\n  [Outro] \\n Mamma Rag is a nigga \\n Du-Rag is a nigga \\n Ballistics is a nigga \\n And I'm Uretha's nigga \\n  Nigga\",\n",
       " '\" \\n\\n == Heritage Listed Buildings == \\n\\n I was looking up information on heritage listed buildings in Albury, with regards to state listings vs local council only listings. \\n\\n The main two references I could found were Wikipedia, and an article in The Border Mail which is here:  \\n http://www.bordermail.com.au/news/local/news/general/alburys-heritage-buildings-at-risk/1834299.aspx \\n\\n This article unfortunately doesn\\'t provide a full listing, but it DOES conflict with the list provided on Wikipedia, specifically stating that specific buildings (ie the Post Office) are NOT state heritage listed, when Wikipedia states that it is. Another building, the Waterstreets Hotel, I know for a fact is defiantely state heritage listed as it correctly states in the Border Mail article, but it is NOT listed on the Wikipedia list. Also noticed that the list on here seems to have two double ups as well, further calling it\\'s reliablity into doubt. \\n\\n Does anyone know where a full, referenced list of state heritage listed buildings in Albury? It would be good to get this right, and then perhaps also make a list of \"\"other significant historical buildings in Albury\"\" or something like that.  \"',\n",
       " 'REDIRECT Talk:Stochastic roadmap simulation',\n",
       " \"He's now imprisoned in The Hague.  Could we add more detail as to exactly what crimes he is accused of in the Trial-section?  The article on himself lists the 11 charges as: \\n\\n * Five counts of crimes against humanity (Article 5 of the Statute - extermination, murder, persecutions on political, racial and religious grounds, persecutions, inhumane acts (forcible transfer)); \\n * Three counts of violations of the laws of war (Article 3 of the Statute - murder, unlawfully inflicting terror upon civilians, taking hostages); \\n * One count of grave breaches of the Geneva Conventions (Article 2 of the Statute - willful killing).[14] \\n * Unlawful transfer of civilians because of religious or national identity.[15]\",\n",
       " '\"Under \"\"Investments\"\" section, an inline citation should be footnoted. \\n    \\n\\n \"',\n",
       " '\" \\n\\n :This \"\"article\"\" is egregiously poor!  \"',\n",
       " \"::Well, I just stepped over the the Baha'i Encyclopedia Project page, and Abbas Effendi is what is used there, that's a final answer for me.  http://www.bahai-encyclopedia-project.org/index.php?option=com_content&view;=article&id;=81:abdul-baha-abbas-1844-1921&catid;=36:administrationinstitutions&Itemid;=76\",\n",
       " \":I don't have a problem with it. My main peeve is the addition of stupid cruft. Maybe this will satisfy those who want to make Jimmy gay.\",\n",
       " '\" \\n : I wouldn\\'t get too political, racial and \"\"us versus them\"\" in this article. Mongols are diverse people. Buryats, Khalkha, etc. are considered Mongols. It is not really about core distinct Mongols. Uyghurs, Merkits, Tatars were factually in Mongolia and got integrated by Genghis Khan and they all became Mongolians because they were essentially same people but were fighting each other. Mongols, Kazakhs, Uyghurs, and others are not really different, they are all intermixed with each other. There are no \"\"Mongolic people\"\" because you can\\'t tell when Mongols begin and when Uyghurs start for instance if you travel from Mongolia to Xinjiang. These are cultural terms. This is not same thing as \"\"Germanics\"\" and \"\"Slavs.\"\" It is not racial. It is cultural terms. There are a lot of various people in Mongolia right now in the west. This is cultural article. The last thing we want is a racial topic in this article. Take it easy.  \"',\n",
       " '== First paragraph == \\n\\n The first paragraph is lacking description and has misleading information. The website is powered by Google Custom Search. It is not developed by Heap Media as the article claims, the code has been written by Google. Blackle simply provides the domain name. I also added a summary that described the principle of the website, as per Wikipedia:Layout#First_paragraph, but it has been reverted',\n",
       " '\" \\n\\n ::Huh? \"\"Gronky\\'s made multiple efforts to have me kicked off the project\"\"? \\n ::What are you talking about? \\n ::This isn\\'t the place for this discussion but I find this accusation simply bizarre.   \"',\n",
       " ':You called me a Randy and a bully, when I objected to your friend Ched insidiously calling me a narcissist. You back your friends no matter how dirty the method.',\n",
       " \"Ariel I am not trying to sound like a cock here, but bite me! It doesn't look like your an Admin, but I could be wrong.  I was watching NASA TV when they announced the scrub, so I added it.  What the fuck do you think it is that I speculated?  I speculated nothing. On NASA TV they said the launch was scrubbed due to the leak, that is not speculation, that is a fact. As for breaking news edits, you have done twice as many edits as me, in the past hour updating every little thing, so who is being abusive there? Just admit it, if you can't be first to edit articles in your favorite topic your life would have no meaning.  I get that, there are a bunch of you wienies here, that is what ruins this site.  Again not trying to be a cock, but I take offense when someone accuses me of doing something wrong, when they are the one doing it.\",\n",
       " \"== No Mention of Abolitionism == \\n Given the subject matter of opposition to the treason claims levied against Southern soldiers, the Civil War, and the involuntary Union, shouldn't Spooner's ardent abolitionist views be mentioned to give this article proper context? I say it is absolutely essential. Otherwise he could be easily painted as pro-slavery, a racist, or pro-Confederacy. He was none of those things.\",\n",
       " 'To 68.42.50.173: When you accuse someone of slander, please, specify the false facts being asserted. Please, do not make unfounded personal attacks. This article seems to bend over backwards to be fair to Breggin. For precision, written defamation is libel, not slander. An unfounded accusation of defamation is defamatory. Try being specific and precise for credibility.',\n",
       " '== Thomas is NOT an Objectivist == \\n\\n I have removed Clarence Thomas from the Objectivist category. Firstly, being influenced by Ayn Rand does not make one an Objectivist. Secondly, His opposition to abortion removes him ipso facto from the category, as upholding the right to abortion is an integral part of the philosophy. Even more importantly, one cannot be both an Objectivist and a Catholic (as Thomas is) since an integral component of Objectivism is atheism.',\n",
       " '\" \\n ::::::Are you kidding: \"\"I looked in the archives and found multiple instances of you referring to the edits that I had made as me agreeing with you\"\", that\\'s just BS, I only referred to you once previously in drawing a conclusion any other reasonable person would with respect to your edits. Your claim that any and all nations that were formed from what was once the Soviet Union should be considered as \"\"succeeding\"\" the Soviet Union has one big flaw, the Baltic states were already formed before the USSR was even created. A reader who will look at the infobox to see what countries came into existence with the dissolution of the USSR will be misled because the the Baltic states already existed since 1920. In fact, the notion that the Baltic states only came into existence with the dissolution of the USSR is considered Russian nationalist POV in RS. And again, how do you know readers \"\"do not care about the technicalities in the matter and omitting anything or separating them is not useful to the lay reader\"\", it is obvious that you do not care but don\\'t project this unto the reader. This is an encyclopaedia after all, readers come here to be educated and informed.   \"',\n",
       " \":Of course all this is irrelevent, yet must be addressed in face of the tone of blame directed towards Copts on this page. You don't have to be part of the conversation if you don't like. As for the natives being peaceful, have you not heard about the resistance the Egyptians put against the Arabs, in spite of the embargo set by the Byzantines about providing the natives with weapons? While the coward Byzantines ran away, Egyptians like Yoannis of Samanoud and later Mina Ben Bokira and the Beshmurites gave the Arabs a hell of a time and defended their land, until the latters resorted to treachery and then performed an organized an ethnic cleansing against the Egyptians, many in the Delta. The problem I see with you is that you just repeat what people say all the time with no scrutiny or consideration of the other side of the story.\",\n",
       " '|business & economic topics|people',\n",
       " 'Sihahahahahaahahahahhahahahahah ass hole duck my balls(:gnatures',\n",
       " '== Salem witch Trials task force == \\n\\n Dear Wikipedians, \\n\\n another Wikipedian and I just created a Salem Witch Trials task force. If you are interested in history, Massachusetts, colonial America, witchcraft, or instances of religiously motivated violence, then this is the task force for you! \\n\\n So please check it out!',\n",
       " \"== Lyor Cohen == \\n\\n If you try and take out my sourced links again, tell your hebe, faggot benefactor who's paying you to make his vanity-bio squeaky clean I'll put in a section... \\n\\n  \\n ==Controversy== \\n\\n *The TVT Lawsuit. \\n *The FBI investigation into his participation in money laundering, with Irv Gotti, Ja Rule and Murder Inc. \\n\\n K...thx...bye. Factotum bitch.\",\n",
       " 'Will you all please just listen to yourselves for a moment? Your so-called theories as to their relationship are irrelevant. Go, go and find sources or stop wasting all of our time with pointless Original Research. Why is it that the simplest of all Wikipedia guidelines is so misunderstood by so many people?',\n",
       " 'While at Time, Corliss has profiled many film celebrities, including Julia Roberts, Tom Cruise, Kevin Costner, and Woody Allen.  Other subjects have included Michael Jackson and NASCAR racing.',\n",
       " 'FAT KID POOPS IN HIDS MOTHERNESS!!!!!!!! FREE SESSION ON LEARNING HOW TO POOP ON TUESDAYS AT THE PARK WITH A KITTEN WITH POOPNESS!!!!!!!!',\n",
       " ...]"
      ]
     },
     "execution_count": 65,
     "metadata": {},
     "output_type": "execute_result"
    }
   ],
   "source": []
  },
  {
   "cell_type": "code",
   "execution_count": 87,
   "metadata": {},
   "outputs": [
    {
     "data": {
      "text/plain": [
       "0"
      ]
     },
     "execution_count": 87,
     "metadata": {},
     "output_type": "execute_result"
    }
   ],
   "source": [
    "10 * False"
   ]
  },
  {
   "cell_type": "code",
   "execution_count": null,
   "metadata": {},
   "outputs": [],
   "source": []
  }
 ],
 "metadata": {
  "kernelspec": {
   "display_name": "Python 3",
   "language": "python",
   "name": "python3"
  },
  "language_info": {
   "codemirror_mode": {
    "name": "ipython",
    "version": 3
   },
   "file_extension": ".py",
   "mimetype": "text/x-python",
   "name": "python",
   "nbconvert_exporter": "python",
   "pygments_lexer": "ipython3",
   "version": "3.7.4"
  }
 },
 "nbformat": 4,
 "nbformat_minor": 4
}
